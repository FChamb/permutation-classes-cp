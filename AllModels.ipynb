{
  "nbformat": 4,
  "nbformat_minor": 0,
  "metadata": {
    "colab": {
      "provenance": [],
      "collapsed_sections": [
        "vqywu9fzlbwr",
        "IU99JGdy5dUD",
        "0waCWasT6LHm",
        "ZqLAZ_7a6ZZc",
        "3MRVyGZU6xKe",
        "P0YjZJLr8MCt",
        "A6Ca2nbgBhcs",
        "7zvNLqjpNC68",
        "FfVxhMo3A8gT",
        "-_ltXrLGCk1H",
        "wo6stFotFCyo"
      ],
      "toc_visible": true,
      "include_colab_link": true
    },
    "kernelspec": {
      "name": "python3",
      "display_name": "Python 3"
    },
    "language_info": {
      "name": "python"
    }
  },
  "cells": [
    {
      "cell_type": "markdown",
      "metadata": {
        "id": "view-in-github",
        "colab_type": "text"
      },
      "source": [
        "<a href=\"https://colab.research.google.com/github/stacs-cp/permutation-classes-cp/blob/main/AllModels.ipynb\" target=\"_parent\"><img src=\"https://colab.research.google.com/assets/colab-badge.svg\" alt=\"Open In Colab\"/></a>"
      ]
    },
    {
      "cell_type": "code",
      "execution_count": null,
      "metadata": {
        "colab": {
          "base_uri": "https://localhost:8080/",
          "height": 115
        },
        "id": "gFgMjnoSiaZC",
        "outputId": "6286bc1d-427a-4c74-910c-decd6b2a980e"
      },
      "outputs": [
        {
          "output_type": "stream",
          "name": "stdout",
          "text": [
            "Installing Conjure version v2.4.1 and Conjure Notebook version v0.0.6...\n",
            "Conjure: The Automated Constraint Modelling Tool\n",
            "Release version 2.4.1\n",
            "Repository version e093cc52c (2023-04-24 11:50:48 +0100)\n"
          ]
        },
        {
          "output_type": "display_data",
          "data": {
            "text/plain": [
              "<IPython.core.display.Javascript object>"
            ],
            "application/javascript": [
              "\"use strict\";\n",
              "\n",
              "CodeMirror.defineMode(\"text/conjure\", function (config) {\n",
              "\n",
              "    var isOperatorChar = /[+\\-*=<>%^\\/]/;\n",
              "\n",
              "    var keywords = {\n",
              "        \"forall\": true,\n",
              "        \"allDifferent\": true,\n",
              "        \"allDiff\": true,\n",
              "        \"alldifferent_except\": true,\n",
              "        \"dim\": true,\n",
              "        \"toSet\": true,\n",
              "        \"toMSet\": true,\n",
              "        \"toRelation\": true,\n",
              "        \"maximising\": true,\n",
              "        \"minimising\": true,\n",
              "        \"forAll\": true,\n",
              "        \"exists\": true,\n",
              "        \"toInt\": true,\n",
              "        \"sum\": true,\n",
              "        \"be\": true,\n",
              "        \"bijective\": true,\n",
              "        \"bool\": true,\n",
              "        \"by\": true,\n",
              "        \"complete\": true,\n",
              "        \"defined\": true,\n",
              "        \"domain\": true,\n",
              "        \"in\": true,\n",
              "        \"or\": true,\n",
              "        \"and\": true,\n",
              "        \"false\": true,\n",
              "        \"find\": true,\n",
              "        \"from\": true,\n",
              "        \"function\": true,\n",
              "        \"given\": true,\n",
              "        \"image\": true,\n",
              "        \"indexed\": true,\n",
              "        \"injective\": true,\n",
              "        \"int\": true,\n",
              "        \"intersect\": true,\n",
              "        \"freq\": true,\n",
              "        \"lambda\": true,\n",
              "        \"language\": true,\n",
              "        \"letting\": true,\n",
              "        \"matrix\": true,\n",
              "        \"maxNumParts\": true,\n",
              "        \"maxOccur\": true,\n",
              "        \"maxPartSize\": true,\n",
              "        \"maxSize\": true,\n",
              "        \"minNumParts\": true,\n",
              "        \"minOccur\": true,\n",
              "        \"minPartSize\": true,\n",
              "        \"minSize\": true,\n",
              "        \"mset\": true,\n",
              "        \"numParts\": true,\n",
              "        \"of\": true,\n",
              "        \"partial\": true,\n",
              "        \"partition\": true,\n",
              "        \"partSize\": true,\n",
              "        \"preImage\": true,\n",
              "        \"quantifier\": true,\n",
              "        \"range\": true,\n",
              "        \"regular\": true,\n",
              "        \"relation\": true,\n",
              "        \"representation\": true,\n",
              "        \"set\": true,\n",
              "        \"size\": true,\n",
              "        \"subset\": true,\n",
              "        \"subsetEq\": true,\n",
              "        \"such\": true,\n",
              "        \"supset\": true,\n",
              "        \"supsetEq\": true,\n",
              "        \"surjective\": true,\n",
              "        \"that\": true,\n",
              "        \"together\": true,\n",
              "        \"enum\": true,\n",
              "        \"total\": true,\n",
              "        \"true\": true,\n",
              "        \"new\": true,\n",
              "        \"type\": true,\n",
              "        \"tuple\": true,\n",
              "        \"union\": true,\n",
              "        \"where\": true,\n",
              "        \"branching\": true,\n",
              "        \"on\": true\n",
              "    };  \n",
              "    var punc = \":;,.(){}[]\";\n",
              "\n",
              "    function tokenBase(stream, state) {\n",
              "        var ch = stream.next();\n",
              "        if (ch == '\"') {\n",
              "            state.tokenize.push(tokenString);\n",
              "            return tokenString(stream, state);\n",
              "        }\n",
              "        if (/[\\d\\.]/.test(ch)) {\n",
              "            if (ch == \".\") {\n",
              "                stream.match(/^[0-9]+([eE][\\-+]?[0-9]+)?/);\n",
              "            } else if (ch == \"0\") {\n",
              "                stream.match(/^[xX][0-9a-fA-F]+/) || stream.match(/^0[0-7]+/);\n",
              "            } else {\n",
              "                stream.match(/^[0-9]*\\.?[0-9]*([eE][\\-+]?[0-9]+)?/);\n",
              "            }\n",
              "            return \"number\";\n",
              "        }\n",
              "        if (ch == \"/\") {\n",
              "            if (stream.eat(\"*\")) {\n",
              "                state.tokenize.push(tokenComment);\n",
              "                return tokenComment(stream, state);\n",
              "            }\n",
              "        }\n",
              "        if (ch == \"$\") {\n",
              "            stream.skipToEnd();\n",
              "            return \"comment\";\n",
              "        }\n",
              "        if (isOperatorChar.test(ch)) {\n",
              "            stream.eatWhile(isOperatorChar);\n",
              "            return \"operator\";\n",
              "        }\n",
              "        if (punc.indexOf(ch) > -1) {\n",
              "            return \"punctuation\";\n",
              "        }\n",
              "        stream.eatWhile(/[\\w\\$_\\xa1-\\uffff]/);\n",
              "        var cur = stream.current();\n",
              "        \n",
              "        if (keywords.propertyIsEnumerable(cur)) {\n",
              "            return \"keyword\";\n",
              "        }\n",
              "        return \"variable\";\n",
              "    }\n",
              "\n",
              "    function tokenComment(stream, state) {\n",
              "        var maybeEnd = false, ch;\n",
              "        while (ch = stream.next()) {\n",
              "            if (ch == \"/\" && maybeEnd) {\n",
              "                state.tokenize.pop();\n",
              "                break;\n",
              "            }\n",
              "            maybeEnd = (ch == \"*\");\n",
              "        }\n",
              "        return \"comment\";\n",
              "    }\n",
              "\n",
              "    function tokenUntilClosingParen() {\n",
              "        var depth = 0;\n",
              "        return function (stream, state, prev) {\n",
              "            var inner = tokenBase(stream, state, prev);\n",
              "            console.log(\"untilClosing\", inner, stream.current());\n",
              "            if (inner == \"punctuation\") {\n",
              "                if (stream.current() == \"(\") {\n",
              "                    ++depth;\n",
              "                } else if (stream.current() == \")\") {\n",
              "                    if (depth == 0) {\n",
              "                        stream.backUp(1)\n",
              "                        state.tokenize.pop()\n",
              "                        return state.tokenize[state.tokenize.length - 1](stream, state)\n",
              "                    } else {\n",
              "                        --depth;\n",
              "                    }\n",
              "                }\n",
              "            }\n",
              "            return inner;\n",
              "        }\n",
              "    }\n",
              "\n",
              "    function tokenString(stream, state) {\n",
              "        var escaped = false, next, end = false;\n",
              "        while ((next = stream.next()) != null) {\n",
              "            if (next == '(' && escaped) {\n",
              "                state.tokenize.push(tokenUntilClosingParen());\n",
              "                return \"string\";\n",
              "            }\n",
              "            if (next == '\"' && !escaped) { end = true; break; }\n",
              "            escaped = !escaped && next == \"\\\\\";\n",
              "        }\n",
              "        if (end || !escaped)\n",
              "            state.tokenize.pop();\n",
              "        return \"string\";\n",
              "    }\n",
              "\n",
              "    return {\n",
              "        startState: function (basecolumn) {\n",
              "            return {\n",
              "                tokenize: []\n",
              "            };\n",
              "        },\n",
              "\n",
              "        token: function (stream, state) {\n",
              "            if (stream.eatSpace()) return null;\n",
              "            var style = (state.tokenize[state.tokenize.length - 1] || tokenBase)(stream, state);\n",
              "            console.log(\"token\", style);\n",
              "            return style;\n",
              "        },\n",
              "\n",
              "        blockCommentStart: \"/*\",\n",
              "        blockCommentEnd: \"*/\",\n",
              "        lineComment: \"$\"\n",
              "    };\n",
              "});\n",
              "\n",
              "\n",
              "CodeMirror.defineMIME(\"text/conjure\", \"text/conjure\");\n",
              "\n",
              "require(['notebook/js/codecell'], function (codecell) {\n",
              "    codecell.CodeCell.options_default.highlight_modes['magic_text/conjure'] = { 'reg': [/%?%conjure/] };\n",
              "    Jupyter.notebook.events.one('kernel_ready.Kernel', function () {\n",
              "        Jupyter.notebook.get_cells().map(function (cell) {\n",
              "            if (cell.cell_type == 'code') { cell.auto_highlight(); }\n",
              "        });\n",
              "    });\n",
              "});\n",
              "\n"
            ]
          },
          "metadata": {}
        },
        {
          "output_type": "stream",
          "name": "stdout",
          "text": [
            "Conjure extension is loaded.\n",
            "For usage help run: %conjure_help\n"
          ]
        }
      ],
      "source": [
        " !source <(curl -s https://raw.githubusercontent.com/conjure-cp/conjure-notebook/v0.0.6/scripts/install-colab.sh)\n",
        " %load_ext conjure\n"
      ]
    },
    {
      "cell_type": "code",
      "source": [
        "# library of helper functions\n",
        "\n",
        "import numpy as np\n",
        "import matplotlib as mpl\n",
        "import matplotlib.pyplot as plt\n",
        "\n",
        "def plotPermutation(sol):\n",
        "    plt.figure(figsize=(len(sol), len(sol)), facecolor=\"w\")\n",
        "    plt.grid(True)\n",
        "    plt.xticks(range(1, len(sol)+1))\n",
        "    plt.yticks(range(1, len(sol)+1))\n",
        "    plt.scatter(range(1,len(sol)+1), sol, s=200)\n",
        "\n",
        "def plotPermutations(sols):\n",
        "    for sol in sols:\n",
        "        plotPermutation(sol[\"perm\"])\n",
        "\n"
      ],
      "metadata": {
        "id": "wOjO0Y047PgP"
      },
      "execution_count": null,
      "outputs": []
    },
    {
      "cell_type": "markdown",
      "source": [
        "Note: when pushing to github, use journal2023/PP-MCOM.ipynb as the filename in the stacs-cp/permutation-classes-cp"
      ],
      "metadata": {
        "id": "Y5k82rzvkE8W"
      }
    },
    {
      "cell_type": "code",
      "source": [
        "n = 4"
      ],
      "metadata": {
        "id": "c5G6kch0Mx1a"
      },
      "execution_count": null,
      "outputs": []
    },
    {
      "cell_type": "code",
      "source": [
        "%%conjure --number-of-solutions=5\n",
        "\n",
        "given n : int\n",
        "\n",
        "find x : set of int(1..9)\n",
        "\n",
        "such that |x| = n"
      ],
      "metadata": {
        "colab": {
          "base_uri": "https://localhost:8080/",
          "height": 32
        },
        "id": "b_SCgB28Msty",
        "outputId": "cc0b8c21-117c-4675-aabd-14d0e7b80a47"
      },
      "execution_count": null,
      "outputs": [
        {
          "output_type": "display_data",
          "data": {
            "text/plain": [
              "<IPython.core.display.Markdown object>"
            ],
            "text/markdown": "```json\n{\"conjure_solutions\": [{\"x\": [6, 7, 8, 9]}, {\"x\": [5, 7, 8, 9]}, {\"x\": [5, 6, 8, 9]}, {\"x\": [5, 6, 7, 9]}, {\"x\": [5, 6, 7, 8]}]}\n```"
          },
          "metadata": {}
        }
      ]
    },
    {
      "cell_type": "markdown",
      "source": [
        "# Pattern types\n",
        "\n",
        "We have 6 pattern types. We will write a unit test for each one.\n",
        "\n",
        "For each pattern type, we will do avoidance and containment.\n",
        "\n",
        "So we will have 12 models here.\n",
        "\n",
        "The following applies to all the upcoming defintions.\n",
        "\n",
        "We will consider a *permutation* to be an arrangement of the set $\\{1, 2, \\ldots , n\\}$ for some $n\\in\\mathbb{N}$.\n",
        "The length of a permutation $\\pi$ is denoted $|\\pi|$, and $S_n$ is used for the set of all permutations of length $n$.\n",
        "We will represent permutations in their sequence notation\n",
        "\n",
        "Two sequences $\\pi = \\pi(1),\\ldots,\\pi(n)$ and $\\sigma = \\sigma(1),\\ldots,\\sigma(n)$ of the same length are said to be *order isomorphic* if $\\forall i, j, \\pi(i) \\leq \\pi (j)$ if and only if $\\sigma(i) \\leq \\sigma(j)$"
      ],
      "metadata": {
        "id": "vqywu9fzlbwr"
      }
    },
    {
      "cell_type": "markdown",
      "source": [
        "## Classic containment\n",
        "\n",
        "We say that a permutation $\\sigma = \\sigma(1)\\ldots\\sigma(n)$ is *classically contained* in a permutation $\\pi = \\pi(1)\\ldots\\pi(m)$, where $n \\leq m$, if there is a subsequence in $\\pi$ that is order isomorphic to $\\sigma$.\n",
        "\n",
        "\n",
        "For example, the permutation $\\sigma=123$ can be found in $\\pi=521634$ as the occurrence $134$ (amongst others)."
      ],
      "metadata": {
        "id": "PLmx5RRykoF-"
      }
    },
    {
      "cell_type": "code",
      "source": [
        "%conjure_clear"
      ],
      "metadata": {
        "colab": {
          "base_uri": "https://localhost:8080/"
        },
        "id": "yXIgpqB7ke6_",
        "outputId": "1239a235-a0d8-4475-a7a5-acbf3533cc8f"
      },
      "execution_count": null,
      "outputs": [
        {
          "output_type": "stream",
          "name": "stdout",
          "text": [
            "Conjure model cleared\n"
          ]
        }
      ]
    },
    {
      "cell_type": "code",
      "source": [
        "length = 3\n",
        "classic_containment = [[1,2]]"
      ],
      "metadata": {
        "id": "UyixmQMNlEm3"
      },
      "execution_count": null,
      "outputs": []
    },
    {
      "cell_type": "code",
      "source": [
        "%%conjure --number-of-solutions=all --solver=minion\n",
        "\n",
        "given length : int\n",
        "given classic_containment : set of sequence of int\n",
        "\n",
        "find perm : sequence (size length, injective) of int(1..length)\n",
        "\n",
        "such that\n",
        "    forAll pattern in classic_containment .\n",
        "         (exists ix : matrix indexed by [int(1..|pattern|)] of int(1..length) .\n",
        "            (forAll i,j : int(1..|pattern|) . i < j -> ix[i] < ix[j]) /\\\n",
        "            (forAll n1, n2 : int(1..|pattern|) , n1 < n2 .\n",
        "                pattern(n1) < pattern(n2) <-> perm(ix[n1]) < perm(ix[n2])))\n"
      ],
      "metadata": {
        "colab": {
          "base_uri": "https://localhost:8080/",
          "height": 32
        },
        "id": "860bGbvpkkOQ",
        "outputId": "97b009fe-fff9-4d2b-e9a5-430a644e882e"
      },
      "execution_count": null,
      "outputs": [
        {
          "output_type": "display_data",
          "data": {
            "text/plain": [
              "<IPython.core.display.Markdown object>"
            ],
            "text/markdown": "```json\n{\"conjure_solutions\": [{\"perm\": [1, 2, 3]}, {\"perm\": [1, 3, 2]}, {\"perm\": [2, 1, 3]}, {\"perm\": [2, 3, 1]}, {\"perm\": [3, 1, 2]}]}\n```"
          },
          "metadata": {}
        }
      ]
    },
    {
      "cell_type": "markdown",
      "source": [
        "## Classic avoidance\n",
        "\n",
        "We say that a permutation $\\sigma$ is not contained in a permutation $\\pi$, or that $\\pi$ *classically avoids* $\\sigma$ if there is no subsequence in $\\pi$ that is order isomorphic to $\\sigma$.\n",
        "For example, the permutation $\\sigma=123$ is not contained in the permutation $\\pi=654312$."
      ],
      "metadata": {
        "id": "6KpQ1ckCkXys"
      }
    },
    {
      "cell_type": "code",
      "source": [
        "%conjure_clear"
      ],
      "metadata": {
        "colab": {
          "base_uri": "https://localhost:8080/"
        },
        "id": "PTGZ6grqlMpH",
        "outputId": "e22acd6c-2e1c-4574-8b55-f269a4b076a6"
      },
      "execution_count": null,
      "outputs": [
        {
          "output_type": "stream",
          "name": "stdout",
          "text": [
            "Conjure model cleared\n"
          ]
        }
      ]
    },
    {
      "cell_type": "code",
      "source": [
        "length = 4\n",
        "classic_avoidance = [[1,2]]"
      ],
      "metadata": {
        "id": "F3Rcz2sdjwQD"
      },
      "execution_count": null,
      "outputs": []
    },
    {
      "cell_type": "code",
      "source": [
        "%%conjure --number-of-solutions=all --solver=minion\n",
        "\n",
        "given length : int\n",
        "given classic_avoidance : set of sequence of int\n",
        "\n",
        "find perm : sequence (size length, injective) of int(1..length)\n",
        "\n",
        "such that\n",
        "    forAll pattern in classic_avoidance .\n",
        "        !(exists ix : matrix indexed by [int(1..|pattern|)] of int(1..length) .\n",
        "            (forAll i,j : int(1..|pattern|) . i < j -> ix[i] < ix[j]) /\\\n",
        "            (forAll n1, n2 : int(1..|pattern|) , n1 < n2 .\n",
        "                pattern(n1) < pattern(n2) <-> perm(ix[n1]) < perm(ix[n2])))\n"
      ],
      "metadata": {
        "colab": {
          "base_uri": "https://localhost:8080/",
          "height": 32
        },
        "id": "5mojiOeBjmjc",
        "outputId": "911a034d-4229-4aae-8586-4323e673c136"
      },
      "execution_count": null,
      "outputs": [
        {
          "output_type": "display_data",
          "data": {
            "text/plain": [
              "<IPython.core.display.Markdown object>"
            ],
            "text/markdown": "```json\n{\"perm\": [4, 3, 2, 1]}\n```"
          },
          "metadata": {}
        }
      ]
    },
    {
      "cell_type": "markdown",
      "source": [
        "## Vincular containment\n",
        "\n",
        "Vincluar patterns were introduced by Babson and Steingrimsson in 2000 to express Mahonian statistics as combinations of permutation patterns.\n",
        "\n",
        "Let $\\sigma=\\sigma(1) \\ldots \\sigma(n)$ and $\\pi=\\pi(1)\\ldots \\pi(m)$ and let $A \\subseteq \\{1,\\ldots,k-1\\}$.\n",
        "\n",
        "An occurrence of the vincular pattern $(\\sigma, A)$ in $\\pi$ is a subsequence $\\pi(i_1)\\ldots \\pi(i_k)$ of length $n$ of $\\pi$ such that:\n",
        "$\\pi(i_1)\\ldots\\pi(i_n)$ is an occurrence of $\\sigma$ in the classical sense, and $i_{a}=i_{a+1}$, forall $a\\in A$. We call $A$ the set of *adjacencies*, we emphasise these entries in the permutation with an underline.\n",
        "\n",
        "<!-- A vincular pattern is specified by adding bars to an underlying permutation. A bar is between two consecutive entries in the permutation. There can be multiple bars. Bars are allowed to overlap. -->\n",
        "\n",
        "For example, the permutation $\\sigma=\\underline{23}1$, so the vincular pattern is $(231,\\{1\\})$, can be found in $\\pi=513642$ as the sequence $362$, with $3$ and $6$ being adjacent to each other."
      ],
      "metadata": {
        "id": "Akl57P0y36Z6"
      }
    },
    {
      "cell_type": "code",
      "source": [
        "%conjure_clear"
      ],
      "metadata": {
        "colab": {
          "base_uri": "https://localhost:8080/"
        },
        "id": "QljcUunUqopv",
        "outputId": "a51b4eea-0c9c-43e0-d5bf-1be70972398a"
      },
      "execution_count": null,
      "outputs": [
        {
          "output_type": "stream",
          "name": "stdout",
          "text": [
            "Conjure model cleared\n"
          ]
        }
      ]
    },
    {
      "cell_type": "code",
      "source": [
        "length = 4\n",
        "vincular_containment = [ [ [2,3,1]\n",
        "                         , [1]\n",
        "                         ]\n",
        "                       ]"
      ],
      "metadata": {
        "id": "6oT8SAYFl6-j"
      },
      "execution_count": null,
      "outputs": []
    },
    {
      "cell_type": "code",
      "source": [
        "%%conjure --number-of-solutions=all --solver=minion\n",
        "\n",
        "given length : int\n",
        "given vincular_containment : set of (sequence (injective) of int, set of int)\n",
        "\n",
        "find perm : sequence (size length, injective) of int(1..length)\n",
        "\n",
        "such that\n",
        "    forAll (pattern, bars) in vincular_containment .\n",
        "        exists ix : matrix indexed by [int(1..|pattern|)] of int(1..length)\n",
        "\n",
        "            , (forAll i,j : int(1..|pattern|) . i < j -> ix[i] < ix[j]) /\\\n",
        "            $ n1 and n2 are indices\n",
        "            (forAll n1, n2 : int(1..|pattern|) , n1 < n2 .\n",
        "                (pattern(n1) < pattern(n2) <-> perm(ix[n1]) < perm(ix[n2]))\n",
        "            )\n",
        "\n",
        "            .\n",
        "\n",
        "            (forAll bar in bars . ix[bar] + 1 = ix[bar+1])\n"
      ],
      "metadata": {
        "colab": {
          "base_uri": "https://localhost:8080/",
          "height": 52
        },
        "id": "zbvQ-BVLl8NL",
        "outputId": "c071fde4-38df-451a-9aab-dc169f24a335"
      },
      "execution_count": null,
      "outputs": [
        {
          "output_type": "display_data",
          "data": {
            "text/plain": [
              "<IPython.core.display.Markdown object>"
            ],
            "text/markdown": "```json\n{\"conjure_solutions\": [{\"perm\": [1, 3, 4, 2]}, {\"perm\": [2, 3, 1, 4]}, {\"perm\": [2, 3, 4, 1]}, {\"perm\": [2, 4, 1, 3]}, {\"perm\": [2, 4, 3, 1]}, {\"perm\": [3, 2, 4, 1]}, {\"perm\": [3, 4, 1, 2]}, {\"perm\": [3, 4, 2, 1]}, {\"perm\": [4, 2, 3, 1]}]}\n```"
          },
          "metadata": {}
        }
      ]
    },
    {
      "cell_type": "code",
      "source": [
        "print(len(conjure_solutions))"
      ],
      "metadata": {
        "colab": {
          "base_uri": "https://localhost:8080/"
        },
        "id": "UNTW6vg02TVB",
        "outputId": "01417e1f-d7f7-4c91-a4d9-6233119cbcd2"
      },
      "execution_count": null,
      "outputs": [
        {
          "output_type": "stream",
          "name": "stdout",
          "text": [
            "9\n"
          ]
        }
      ]
    },
    {
      "cell_type": "markdown",
      "source": [
        "## Vincular avoidance\n",
        "\n",
        "We say that a permutation $\\pi$ *avoids* a vincular pattern $(\\sigma, A)$ if either it classically avoids $\\sigma$ or for each classical occurence of $\\sigma$ the entries are not adjacent.\n",
        "\n",
        "For example, $\\sigma=\\underline{23}1$, $(231,\\{1\\})$, cannot be found in $\\pi=654312$, as the permutation $231$ is not contained in $\\pi$. Another example is  $\\sigma=\\underline{23}1$, is not contained in $\\pi=631542$, even though the permutation $132$ can be found in $\\pi$ as $352$, but there is an entry between $3$ and $5$ (which is $1$).\n"
      ],
      "metadata": {
        "id": "ojMSDnR-l1jE"
      }
    },
    {
      "cell_type": "code",
      "source": [
        "%conjure_clear"
      ],
      "metadata": {
        "colab": {
          "base_uri": "https://localhost:8080/"
        },
        "id": "pzd02CnLySJh",
        "outputId": "49884fd0-44de-468a-a221-686a1a364d9c"
      },
      "execution_count": null,
      "outputs": [
        {
          "output_type": "stream",
          "name": "stdout",
          "text": [
            "Conjure model cleared\n"
          ]
        }
      ]
    },
    {
      "cell_type": "code",
      "source": [
        "length = 4\n",
        "vincular_avoidance = [ [ [2,3,1]\n",
        "                       , [1]\n",
        "                       ]\n",
        "                     ]"
      ],
      "metadata": {
        "id": "fJPAI_HcxePK"
      },
      "execution_count": null,
      "outputs": []
    },
    {
      "cell_type": "code",
      "source": [
        "%%conjure --number-of-solutions=all --solver=minion\n",
        "\n",
        "given length : int\n",
        "given vincular_avoidance : set of (sequence (injective) of int, set of int)\n",
        "\n",
        "find perm : sequence (size length, injective) of int(1..length)\n",
        "\n",
        "such that\n",
        "    forAll (pattern, bars) in vincular_avoidance .\n",
        "        forAll ix : matrix indexed by [int(1..|pattern|)] of int(1..length)\n",
        "\n",
        "            , (forAll i,j : int(1..|pattern|) . i < j -> ix[i] < ix[j]) /\\\n",
        "            $ n1 and n2 are indices\n",
        "            (forAll n1, n2 : int(1..|pattern|) , n1 < n2 .\n",
        "                (pattern(n1) < pattern(n2) <-> perm(ix[n1]) < perm(ix[n2]))\n",
        "            )\n",
        "\n",
        "            .\n",
        "\n",
        "            !(forAll bar in bars . ix[bar] + 1 = ix[bar+1])\n"
      ],
      "metadata": {
        "colab": {
          "base_uri": "https://localhost:8080/",
          "height": 52
        },
        "id": "IrelbL5sxinT",
        "outputId": "e14d3aba-b4a9-4c67-9e4e-e966f00982d4"
      },
      "execution_count": null,
      "outputs": [
        {
          "output_type": "display_data",
          "data": {
            "text/plain": [
              "<IPython.core.display.Markdown object>"
            ],
            "text/markdown": "```json\n{\"conjure_solutions\": [{\"perm\": [1, 2, 3, 4]}, {\"perm\": [1, 2, 4, 3]}, {\"perm\": [1, 3, 2, 4]}, {\"perm\": [1, 4, 2, 3]}, {\"perm\": [1, 4, 3, 2]}, {\"perm\": [2, 1, 3, 4]}, {\"perm\": [2, 1, 4, 3]}, {\"perm\": [3, 1, 2, 4]}, {\"perm\": [3, 1, 4, 2]}, {\"perm\": [3, 2, 1, 4]}, {\"perm\": [4, 1, 2, 3]}, {\"perm\": [4, 1, 3, 2]}, {\"perm\": [4, 2, 1, 3]}, {\"perm\": [4, 3, 1, 2]}, {\"perm\": [4, 3, 2, 1]}]}\n```"
          },
          "metadata": {}
        }
      ]
    },
    {
      "cell_type": "code",
      "source": [
        "print(len(conjure_solutions))"
      ],
      "metadata": {
        "colab": {
          "base_uri": "https://localhost:8080/"
        },
        "id": "xqhO-W5GyZUg",
        "outputId": "9c761bd3-d236-4369-984a-a1139d960d10"
      },
      "execution_count": null,
      "outputs": [
        {
          "output_type": "stream",
          "name": "stdout",
          "text": [
            "15\n"
          ]
        }
      ]
    },
    {
      "cell_type": "markdown",
      "source": [
        "## Bivincular containment\n",
        "\n",
        "Bivincular patterns were introduced by Bousquet-Melou, Claesson, Dukes and Kitaev in 2010 in the studies related to interval orders counted by the Fishburn numbers.\n",
        "\n",
        "Bivincular patterns are vincular patterns which additionally require the values to be adjacent.\n",
        "\n",
        "An occurrence of the bivincular pattern $(\\sigma, A)$ in $\\pi$ is a subsequence $\\pi(i_1)\\ldots \\pi(i_k)$ of length $n$ of $\\pi$ such that the following all hold\n",
        "\n",
        "\n",
        "* $\\pi(i_1)\\ldots\\pi(i_n)$ is an occurrence of $\\sigma$ in the classical sense,\n",
        "* $i_{a+1}=i_{a}+1, \\forall a\\in A$,\n",
        "* $\\pi(i_{a+1}) = \\pi(i_{a})+1, \\forall a \\in A$\n",
        "\n",
        "We call $A$ the set of *adjacencies*, we emphasise these entries in the permutation with an underline.\n",
        "\n",
        "For example, the pattern $\\sigma=3\\underline{12}$, $(312,\\{2\\})$ can be found in $\\pi=521634$ as the sequence $534$."
      ],
      "metadata": {
        "id": "8uD9dwcgtTvN"
      }
    },
    {
      "cell_type": "code",
      "source": [
        "%conjure_clear"
      ],
      "metadata": {
        "id": "mtWlz_mUtjc6",
        "colab": {
          "base_uri": "https://localhost:8080/"
        },
        "outputId": "94a0f03e-d5e0-44ca-c64e-aca697ce3d30"
      },
      "execution_count": null,
      "outputs": [
        {
          "output_type": "stream",
          "name": "stdout",
          "text": [
            "Conjure model cleared\n"
          ]
        }
      ]
    },
    {
      "cell_type": "code",
      "source": [
        "length = 4\n",
        "bivincular_containment = [ [ [3,1,2]\n",
        "                         , [2]\n",
        "                         ]\n",
        "                       ]"
      ],
      "metadata": {
        "id": "zhOETbDGtENR"
      },
      "execution_count": null,
      "outputs": []
    },
    {
      "cell_type": "code",
      "source": [
        "%%conjure --number-of-solutions=all --solver=minion\n",
        "\n",
        "given length : int\n",
        "given bivincular_containment : set of (sequence (injective) of int, set of int)\n",
        "\n",
        "find perm : sequence (size length, injective) of int(1..length)\n",
        "\n",
        "such that\n",
        "    forAll (pattern, bars) in bivincular_containment .\n",
        "        exists ix : matrix indexed by [int(1..|pattern|)] of int(1..length)\n",
        "\n",
        "            , (forAll i,j : int(1..|pattern|) . i < j -> ix[i] < ix[j]) /\\\n",
        "            $ n1 and n2 are indices\n",
        "            (forAll n1, n2 : int(1..|pattern|) , n1 < n2 .\n",
        "                (pattern(n1) < pattern(n2) <-> perm(ix[n1]) < perm(ix[n2]))\n",
        "            )\n",
        "\n",
        "            .\n",
        "\n",
        "            (forAll bar in bars . ix[bar] + 1 = ix[bar+1])\n",
        "            /\\\n",
        "            (forAll bar in bars . perm(ix[bar]) + 1 = perm(ix[bar+1]))        $ because bivincular\n"
      ],
      "metadata": {
        "colab": {
          "base_uri": "https://localhost:8080/",
          "height": 32
        },
        "id": "1IFAczLAtFLh",
        "outputId": "18af7cae-7a5d-481a-8535-508cb4888417"
      },
      "execution_count": null,
      "outputs": [
        {
          "output_type": "display_data",
          "data": {
            "text/plain": [
              "<IPython.core.display.Markdown object>"
            ],
            "text/markdown": "```json\n{\"conjure_solutions\": [{\"perm\": [1, 4, 2, 3]}, {\"perm\": [3, 1, 2, 4]}, {\"perm\": [3, 4, 1, 2]}, {\"perm\": [4, 1, 2, 3]}, {\"perm\": [4, 2, 3, 1]}, {\"perm\": [4, 3, 1, 2]}]}\n```"
          },
          "metadata": {}
        }
      ]
    },
    {
      "cell_type": "markdown",
      "source": [
        "## Bivincular avoidance\n",
        "\n",
        "Similarly to vincular avoidance, we say that $\\pi$ avoids a bivincular pattern $(\\sigma,A)$ if $\\pi$ classically avoids $\\sigma$ or for each occurence of $\\sigma$ in $\\pi$ one or both of the other conditions is violated.\n",
        "\n",
        "For example, the pattern $\\sigma=3\\underline{12}$, $(312,\\{2\\})$ cannot be found in the permutation $421536$\n",
        "\n",
        "Note that if $\\sigma$ is considered as a vincular pattern then it would also not be contained in $\\pi$.\n",
        "\n",
        "Another example is $\\sigma=\\underline{23}1$, $(231,\\{1\\})$ cannot be found in $\\pi=136542$ as the sequence.\n",
        "Note that $\\sigma$ is avoided as a bivincular pattern in $\\pi=136542$ but is contained in $\\pi$ as a vincular pattern."
      ],
      "metadata": {
        "id": "GHrEzPxptoQN"
      }
    },
    {
      "cell_type": "code",
      "source": [
        "%conjure_clear"
      ],
      "metadata": {
        "id": "0rRXhSA9wRRm",
        "colab": {
          "base_uri": "https://localhost:8080/"
        },
        "outputId": "cd2c27c9-1357-4283-bb77-b1793ad9e821"
      },
      "execution_count": null,
      "outputs": [
        {
          "output_type": "stream",
          "name": "stdout",
          "text": [
            "Conjure model cleared\n"
          ]
        }
      ]
    },
    {
      "cell_type": "code",
      "source": [
        "length = 4\n",
        "bivincular_avoidance = [ [ [2,3,1]\n",
        "                         , [1]\n",
        "                         ]\n",
        "                       ]\n"
      ],
      "metadata": {
        "id": "Giq7GHVKtivB"
      },
      "execution_count": null,
      "outputs": []
    },
    {
      "cell_type": "code",
      "source": [
        "%%conjure --number-of-solutions=all --solver=minion\n",
        "\n",
        "given length : int\n",
        "given bivincular_avoidance : set of (sequence (injective) of int, set of int)\n",
        "\n",
        "find perm : sequence (size length, injective) of int(1..length)\n",
        "\n",
        "such that\n",
        "    forAll (pattern, bars) in bivincular_avoidance .\n",
        "        forAll ix : matrix indexed by [int(1..|pattern|)] of int(1..length)\n",
        "\n",
        "            , (forAll i,j : int(1..|pattern|) . i < j -> ix[i] < ix[j]) /\\\n",
        "            $ n1 and n2 are indices\n",
        "            (forAll n1, n2 : int(1..|pattern|) , n1 < n2 .\n",
        "                (pattern(n1) < pattern(n2) <-> perm(ix[n1]) < perm(ix[n2]))\n",
        "            )\n",
        "\n",
        "            .\n",
        "\n",
        "            !(  (forAll bar in bars . ix[bar] + 1 = ix[bar+1])\n",
        "                /\\\n",
        "                (forAll bar in bars . perm(ix[bar]) + 1 = perm(ix[bar+1]))\n",
        "            )\n"
      ],
      "metadata": {
        "colab": {
          "base_uri": "https://localhost:8080/",
          "height": 52
        },
        "id": "QKOeiOaWti2D",
        "outputId": "32fe806b-084c-4e6d-ee74-540fad95f5d6"
      },
      "execution_count": null,
      "outputs": [
        {
          "output_type": "display_data",
          "data": {
            "text/plain": [
              "<IPython.core.display.Markdown object>"
            ],
            "text/markdown": "```json\n{\"conjure_solutions\": [{\"perm\": [1, 2, 3, 4]}, {\"perm\": [1, 2, 4, 3]}, {\"perm\": [1, 3, 2, 4]}, {\"perm\": [1, 4, 2, 3]}, {\"perm\": [1, 4, 3, 2]}, {\"perm\": [2, 1, 3, 4]}, {\"perm\": [2, 1, 4, 3]}, {\"perm\": [2, 4, 1, 3]}, {\"perm\": [2, 4, 3, 1]}, {\"perm\": [3, 1, 2, 4]}, {\"perm\": [3, 1, 4, 2]}, {\"perm\": [3, 2, 1, 4]}, {\"perm\": [3, 2, 4, 1]}, {\"perm\": [4, 1, 2, 3]}, {\"perm\": [4, 1, 3, 2]}, {\"perm\": [4, 2, 1, 3]}, {\"perm\": [4, 3, 1, 2]}, {\"perm\": [4, 3, 2, 1]}]}\n```"
          },
          "metadata": {}
        }
      ]
    },
    {
      "cell_type": "markdown",
      "source": [
        "## Mesh containment\n",
        "\n",
        "Mesh patterns were introduced by Branden and Claesson in 2011 to provide explicit expansions for certain permutation statistics as, possibly infinite, linear combinations of (classical) permutation patterns.\n",
        "\n",
        "A mesh pattern of length $k$ is a pair $(\\pi, R)$ with $\\pi \\in S_k$ and $R \\subseteq [0, k] \\times [0, k]$ a set of pairs of integers.\n",
        "An occurrence of a mesh pattern $(\\sigma, R)$ in a permutation $\\pi$ is a subsequence $\\pi(i_1)\\ldots \\pi(i_k)$ such that the following holds\n",
        "* $\\pi(i_1)\\ldots \\pi(i_k)$ is order isomorphic to $\\sigma$\n",
        "* $(x,y)\\in R \\Rightarrow$ there does not exist $i\\in [n] : i_{x} < i < i_{x+1} \\land \\pi(i_{\\sigma^{-1}(y)}) < \\pi(i) < \\pi(i_{\\sigma^{-1}(y+1)})$\n",
        "\n",
        "\n",
        "The elements of $R$ identify the lower left corners of unit squares in the plot of $\\pi$, which specify forbidden regions.\n",
        "\n",
        "An example of a mesh pattern in $\\pi=521634$ is $(132,(0,0),(2,1),(2,2))$, as a valid subsequence is $263$."
      ],
      "metadata": {
        "id": "pkGRapgMvBgp"
      }
    },
    {
      "cell_type": "code",
      "source": [
        "%conjure_clear"
      ],
      "metadata": {
        "id": "pfY2Icqou_fH",
        "colab": {
          "base_uri": "https://localhost:8080/"
        },
        "outputId": "2a59d40b-8c7c-4145-fc30-6210e7b0040a"
      },
      "execution_count": null,
      "outputs": [
        {
          "output_type": "stream",
          "name": "stdout",
          "text": [
            "Conjure model cleared\n"
          ]
        }
      ]
    },
    {
      "cell_type": "code",
      "source": [
        "length = 4\n",
        "mesh_containment = [ [ [1,3,2]\n",
        "                      , [ [0,0]\n",
        "                         ,[2,1]\n",
        "                         ,[2,2]\n",
        "                        ]\n",
        "                      ]\n",
        "                    ]\n",
        "\n",
        "\n",
        "# Old param for which we knew all solutions\n",
        "# length = 4\n",
        "# mesh_containment = [ [ [1,2,3]\n",
        "#                      , [ [0,1]\n",
        "#                         ,[1,3]\n",
        "#                         ,[2,0]\n",
        "#                        ]\n",
        "#                      ]\n",
        "#                    ]\n",
        "\n",
        "# 14 Solutions for avoidance should be\n",
        "# Avoiding pattern\n",
        "# 1234, 2134, 2314 ,2341, 3124, 3214, 3241, 3412, 3421, 4123, 4213, 4231, 4312, 4321"
      ],
      "metadata": {
        "id": "hR4J_2_HvZLt"
      },
      "execution_count": null,
      "outputs": []
    },
    {
      "cell_type": "code",
      "source": [
        "%%conjure --number-of-solutions=all --solver=minion\n",
        "\n",
        "$ This of mesh patterns to contain\n",
        "given mesh_containment : set of (sequence(injective) of int, relation of (int * int))\n",
        "\n",
        "$ The permutation we are searching for (1..length is the permutation)\n",
        "given length : int\n",
        "find perm : sequence (size length, injective) of int(1..length)\n",
        "\n",
        "\n",
        "$ creating a padded version of perm, where position 0 contains the value 0 and position length+1 contains the value length+1\n",
        "$ this is only used for mesh avoidance/containment\n",
        "find permPadded : matrix indexed by [int(0..length+1)] of int(0..length+1)\n",
        "such that permPadded[0] = 0, permPadded[length+1] = length+1\n",
        "such that forAll i : int(1..length) . perm(i) = permPadded[i]\n",
        "\n",
        "such that\n",
        "    $ pattern is the pattern, mesh is the mesh as a relation\n",
        "    forAll (pattern, mesh) in mesh_containment .\n",
        "    $ Build the inverse of 'pattern'. This is completely evaluated before solving.\n",
        "    exists patterninv: matrix indexed by [int(0..|pattern|+1)] of int(0..|pattern|+1),\n",
        "                patterninv[0] = 0 /\\ patterninv[|pattern|+1] = |pattern|+1 /\\\n",
        "                (forAll i: int(1..|pattern|) . patterninv[pattern(i)] = i).\n",
        "        $ Look for all places where the pattern can occur\n",
        "        exists ix : matrix indexed by [int(0..|pattern|+1)] of int(0..length+1),\n",
        "            and([ ix[0]=0\n",
        "                , ix[|pattern|+1]=length+1\n",
        "                , forAll i : int(0..|pattern|) . ix[i] < ix[i+1]\n",
        "                , forAll n1, n2 : int(1..|pattern|) , n1 < n2 .\n",
        "                    pattern(n1) < pattern(n2) <-> permPadded[ix[n1]] < permPadded[ix[n2]]\n",
        "                ]) .\n",
        "            !(\n",
        "                $ If we find the pattern, make sure there is at least one value in some cell of the mesh\n",
        "                exists (i,j) in mesh.\n",
        "                    exists z: int(ix[i]+1..ix[i+1]-1). (permPadded[ix[patterninv[j]]] <= permPadded[z] /\\ permPadded[z] <= permPadded[ix[patterninv[j+1]]])\n",
        "            )\n",
        "\n",
        "\n"
      ],
      "metadata": {
        "colab": {
          "base_uri": "https://localhost:8080/",
          "height": 52
        },
        "id": "45o10lLzvn0e",
        "outputId": "2d8ace72-8493-4d19-f615-bd4f23f1d0a3"
      },
      "execution_count": null,
      "outputs": [
        {
          "output_type": "display_data",
          "data": {
            "text/plain": [
              "<IPython.core.display.Markdown object>"
            ],
            "text/markdown": "```json\n{\"conjure_solutions\": [{\"perm\": [1, 2, 4, 3], \"permPadded\": {\"0\": 0, \"1\": 1, \"2\": 2, \"3\": 4, \"4\": 3, \"5\": 5}}, {\"perm\": [1, 3, 2, 4], \"permPadded\": {\"0\": 0, \"1\": 1, \"2\": 3, \"3\": 2, \"4\": 4, \"5\": 5}}, {\"perm\": [1, 3, 4, 2], \"permPadded\": {\"0\": 0, \"1\": 1, \"2\": 3, \"3\": 4, \"4\": 2, \"5\": 5}}, {\"perm\": [1, 4, 2, 3], \"permPadded\": {\"0\": 0, \"1\": 1, \"2\": 4, \"3\": 2, \"4\": 3, \"5\": 5}}, {\"perm\": [1, 4, 3, 2], \"permPadded\": {\"0\": 0, \"1\": 1, \"2\": 4, \"3\": 3, \"4\": 2, \"5\": 5}}, {\"perm\": [2, 1, 4, 3], \"permPadded\": {\"0\": 0, \"1\": 2, \"2\": 1, \"3\": 4, \"4\": 3, \"5\": 5}}, {\"perm\": [2, 4, 1, 3], \"permPadded\": {\"0\": 0, \"1\": 2, \"2\": 4, \"3\": 1, \"4\": 3, \"5\": 5}}, {\"perm\": [2, 4, 3, 1], \"permPadded\": {\"0\": 0, \"1\": 2, \"2\": 4, \"3\": 3, \"4\": 1, \"5\": 5}}, {\"perm\": [3, 1, 4, 2], \"permPadded\": {\"0\": 0, \"1\": 3, \"2\": 1, \"3\": 4, \"4\": 2, \"5\": 5}}, {\"perm\": [4, 1, 3, 2], \"permPadded\": {\"0\": 0, \"1\": 4, \"2\": 1, \"3\": 3, \"4\": 2, \"5\": 5}}]}\n```"
          },
          "metadata": {}
        }
      ]
    },
    {
      "cell_type": "markdown",
      "source": [
        "## Mesh avoidance\n",
        "\n",
        "We say that a permutation $\\pi$ avoids a mesh pattern $(\\sigma,R)$ if $\\pi$ classically avoids $\\sigma$ or for each occurence of $\\sigma$ in $\\pi$ one or more of the other mesh pattern constraints are violated.\n",
        "\n",
        "An example the mesh pattern $(132,(0,0),(2,1),(2,2))$ cannot be found inside the permutation $651423$."
      ],
      "metadata": {
        "id": "InajRqWSwU23"
      }
    },
    {
      "cell_type": "code",
      "source": [
        "%conjure_clear"
      ],
      "metadata": {
        "id": "toeOPHk-wXjy",
        "colab": {
          "base_uri": "https://localhost:8080/"
        },
        "outputId": "4efa054c-feda-48ab-ddaf-589e94bcc643"
      },
      "execution_count": null,
      "outputs": [
        {
          "output_type": "stream",
          "name": "stdout",
          "text": [
            "Conjure model cleared\n"
          ]
        }
      ]
    },
    {
      "cell_type": "code",
      "source": [
        "length = 4\n",
        "mesh_avoidance = [ [ [1,3,2]\n",
        "                      , [ [0,0]\n",
        "                         ,[2,1]\n",
        "                         ,[2,2]\n",
        "                        ]\n",
        "                      ]\n",
        "                    ]\n",
        "\n"
      ],
      "metadata": {
        "id": "t1Tqn7rwwUXb"
      },
      "execution_count": null,
      "outputs": []
    },
    {
      "cell_type": "code",
      "source": [
        "%%conjure --number-of-solutions=all --solver=minion\n",
        "\n",
        "$ This of mesh patterns to avoid\n",
        "given mesh_avoidance : set of (sequence(injective) of int, relation of (int * int))\n",
        "\n",
        "$ The permutation we are searching for (1..length is the permutation)\n",
        "given length : int\n",
        "find perm : sequence (size length, injective) of int(1..length)\n",
        "\n",
        "\n",
        "$ creating a padded version of perm, where position 0 contains the value 0 and position length+1 contains the value length+1\n",
        "$ this is only used for mesh avoidance/containment\n",
        "find permPadded : matrix indexed by [int(0..length+1)] of int(0..length+1)\n",
        "such that permPadded[0] = 0, permPadded[length+1] = length+1\n",
        "such that forAll i : int(1..length) . perm(i) = permPadded[i]\n",
        "\n",
        "such that\n",
        "    $ pattern is the pattern, mesh is the mesh as a relation\n",
        "    forAll (pattern, mesh) in mesh_avoidance .\n",
        "    $ Build the inverse of 'pattern'. This is completely evaluated before solving.\n",
        "    exists patterninv: matrix indexed by [int(0..|pattern|+1)] of int(0..|pattern|+1),\n",
        "                patterninv[0] = 0 /\\ patterninv[|pattern|+1] = |pattern|+1 /\\\n",
        "                (forAll i: int(1..|pattern|) . patterninv[pattern(i)] = i).\n",
        "        $ Look for all places where the pattern can occur\n",
        "        forAll ix : matrix indexed by [int(0..|pattern|+1)] of int(0..length+1),\n",
        "            and([ ix[0]=0\n",
        "                , ix[|pattern|+1]=length+1\n",
        "                , forAll i : int(0..|pattern|) . ix[i] < ix[i+1]\n",
        "                , forAll n1, n2 : int(1..|pattern|) , n1 < n2 .\n",
        "                    pattern(n1) < pattern(n2) <-> permPadded[ix[n1]] < permPadded[ix[n2]]\n",
        "                ]) .\n",
        "            (\n",
        "                $ If we find the pattern, make sure there is at least one value in some cell of the mesh\n",
        "                exists (i,j) in mesh.\n",
        "                    exists z: int(ix[i]+1..ix[i+1]-1). (permPadded[ix[patterninv[j]]] <= permPadded[z] /\\ permPadded[z] <= permPadded[ix[patterninv[j+1]]])\n",
        "            )\n",
        "\n",
        "\n"
      ],
      "metadata": {
        "colab": {
          "base_uri": "https://localhost:8080/",
          "height": 52
        },
        "id": "o716bGBAwW3Y",
        "outputId": "3be11246-7eeb-4e65-a131-e98952c3fdb7"
      },
      "execution_count": null,
      "outputs": [
        {
          "output_type": "display_data",
          "data": {
            "text/plain": [
              "<IPython.core.display.Markdown object>"
            ],
            "text/markdown": "```json\n{\"conjure_solutions\": [{\"perm\": [1, 2, 3, 4], \"permPadded\": {\"0\": 0, \"1\": 1, \"2\": 2, \"3\": 3, \"4\": 4, \"5\": 5}}, {\"perm\": [2, 1, 3, 4], \"permPadded\": {\"0\": 0, \"1\": 2, \"2\": 1, \"3\": 3, \"4\": 4, \"5\": 5}}, {\"perm\": [2, 3, 1, 4], \"permPadded\": {\"0\": 0, \"1\": 2, \"2\": 3, \"3\": 1, \"4\": 4, \"5\": 5}}, {\"perm\": [2, 3, 4, 1], \"permPadded\": {\"0\": 0, \"1\": 2, \"2\": 3, \"3\": 4, \"4\": 1, \"5\": 5}}, {\"perm\": [3, 1, 2, 4], \"permPadded\": {\"0\": 0, \"1\": 3, \"2\": 1, \"3\": 2, \"4\": 4, \"5\": 5}}, {\"perm\": [3, 2, 1, 4], \"permPadded\": {\"0\": 0, \"1\": 3, \"2\": 2, \"3\": 1, \"4\": 4, \"5\": 5}}, {\"perm\": [3, 2, 4, 1], \"permPadded\": {\"0\": 0, \"1\": 3, \"2\": 2, \"3\": 4, \"4\": 1, \"5\": 5}}, {\"perm\": [3, 4, 1, 2], \"permPadded\": {\"0\": 0, \"1\": 3, \"2\": 4, \"3\": 1, \"4\": 2, \"5\": 5}}, {\"perm\": [3, 4, 2, 1], \"permPadded\": {\"0\": 0, \"1\": 3, \"2\": 4, \"3\": 2, \"4\": 1, \"5\": 5}}, {\"perm\": [4, 1, 2, 3], \"permPadded\": {\"0\": 0, \"1\": 4, \"2\": 1, \"3\": 2, \"4\": 3, \"5\": 5}}, {\"perm\": [4, 2, 1, 3], \"permPadded\": {\"0\": 0, \"1\": 4, \"2\": 2, \"3\": 1, \"4\": 3, \"5\": 5}}, {\"perm\": [4, 2, 3, 1], \"permPadded\": {\"0\": 0, \"1\": 4, \"2\": 2, \"3\": 3, \"4\": 1, \"5\": 5}}, {\"perm\": [4, 3, 1, 2], \"permPadded\": {\"0\": 0, \"1\": 4, \"2\": 3, \"3\": 1, \"4\": 2, \"5\": 5}}, {\"perm\": [4, 3, 2, 1], \"permPadded\": {\"0\": 0, \"1\": 4, \"2\": 3, \"3\": 2, \"4\": 1, \"5\": 5}}]}\n```"
          },
          "metadata": {}
        }
      ]
    },
    {
      "cell_type": "markdown",
      "source": [
        "## Boxed Mesh containment\n",
        "\n",
        "Frame patterns were introduced by Avgustinovich, Kitaev and Valyuzhenich in 2012.\n",
        "\n",
        "A boxed mesh pattern, or simply boxed pattern, is a mesh pattern $P=(\\sigma, R)$ where $\\sigma$ is a permutation of length $k$ and $R=[1,k-1]\\times[1,k-1]$. $P$ is then denoted by \\framebox{$\\sigma$}.\n",
        "The constraints of mesh pattern containment apply here.\n",
        "\n",
        "For example the boxed pattern \\framebox{$231$} is contained in the permutation $236514$ as the subsequence $351$"
      ],
      "metadata": {
        "id": "IU99JGdy5dUD"
      }
    },
    {
      "cell_type": "code",
      "source": [
        "%conjure_clear"
      ],
      "metadata": {
        "id": "qW-ni3IlB-el",
        "colab": {
          "base_uri": "https://localhost:8080/"
        },
        "outputId": "ecb6b6c8-5e5a-4bae-97d1-497ccdc739fb"
      },
      "execution_count": null,
      "outputs": [
        {
          "output_type": "stream",
          "name": "stdout",
          "text": [
            "Conjure model cleared\n"
          ]
        }
      ]
    },
    {
      "cell_type": "code",
      "source": [
        "length = 4\n",
        "boxed_mesh_containment = [ [2,3,1] ]\n"
      ],
      "metadata": {
        "id": "6X6r6UGuB_r4"
      },
      "execution_count": null,
      "outputs": []
    },
    {
      "cell_type": "code",
      "source": [
        "%%conjure --number-of-solutions=all --solver=minion\n",
        "\n",
        "$ This of mesh patterns to contain\n",
        "given boxed_mesh_containment : set of sequence(injective) of int\n",
        "\n",
        "$ The permutation we are searching for (1..length is the permutation)\n",
        "given length : int\n",
        "find perm : sequence (size length, injective) of int(1..length)\n",
        "\n",
        "\n",
        "$ creating a padded version of perm, where position 0 contains the value 0 and position length+1 contains the value length+1\n",
        "$ this is only used for mesh avoidance/containment\n",
        "find permPadded : matrix indexed by [int(0..length+1)] of int(0..length+1)\n",
        "such that permPadded[0] = 0, permPadded[length+1] = length+1\n",
        "such that forAll i : int(1..length) . perm(i) = permPadded[i]\n",
        "\n",
        "such that\n",
        "    $ pattern is the pattern\n",
        "    forAll pattern in boxed_mesh_containment .\n",
        "    $ Build the inverse of 'pattern'. This is completely evaluated before solving.\n",
        "    exists patterninv: matrix indexed by [int(0..|pattern|+1)] of int(0..|pattern|+1),\n",
        "                patterninv[0] = 0 /\\ patterninv[|pattern|+1] = |pattern|+1 /\\\n",
        "                (forAll i: int(1..|pattern|) . patterninv[pattern(i)] = i).\n",
        "        $ Look for all places where the pattern can occur\n",
        "        exists ix : matrix indexed by [int(0..|pattern|+1)] of int(0..length+1),\n",
        "            and([ ix[0]=0\n",
        "                , ix[|pattern|+1]=length+1\n",
        "                , forAll i : int(0..|pattern|) . ix[i] < ix[i+1]\n",
        "                , forAll n1, n2 : int(1..|pattern|) , n1 < n2 .\n",
        "                    pattern(n1) < pattern(n2) <-> permPadded[ix[n1]] < permPadded[ix[n2]]\n",
        "                ]) .\n",
        "            !(\n",
        "                $ If we find the pattern, make sure there is at least one value in some cell of the mesh\n",
        "                exists i : int(1..|pattern|) .\n",
        "                  exists j : int(1..|pattern|) .\n",
        "                    exists z: int(ix[i]+1..ix[i+1]-1). (permPadded[ix[patterninv[j]]] <= permPadded[z] /\\ permPadded[z] <= permPadded[ix[patterninv[j+1]]])\n",
        "            )\n",
        "\n",
        "\n"
      ],
      "metadata": {
        "colab": {
          "base_uri": "https://localhost:8080/",
          "height": 52
        },
        "id": "ojBD1Elg1-85",
        "outputId": "8e1d91ca-cd35-4e50-fed4-50b41931bbbc"
      },
      "execution_count": null,
      "outputs": [
        {
          "output_type": "display_data",
          "data": {
            "text/plain": [
              "<IPython.core.display.Markdown object>"
            ],
            "text/markdown": "```json\n{\"conjure_solutions\": [{\"perm\": [1, 3, 4, 2], \"permPadded\": {\"0\": 0, \"1\": 1, \"2\": 3, \"3\": 4, \"4\": 2, \"5\": 5}}, {\"perm\": [2, 3, 4, 1], \"permPadded\": {\"0\": 0, \"1\": 2, \"2\": 3, \"3\": 4, \"4\": 1, \"5\": 5}}, {\"perm\": [3, 1, 4, 2], \"permPadded\": {\"0\": 0, \"1\": 3, \"2\": 1, \"3\": 4, \"4\": 2, \"5\": 5}}, {\"perm\": [3, 2, 4, 1], \"permPadded\": {\"0\": 0, \"1\": 3, \"2\": 2, \"3\": 4, \"4\": 1, \"5\": 5}}, {\"perm\": [3, 4, 1, 2], \"permPadded\": {\"0\": 0, \"1\": 3, \"2\": 4, \"3\": 1, \"4\": 2, \"5\": 5}}, {\"perm\": [3, 4, 2, 1], \"permPadded\": {\"0\": 0, \"1\": 3, \"2\": 4, \"3\": 2, \"4\": 1, \"5\": 5}}, {\"perm\": [4, 2, 3, 1], \"permPadded\": {\"0\": 0, \"1\": 4, \"2\": 2, \"3\": 3, \"4\": 1, \"5\": 5}}]}\n```"
          },
          "metadata": {}
        }
      ]
    },
    {
      "cell_type": "code",
      "source": [
        "for x in conjure_solutions:\n",
        "    print(x[\"perm\"])"
      ],
      "metadata": {
        "colab": {
          "base_uri": "https://localhost:8080/"
        },
        "id": "sJy9XiIE4XAA",
        "outputId": "c6e46870-0ed4-4ea1-f617-05118441d32b"
      },
      "execution_count": null,
      "outputs": [
        {
          "output_type": "stream",
          "name": "stdout",
          "text": [
            "[1, 3, 4, 2]\n",
            "[2, 3, 4, 1]\n",
            "[3, 1, 4, 2]\n",
            "[3, 2, 4, 1]\n",
            "[3, 4, 1, 2]\n",
            "[3, 4, 2, 1]\n",
            "[4, 2, 3, 1]\n"
          ]
        }
      ]
    },
    {
      "cell_type": "code",
      "source": [
        "plotPermutations(conjure_solutions)"
      ],
      "metadata": {
        "colab": {
          "base_uri": "https://localhost:8080/",
          "height": 1000
        },
        "id": "CKRP0w_L5Jbw",
        "outputId": "7e077a89-84f5-46df-ece6-71cfe5dcdfd0"
      },
      "execution_count": null,
      "outputs": [
        {
          "output_type": "display_data",
          "data": {
            "text/plain": [
              "<Figure size 400x400 with 1 Axes>"
            ],
            "image/png": "[encoded data removed]"
          },
          "metadata": {}
        },
        {
          "output_type": "display_data",
          "data": {
            "text/plain": [
              "<Figure size 400x400 with 1 Axes>"
            ],
            "image/png": "[encoded data removed]"
          },
          "metadata": {}
        },
        {
          "output_type": "display_data",
          "data": {
            "text/plain": [
              "<Figure size 400x400 with 1 Axes>"
            ],
            "image/png": "[encoded data removed]"
          },
          "metadata": {}
        },
        {
          "output_type": "display_data",
          "data": {
            "text/plain": [
              "<Figure size 400x400 with 1 Axes>"
            ],
            "image/png": "[encoded data removed]"
          },
          "metadata": {}
        },
        {
          "output_type": "display_data",
          "data": {
            "text/plain": [
              "<Figure size 400x400 with 1 Axes>"
            ],
            "image/png": "[encoded data removed]"
          },
          "metadata": {}
        },
        {
          "output_type": "display_data",
          "data": {
            "text/plain": [
              "<Figure size 400x400 with 1 Axes>"
            ],
            "image/png": "[encoded data removed]"
          },
          "metadata": {}
        },
        {
          "output_type": "display_data",
          "data": {
            "text/plain": [
              "<Figure size 400x400 with 1 Axes>"
            ],
            "image/png": "[encoded data removed]"
          },
          "metadata": {}
        }
      ]
    },
    {
      "cell_type": "markdown",
      "source": [
        "## Boxed Mesh avoidance\n",
        "We say that a permutation $\\pi$ avoids a boxed mesh pattern $(\\sigma,R)$ if $\\pi$ classically avoids $\\sigma$ or for each occurence of $\\sigma$ in $\\pi$ one or more of the other box mesh pattern constraints are violated.\n",
        "\n",
        "For example the boxed pattern $231$ is avoided by the permutation $465123$."
      ],
      "metadata": {
        "id": "0waCWasT6LHm"
      }
    },
    {
      "cell_type": "code",
      "source": [
        "%conjure_clear"
      ],
      "metadata": {
        "id": "0kxWv2a96JxW",
        "colab": {
          "base_uri": "https://localhost:8080/"
        },
        "outputId": "7de09646-a394-495d-e6fa-4400c7774cc7"
      },
      "execution_count": null,
      "outputs": [
        {
          "output_type": "stream",
          "name": "stdout",
          "text": [
            "Conjure model cleared\n"
          ]
        }
      ]
    },
    {
      "cell_type": "code",
      "source": [
        "length = 4\n",
        "boxed_mesh_avoidance = [ [2,3,1] ]\n"
      ],
      "metadata": {
        "id": "YTDGAGTBCBlr"
      },
      "execution_count": null,
      "outputs": []
    },
    {
      "cell_type": "code",
      "source": [
        "%%conjure --number-of-solutions=all --solver=minion\n",
        "\n",
        "$ This of mesh patterns to avoid\n",
        "given boxed_mesh_avoidance : set of sequence(injective) of int\n",
        "\n",
        "$ The permutation we are searching for (1..length is the permutation)\n",
        "given length : int\n",
        "find perm : sequence (size length, injective) of int(1..length)\n",
        "\n",
        "\n",
        "$ creating a padded version of perm, where position 0 contains the value 0 and position length+1 contains the value length+1\n",
        "$ this is only used for mesh avoidance/containment\n",
        "find permPadded : matrix indexed by [int(0..length+1)] of int(0..length+1)\n",
        "such that permPadded[0] = 0, permPadded[length+1] = length+1\n",
        "such that forAll i : int(1..length) . perm(i) = permPadded[i]\n",
        "\n",
        "such that\n",
        "    $ pattern is the pattern, mesh is the mesh as a relation\n",
        "    forAll pattern in boxed_mesh_avoidance .\n",
        "    $ Build the inverse of 'pattern'. This is completely evaluated before solving.\n",
        "    exists patterninv: matrix indexed by [int(0..|pattern|+1)] of int(0..|pattern|+1),\n",
        "                patterninv[0] = 0 /\\ patterninv[|pattern|+1] = |pattern|+1 /\\\n",
        "                (forAll i: int(1..|pattern|) . patterninv[pattern(i)] = i).\n",
        "        $ Look for all places where the pattern can occur\n",
        "        forAll ix : matrix indexed by [int(0..|pattern|+1)] of int(0..length+1),\n",
        "            and([ ix[0]=0\n",
        "                , ix[|pattern|+1]=length+1\n",
        "                , forAll i : int(0..|pattern|) . ix[i] < ix[i+1]\n",
        "                , forAll n1, n2 : int(1..|pattern|) , n1 < n2 .\n",
        "                    pattern(n1) < pattern(n2) <-> permPadded[ix[n1]] < permPadded[ix[n2]]\n",
        "                ]) .\n",
        "            (\n",
        "                $ If we find the pattern, make sure there is at least one value in some cell of the mesh\n",
        "                exists i : int(1..|pattern|) .\n",
        "                exists j : int(1..|pattern|) .\n",
        "                    exists z: int(ix[i]+1..ix[i+1]-1). (permPadded[ix[patterninv[j]]] <= permPadded[z] /\\ permPadded[z] <= permPadded[ix[patterninv[j+1]]])\n",
        "            )\n",
        "\n",
        "\n"
      ],
      "metadata": {
        "id": "5U6i4wYNCCKN",
        "colab": {
          "base_uri": "https://localhost:8080/",
          "height": 52
        },
        "outputId": "9e3c0c65-8b6a-4960-b551-ac1529289fce"
      },
      "execution_count": null,
      "outputs": [
        {
          "output_type": "display_data",
          "data": {
            "text/plain": [
              "<IPython.core.display.Markdown object>"
            ],
            "text/markdown": "```json\n{\"conjure_solutions\": [{\"perm\": [1, 2, 3, 4], \"permPadded\": {\"0\": 0, \"1\": 1, \"2\": 2, \"3\": 3, \"4\": 4, \"5\": 5}}, {\"perm\": [1, 2, 4, 3], \"permPadded\": {\"0\": 0, \"1\": 1, \"2\": 2, \"3\": 4, \"4\": 3, \"5\": 5}}, {\"perm\": [1, 3, 2, 4], \"permPadded\": {\"0\": 0, \"1\": 1, \"2\": 3, \"3\": 2, \"4\": 4, \"5\": 5}}, {\"perm\": [1, 4, 2, 3], \"permPadded\": {\"0\": 0, \"1\": 1, \"2\": 4, \"3\": 2, \"4\": 3, \"5\": 5}}, {\"perm\": [1, 4, 3, 2], \"permPadded\": {\"0\": 0, \"1\": 1, \"2\": 4, \"3\": 3, \"4\": 2, \"5\": 5}}, {\"perm\": [2, 1, 3, 4], \"permPadded\": {\"0\": 0, \"1\": 2, \"2\": 1, \"3\": 3, \"4\": 4, \"5\": 5}}, {\"perm\": [2, 1, 4, 3], \"permPadded\": {\"0\": 0, \"1\": 2, \"2\": 1, \"3\": 4, \"4\": 3, \"5\": 5}}, {\"perm\": [2, 3, 1, 4], \"permPadded\": {\"0\": 0, \"1\": 2, \"2\": 3, \"3\": 1, \"4\": 4, \"5\": 5}}, {\"perm\": [2, 4, 1, 3], \"permPadded\": {\"0\": 0, \"1\": 2, \"2\": 4, \"3\": 1, \"4\": 3, \"5\": 5}}, {\"perm\": [2, 4, 3, 1], \"permPadded\": {\"0\": 0, \"1\": 2, \"2\": 4, \"3\": 3, \"4\": 1, \"5\": 5}}, {\"perm\": [3, 1, 2, 4], \"permPadded\": {\"0\": 0, \"1\": 3, \"2\": 1, \"3\": 2, \"4\": 4, \"5\": 5}}, {\"perm\": [3, 2, 1, 4], \"permPadded\": {\"0\": 0, \"1\": 3, \"2\": 2, \"3\": 1, \"4\": 4, \"5\": 5}}, {\"perm\": [4, 1, 2, 3], \"permPadded\": {\"0\": 0, \"1\": 4, \"2\": 1, \"3\": 2, \"4\": 3, \"5\": 5}}, {\"perm\": [4, 1, 3, 2], \"permPadded\": {\"0\": 0, \"1\": 4, \"2\": 1, \"3\": 3, \"4\": 2, \"5\": 5}}, {\"perm\": [4, 2, 1, 3], \"permPadded\": {\"0\": 0, \"1\": 4, \"2\": 2, \"3\": 1, \"4\": 3, \"5\": 5}}, {\"perm\": [4, 3, 1, 2], \"permPadded\": {\"0\": 0, \"1\": 4, \"2\": 3, \"3\": 1, \"4\": 2, \"5\": 5}}, {\"perm\": [4, 3, 2, 1], \"permPadded\": {\"0\": 0, \"1\": 4, \"2\": 3, \"3\": 2, \"4\": 1, \"5\": 5}}]}\n```"
          },
          "metadata": {}
        }
      ]
    },
    {
      "cell_type": "code",
      "source": [
        "plotPermutations(conjure_solutions)"
      ],
      "metadata": {
        "colab": {
          "base_uri": "https://localhost:8080/",
          "height": 316
        },
        "id": "DVFFHxjQ8KK2",
        "outputId": "7e4a3579-bf9b-48a7-c337-3cbe25f2d926"
      },
      "execution_count": null,
      "outputs": [
        {
          "output_type": "display_data",
          "data": {
            "text/plain": [
              "<Figure size 400x400 with 1 Axes>"
            ],
            "image/png": "[encoded data removed]"
          },
          "metadata": {}
        },
        {
          "output_type": "display_data",
          "data": {
            "text/plain": [
              "<Figure size 400x400 with 1 Axes>"
            ],
            "image/png": "[encoded data removed]"
          },
          "metadata": {}
        },
        {
          "output_type": "display_data",
          "data": {
            "text/plain": [
              "<Figure size 400x400 with 1 Axes>"
            ],
            "image/png": "[encoded data removed]"
          },
          "metadata": {}
        },
        {
          "output_type": "display_data",
          "data": {
            "text/plain": [
              "<Figure size 400x400 with 1 Axes>"
            ],
            "image/png": "[encoded data removed]"
          },
          "metadata": {}
        },
        {
          "output_type": "display_data",
          "data": {
            "text/plain": [
              "<Figure size 400x400 with 1 Axes>"
            ],
            "image/png": "[encoded data removed]"
          },
          "metadata": {}
        },
        {
          "output_type": "display_data",
          "data": {
            "text/plain": [
              "<Figure size 400x400 with 1 Axes>"
            ],
            "image/png": "[encoded data removed]"
          },
          "metadata": {}
        },
        {
          "output_type": "display_data",
          "data": {
            "text/plain": [
              "<Figure size 400x400 with 1 Axes>"
            ],
            "image/png": "[encoded data removed]"
          },
          "metadata": {}
        },
        {
          "output_type": "display_data",
          "data": {
            "text/plain": [
              "<Figure size 400x400 with 1 Axes>"
            ],
            "image/png": "[encoded data removed]"
          },
          "metadata": {}
        },
        {
          "output_type": "display_data",
          "data": {
            "text/plain": [
              "<Figure size 400x400 with 1 Axes>"
            ],
            "image/png": "[encoded data removed]"
          },
          "metadata": {}
        },
        {
          "output_type": "display_data",
          "data": {
            "text/plain": [
              "<Figure size 400x400 with 1 Axes>"
            ],
            "image/png": "[encoded data removed]"
          },
          "metadata": {}
        },
        {
          "output_type": "display_data",
          "data": {
            "text/plain": [
              "<Figure size 400x400 with 1 Axes>"
            ],
            "image/png": "[encoded data removed]"
          },
          "metadata": {}
        },
        {
          "output_type": "display_data",
          "data": {
            "text/plain": [
              "<Figure size 400x400 with 1 Axes>"
            ],
            "image/png": "[encoded data removed]"
          },
          "metadata": {}
        },
        {
          "output_type": "display_data",
          "data": {
            "text/plain": [
              "<Figure size 400x400 with 1 Axes>"
            ],
            "image/png": "[encoded data removed]"
          },
          "metadata": {}
        },
        {
          "output_type": "display_data",
          "data": {
            "text/plain": [
              "<Figure size 400x400 with 1 Axes>"
            ],
            "image/png": "[encoded data removed]"
          },
          "metadata": {}
        },
        {
          "output_type": "display_data",
          "data": {
            "text/plain": [
              "<Figure size 400x400 with 1 Axes>"
            ],
            "image/png": "[encoded data removed]"
          },
          "metadata": {}
        },
        {
          "output_type": "display_data",
          "data": {
            "text/plain": [
              "<Figure size 400x400 with 1 Axes>"
            ],
            "image/png": "[encoded data removed]"
          },
          "metadata": {}
        },
        {
          "output_type": "display_data",
          "data": {
            "text/plain": [
              "<Figure size 400x400 with 1 Axes>"
            ],
            "image/png": "[encoded data removed]"
          },
          "metadata": {}
        }
      ]
    },
    {
      "cell_type": "markdown",
      "source": [
        "## Consecutive containment\n",
        "\n",
        "Consecutive patterns are a special case of vincular patterns, namely those where *all* entries are underlined. In an occurrence of a consecutive pattern it is thus necessary that *all* entries are adjacent. Finding an occurrence of a consecutive pattern therefore consists in finding a contiguous subsequence of $\\pi$ that is order-isomorphic to the pattern $\\sigma$.\n",
        "\n",
        "For example, the consecutive pattern $\\underline{312}$ can be found inside $152463$ as the subsequence $524$."
      ],
      "metadata": {
        "id": "ZqLAZ_7a6ZZc"
      }
    },
    {
      "cell_type": "code",
      "source": [
        "%conjure_clear"
      ],
      "metadata": {
        "id": "_apJH9KP6wa7",
        "colab": {
          "base_uri": "https://localhost:8080/"
        },
        "outputId": "8215aef9-ce9b-4e4b-8fb9-59063d725317"
      },
      "execution_count": null,
      "outputs": [
        {
          "output_type": "stream",
          "name": "stdout",
          "text": [
            "Conjure model cleared\n"
          ]
        }
      ]
    },
    {
      "cell_type": "code",
      "source": [
        "length = 4\n",
        "consecutive_containment = [ [3,1,2] ]"
      ],
      "metadata": {
        "id": "VGscFFXkCFsX"
      },
      "execution_count": null,
      "outputs": []
    },
    {
      "cell_type": "code",
      "source": [
        "%%conjure --number-of-solutions=all --solver=minion\n",
        "\n",
        "given length : int\n",
        "given consecutive_containment : set of sequence (injective) of int\n",
        "\n",
        "find perm : sequence (size length, injective) of int(1..length)\n",
        "\n",
        "such that\n",
        "    forAll pattern in consecutive_containment .\n",
        "        exists ix : matrix indexed by [int(1..|pattern|)] of int(1..length)\n",
        "\n",
        "            , (forAll i,j : int(1..|pattern|) . i < j -> ix[i] < ix[j]) /\\\n",
        "            $ n1 and n2 are indices\n",
        "            (forAll n1, n2 : int(1..|pattern|) , n1 < n2 .\n",
        "                (pattern(n1) < pattern(n2) <-> perm(ix[n1]) < perm(ix[n2]))\n",
        "            )\n",
        "\n",
        "            .\n",
        "\n",
        "            (forAll bar : int(1..|pattern|-1) . ix[bar] + 1 = ix[bar+1])\n",
        "\n"
      ],
      "metadata": {
        "colab": {
          "base_uri": "https://localhost:8080/",
          "height": 52
        },
        "id": "YodgLFiO82mX",
        "outputId": "050bbf13-241e-435e-9393-37734531d016"
      },
      "execution_count": null,
      "outputs": [
        {
          "output_type": "display_data",
          "data": {
            "text/plain": [
              "<IPython.core.display.Markdown object>"
            ],
            "text/markdown": "```json\n{\"conjure_solutions\": [{\"perm\": [1, 4, 2, 3]}, {\"perm\": [2, 4, 1, 3]}, {\"perm\": [3, 1, 2, 4]}, {\"perm\": [3, 4, 1, 2]}, {\"perm\": [4, 1, 2, 3]}, {\"perm\": [4, 1, 3, 2]}, {\"perm\": [4, 2, 3, 1]}, {\"perm\": [4, 3, 1, 2]}]}\n```"
          },
          "metadata": {}
        }
      ]
    },
    {
      "cell_type": "code",
      "source": [
        "plotPermutations(conjure_solutions)"
      ],
      "metadata": {
        "colab": {
          "base_uri": "https://localhost:8080/",
          "height": 168
        },
        "id": "ELX_VmqJ9MRO",
        "outputId": "3488a6c0-5d69-4b89-f540-bf304d6bb4b9"
      },
      "execution_count": null,
      "outputs": [
        {
          "output_type": "display_data",
          "data": {
            "text/plain": [
              "<Figure size 400x400 with 1 Axes>"
            ],
            "image/png": "[encoded data removed]"
          },
          "metadata": {}
        },
        {
          "output_type": "display_data",
          "data": {
            "text/plain": [
              "<Figure size 400x400 with 1 Axes>"
            ],
            "image/png": "[encoded data removed]"
          },
          "metadata": {}
        },
        {
          "output_type": "display_data",
          "data": {
            "text/plain": [
              "<Figure size 400x400 with 1 Axes>"
            ],
            "image/png": "[encoded data removed]"
          },
          "metadata": {}
        },
        {
          "output_type": "display_data",
          "data": {
            "text/plain": [
              "<Figure size 400x400 with 1 Axes>"
            ],
            "image/png": "[encoded data removed]"
          },
          "metadata": {}
        },
        {
          "output_type": "display_data",
          "data": {
            "text/plain": [
              "<Figure size 400x400 with 1 Axes>"
            ],
            "image/png": "[encoded data removed]"
          },
          "metadata": {}
        },
        {
          "output_type": "display_data",
          "data": {
            "text/plain": [
              "<Figure size 400x400 with 1 Axes>"
            ],
            "image/png": "[encoded data removed]"
          },
          "metadata": {}
        },
        {
          "output_type": "display_data",
          "data": {
            "text/plain": [
              "<Figure size 400x400 with 1 Axes>"
            ],
            "image/png": "[encoded data removed]"
          },
          "metadata": {}
        },
        {
          "output_type": "display_data",
          "data": {
            "text/plain": [
              "<Figure size 400x400 with 1 Axes>"
            ],
            "image/png": "[encoded data removed]"
          },
          "metadata": {}
        }
      ]
    },
    {
      "cell_type": "markdown",
      "source": [
        "## Consecutive avoidance\n",
        "\n",
        "A permutation $\\pi$ avoids a consecutive pattern $\\sigma$ if it either classically avoids $\\sigma$ or for all occurences of $\\sigma$ in $\\pi$ none are a contiguious subsequence of $\\pi$.\n",
        "\n",
        "For example, the permutation $416325$ avoids the consecutive pattern $\\underline{312}$."
      ],
      "metadata": {
        "id": "3MRVyGZU6xKe"
      }
    },
    {
      "cell_type": "code",
      "source": [
        "%conjure_clear"
      ],
      "metadata": {
        "id": "NJxxc_a_CHYX",
        "colab": {
          "base_uri": "https://localhost:8080/"
        },
        "outputId": "ffe2692d-4253-4209-e379-86f962cf4588"
      },
      "execution_count": null,
      "outputs": [
        {
          "output_type": "stream",
          "name": "stdout",
          "text": [
            "Conjure model cleared\n"
          ]
        }
      ]
    },
    {
      "cell_type": "code",
      "source": [
        "length = 4\n",
        "consecutive_avoidance = [ [3,1,2] ]"
      ],
      "metadata": {
        "id": "orlIFiVUCIhK"
      },
      "execution_count": null,
      "outputs": []
    },
    {
      "cell_type": "code",
      "source": [
        "%%conjure --number-of-solutions=all --solver=minion\n",
        "\n",
        "given length : int\n",
        "given consecutive_avoidance : set of sequence (injective) of int\n",
        "\n",
        "find perm : sequence (size length, injective) of int(1..length)\n",
        "\n",
        "such that\n",
        "    forAll pattern in consecutive_avoidance .\n",
        "        forAll ix : matrix indexed by [int(1..|pattern|)] of int(1..length)\n",
        "\n",
        "            , (forAll i,j : int(1..|pattern|) . i < j -> ix[i] < ix[j]) /\\\n",
        "            $ n1 and n2 are indices\n",
        "            (forAll n1, n2 : int(1..|pattern|) , n1 < n2 .\n",
        "                (pattern(n1) < pattern(n2) <-> perm(ix[n1]) < perm(ix[n2]))\n",
        "            )\n",
        "\n",
        "            .\n",
        "\n",
        "            !(forAll bar : int(1..|pattern|-1) . ix[bar] + 1 = ix[bar+1])\n"
      ],
      "metadata": {
        "colab": {
          "base_uri": "https://localhost:8080/",
          "height": 52
        },
        "id": "job_Tzhf9pXx",
        "outputId": "5a27425c-34af-4cda-88fc-b2fdf9e9eeb6"
      },
      "execution_count": null,
      "outputs": [
        {
          "output_type": "display_data",
          "data": {
            "text/plain": [
              "<IPython.core.display.Markdown object>"
            ],
            "text/markdown": "```json\n{\"conjure_solutions\": [{\"perm\": [1, 2, 3, 4]}, {\"perm\": [1, 2, 4, 3]}, {\"perm\": [1, 3, 2, 4]}, {\"perm\": [1, 3, 4, 2]}, {\"perm\": [1, 4, 3, 2]}, {\"perm\": [2, 1, 3, 4]}, {\"perm\": [2, 1, 4, 3]}, {\"perm\": [2, 3, 1, 4]}, {\"perm\": [2, 3, 4, 1]}, {\"perm\": [2, 4, 3, 1]}, {\"perm\": [3, 1, 4, 2]}, {\"perm\": [3, 2, 1, 4]}, {\"perm\": [3, 2, 4, 1]}, {\"perm\": [3, 4, 2, 1]}, {\"perm\": [4, 2, 1, 3]}, {\"perm\": [4, 3, 2, 1]}]}\n```"
          },
          "metadata": {}
        }
      ]
    },
    {
      "cell_type": "code",
      "source": [
        "plotPermutations(conjure_solutions)"
      ],
      "metadata": {
        "colab": {
          "base_uri": "https://localhost:8080/",
          "height": 300
        },
        "id": "igYWxdVx91qi",
        "outputId": "5f99c9a2-81d7-4601-cef7-b18969f4339e"
      },
      "execution_count": null,
      "outputs": [
        {
          "output_type": "display_data",
          "data": {
            "text/plain": [
              "<Figure size 400x400 with 1 Axes>"
            ],
            "image/png": "[encoded data removed]"
          },
          "metadata": {}
        },
        {
          "output_type": "display_data",
          "data": {
            "text/plain": [
              "<Figure size 400x400 with 1 Axes>"
            ],
            "image/png": "[encoded data removed]"
          },
          "metadata": {}
        },
        {
          "output_type": "display_data",
          "data": {
            "text/plain": [
              "<Figure size 400x400 with 1 Axes>"
            ],
            "image/png": "[encoded data removed]"
          },
          "metadata": {}
        },
        {
          "output_type": "display_data",
          "data": {
            "text/plain": [
              "<Figure size 400x400 with 1 Axes>"
            ],
            "image/png": "[encoded data removed]"
          },
          "metadata": {}
        },
        {
          "output_type": "display_data",
          "data": {
            "text/plain": [
              "<Figure size 400x400 with 1 Axes>"
            ],
            "image/png": "[encoded data removed]"
          },
          "metadata": {}
        },
        {
          "output_type": "display_data",
          "data": {
            "text/plain": [
              "<Figure size 400x400 with 1 Axes>"
            ],
            "image/png": "[encoded data removed]"
          },
          "metadata": {}
        },
        {
          "output_type": "display_data",
          "data": {
            "text/plain": [
              "<Figure size 400x400 with 1 Axes>"
            ],
            "image/png": "[encoded data removed]"
          },
          "metadata": {}
        },
        {
          "output_type": "display_data",
          "data": {
            "text/plain": [
              "<Figure size 400x400 with 1 Axes>"
            ],
            "image/png": "[encoded data removed]"
          },
          "metadata": {}
        },
        {
          "output_type": "display_data",
          "data": {
            "text/plain": [
              "<Figure size 400x400 with 1 Axes>"
            ],
            "image/png": "[encoded data removed]"
          },
          "metadata": {}
        },
        {
          "output_type": "display_data",
          "data": {
            "text/plain": [
              "<Figure size 400x400 with 1 Axes>"
            ],
            "image/png": "[encoded data removed]"
          },
          "metadata": {}
        },
        {
          "output_type": "display_data",
          "data": {
            "text/plain": [
              "<Figure size 400x400 with 1 Axes>"
            ],
            "image/png": "[encoded data removed]"
          },
          "metadata": {}
        },
        {
          "output_type": "display_data",
          "data": {
            "text/plain": [
              "<Figure size 400x400 with 1 Axes>"
            ],
            "image/png": "[encoded data removed]"
          },
          "metadata": {}
        },
        {
          "output_type": "display_data",
          "data": {
            "text/plain": [
              "<Figure size 400x400 with 1 Axes>"
            ],
            "image/png": "[encoded data removed]"
          },
          "metadata": {}
        },
        {
          "output_type": "display_data",
          "data": {
            "text/plain": [
              "<Figure size 400x400 with 1 Axes>"
            ],
            "image/png": "[encoded data removed]"
          },
          "metadata": {}
        },
        {
          "output_type": "display_data",
          "data": {
            "text/plain": [
              "<Figure size 400x400 with 1 Axes>"
            ],
            "image/png": "[encoded data removed]"
          },
          "metadata": {}
        },
        {
          "output_type": "display_data",
          "data": {
            "text/plain": [
              "<Figure size 400x400 with 1 Axes>"
            ],
            "image/png": "[encoded data removed]"
          },
          "metadata": {}
        }
      ]
    },
    {
      "cell_type": "markdown",
      "source": [
        "# Permutation properties\n",
        "\n",
        "We have XX permutation properties.\n"
      ],
      "metadata": {
        "id": "P0YjZJLr8MCt"
      }
    },
    {
      "cell_type": "markdown",
      "source": [
        "## Simple permutation\n",
        "\n",
        "An *interval* of a permutation $\\pi$ corresponds to a set of contiguous indices $I = [a, b]$ such that the set of values $\\pi(I) = \\{\\pi(i) : i \\in I\\}$ is also contiguous.\n",
        "Every permutation of length $n$ has intervals of lengths 0, 1 and $n$.\n",
        "If a permutation $\\pi$ has no other intervals, then $\\pi$ is said to be *simple*.\n",
        "\n",
        "For example the permutation $251364$ is simple, but the permutation $635241$ is not as $63524$ or $3524$ are intervals (amongst others)."
      ],
      "metadata": {
        "id": "5D2Ij0_u8aBi"
      }
    },
    {
      "cell_type": "code",
      "source": [
        "%conjure_clear"
      ],
      "metadata": {
        "colab": {
          "base_uri": "https://localhost:8080/"
        },
        "id": "e9Ve8I-6AQhl",
        "outputId": "0fbc7702-5ea1-4216-ec94-90924b397128"
      },
      "execution_count": null,
      "outputs": [
        {
          "output_type": "stream",
          "name": "stdout",
          "text": [
            "Conjure model cleared\n"
          ]
        }
      ]
    },
    {
      "cell_type": "code",
      "source": [
        "length = 4"
      ],
      "metadata": {
        "id": "Yr1BbGieALa5"
      },
      "execution_count": null,
      "outputs": []
    },
    {
      "cell_type": "code",
      "source": [
        "%%conjure --solver=minion\n",
        "\n",
        "language Essence 1.3\n",
        "\n",
        "given length : int\n",
        "find perm : sequence (size length, injective) of int(1..length)\n",
        "\n",
        "$ Simple permutations do not contain intervals.\n",
        "$ An interval is a set of contiguous indices such that the values are also contiguous.\n",
        "\n",
        "$ perm is a simple permutation\n",
        "such that\n",
        "   and ( [ max(subperm) - min(subperm) + 1 != |subperm|          $ the values are not contiguous\n",
        "    | i : int(1..length)                                    $ start index of the sub perm\n",
        "    , j : int(1..length)                                    $ end index of the sub perm\n",
        "    , i < j                                                 $ start comes before end\n",
        "    , (i,j) != (1,length)                                   $ it's not the full permutation\n",
        "    , letting subperm be [perm(k) | k : int(i..j)]          $ give the sub perm a name\n",
        "    ])\n"
      ],
      "metadata": {
        "id": "2-xnvCxp9eqk",
        "colab": {
          "base_uri": "https://localhost:8080/",
          "height": 32
        },
        "outputId": "35d5c50a-2322-45e4-a5c3-60d137011fd6"
      },
      "execution_count": null,
      "outputs": [
        {
          "output_type": "display_data",
          "data": {
            "text/plain": [
              "<IPython.core.display.Markdown object>"
            ],
            "text/markdown": "```json\n{\"perm\": [2, 4, 1, 3]}\n```"
          },
          "metadata": {}
        }
      ]
    },
    {
      "cell_type": "markdown",
      "source": [
        "## Block-wise simple\n",
        "\n",
        "A permutation $\\pi\\in S_n$ is *block-wise simple* if and only if it has no interval (including the full permutation) which can be decomposed into $12[\\alpha_1,\\alpha_2]$ or $21[\\alpha_1,\\alpha_2]$."
      ],
      "metadata": {
        "id": "vDn-_m6bAcPM"
      }
    },
    {
      "cell_type": "code",
      "source": [
        "%conjure_clear"
      ],
      "metadata": {
        "colab": {
          "base_uri": "https://localhost:8080/"
        },
        "id": "yCwMJkk-AgxB",
        "outputId": "1c45d01b-ab2f-48c5-d10d-6ad14211bd80"
      },
      "execution_count": null,
      "outputs": [
        {
          "output_type": "stream",
          "name": "stdout",
          "text": [
            "Conjure model cleared\n"
          ]
        }
      ]
    },
    {
      "cell_type": "code",
      "source": [
        "length = 4"
      ],
      "metadata": {
        "id": "oSmdTf9KAh49"
      },
      "execution_count": null,
      "outputs": []
    },
    {
      "cell_type": "code",
      "source": [
        "%%conjure --number-of-solutions=all --solver=minion\n",
        "\n",
        "language Essence 1.3\n",
        "\n",
        "given length : int\n",
        "find perm : sequence (size length, injective) of int(1..length)\n",
        "\n",
        "such that\n",
        "    [ and([ max([ perm(i) | i : int(start..middle) ]) > min([ perm(i) | i : int(middle+1..end) ])\n",
        "          , min([ perm(i) | i : int(start..middle) ]) < max([ perm(i) | i : int(middle+1..end) ])\n",
        "          $ , forAll i : int(1..start-1) . perm(i) < minSE \\/ perm(i) > maxSE\n",
        "          $ , forAll i : int(end+1..length) . perm(i) < minSE \\/ perm(i) > maxSE\n",
        "          ])\n",
        "    | start, middle, end : int(1..length)\n",
        "    , start <= middle\n",
        "    , middle < end\n",
        "    , letting minSE be min([ perm(i) | i : int(start..end) ])\n",
        "    , letting maxSE be max([ perm(i) | i : int(start..end) ])\n",
        "    , maxSE - minSE = end - start\n",
        "    ]"
      ],
      "metadata": {
        "colab": {
          "base_uri": "https://localhost:8080/",
          "height": 32
        },
        "id": "Rb3Cy_HfAjwy",
        "outputId": "66659208-7d32-43b1-f42f-fe14cbba092e"
      },
      "execution_count": null,
      "outputs": [
        {
          "output_type": "display_data",
          "data": {
            "text/plain": [
              "<IPython.core.display.Markdown object>"
            ],
            "text/markdown": "```json\n{\"conjure_solutions\": [{\"perm\": [2, 4, 1, 3]}, {\"perm\": [3, 1, 4, 2]}]}\n```"
          },
          "metadata": {}
        }
      ]
    },
    {
      "cell_type": "markdown",
      "source": [
        "## Plus-decomposable\n",
        "\n",
        "Given a permutation $\\sigma=\\sigma(1)\\ldots\\sigma(m)$ of length $m$ and non-empty permutations $\\alpha_{1},\\ldots,\\alpha_{m}$ the *inflation* of $\\sigma$ by $\\alpha_{1},\\ldots,\\alpha_{m}$, written as $\\sigma[\\alpha_{1},\\ldots,\\alpha_{m}]$, is the unique permutation obtained by replacing each entry $\\sigma(i)$ by an interval that is order isomorphic to $\\alpha_{i}$, where the relative ordering of the intervals corresponds to the ordering of the entries of $\\sigma$. Conversely, a *block-decomposition* or *deflation* of a permutation $\\pi$ is any expression of $\\pi$ written as an inflation $\\pi=\\sigma[\\alpha_{1},\\ldots,\\alpha_{m}]$.\n",
        "\n",
        "A permutation $\\pi$ is *plus-decomposable* if it has a deflation of the form $\\pi = 12 [\\alpha_1,\\alpha_2]$ for non-empty permutations $\\alpha_1$ and $\\alpha_2$.\n",
        "\n",
        "For example $213654$ is a plus-decomposable permutation.\n",
        "But $546123$ (which is minus-decomposable) or $236145$ (which is not simple) are not."
      ],
      "metadata": {
        "id": "HFfn8htvAkRk"
      }
    },
    {
      "cell_type": "code",
      "source": [
        "%conjure_clear"
      ],
      "metadata": {
        "id": "a2QvAVqhBR6L",
        "colab": {
          "base_uri": "https://localhost:8080/"
        },
        "outputId": "4ce7dc9c-f9dc-42de-9dda-42bf528f864d"
      },
      "execution_count": null,
      "outputs": [
        {
          "output_type": "stream",
          "name": "stdout",
          "text": [
            "Conjure model cleared\n"
          ]
        }
      ]
    },
    {
      "cell_type": "code",
      "source": [
        "length = 4"
      ],
      "metadata": {
        "id": "BJT3sADWAuAK"
      },
      "execution_count": null,
      "outputs": []
    },
    {
      "cell_type": "code",
      "source": [
        "%%conjure --number-of-solutions=all --solver=minion\n",
        "\n",
        "language Essence 1.3\n",
        "\n",
        "given length : int\n",
        "find perm : sequence (size length, injective) of int(1..length)\n",
        "\n",
        "$ perm is plus-decomposable\n",
        "such that\n",
        "    exists sep : int(1..length-1) .\n",
        "        max([ perm(i) | i : int(1..sep) ]) < min([ perm(i) | i : int(sep+1..length) ])\n"
      ],
      "metadata": {
        "colab": {
          "base_uri": "https://localhost:8080/",
          "height": 52
        },
        "id": "i82ahgqcAu_t",
        "outputId": "cacea57c-7d9c-4bf0-a4e3-4683df6caf6b"
      },
      "execution_count": null,
      "outputs": [
        {
          "output_type": "display_data",
          "data": {
            "text/plain": [
              "<IPython.core.display.Markdown object>"
            ],
            "text/markdown": "```json\n{\"conjure_solutions\": [{\"perm\": [1, 2, 3, 4]}, {\"perm\": [1, 2, 4, 3]}, {\"perm\": [1, 3, 2, 4]}, {\"perm\": [1, 3, 4, 2]}, {\"perm\": [1, 4, 2, 3]}, {\"perm\": [1, 4, 3, 2]}, {\"perm\": [2, 1, 3, 4]}, {\"perm\": [2, 1, 4, 3]}, {\"perm\": [2, 3, 1, 4]}, {\"perm\": [3, 1, 2, 4]}, {\"perm\": [3, 2, 1, 4]}]}\n```"
          },
          "metadata": {}
        }
      ]
    },
    {
      "cell_type": "markdown",
      "source": [
        "## Minus-decomposable\n",
        "\n",
        "A permutation $\\pi$ is *minus-decomposable* if it has a deflation of the form $\\pi = 21 [\\alpha_1,\\alpha_2]$ for non-empty permutations $\\alpha_1$ and $\\alpha_2$.\n",
        "\n",
        "For example $546123$ is a minus-decomposable permutation.\n",
        "But $213654$ (which is plus-decomposable) or $236145$ (which is not simple) are not.\n",
        "\n"
      ],
      "metadata": {
        "id": "cZo6hM5GBSd0"
      }
    },
    {
      "cell_type": "code",
      "source": [
        "%conjure_clear"
      ],
      "metadata": {
        "colab": {
          "base_uri": "https://localhost:8080/"
        },
        "id": "Oy4CtsDdA26w",
        "outputId": "3c6f9d5a-12b9-43d0-d00c-4a5326232c54"
      },
      "execution_count": null,
      "outputs": [
        {
          "output_type": "stream",
          "name": "stdout",
          "text": [
            "Conjure model cleared\n"
          ]
        }
      ]
    },
    {
      "cell_type": "code",
      "source": [
        "length = 4"
      ],
      "metadata": {
        "id": "egEHPJPTA4Kw"
      },
      "execution_count": null,
      "outputs": []
    },
    {
      "cell_type": "code",
      "source": [
        "%%conjure --number-of-solutions=all --solver=minion\n",
        "\n",
        "language Essence 1.3\n",
        "\n",
        "given length : int\n",
        "find perm : sequence (size length, injective) of int(1..length)\n",
        "\n",
        "$ perm is minus-decomposable\n",
        "such that\n",
        "    exists sep : int(1..length-1) .\n",
        "        min([ perm(i) | i : int(1..sep) ]) > max([ perm(i) | i : int(sep+1..length) ])\n"
      ],
      "metadata": {
        "colab": {
          "base_uri": "https://localhost:8080/",
          "height": 52
        },
        "id": "tDxdZidiA4y2",
        "outputId": "6c9038d9-27d2-4f55-9f38-478cb78b567f"
      },
      "execution_count": null,
      "outputs": [
        {
          "output_type": "display_data",
          "data": {
            "text/plain": [
              "<IPython.core.display.Markdown object>"
            ],
            "text/markdown": "```json\n{\"conjure_solutions\": [{\"perm\": [2, 3, 4, 1]}, {\"perm\": [2, 4, 3, 1]}, {\"perm\": [3, 2, 4, 1]}, {\"perm\": [3, 4, 1, 2]}, {\"perm\": [3, 4, 2, 1]}, {\"perm\": [4, 1, 2, 3]}, {\"perm\": [4, 1, 3, 2]}, {\"perm\": [4, 2, 1, 3]}, {\"perm\": [4, 2, 3, 1]}, {\"perm\": [4, 3, 1, 2]}, {\"perm\": [4, 3, 2, 1]}]}\n```"
          },
          "metadata": {}
        }
      ]
    },
    {
      "cell_type": "markdown",
      "source": [
        "## Involution\n",
        "\n",
        "A permutation $\\pi\\in S_n$ is called an *involution*, if $\\pi=\\pi^{-1}$.\n",
        "\n",
        "A permutation is an involution precisely if and only if it can be written as a finite product of disjoint transpositions.\n",
        "\n",
        "$1243=(12)(43)$ is an involution but $2431=(124)(3)=(12)(24)(41)(3)$ is not."
      ],
      "metadata": {
        "id": "LUti2HtP9fWw"
      }
    },
    {
      "cell_type": "code",
      "source": [
        "%conjure_clear"
      ],
      "metadata": {
        "id": "3ouxKcMk9_gq",
        "colab": {
          "base_uri": "https://localhost:8080/"
        },
        "outputId": "fd017aca-9b7d-47e2-dbc2-fff8c3e41be9"
      },
      "execution_count": null,
      "outputs": [
        {
          "output_type": "stream",
          "name": "stdout",
          "text": [
            "Conjure model cleared\n"
          ]
        }
      ]
    },
    {
      "cell_type": "code",
      "source": [
        "length = 4"
      ],
      "metadata": {
        "id": "dcY4hy5oBnRQ"
      },
      "execution_count": null,
      "outputs": []
    },
    {
      "cell_type": "code",
      "source": [
        "%%conjure --number-of-solutions=all --solver=minion\n",
        "\n",
        "language Essence 1.3\n",
        "\n",
        "given length : int\n",
        "find perm : sequence (size length, injective) of int(1..length)\n",
        "\n",
        "$ perm is an involution\n",
        "$ perm * perm = id\n",
        "such that\n",
        "    forAll i : int(1..length) .\n",
        "        perm(perm(i)) = i\n"
      ],
      "metadata": {
        "id": "STIJOFJnBoxg",
        "colab": {
          "base_uri": "https://localhost:8080/",
          "height": 52
        },
        "outputId": "73d2f590-50b1-4f65-b456-4dcbb28690cd"
      },
      "execution_count": null,
      "outputs": [
        {
          "output_type": "display_data",
          "data": {
            "text/plain": [
              "<IPython.core.display.Markdown object>"
            ],
            "text/markdown": "```json\n{\"conjure_solutions\": [{\"perm\": [1, 2, 3, 4]}, {\"perm\": [1, 2, 4, 3]}, {\"perm\": [1, 3, 2, 4]}, {\"perm\": [1, 4, 3, 2]}, {\"perm\": [2, 1, 3, 4]}, {\"perm\": [2, 1, 4, 3]}, {\"perm\": [3, 2, 1, 4]}, {\"perm\": [3, 4, 1, 2]}, {\"perm\": [4, 2, 3, 1]}, {\"perm\": [4, 3, 2, 1]}]}\n```"
          },
          "metadata": {}
        }
      ]
    },
    {
      "cell_type": "code",
      "source": [
        "# testing\n",
        "\n",
        "for sol in conjure_solutions:\n",
        "    perm = sol[\"perm\"]\n",
        "    for i in range(1, length+1):\n",
        "        iVal = perm[i-1] # applied once\n",
        "        iValVal = perm[iVal-1] # applied twice\n",
        "        if i != iValVal:\n",
        "            print(\"Not an involution:\", perm)\n",
        "            break\n"
      ],
      "metadata": {
        "id": "sR-a6IG2BTFz"
      },
      "execution_count": null,
      "outputs": []
    },
    {
      "cell_type": "markdown",
      "source": [
        "## Derangement\n",
        "\n",
        "\n",
        "A *derangement* is a permutation with no fixed point. Which means that in each index the value of the element is not equal to the index value, so $\\pi(i)\\neq i$.\n",
        "\n",
        "$4312$ is a derangement whereas $1234$ is not."
      ],
      "metadata": {
        "id": "UJf8msH--AX4"
      }
    },
    {
      "cell_type": "code",
      "source": [
        "%conjure_clear"
      ],
      "metadata": {
        "id": "u_NAcOLI-SyF",
        "colab": {
          "base_uri": "https://localhost:8080/"
        },
        "outputId": "d000fbee-06b7-4e2b-8086-10b97fd9a80f"
      },
      "execution_count": null,
      "outputs": [
        {
          "output_type": "stream",
          "name": "stdout",
          "text": [
            "Conjure model cleared\n"
          ]
        }
      ]
    },
    {
      "cell_type": "code",
      "source": [
        "length = 4"
      ],
      "metadata": {
        "id": "YpNaSXyCBlzw"
      },
      "execution_count": null,
      "outputs": []
    },
    {
      "cell_type": "code",
      "source": [
        "%%conjure --number-of-solutions=all --solver=minion\n",
        "\n",
        "language Essence 1.3\n",
        "\n",
        "given length : int\n",
        "find perm : sequence (size length, injective) of int(1..length)\n",
        "\n",
        "such that\n",
        "    forAll i : int(1..length) .\n",
        "        perm(i) != i\n"
      ],
      "metadata": {
        "id": "4Be69uIdBrJ-",
        "colab": {
          "base_uri": "https://localhost:8080/",
          "height": 52
        },
        "outputId": "3b6679d4-4290-45dc-ec53-7a47a047404c"
      },
      "execution_count": null,
      "outputs": [
        {
          "output_type": "display_data",
          "data": {
            "text/plain": [
              "<IPython.core.display.Markdown object>"
            ],
            "text/markdown": "```json\n{\"conjure_solutions\": [{\"perm\": [2, 1, 4, 3]}, {\"perm\": [2, 3, 4, 1]}, {\"perm\": [2, 4, 1, 3]}, {\"perm\": [3, 1, 4, 2]}, {\"perm\": [3, 4, 1, 2]}, {\"perm\": [3, 4, 2, 1]}, {\"perm\": [4, 1, 2, 3]}, {\"perm\": [4, 3, 1, 2]}, {\"perm\": [4, 3, 2, 1]}]}\n```"
          },
          "metadata": {}
        }
      ]
    },
    {
      "cell_type": "code",
      "source": [
        "# testing\n",
        "\n",
        "for sol in conjure_solutions:\n",
        "    perm = sol[\"perm\"]\n",
        "    for i in range(1, length+1):\n",
        "        iVal = perm[i-1] # applied once\n",
        "        if i == iVal:\n",
        "            print(\"Not a derangement:\", perm)\n",
        "            break\n"
      ],
      "metadata": {
        "id": "TGpABIwJCMVU"
      },
      "execution_count": null,
      "outputs": []
    },
    {
      "cell_type": "markdown",
      "source": [
        "## Non-derangement\n",
        "\n",
        "A *nonderangement* is a permutation with at least one fixed\n",
        "point. i.e. there is at least one $i$ such that $\\pi(i)=i$.\n",
        "\n",
        "$2431$ is a non-derangement whereas $4321$ is not."
      ],
      "metadata": {
        "id": "xHLfnG-N-TEg"
      }
    },
    {
      "cell_type": "code",
      "source": [
        "%conjure_clear"
      ],
      "metadata": {
        "id": "dIhPoPGV-Yfo",
        "colab": {
          "base_uri": "https://localhost:8080/"
        },
        "outputId": "a8d1423c-29c5-46b7-8363-b1e0cfe7fe7a"
      },
      "execution_count": null,
      "outputs": [
        {
          "output_type": "stream",
          "name": "stdout",
          "text": [
            "Conjure model cleared\n"
          ]
        }
      ]
    },
    {
      "cell_type": "code",
      "source": [
        "length = 4"
      ],
      "metadata": {
        "id": "6XUwUHR7BkPK"
      },
      "execution_count": null,
      "outputs": []
    },
    {
      "cell_type": "code",
      "source": [
        "%%conjure --number-of-solutions=all --solver=minion\n",
        "\n",
        "language Essence 1.3\n",
        "\n",
        "given length : int\n",
        "find perm : sequence (size length, injective) of int(1..length)\n",
        "\n",
        "such that\n",
        "    exists i : int(1..length) .\n",
        "        perm(i) = i\n"
      ],
      "metadata": {
        "id": "4tYzr3_4BslM",
        "colab": {
          "base_uri": "https://localhost:8080/",
          "height": 52
        },
        "outputId": "430347f3-8cf2-4b4f-b9ea-6c9433d4291d"
      },
      "execution_count": null,
      "outputs": [
        {
          "output_type": "display_data",
          "data": {
            "text/plain": [
              "<IPython.core.display.Markdown object>"
            ],
            "text/markdown": "```json\n{\"conjure_solutions\": [{\"perm\": [1, 2, 3, 4]}, {\"perm\": [1, 2, 4, 3]}, {\"perm\": [1, 3, 2, 4]}, {\"perm\": [1, 3, 4, 2]}, {\"perm\": [1, 4, 2, 3]}, {\"perm\": [1, 4, 3, 2]}, {\"perm\": [2, 1, 3, 4]}, {\"perm\": [2, 3, 1, 4]}, {\"perm\": [2, 4, 3, 1]}, {\"perm\": [3, 1, 2, 4]}, {\"perm\": [3, 2, 1, 4]}, {\"perm\": [3, 2, 4, 1]}, {\"perm\": [4, 1, 3, 2]}, {\"perm\": [4, 2, 1, 3]}, {\"perm\": [4, 2, 3, 1]}]}\n```"
          },
          "metadata": {}
        }
      ]
    },
    {
      "cell_type": "code",
      "source": [
        "# testing\n",
        "\n",
        "for sol in conjure_solutions:\n",
        "    perm = sol[\"perm\"]\n",
        "    if any([i == perm[i-1] for i in range(1, length+1)]):\n",
        "        # it is a non-derangement\n",
        "        pass\n",
        "    else:\n",
        "        print(\"Not a non-derangement:\", perm)\n",
        "    # for :\n",
        "    #     iVal = perm[i-1] # applied once\n",
        "    #     if i == iVal:\n",
        "    #         non_derangement = True\n",
        "\n",
        "    #         break\n"
      ],
      "metadata": {
        "id": "bsE2B7mbCXQn"
      },
      "execution_count": null,
      "outputs": []
    },
    {
      "cell_type": "markdown",
      "source": [
        "## Parity\n",
        "A permutation $\\pi$ is called a parity permutation if and only if for all $i$, if $i$ is odd then $\\pi(i)$ is odd too and if $i$ is even then $\\pi(i)$ is even."
      ],
      "metadata": {
        "id": "fTB0uhIb5BAP"
      }
    },
    {
      "cell_type": "code",
      "source": [
        "%conjure_clear\n",
        "length = 4"
      ],
      "metadata": {
        "id": "-P3ObwGz5g32"
      },
      "execution_count": null,
      "outputs": []
    },
    {
      "cell_type": "code",
      "source": [
        "given length : int\n",
        "find perm : sequence (size length, injective) of int(1..length)\n",
        "\n",
        "$ parity permutation\n",
        "$ perm(i) is odd if i is odd, perm(i) is even if i is even.\n",
        "\n",
        "such that\n",
        "    forAll i : int(1..length) .\n",
        "        (perm(i) % 2) = i % 2"
      ],
      "metadata": {
        "id": "TEvnYBG85mxc"
      },
      "execution_count": null,
      "outputs": []
    },
    {
      "cell_type": "markdown",
      "source": [
        "## $n$ inversions\n",
        "\n",
        "An *inversion* in a permutation is a pair of numbers such that the larger number appears to the left of the smaller one in the permutation."
      ],
      "metadata": {
        "id": "PRpK1El7UKDu"
      }
    },
    {
      "cell_type": "code",
      "source": [
        "%conjure_clear\n",
        "length = 4\n",
        "nInversions = 6"
      ],
      "metadata": {
        "colab": {
          "base_uri": "https://localhost:8080/"
        },
        "id": "ioZUBRRzUaQt",
        "outputId": "133e2403-db3b-4a40-95ae-aad621b3cf8a"
      },
      "execution_count": null,
      "outputs": [
        {
          "output_type": "stream",
          "name": "stdout",
          "text": [
            "Conjure model cleared\n"
          ]
        }
      ]
    },
    {
      "cell_type": "code",
      "source": [
        "%%conjure --number-of-solutions=all --solver=minion\n",
        "given length : int\n",
        "find perm : sequence (size length, injective) of int(1..length)\n",
        "\n",
        "$ the inversion count\n",
        "given nInversions : int\n",
        "such that\n",
        "    nInversions =\n",
        "        sum([ 1\n",
        "            | i,j : int(1..length)\n",
        "            , i < j\n",
        "            , perm(i) > perm(j)\n",
        "            ])"
      ],
      "metadata": {
        "colab": {
          "base_uri": "https://localhost:8080/",
          "height": 32
        },
        "id": "81Ob3avSUEYa",
        "outputId": "ac222b40-3724-45cf-ab35-c6dc2790989c"
      },
      "execution_count": null,
      "outputs": [
        {
          "output_type": "display_data",
          "data": {
            "text/plain": [
              "<IPython.core.display.Markdown object>"
            ],
            "text/markdown": "```json\n{\"perm\": [4, 3, 2, 1]}\n```"
          },
          "metadata": {}
        }
      ]
    },
    {
      "cell_type": "markdown",
      "source": [
        "## $n$ descents\n",
        "des$(\\sigma) = |\\{i : \\sigma(i) > \\sigma(i + 1)\\}|$"
      ],
      "metadata": {
        "id": "HJWLyqWjX3h1"
      }
    },
    {
      "cell_type": "code",
      "source": [
        "%conjure_clear\n",
        "length = 4\n",
        "nDescents = 1"
      ],
      "metadata": {
        "colab": {
          "base_uri": "https://localhost:8080/"
        },
        "id": "uGUkv6VzYIAO",
        "outputId": "9f80bfb8-4254-4799-d4b1-11515fc3a5b0"
      },
      "execution_count": null,
      "outputs": [
        {
          "output_type": "stream",
          "name": "stdout",
          "text": [
            "Conjure model cleared\n"
          ]
        }
      ]
    },
    {
      "cell_type": "code",
      "source": [
        "%%conjure --number-of-solutions=all --solver=minion\n",
        "\n",
        "given length : int\n",
        "find perm : sequence (size length, injective) of int(1..length)\n",
        "\n",
        "$ descent count\n",
        "given nDescents : int\n",
        "such that\n",
        "    nDescents =\n",
        "        sum([ 1\n",
        "            | i : int(1..length-1)\n",
        "            , perm(i) > perm(i+1)\n",
        "            ])\n"
      ],
      "metadata": {
        "colab": {
          "base_uri": "https://localhost:8080/",
          "height": 52
        },
        "id": "CwOub3HBX1tC",
        "outputId": "80e7b80f-116c-4adc-acd2-e84f62ffd62f"
      },
      "execution_count": null,
      "outputs": [
        {
          "output_type": "display_data",
          "data": {
            "text/plain": [
              "<IPython.core.display.Markdown object>"
            ],
            "text/markdown": "```json\n{\"conjure_solutions\": [{\"perm\": [1, 2, 4, 3]}, {\"perm\": [1, 3, 2, 4]}, {\"perm\": [1, 3, 4, 2]}, {\"perm\": [1, 4, 2, 3]}, {\"perm\": [2, 1, 3, 4]}, {\"perm\": [2, 3, 1, 4]}, {\"perm\": [2, 3, 4, 1]}, {\"perm\": [2, 4, 1, 3]}, {\"perm\": [3, 1, 2, 4]}, {\"perm\": [3, 4, 1, 2]}, {\"perm\": [4, 1, 2, 3]}]}\n```"
          },
          "metadata": {}
        }
      ]
    },
    {
      "cell_type": "markdown",
      "source": [
        "## $n$ ascents\n",
        "asc$(\\sigma) = |\\{i : \\sigma(i) < \\sigma(i + 1)\\}|$"
      ],
      "metadata": {
        "id": "B6mby_da7kZG"
      }
    },
    {
      "cell_type": "code",
      "source": [
        "%conjure_clear\n",
        "length = 4\n",
        "nAscents = 1"
      ],
      "metadata": {
        "id": "IZe6A0GC7wAL"
      },
      "execution_count": null,
      "outputs": []
    },
    {
      "cell_type": "code",
      "source": [
        "%%conjure --number-of-solutions=all --solver=minion\n",
        "\n",
        "given length : int\n",
        "find perm : sequence (size length, injective) of int(1..length)\n",
        "\n",
        "$ the inversion count\n",
        "given nAscents : int\n",
        "such that\n",
        "    nAscents =\n",
        "        sum([ 1\n",
        "            | i : int(1..length-1)\n",
        "            , perm(i) < perm(i+1)\n",
        "            ])\n"
      ],
      "metadata": {
        "id": "EvNoK5PP7tmG"
      },
      "execution_count": null,
      "outputs": []
    },
    {
      "cell_type": "markdown",
      "source": [
        "## $n$ excedenaces\n",
        "\n",
        "exc$(\\sigma) = |\\{i : \\sigma(i) > i\\}|$"
      ],
      "metadata": {
        "id": "hFRo2JHx8L3H"
      }
    },
    {
      "cell_type": "code",
      "source": [
        "%conjure_clear\n",
        "length = 4\n",
        "nExcedances = 1"
      ],
      "metadata": {
        "id": "A04e6q618Ydw"
      },
      "execution_count": null,
      "outputs": []
    },
    {
      "cell_type": "code",
      "source": [
        "%%conjure --number-of-solutions=all --solver=minion\n",
        "\n",
        "given length : int\n",
        "find perm : sequence (size length, injective) of int(1..length)\n",
        "\n",
        "$ the inversion count\n",
        "given nExcedances : int\n",
        "such that\n",
        "    nExcedances =\n",
        "        sum([ 1\n",
        "            | i : int(1..length)\n",
        "            , perm(i) > i\n",
        "            ])"
      ],
      "metadata": {
        "id": "PbPvDTAf8V15"
      },
      "execution_count": null,
      "outputs": []
    },
    {
      "cell_type": "markdown",
      "source": [
        "## $n$ Major Index\n",
        "\n",
        "The sum of the positions of the descents.\n",
        "\n",
        "maj$(\\sigma) = \\sum_{\\sigma(i)>\\sigma(i+1)} i$"
      ],
      "metadata": {
        "id": "jPa7wqwa8_qY"
      }
    },
    {
      "cell_type": "code",
      "source": [
        "%conjure_clear\n",
        "length = 4\n",
        "nMajorIndex = 1"
      ],
      "metadata": {
        "id": "Hwqnv7DV9I9W"
      },
      "execution_count": null,
      "outputs": []
    },
    {
      "cell_type": "code",
      "source": [
        "%%conjure --number-of-solutions=all --solver=minion\n",
        "\n",
        "given length : int\n",
        "find perm : sequence (size length, injective) of int(1..length)\n",
        "\n",
        "$ the major index\n",
        "given nMajorIndex : int\n",
        "such that\n",
        "    nMajorIndex =\n",
        "        sum([ i\n",
        "            | i : int(1..length-1)\n",
        "            , perm(i) > perm(i+1)\n",
        "            ])"
      ],
      "metadata": {
        "id": "l0hVnUMa8-7F"
      },
      "execution_count": null,
      "outputs": []
    },
    {
      "cell_type": "markdown",
      "source": [
        "# Permutation statistics\n",
        "\n",
        "We support 5 different statistics in permutations.\n"
      ],
      "metadata": {
        "id": "A6Ca2nbgBhcs"
      }
    },
    {
      "cell_type": "markdown",
      "source": [
        "## Number of inversions\n",
        "\n",
        "An *inversion* in a permutation is a pair of numbers such that the larger number appears to the left of the smaller one in the permutation."
      ],
      "metadata": {
        "id": "7zvNLqjpNC68"
      }
    },
    {
      "cell_type": "code",
      "source": [
        "%conjure_clear"
      ],
      "metadata": {
        "colab": {
          "base_uri": "https://localhost:8080/"
        },
        "id": "NTgEcgpFBW2n",
        "outputId": "1abd6cf6-4ea8-4d3b-ea3b-7856772f9d8e"
      },
      "execution_count": null,
      "outputs": [
        {
          "output_type": "stream",
          "name": "stdout",
          "text": [
            "Conjure model cleared\n"
          ]
        }
      ]
    },
    {
      "cell_type": "code",
      "source": [
        "length = 4"
      ],
      "metadata": {
        "id": "pq9XJqOKBYMo"
      },
      "execution_count": null,
      "outputs": []
    },
    {
      "cell_type": "code",
      "source": [
        "%%conjure --number-of-solutions=all --solver=minion\n",
        "\n",
        "given length : int\n",
        "find perm : sequence (size length, injective) of int(1..length)\n",
        "\n",
        "$ the inversion count\n",
        "find inversionCount : int(0..length**2) $ upper bound is not tight\n",
        "such that\n",
        "    inversionCount =\n",
        "        sum([ 1\n",
        "            | i,j : int(1..length)\n",
        "            , i < j\n",
        "            , perm(i) > perm(j)\n",
        "            ])\n"
      ],
      "metadata": {
        "colab": {
          "base_uri": "https://localhost:8080/",
          "height": 52
        },
        "id": "B4UFQDwGBaZX",
        "outputId": "d1865283-3db4-4c89-d512-ca743c13fc26"
      },
      "execution_count": null,
      "outputs": [
        {
          "output_type": "display_data",
          "data": {
            "text/plain": [
              "<IPython.core.display.Markdown object>"
            ],
            "text/markdown": "```json\n{\"conjure_solutions\": [{\"inversionCount\": 0, \"perm\": [1, 2, 3, 4]}, {\"inversionCount\": 1, \"perm\": [1, 2, 4, 3]}, {\"inversionCount\": 1, \"perm\": [1, 3, 2, 4]}, {\"inversionCount\": 2, \"perm\": [1, 3, 4, 2]}, {\"inversionCount\": 2, \"perm\": [1, 4, 2, 3]}, {\"inversionCount\": 3, \"perm\": [1, 4, 3, 2]}, {\"inversionCount\": 1, \"perm\": [2, 1, 3, 4]}, {\"inversionCount\": 2, \"perm\": [2, 1, 4, 3]}, {\"inversionCount\": 2, \"perm\": [2, 3, 1, 4]}, {\"inversionCount\": 3, \"perm\": [2, 3, 4, 1]}, {\"inversionCount\": 3, \"perm\": [2, 4, 1, 3]}, {\"inversionCount\": 4, \"perm\": [2, 4, 3, 1]}, {\"inversionCount\": 2, \"perm\": [3, 1, 2, 4]}, {\"inversionCount\": 3, \"perm\": [3, 1, 4, 2]}, {\"inversionCount\": 3, \"perm\": [3, 2, 1, 4]}, {\"inversionCount\": 4, \"perm\": [3, 2, 4, 1]}, {\"inversionCount\": 4, \"perm\": [3, 4, 1, 2]}, {\"inversionCount\": 5, \"perm\": [3, 4, 2, 1]}, {\"inversionCount\": 3, \"perm\": [4, 1, 2, 3]}, {\"inversionCount\": 4, \"perm\": [4, 1, 3, 2]}, {\"inversionCount\": 4, \"perm\": [4, 2, 1, 3]}, {\"inversionCount\": 5, \"perm\": [4, 2, 3, 1]}, {\"inversionCount\": 5, \"perm\": [4, 3, 1, 2]}, {\"inversionCount\": 6, \"perm\": [4, 3, 2, 1]}]}\n```"
          },
          "metadata": {}
        }
      ]
    },
    {
      "cell_type": "markdown",
      "source": [
        "## Number of descents\n",
        "\n",
        "des$(\\sigma) = |\\{i : \\sigma(i) > \\sigma(i + 1)\\}|$"
      ],
      "metadata": {
        "id": "FfVxhMo3A8gT"
      }
    },
    {
      "cell_type": "code",
      "source": [
        "%conjure_clear"
      ],
      "metadata": {
        "id": "-EzNYQOlBe0d",
        "colab": {
          "base_uri": "https://localhost:8080/"
        },
        "outputId": "ade81daf-9417-4ca4-f17b-a5c2e2faa236"
      },
      "execution_count": null,
      "outputs": [
        {
          "output_type": "stream",
          "name": "stdout",
          "text": [
            "Conjure model cleared\n"
          ]
        }
      ]
    },
    {
      "cell_type": "code",
      "source": [
        "length = 4"
      ],
      "metadata": {
        "id": "df5KXBtjHR5B"
      },
      "execution_count": null,
      "outputs": []
    },
    {
      "cell_type": "code",
      "source": [
        "%%conjure --number-of-solutions=all --solver=minion\n",
        "\n",
        "given length : int\n",
        "find perm : sequence (size length, injective) of int(1..length)\n",
        "\n",
        "$ the descent count\n",
        "find descentCount : int(0..length)\n",
        "such that\n",
        "    descentCount =\n",
        "        sum([ 1\n",
        "            | i : int(1..length-1)\n",
        "            , perm(i) > perm(i+1)\n",
        "            ])\n"
      ],
      "metadata": {
        "colab": {
          "base_uri": "https://localhost:8080/",
          "height": 52
        },
        "id": "IMUWLH9YHT_m",
        "outputId": "445b2c21-ab0e-473e-9d10-e041d028086c"
      },
      "execution_count": null,
      "outputs": [
        {
          "output_type": "display_data",
          "data": {
            "text/plain": [
              "<IPython.core.display.Markdown object>"
            ],
            "text/markdown": "```json\n{\"conjure_solutions\": [{\"descentCount\": 0, \"perm\": [1, 2, 3, 4]}, {\"descentCount\": 1, \"perm\": [1, 2, 4, 3]}, {\"descentCount\": 1, \"perm\": [1, 3, 2, 4]}, {\"descentCount\": 1, \"perm\": [1, 3, 4, 2]}, {\"descentCount\": 1, \"perm\": [1, 4, 2, 3]}, {\"descentCount\": 2, \"perm\": [1, 4, 3, 2]}, {\"descentCount\": 1, \"perm\": [2, 1, 3, 4]}, {\"descentCount\": 2, \"perm\": [2, 1, 4, 3]}, {\"descentCount\": 1, \"perm\": [2, 3, 1, 4]}, {\"descentCount\": 1, \"perm\": [2, 3, 4, 1]}, {\"descentCount\": 1, \"perm\": [2, 4, 1, 3]}, {\"descentCount\": 2, \"perm\": [2, 4, 3, 1]}, {\"descentCount\": 1, \"perm\": [3, 1, 2, 4]}, {\"descentCount\": 2, \"perm\": [3, 1, 4, 2]}, {\"descentCount\": 2, \"perm\": [3, 2, 1, 4]}, {\"descentCount\": 2, \"perm\": [3, 2, 4, 1]}, {\"descentCount\": 1, \"perm\": [3, 4, 1, 2]}, {\"descentCount\": 2, \"perm\": [3, 4, 2, 1]}, {\"descentCount\": 1, \"perm\": [4, 1, 2, 3]}, {\"descentCount\": 2, \"perm\": [4, 1, 3, 2]}, {\"descentCount\": 2, \"perm\": [4, 2, 1, 3]}, {\"descentCount\": 2, \"perm\": [4, 2, 3, 1]}, {\"descentCount\": 2, \"perm\": [4, 3, 1, 2]}, {\"descentCount\": 3, \"perm\": [4, 3, 2, 1]}]}\n```"
          },
          "metadata": {}
        }
      ]
    },
    {
      "cell_type": "code",
      "source": [
        "for p in conjure_solutions:\n",
        "  print(p[\"descentCount\"])"
      ],
      "metadata": {
        "colab": {
          "base_uri": "https://localhost:8080/"
        },
        "id": "805tjb3ZYqtp",
        "outputId": "28711baa-6f2c-4d79-dc2a-16b2ba2048dc"
      },
      "execution_count": null,
      "outputs": [
        {
          "output_type": "stream",
          "name": "stdout",
          "text": [
            "0\n",
            "1\n",
            "1\n",
            "1\n",
            "1\n",
            "2\n",
            "1\n",
            "2\n",
            "1\n",
            "1\n",
            "1\n",
            "2\n",
            "1\n",
            "2\n",
            "2\n",
            "2\n",
            "1\n",
            "2\n",
            "1\n",
            "2\n",
            "2\n",
            "2\n",
            "2\n",
            "3\n"
          ]
        }
      ]
    },
    {
      "cell_type": "markdown",
      "source": [
        "## Number of ascents\n",
        "\n",
        "asc$(\\sigma) = |\\{i : \\sigma(i) < \\sigma(i + 1)\\}|$"
      ],
      "metadata": {
        "id": "-_ltXrLGCk1H"
      }
    },
    {
      "cell_type": "code",
      "source": [
        "%conjure_clear"
      ],
      "metadata": {
        "id": "rfGgXm2EC052",
        "colab": {
          "base_uri": "https://localhost:8080/"
        },
        "outputId": "e7ca9cc7-459c-4fab-8edf-0b4dc165962b"
      },
      "execution_count": null,
      "outputs": [
        {
          "output_type": "stream",
          "name": "stdout",
          "text": [
            "Conjure model cleared\n"
          ]
        }
      ]
    },
    {
      "cell_type": "code",
      "source": [
        "length = 3"
      ],
      "metadata": {
        "id": "4UNsOBxQHjLB"
      },
      "execution_count": null,
      "outputs": []
    },
    {
      "cell_type": "code",
      "source": [
        "%%conjure --number-of-solutions=all --solver=minion\n",
        "\n",
        "given length : int\n",
        "find perm : sequence (size length, injective) of int(1..length)\n",
        "\n",
        "$ the inversion count\n",
        "find ascentCount : int(0..length)\n",
        "such that\n",
        "    ascentCount =\n",
        "        sum([ 1\n",
        "            | i : int(1..length-1)\n",
        "            , perm(i) < perm(i+1)\n",
        "            ])\n"
      ],
      "metadata": {
        "colab": {
          "base_uri": "https://localhost:8080/",
          "height": 52
        },
        "id": "k3Zl5omyHkPR",
        "outputId": "a8062716-dd3a-46f3-fc6c-5fbc86e75631"
      },
      "execution_count": null,
      "outputs": [
        {
          "output_type": "display_data",
          "data": {
            "text/plain": [
              "<IPython.core.display.Markdown object>"
            ],
            "text/markdown": "```json\n{\"conjure_solutions\": [{\"ascentCount\": 2, \"perm\": [1, 2, 3]}, {\"ascentCount\": 1, \"perm\": [1, 3, 2]}, {\"ascentCount\": 1, \"perm\": [2, 1, 3]}, {\"ascentCount\": 1, \"perm\": [2, 3, 1]}, {\"ascentCount\": 1, \"perm\": [3, 1, 2]}, {\"ascentCount\": 0, \"perm\": [3, 2, 1]}]}\n```"
          },
          "metadata": {}
        }
      ]
    },
    {
      "cell_type": "markdown",
      "source": [
        "## Number of excedances\n",
        "\n",
        "exc$(\\sigma) = |\\{i : \\sigma(i) > i\\}|$"
      ],
      "metadata": {
        "id": "LHD79YtHBfcR"
      }
    },
    {
      "cell_type": "code",
      "source": [
        "%conjure_clear"
      ],
      "metadata": {
        "id": "dGVstdLKCiCx",
        "colab": {
          "base_uri": "https://localhost:8080/"
        },
        "outputId": "408ca0d6-57db-4d7e-c7b1-ae827196bd3c"
      },
      "execution_count": null,
      "outputs": [
        {
          "output_type": "stream",
          "name": "stdout",
          "text": [
            "Conjure model cleared\n"
          ]
        }
      ]
    },
    {
      "cell_type": "code",
      "source": [
        "length = 3"
      ],
      "metadata": {
        "id": "6CFbJ2p2In84"
      },
      "execution_count": null,
      "outputs": []
    },
    {
      "cell_type": "code",
      "source": [
        "%%conjure --number-of-solutions=all --solver=minion\n",
        "\n",
        "given length : int\n",
        "find perm : sequence (size length, injective) of int(1..length)\n",
        "\n",
        "$ the inversion count\n",
        "find excedanceCount : int(0..length)\n",
        "such that\n",
        "    excedanceCount =\n",
        "        sum([ 1\n",
        "            | i : int(1..length)\n",
        "            , perm(i) > i\n",
        "            ])\n"
      ],
      "metadata": {
        "colab": {
          "base_uri": "https://localhost:8080/",
          "height": 52
        },
        "id": "Orq6w9KEIpgc",
        "outputId": "620a84ba-2f56-415a-fe88-16103aac2706"
      },
      "execution_count": null,
      "outputs": [
        {
          "output_type": "display_data",
          "data": {
            "text/plain": [
              "<IPython.core.display.Markdown object>"
            ],
            "text/markdown": "```json\n{\"conjure_solutions\": [{\"excedanceCount\": 0, \"perm\": [1, 2, 3]}, {\"excedanceCount\": 1, \"perm\": [1, 3, 2]}, {\"excedanceCount\": 1, \"perm\": [2, 1, 3]}, {\"excedanceCount\": 2, \"perm\": [2, 3, 1]}, {\"excedanceCount\": 1, \"perm\": [3, 1, 2]}, {\"excedanceCount\": 1, \"perm\": [3, 2, 1]}]}\n```"
          },
          "metadata": {}
        }
      ]
    },
    {
      "cell_type": "markdown",
      "source": [
        "## Major Index\n",
        "The sum of the positions of the descents.\n",
        "\n",
        "maj$(\\sigma) = \\sum_{\\sigma(i)>\\sigma(i+1)} i$"
      ],
      "metadata": {
        "id": "CONfhfI-CEZH"
      }
    },
    {
      "cell_type": "code",
      "source": [
        "%conjure_clear"
      ],
      "metadata": {
        "id": "1cHGG810ChOp",
        "colab": {
          "base_uri": "https://localhost:8080/"
        },
        "outputId": "db92890e-7adc-43c2-d145-10d5c21d4d0c"
      },
      "execution_count": null,
      "outputs": [
        {
          "output_type": "stream",
          "name": "stdout",
          "text": [
            "Conjure model cleared\n"
          ]
        }
      ]
    },
    {
      "cell_type": "code",
      "source": [
        "length = 3"
      ],
      "metadata": {
        "id": "0R3_AhacIzR8"
      },
      "execution_count": null,
      "outputs": []
    },
    {
      "cell_type": "code",
      "source": [
        "%%conjure --number-of-solutions=all --solver=minion\n",
        "\n",
        "given length : int\n",
        "find perm : sequence (size length, injective) of int(1..length)\n",
        "\n",
        "$ the inversion count\n",
        "find majorIndex : int(0..length**2)\n",
        "such that\n",
        "    majorIndex =\n",
        "        sum([ i\n",
        "            | i : int(1..length-1)\n",
        "            , perm(i) > perm(i+1)\n",
        "            ])\n"
      ],
      "metadata": {
        "colab": {
          "base_uri": "https://localhost:8080/",
          "height": 364
        },
        "id": "Z23siceTI0mU",
        "outputId": "179828c0-3272-4b19-dedb-1023bbff299a"
      },
      "execution_count": null,
      "outputs": [
        {
          "output_type": "error",
          "ename": "KeyboardInterrupt",
          "evalue": "ignored",
          "traceback": [
            "\u001b[0;31m---------------------------------------------------------------------------\u001b[0m",
            "\u001b[0;31mKeyboardInterrupt\u001b[0m                         Traceback (most recent call last)",
            "\u001b[0;32m<ipython-input-19-8b12990c1ded>\u001b[0m in \u001b[0;36m<cell line: 1>\u001b[0;34m()\u001b[0m\n\u001b[0;32m----> 1\u001b[0;31m \u001b[0mget_ipython\u001b[0m\u001b[0;34m(\u001b[0m\u001b[0;34m)\u001b[0m\u001b[0;34m.\u001b[0m\u001b[0mrun_cell_magic\u001b[0m\u001b[0;34m(\u001b[0m\u001b[0;34m'conjure'\u001b[0m\u001b[0;34m,\u001b[0m \u001b[0;34m'--number-of-solutions=all --solver=minion'\u001b[0m\u001b[0;34m,\u001b[0m \u001b[0;34m'\\ngiven length : int\\nfind perm : sequence (size length, injective) of int(1..length)\\n\\n$ the inversion count\\nfind majorIndex : int(0..length**2)\\nsuch that\\n    majorIndex =\\n        sum([ i\\n            | i : int(1..length-1)\\n            , perm(i) > perm(i+1)\\n            ])\\n'\u001b[0m\u001b[0;34m)\u001b[0m\u001b[0;34m\u001b[0m\u001b[0;34m\u001b[0m\u001b[0m\n\u001b[0m",
            "\u001b[0;32m/usr/local/lib/python3.10/dist-packages/google/colab/_shell.py\u001b[0m in \u001b[0;36mrun_cell_magic\u001b[0;34m(self, magic_name, line, cell)\u001b[0m\n\u001b[1;32m    332\u001b[0m     \u001b[0;32mif\u001b[0m \u001b[0mline\u001b[0m \u001b[0;32mand\u001b[0m \u001b[0;32mnot\u001b[0m \u001b[0mcell\u001b[0m\u001b[0;34m:\u001b[0m\u001b[0;34m\u001b[0m\u001b[0;34m\u001b[0m\u001b[0m\n\u001b[1;32m    333\u001b[0m       \u001b[0mcell\u001b[0m \u001b[0;34m=\u001b[0m \u001b[0;34m' '\u001b[0m\u001b[0;34m\u001b[0m\u001b[0;34m\u001b[0m\u001b[0m\n\u001b[0;32m--> 334\u001b[0;31m     \u001b[0;32mreturn\u001b[0m \u001b[0msuper\u001b[0m\u001b[0;34m(\u001b[0m\u001b[0;34m)\u001b[0m\u001b[0;34m.\u001b[0m\u001b[0mrun_cell_magic\u001b[0m\u001b[0;34m(\u001b[0m\u001b[0mmagic_name\u001b[0m\u001b[0;34m,\u001b[0m \u001b[0mline\u001b[0m\u001b[0;34m,\u001b[0m \u001b[0mcell\u001b[0m\u001b[0;34m)\u001b[0m\u001b[0;34m\u001b[0m\u001b[0;34m\u001b[0m\u001b[0m\n\u001b[0m\u001b[1;32m    335\u001b[0m \u001b[0;34m\u001b[0m\u001b[0m\n\u001b[1;32m    336\u001b[0m \u001b[0;34m\u001b[0m\u001b[0m\n",
            "\u001b[0;32m/usr/local/lib/python3.10/dist-packages/IPython/core/interactiveshell.py\u001b[0m in \u001b[0;36mrun_cell_magic\u001b[0;34m(self, magic_name, line, cell)\u001b[0m\n\u001b[1;32m   2471\u001b[0m             \u001b[0;32mwith\u001b[0m \u001b[0mself\u001b[0m\u001b[0;34m.\u001b[0m\u001b[0mbuiltin_trap\u001b[0m\u001b[0;34m:\u001b[0m\u001b[0;34m\u001b[0m\u001b[0;34m\u001b[0m\u001b[0m\n\u001b[1;32m   2472\u001b[0m                 \u001b[0margs\u001b[0m \u001b[0;34m=\u001b[0m \u001b[0;34m(\u001b[0m\u001b[0mmagic_arg_s\u001b[0m\u001b[0;34m,\u001b[0m \u001b[0mcell\u001b[0m\u001b[0;34m)\u001b[0m\u001b[0;34m\u001b[0m\u001b[0;34m\u001b[0m\u001b[0m\n\u001b[0;32m-> 2473\u001b[0;31m                 \u001b[0mresult\u001b[0m \u001b[0;34m=\u001b[0m \u001b[0mfn\u001b[0m\u001b[0;34m(\u001b[0m\u001b[0;34m*\u001b[0m\u001b[0margs\u001b[0m\u001b[0;34m,\u001b[0m \u001b[0;34m**\u001b[0m\u001b[0mkwargs\u001b[0m\u001b[0;34m)\u001b[0m\u001b[0;34m\u001b[0m\u001b[0;34m\u001b[0m\u001b[0m\n\u001b[0m\u001b[1;32m   2474\u001b[0m             \u001b[0;32mreturn\u001b[0m \u001b[0mresult\u001b[0m\u001b[0;34m\u001b[0m\u001b[0;34m\u001b[0m\u001b[0m\n\u001b[1;32m   2475\u001b[0m \u001b[0;34m\u001b[0m\u001b[0m\n",
            "\u001b[0;32m<decorator-gen-118>\u001b[0m in \u001b[0;36mconjure\u001b[0;34m(self, args, code)\u001b[0m\n",
            "\u001b[0;32m/usr/local/lib/python3.10/dist-packages/IPython/core/magic.py\u001b[0m in \u001b[0;36m<lambda>\u001b[0;34m(f, *a, **k)\u001b[0m\n\u001b[1;32m    185\u001b[0m     \u001b[0;31m# but it's overkill for just that one bit of state.\u001b[0m\u001b[0;34m\u001b[0m\u001b[0;34m\u001b[0m\u001b[0m\n\u001b[1;32m    186\u001b[0m     \u001b[0;32mdef\u001b[0m \u001b[0mmagic_deco\u001b[0m\u001b[0;34m(\u001b[0m\u001b[0marg\u001b[0m\u001b[0;34m)\u001b[0m\u001b[0;34m:\u001b[0m\u001b[0;34m\u001b[0m\u001b[0;34m\u001b[0m\u001b[0m\n\u001b[0;32m--> 187\u001b[0;31m         \u001b[0mcall\u001b[0m \u001b[0;34m=\u001b[0m \u001b[0;32mlambda\u001b[0m \u001b[0mf\u001b[0m\u001b[0;34m,\u001b[0m \u001b[0;34m*\u001b[0m\u001b[0ma\u001b[0m\u001b[0;34m,\u001b[0m \u001b[0;34m**\u001b[0m\u001b[0mk\u001b[0m\u001b[0;34m:\u001b[0m \u001b[0mf\u001b[0m\u001b[0;34m(\u001b[0m\u001b[0;34m*\u001b[0m\u001b[0ma\u001b[0m\u001b[0;34m,\u001b[0m \u001b[0;34m**\u001b[0m\u001b[0mk\u001b[0m\u001b[0;34m)\u001b[0m\u001b[0;34m\u001b[0m\u001b[0;34m\u001b[0m\u001b[0m\n\u001b[0m\u001b[1;32m    188\u001b[0m \u001b[0;34m\u001b[0m\u001b[0m\n\u001b[1;32m    189\u001b[0m         \u001b[0;32mif\u001b[0m \u001b[0mcallable\u001b[0m\u001b[0;34m(\u001b[0m\u001b[0marg\u001b[0m\u001b[0;34m)\u001b[0m\u001b[0;34m:\u001b[0m\u001b[0;34m\u001b[0m\u001b[0;34m\u001b[0m\u001b[0m\n",
            "\u001b[0;32m/usr/local/lib/python3.10/dist-packages/conjure/conjuremagics.py\u001b[0m in \u001b[0;36mconjure\u001b[0;34m(self, args, code)\u001b[0m\n\u001b[1;32m     57\u001b[0m             \u001b[0;32mif\u001b[0m \u001b[0mcode\u001b[0m \u001b[0;32mnot\u001b[0m \u001b[0;32min\u001b[0m \u001b[0mself\u001b[0m\u001b[0;34m.\u001b[0m\u001b[0mconjure_models\u001b[0m\u001b[0;34m:\u001b[0m  \u001b[0;31m# we won't add code to models if the code is already there\u001b[0m\u001b[0;34m\u001b[0m\u001b[0;34m\u001b[0m\u001b[0m\n\u001b[1;32m     58\u001b[0m                 \u001b[0mself\u001b[0m\u001b[0;34m.\u001b[0m\u001b[0mconjure_models\u001b[0m\u001b[0;34m.\u001b[0m\u001b[0mappend\u001b[0m\u001b[0;34m(\u001b[0m\u001b[0mcode\u001b[0m\u001b[0;34m)\u001b[0m\u001b[0;34m\u001b[0m\u001b[0;34m\u001b[0m\u001b[0m\n\u001b[0;32m---> 59\u001b[0;31m             \u001b[0mresultdict\u001b[0m\u001b[0;34m,\u001b[0m \u001b[0minfodict\u001b[0m \u001b[0;34m=\u001b[0m \u001b[0mconjure\u001b[0m\u001b[0;34m.\u001b[0m\u001b[0msolve\u001b[0m\u001b[0;34m(\u001b[0m\u001b[0margs\u001b[0m\u001b[0;34m,\u001b[0m \u001b[0;34m'\\n'\u001b[0m\u001b[0;34m.\u001b[0m\u001b[0mjoin\u001b[0m\u001b[0;34m(\u001b[0m\u001b[0mself\u001b[0m\u001b[0;34m.\u001b[0m\u001b[0mconjure_models\u001b[0m\u001b[0;34m)\u001b[0m\u001b[0;34m,\u001b[0m \u001b[0mdict\u001b[0m\u001b[0;34m(\u001b[0m\u001b[0mself\u001b[0m\u001b[0;34m.\u001b[0m\u001b[0mshell\u001b[0m\u001b[0;34m.\u001b[0m\u001b[0muser_ns\u001b[0m\u001b[0;34m)\u001b[0m\u001b[0;34m)\u001b[0m\u001b[0;34m\u001b[0m\u001b[0;34m\u001b[0m\u001b[0m\n\u001b[0m\u001b[1;32m     60\u001b[0m \u001b[0;34m\u001b[0m\u001b[0m\n\u001b[1;32m     61\u001b[0m         \u001b[0;32mexcept\u001b[0m \u001b[0mException\u001b[0m \u001b[0;32mas\u001b[0m \u001b[0merr\u001b[0m\u001b[0;34m:\u001b[0m\u001b[0;34m\u001b[0m\u001b[0;34m\u001b[0m\u001b[0m\n",
            "\u001b[0;32m/usr/local/lib/python3.10/dist-packages/conjure/conjure.py\u001b[0m in \u001b[0;36msolve\u001b[0;34m(self, args, code, shell_params)\u001b[0m\n\u001b[1;32m     26\u001b[0m                                  \" --output-format=json --solutions-in-one-file --solver=chuffed \" + args, ], shell=True, stdout=PIPE, stderr=PIPE)\n\u001b[1;32m     27\u001b[0m \u001b[0;34m\u001b[0m\u001b[0m\n\u001b[0;32m---> 28\u001b[0;31m         \u001b[0m_\u001b[0m\u001b[0;34m,\u001b[0m \u001b[0merror\u001b[0m \u001b[0;34m=\u001b[0m \u001b[0mshell_output\u001b[0m\u001b[0;34m.\u001b[0m\u001b[0mcommunicate\u001b[0m\u001b[0;34m(\u001b[0m\u001b[0;34m)\u001b[0m\u001b[0;34m\u001b[0m\u001b[0;34m\u001b[0m\u001b[0m\n\u001b[0m\u001b[1;32m     29\u001b[0m         \u001b[0;32mif\u001b[0m \u001b[0merror\u001b[0m\u001b[0;34m:\u001b[0m\u001b[0;34m\u001b[0m\u001b[0;34m\u001b[0m\u001b[0m\n\u001b[1;32m     30\u001b[0m             \u001b[0;32mraise\u001b[0m \u001b[0mException\u001b[0m\u001b[0;34m(\u001b[0m\u001b[0merror\u001b[0m\u001b[0;34m.\u001b[0m\u001b[0mdecode\u001b[0m\u001b[0;34m(\u001b[0m\u001b[0;34m'utf-8'\u001b[0m\u001b[0;34m)\u001b[0m\u001b[0;34m)\u001b[0m\u001b[0;34m\u001b[0m\u001b[0;34m\u001b[0m\u001b[0m\n",
            "\u001b[0;32m/usr/lib/python3.10/subprocess.py\u001b[0m in \u001b[0;36mcommunicate\u001b[0;34m(self, input, timeout)\u001b[0m\n\u001b[1;32m   1152\u001b[0m \u001b[0;34m\u001b[0m\u001b[0m\n\u001b[1;32m   1153\u001b[0m             \u001b[0;32mtry\u001b[0m\u001b[0;34m:\u001b[0m\u001b[0;34m\u001b[0m\u001b[0;34m\u001b[0m\u001b[0m\n\u001b[0;32m-> 1154\u001b[0;31m                 \u001b[0mstdout\u001b[0m\u001b[0;34m,\u001b[0m \u001b[0mstderr\u001b[0m \u001b[0;34m=\u001b[0m \u001b[0mself\u001b[0m\u001b[0;34m.\u001b[0m\u001b[0m_communicate\u001b[0m\u001b[0;34m(\u001b[0m\u001b[0minput\u001b[0m\u001b[0;34m,\u001b[0m \u001b[0mendtime\u001b[0m\u001b[0;34m,\u001b[0m \u001b[0mtimeout\u001b[0m\u001b[0;34m)\u001b[0m\u001b[0;34m\u001b[0m\u001b[0;34m\u001b[0m\u001b[0m\n\u001b[0m\u001b[1;32m   1155\u001b[0m             \u001b[0;32mexcept\u001b[0m \u001b[0mKeyboardInterrupt\u001b[0m\u001b[0;34m:\u001b[0m\u001b[0;34m\u001b[0m\u001b[0;34m\u001b[0m\u001b[0m\n\u001b[1;32m   1156\u001b[0m                 \u001b[0;31m# https://bugs.python.org/issue25942\u001b[0m\u001b[0;34m\u001b[0m\u001b[0;34m\u001b[0m\u001b[0m\n",
            "\u001b[0;32m/usr/lib/python3.10/subprocess.py\u001b[0m in \u001b[0;36m_communicate\u001b[0;34m(self, input, endtime, orig_timeout)\u001b[0m\n\u001b[1;32m   2019\u001b[0m                             'failed to raise TimeoutExpired.')\n\u001b[1;32m   2020\u001b[0m \u001b[0;34m\u001b[0m\u001b[0m\n\u001b[0;32m-> 2021\u001b[0;31m                     \u001b[0mready\u001b[0m \u001b[0;34m=\u001b[0m \u001b[0mselector\u001b[0m\u001b[0;34m.\u001b[0m\u001b[0mselect\u001b[0m\u001b[0;34m(\u001b[0m\u001b[0mtimeout\u001b[0m\u001b[0;34m)\u001b[0m\u001b[0;34m\u001b[0m\u001b[0;34m\u001b[0m\u001b[0m\n\u001b[0m\u001b[1;32m   2022\u001b[0m                     \u001b[0mself\u001b[0m\u001b[0;34m.\u001b[0m\u001b[0m_check_timeout\u001b[0m\u001b[0;34m(\u001b[0m\u001b[0mendtime\u001b[0m\u001b[0;34m,\u001b[0m \u001b[0morig_timeout\u001b[0m\u001b[0;34m,\u001b[0m \u001b[0mstdout\u001b[0m\u001b[0;34m,\u001b[0m \u001b[0mstderr\u001b[0m\u001b[0;34m)\u001b[0m\u001b[0;34m\u001b[0m\u001b[0;34m\u001b[0m\u001b[0m\n\u001b[1;32m   2023\u001b[0m \u001b[0;34m\u001b[0m\u001b[0m\n",
            "\u001b[0;32m/usr/lib/python3.10/selectors.py\u001b[0m in \u001b[0;36mselect\u001b[0;34m(self, timeout)\u001b[0m\n\u001b[1;32m    414\u001b[0m         \u001b[0mready\u001b[0m \u001b[0;34m=\u001b[0m \u001b[0;34m[\u001b[0m\u001b[0;34m]\u001b[0m\u001b[0;34m\u001b[0m\u001b[0;34m\u001b[0m\u001b[0m\n\u001b[1;32m    415\u001b[0m         \u001b[0;32mtry\u001b[0m\u001b[0;34m:\u001b[0m\u001b[0;34m\u001b[0m\u001b[0;34m\u001b[0m\u001b[0m\n\u001b[0;32m--> 416\u001b[0;31m             \u001b[0mfd_event_list\u001b[0m \u001b[0;34m=\u001b[0m \u001b[0mself\u001b[0m\u001b[0;34m.\u001b[0m\u001b[0m_selector\u001b[0m\u001b[0;34m.\u001b[0m\u001b[0mpoll\u001b[0m\u001b[0;34m(\u001b[0m\u001b[0mtimeout\u001b[0m\u001b[0;34m)\u001b[0m\u001b[0;34m\u001b[0m\u001b[0;34m\u001b[0m\u001b[0m\n\u001b[0m\u001b[1;32m    417\u001b[0m         \u001b[0;32mexcept\u001b[0m \u001b[0mInterruptedError\u001b[0m\u001b[0;34m:\u001b[0m\u001b[0;34m\u001b[0m\u001b[0;34m\u001b[0m\u001b[0m\n\u001b[1;32m    418\u001b[0m             \u001b[0;32mreturn\u001b[0m \u001b[0mready\u001b[0m\u001b[0;34m\u001b[0m\u001b[0;34m\u001b[0m\u001b[0m\n",
            "\u001b[0;31mKeyboardInterrupt\u001b[0m: "
          ]
        }
      ]
    },
    {
      "cell_type": "markdown",
      "source": [
        "# Examples"
      ],
      "metadata": {
        "id": "wo6stFotFCyo"
      }
    },
    {
      "cell_type": "markdown",
      "source": [
        "Avoids $1324$ and $(213,(0,0),(0,1),(1,0),(1,0))$\n",
        "\n",
        "Contains $132$ and $(123,(1,2),(2,1),(1,3),(3,1))$\n",
        "\n",
        "Is minus-decomposable and an involution"
      ],
      "metadata": {
        "id": "RVO_VV20FPIR"
      }
    },
    {
      "cell_type": "code",
      "source": [
        "%conjure_clear\n"
      ],
      "metadata": {
        "colab": {
          "base_uri": "https://localhost:8080/"
        },
        "id": "uTS5p2gpFHEV",
        "outputId": "ebb09506-31a0-4fe4-ff40-0af2b2c2e6e9"
      },
      "execution_count": null,
      "outputs": [
        {
          "output_type": "stream",
          "name": "stdout",
          "text": [
            "Conjure model cleared\n"
          ]
        }
      ]
    },
    {
      "cell_type": "code",
      "source": [
        "length = 7\n",
        "classic_avoidance = [[1,3,2,4]]\n",
        "mesh_avoidance = [ [ [2,1,3]\n",
        "                      , [ [0,0]\n",
        "                         ,[0,1]\n",
        "                         ,[1,0]\n",
        "                         ,[1,1]\n",
        "                        ]\n",
        "                      ]\n",
        "                    ]\n",
        "\n",
        "classic_containment = [[1,3,2]]\n",
        "mesh_containment = [ [ [1,2,3]\n",
        "                      , [ [1,2]\n",
        "                         ,[2,1]\n",
        "                         ,[1,3]\n",
        "                         ,[3,1]\n",
        "                        ]\n",
        "                      ]\n",
        "                    ]"
      ],
      "metadata": {
        "id": "itEBMG_fFSvS"
      },
      "execution_count": null,
      "outputs": []
    },
    {
      "cell_type": "code",
      "source": [
        "%%conjure --number-of-solutions=all --solver=minion\n",
        "\n",
        "given length : int\n",
        "given classic_containment : set of sequence of int\n",
        "given mesh_containment : set of (sequence(injective) of int, relation of (int * int))\n",
        "\n",
        "given classic_avoidance : set of sequence of int\n",
        "given mesh_avoidance : set of (sequence(injective) of int, relation of (int * int))\n",
        "\n",
        "find perm : sequence (size length, injective) of int(1..length)\n",
        "\n",
        "$ Classic containment\n",
        "such that\n",
        "    forAll pattern in classic_containment .\n",
        "         (exists ix : matrix indexed by [int(1..|pattern|)] of int(1..length) .\n",
        "            (forAll i,j : int(1..|pattern|) . i < j -> ix[i] < ix[j]) /\\\n",
        "            (forAll n1, n2 : int(1..|pattern|) , n1 < n2 .\n",
        "                pattern(n1) < pattern(n2) <-> perm(ix[n1]) < perm(ix[n2])))\n",
        "\n",
        "$ Mesh Setup\n",
        "find permPadded : matrix indexed by [int(0..length+1)] of int(0..length+1)\n",
        "such that permPadded[0] = 0, permPadded[length+1] = length+1\n",
        "such that forAll i : int(1..length) . perm(i) = permPadded[i]\n",
        "\n",
        "$ Mesh Containment\n",
        "such that\n",
        "    $ pattern is the pattern, mesh is the mesh as a relation\n",
        "    forAll (pattern, mesh) in mesh_containment .\n",
        "    $ Build the inverse of 'pattern'. This is completely evaluated before solving.\n",
        "    exists patterninv: matrix indexed by [int(0..|pattern|+1)] of int(0..|pattern|+1),\n",
        "                patterninv[0] = 0 /\\ patterninv[|pattern|+1] = |pattern|+1 /\\\n",
        "                (forAll i: int(1..|pattern|) . patterninv[pattern(i)] = i).\n",
        "        $ Look for all places where the pattern can occur\n",
        "        exists ix : matrix indexed by [int(0..|pattern|+1)] of int(0..length+1),\n",
        "            and([ ix[0]=0\n",
        "                , ix[|pattern|+1]=length+1\n",
        "                , forAll i : int(0..|pattern|) . ix[i] < ix[i+1]\n",
        "                , forAll n1, n2 : int(1..|pattern|) , n1 < n2 .\n",
        "                    pattern(n1) < pattern(n2) <-> permPadded[ix[n1]] < permPadded[ix[n2]]\n",
        "                ]) .\n",
        "            !(\n",
        "                $ If we find the pattern, make sure there is at least one value in some cell of the mesh\n",
        "                exists (i,j) in mesh.\n",
        "                    exists z: int(ix[i]+1..ix[i+1]-1). (permPadded[ix[patterninv[j]]] <= permPadded[z] /\\ permPadded[z] <= permPadded[ix[patterninv[j+1]]])\n",
        "            )\n",
        "\n",
        "$ Classic Avoidance\n",
        "such that\n",
        "    forAll pattern in classic_avoidance .\n",
        "        !(exists ix : matrix indexed by [int(1..|pattern|)] of int(1..length) .\n",
        "            (forAll i,j : int(1..|pattern|) . i < j -> ix[i] < ix[j]) /\\\n",
        "            (forAll n1, n2 : int(1..|pattern|) , n1 < n2 .\n",
        "                pattern(n1) < pattern(n2) <-> perm(ix[n1]) < perm(ix[n2])))\n",
        "\n",
        "$$ Mesh Avoidance\n",
        "such that\n",
        "    $ pattern is the pattern, mesh is the mesh as a relation\n",
        "    forAll (pattern, mesh) in mesh_avoidance .\n",
        "    $ Build the inverse of 'pattern'. This is completely evaluated before solving.\n",
        "    exists patterninv: matrix indexed by [int(0..|pattern|+1)] of int(0..|pattern|+1),\n",
        "                patterninv[0] = 0 /\\ patterninv[|pattern|+1] = |pattern|+1 /\\\n",
        "                (forAll i: int(1..|pattern|) . patterninv[pattern(i)] = i).\n",
        "        $ Look for all places where the pattern can occur\n",
        "        forAll ix : matrix indexed by [int(0..|pattern|+1)] of int(0..length+1),\n",
        "            and([ ix[0]=0\n",
        "                , ix[|pattern|+1]=length+1\n",
        "                , forAll i : int(0..|pattern|) . ix[i] < ix[i+1]\n",
        "                , forAll n1, n2 : int(1..|pattern|) , n1 < n2 .\n",
        "                    pattern(n1) < pattern(n2) <-> permPadded[ix[n1]] < permPadded[ix[n2]]\n",
        "                ]) .\n",
        "            (\n",
        "                $ If we find the pattern, make sure there is at least one value in some cell of the mesh\n",
        "                exists (i,j) in mesh.\n",
        "                    exists z: int(ix[i]+1..ix[i+1]-1). (permPadded[ix[patterninv[j]]] <= permPadded[z] /\\ permPadded[z] <= permPadded[ix[patterninv[j+1]]])\n",
        "            )\n",
        "$ perm is minus-decomposable\n",
        "such that\n",
        "    exists sep : int(1..length-1) .\n",
        "        min([ perm(i) | i : int(1..sep) ]) > max([ perm(i) | i : int(sep+1..length) ])\n",
        "\n",
        "$ perm is an involution\n",
        "$ perm * perm = id\n",
        "such that\n",
        "    forAll i : int(1..length) .\n",
        "        perm(perm(i)) = i\n",
        "\n",
        "$ the inversion count\n",
        "find inversionCount : int(0..length**2) $ upper bound is not tight\n",
        "such that\n",
        "    inversionCount =\n",
        "        sum([ 1\n",
        "            | i,j : int(1..length)\n",
        "            , i < j\n",
        "            , perm(i) > perm(j)\n",
        "            ])\n",
        "\n",
        "$ the descent count\n",
        "find descentCount : int(0..length)\n",
        "such that\n",
        "    descentCount =\n",
        "        sum([ 1\n",
        "            | i : int(1..length-1)\n",
        "            , perm(i) > perm(i+1)\n",
        "            ])"
      ],
      "metadata": {
        "colab": {
          "base_uri": "https://localhost:8080/",
          "height": 52
        },
        "id": "lqftPmRoFfwZ",
        "outputId": "b58dd419-1325-4814-895d-fd0fbc343bd8"
      },
      "execution_count": null,
      "outputs": [
        {
          "output_type": "display_data",
          "data": {
            "text/plain": [
              "<IPython.core.display.Markdown object>"
            ],
            "text/markdown": "```json\n{\"conjure_solutions\": [{\"descentCount\": 3, \"inversionCount\": 12, \"perm\": [7, 2, 3, 4, 6, 5, 1], \"permPadded\": {\"0\": 0, \"1\": 7, \"2\": 2, \"3\": 3, \"4\": 4, \"5\": 6, \"6\": 5, \"7\": 1, \"8\": 8}}, {\"descentCount\": 4, \"inversionCount\": 14, \"perm\": [7, 2, 3, 6, 5, 4, 1], \"permPadded\": {\"0\": 0, \"1\": 7, \"2\": 2, \"3\": 3, \"4\": 6, \"5\": 5, \"6\": 4, \"7\": 1, \"8\": 8}}]}\n```"
          },
          "metadata": {}
        }
      ]
    },
    {
      "cell_type": "code",
      "source": [
        "print(len(conjure_solutions))\n",
        "for p in conjure_solutions:\n",
        "  plotPermutation(p[\"perm\"])"
      ],
      "metadata": {
        "colab": {
          "base_uri": "https://localhost:8080/",
          "height": 1000
        },
        "id": "NaOOyD6CFos0",
        "outputId": "25005805-6903-4e94-b7a6-0c5ed7da9ba3"
      },
      "execution_count": null,
      "outputs": [
        {
          "output_type": "stream",
          "name": "stdout",
          "text": [
            "2\n"
          ]
        },
        {
          "output_type": "display_data",
          "data": {
            "text/plain": [
              "<Figure size 700x700 with 1 Axes>"
            ],
            "image/png": "[encoded data removed]"
          },
          "metadata": {}
        },
        {
          "output_type": "display_data",
          "data": {
            "text/plain": [
              "<Figure size 700x700 with 1 Axes>"
            ],
            "image/png": "[encoded data removed]"
          },
          "metadata": {}
        }
      ]
    },
    {
      "cell_type": "code",
      "source": [
        "for sol in conjure_solutions:\n",
        "    perm = sol[\"perm\"]\n",
        "    if perm == [1,3,6,5,4,2]:\n",
        "        print(\"Yes\")"
      ],
      "metadata": {
        "id": "DLN0K3ZBcVhl"
      },
      "execution_count": null,
      "outputs": []
    },
    {
      "cell_type": "markdown",
      "source": [
        "# Coincidence\n",
        "\n",
        " Two patterns $p$ and $q$ are said to be coincident if $Av(p) = Av(q)$."
      ],
      "metadata": {
        "id": "kBcxG0BR7qO9"
      }
    },
    {
      "cell_type": "code",
      "source": [
        "%conjure_clear\n",
        "length = 5\n",
        "mesh_avoidance1 = [ [ [1,2]\n",
        "                      , [ ]\n",
        "                      ]\n",
        "                    ]\n",
        "mesh_avoidance2 = [ [ [2,1]\n",
        "                      ,[ ]\n",
        "                      ]\n",
        "                    ]"
      ],
      "metadata": {
        "id": "tCInd3jdTD8B",
        "colab": {
          "base_uri": "https://localhost:8080/"
        },
        "outputId": "eca213ff-507f-4c39-a9c1-f8b743b5db88"
      },
      "execution_count": null,
      "outputs": [
        {
          "output_type": "stream",
          "name": "stdout",
          "text": [
            "Conjure model cleared\n"
          ]
        }
      ]
    },
    {
      "cell_type": "code",
      "source": [
        "%%conjure --number-of-solutions=all --solver=minion\n",
        "$ This of mesh patterns to avoid\n",
        "given mesh_avoidance1 : set of (sequence(injective) of int, relation of (int * int))\n",
        "given mesh_avoidance2 : set of (sequence(injective) of int, relation of (int * int))\n",
        "\n",
        "\n",
        "$ The permutation we are searching for (1..length is the permutation)\n",
        "given length : int\n",
        "find perm : sequence (size length, injective) of int(1..length)\n",
        "\n",
        "\n",
        "$ creating a padded version of perm, where position 0 contains the value 0 and position length+1 contains the value length+1\n",
        "$ this is only used for mesh avoidance/containment\n",
        "find permPadded : matrix indexed by [int(0..length+1)] of int(0..length+1)\n",
        "such that permPadded[0] = 0, permPadded[length+1] = length+1\n",
        "such that forAll i : int(1..length) . perm(i) = permPadded[i]\n",
        "\n",
        "$ (mesh1 /\\ !mesh2)\n",
        "such that\n",
        "    ((\n",
        "        $ pattern is the pattern, mesh is the mesh as a relation\n",
        "        forAll (pattern, mesh) in mesh_avoidance1 .\n",
        "        $ Build the inverse of 'pattern'. This is completely evaluated before solving.\n",
        "        exists patterninv: matrix indexed by [int(0..|pattern|+1)] of int(0..|pattern|+1),\n",
        "                    patterninv[0] = 0 /\\ patterninv[|pattern|+1] = |pattern|+1 /\\\n",
        "                    (forAll i: int(1..|pattern|) . patterninv[pattern(i)] = i).\n",
        "            $ Look for all places where the pattern can occur\n",
        "            forAll ix : matrix indexed by [int(0..|pattern|+1)] of int(0..length+1),\n",
        "                and([ ix[0]=0\n",
        "                    , ix[|pattern|+1]=length+1\n",
        "                    , forAll i : int(0..|pattern|) . ix[i] < ix[i+1]\n",
        "                    , forAll n1, n2 : int(1..|pattern|) , n1 < n2 .\n",
        "                        pattern(n1) < pattern(n2) <-> permPadded[ix[n1]] < permPadded[ix[n2]]\n",
        "                    ]) .\n",
        "                (\n",
        "                    $ If we find the pattern, make sure there is at least one value in some cell of the mesh\n",
        "                    exists (i,j) in mesh.\n",
        "                        exists z: int(ix[i]+1..ix[i+1]-1). (permPadded[ix[patterninv[j]]] <= permPadded[z] /\\ permPadded[z] <= permPadded[ix[patterninv[j+1]]])\n",
        "                )\n",
        "    ) /\\\n",
        "    !(\n",
        "        $ pattern is the pattern, mesh is the mesh as a relation\n",
        "        forAll (pattern, mesh) in mesh_avoidance2 .\n",
        "        $ Build the inverse of 'pattern'. This is completely evaluated before solving.\n",
        "        exists patterninv: matrix indexed by [int(0..|pattern|+1)] of int(0..|pattern|+1),\n",
        "                    patterninv[0] = 0 /\\ patterninv[|pattern|+1] = |pattern|+1 /\\\n",
        "                    (forAll i: int(1..|pattern|) . patterninv[pattern(i)] = i).\n",
        "            $ Look for all places where the pattern can occur\n",
        "            forAll ix : matrix indexed by [int(0..|pattern|+1)] of int(0..length+1),\n",
        "                and([ ix[0]=0\n",
        "                    , ix[|pattern|+1]=length+1\n",
        "                    , forAll i : int(0..|pattern|) . ix[i] < ix[i+1]\n",
        "                    , forAll n1, n2 : int(1..|pattern|) , n1 < n2 .\n",
        "                        pattern(n1) < pattern(n2) <-> permPadded[ix[n1]] < permPadded[ix[n2]]\n",
        "                    ]) .\n",
        "                (\n",
        "                    $ If we find the pattern, make sure there is at least one value in some cell of the mesh\n",
        "                    exists (i,j) in mesh.\n",
        "                        exists z: int(ix[i]+1..ix[i+1]-1). (permPadded[ix[patterninv[j]]] <= permPadded[z] /\\ permPadded[z] <= permPadded[ix[patterninv[j+1]]])\n",
        "                )\n",
        "    ))\n",
        "$ (!mesh1 /\\ mesh2)\n",
        "/\\\n",
        "    (!(\n",
        "        $ pattern is the pattern, mesh is the mesh as a relation\n",
        "        forAll (pattern, mesh) in mesh_avoidance1 .\n",
        "        $ Build the inverse of 'pattern'. This is completely evaluated before solving.\n",
        "        exists patterninv: matrix indexed by [int(0..|pattern|+1)] of int(0..|pattern|+1),\n",
        "                    patterninv[0] = 0 /\\ patterninv[|pattern|+1] = |pattern|+1 /\\\n",
        "                    (forAll i: int(1..|pattern|) . patterninv[pattern(i)] = i).\n",
        "            $ Look for all places where the pattern can occur\n",
        "            forAll ix : matrix indexed by [int(0..|pattern|+1)] of int(0..length+1),\n",
        "                and([ ix[0]=0\n",
        "                    , ix[|pattern|+1]=length+1\n",
        "                    , forAll i : int(0..|pattern|) . ix[i] < ix[i+1]\n",
        "                    , forAll n1, n2 : int(1..|pattern|) , n1 < n2 .\n",
        "                        pattern(n1) < pattern(n2) <-> permPadded[ix[n1]] < permPadded[ix[n2]]\n",
        "                    ]) .\n",
        "                (\n",
        "                    $ If we find the pattern, make sure there is at least one value in some cell of the mesh\n",
        "                    exists (i,j) in mesh.\n",
        "                        exists z: int(ix[i]+1..ix[i+1]-1). (permPadded[ix[patterninv[j]]] <= permPadded[z] /\\ permPadded[z] <= permPadded[ix[patterninv[j+1]]])\n",
        "                )\n",
        "    ) /\\\n",
        "    (\n",
        "        $ pattern is the pattern, mesh is the mesh as a relation\n",
        "        forAll (pattern, mesh) in mesh_avoidance2 .\n",
        "        $ Build the inverse of 'pattern'. This is completely evaluated before solving.\n",
        "        exists patterninv: matrix indexed by [int(0..|pattern|+1)] of int(0..|pattern|+1),\n",
        "                    patterninv[0] = 0 /\\ patterninv[|pattern|+1] = |pattern|+1 /\\\n",
        "                    (forAll i: int(1..|pattern|) . patterninv[pattern(i)] = i).\n",
        "            $ Look for all places where the pattern can occur\n",
        "            forAll ix : matrix indexed by [int(0..|pattern|+1)] of int(0..length+1),\n",
        "                and([ ix[0]=0\n",
        "                    , ix[|pattern|+1]=length+1\n",
        "                    , forAll i : int(0..|pattern|) . ix[i] < ix[i+1]\n",
        "                    , forAll n1, n2 : int(1..|pattern|) , n1 < n2 .\n",
        "                        pattern(n1) < pattern(n2) <-> permPadded[ix[n1]] < permPadded[ix[n2]]\n",
        "                    ]) .\n",
        "                (\n",
        "                    $ If we find the pattern, make sure there is at least one value in some cell of the mesh\n",
        "                    exists (i,j) in mesh.\n",
        "                        exists z: int(ix[i]+1..ix[i+1]-1). (permPadded[ix[patterninv[j]]] <= permPadded[z] /\\ permPadded[z] <= permPadded[ix[patterninv[j+1]]])\n",
        "                )\n",
        "    ))\n"
      ],
      "metadata": {
        "colab": {
          "base_uri": "https://localhost:8080/",
          "height": 52
        },
        "id": "IpMHW5WV8ONZ",
        "outputId": "e0f0198f-208d-441c-b9c4-2078738fda7b"
      },
      "execution_count": null,
      "outputs": [
        {
          "output_type": "display_data",
          "data": {
            "text/plain": [
              "<IPython.core.display.Markdown object>"
            ],
            "text/markdown": "```json\n{\"conjure_solutions\": [{\"perm\": [1, 2, 3, 4, 5], \"permPadded\": {\"0\": 0, \"1\": 1, \"2\": 2, \"3\": 3, \"4\": 4, \"5\": 5, \"6\": 6}}, {\"perm\": [5, 4, 3, 2, 1], \"permPadded\": {\"0\": 0, \"1\": 5, \"2\": 4, \"3\": 3, \"4\": 2, \"5\": 1, \"6\": 6}}]}\n```"
          },
          "metadata": {}
        }
      ]
    }
  ]
}