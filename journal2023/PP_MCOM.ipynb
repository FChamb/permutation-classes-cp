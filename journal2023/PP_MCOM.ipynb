{
  "nbformat": 4,
  "nbformat_minor": 0,
  "metadata": {
    "colab": {
      "provenance": [],
      "toc_visible": true,
      "collapsed_sections": [
        "PLmx5RRykoF-",
        "6KpQ1ckCkXys",
        "Akl57P0y36Z6",
        "ojMSDnR-l1jE",
        "8uD9dwcgtTvN",
        "GHrEzPxptoQN",
        "pkGRapgMvBgp",
        "InajRqWSwU23",
        "IU99JGdy5dUD",
        "0waCWasT6LHm",
        "ZqLAZ_7a6ZZc",
        "3MRVyGZU6xKe"
      ],
      "include_colab_link": true
    },
    "kernelspec": {
      "name": "python3",
      "display_name": "Python 3"
    },
    "language_info": {
      "name": "python"
    }
  },
  "cells": [
    {
      "cell_type": "markdown",
      "metadata": {
        "id": "view-in-github",
        "colab_type": "text"
      },
      "source": [
        "<a href=\"https://colab.research.google.com/github/stacs-cp/permutation-classes-cp/blob/main/journal2023/PP_MCOM.ipynb\" target=\"_parent\"><img src=\"https://colab.research.google.com/assets/colab-badge.svg\" alt=\"Open In Colab\"/></a>"
      ]
    },
    {
      "cell_type": "code",
      "execution_count": null,
      "metadata": {
        "colab": {
          "base_uri": "https://localhost:8080/",
          "height": 127
        },
        "id": "gFgMjnoSiaZC",
        "outputId": "4b8e3fdf-38c0-4c9f-fa71-82ed5ec69b14"
      },
      "outputs": [
        {
          "output_type": "stream",
          "name": "stdout",
          "text": [
            "Installing Conjure...\n",
            "Conjure: The Automated Constraint Modelling Tool\n",
            "Release version 2.4.0\n",
            "Repository version a7382e3d9 (2022-11-21 10:41:03 +0000)\n"
          ]
        },
        {
          "output_type": "display_data",
          "data": {
            "text/plain": [
              "<IPython.core.display.Javascript object>"
            ],
            "application/javascript": [
              "\"use strict\";\n",
              "\n",
              "CodeMirror.defineMode(\"text/conjure\", function (config) {\n",
              "\n",
              "    var isOperatorChar = /[+\\-*=<>%^\\/]/;\n",
              "\n",
              "    var keywords = {\n",
              "        \"forall\": true,\n",
              "        \"allDifferent\": true,\n",
              "        \"allDiff\": true,\n",
              "        \"alldifferent_except\": true,\n",
              "        \"dim\": true,\n",
              "        \"toSet\": true,\n",
              "        \"toMSet\": true,\n",
              "        \"toRelation\": true,\n",
              "        \"maximising\": true,\n",
              "        \"minimising\": true,\n",
              "        \"forAll\": true,\n",
              "        \"exists\": true,\n",
              "        \"toInt\": true,\n",
              "        \"sum\": true,\n",
              "        \"be\": true,\n",
              "        \"bijective\": true,\n",
              "        \"bool\": true,\n",
              "        \"by\": true,\n",
              "        \"complete\": true,\n",
              "        \"defined\": true,\n",
              "        \"domain\": true,\n",
              "        \"in\": true,\n",
              "        \"or\": true,\n",
              "        \"and\": true,\n",
              "        \"false\": true,\n",
              "        \"find\": true,\n",
              "        \"from\": true,\n",
              "        \"function\": true,\n",
              "        \"given\": true,\n",
              "        \"image\": true,\n",
              "        \"indexed\": true,\n",
              "        \"injective\": true,\n",
              "        \"int\": true,\n",
              "        \"intersect\": true,\n",
              "        \"freq\": true,\n",
              "        \"lambda\": true,\n",
              "        \"language\": true,\n",
              "        \"letting\": true,\n",
              "        \"matrix\": true,\n",
              "        \"maxNumParts\": true,\n",
              "        \"maxOccur\": true,\n",
              "        \"maxPartSize\": true,\n",
              "        \"maxSize\": true,\n",
              "        \"minNumParts\": true,\n",
              "        \"minOccur\": true,\n",
              "        \"minPartSize\": true,\n",
              "        \"minSize\": true,\n",
              "        \"mset\": true,\n",
              "        \"numParts\": true,\n",
              "        \"of\": true,\n",
              "        \"partial\": true,\n",
              "        \"partition\": true,\n",
              "        \"partSize\": true,\n",
              "        \"preImage\": true,\n",
              "        \"quantifier\": true,\n",
              "        \"range\": true,\n",
              "        \"regular\": true,\n",
              "        \"relation\": true,\n",
              "        \"representation\": true,\n",
              "        \"set\": true,\n",
              "        \"size\": true,\n",
              "        \"subset\": true,\n",
              "        \"subsetEq\": true,\n",
              "        \"such\": true,\n",
              "        \"supset\": true,\n",
              "        \"supsetEq\": true,\n",
              "        \"surjective\": true,\n",
              "        \"that\": true,\n",
              "        \"together\": true,\n",
              "        \"enum\": true,\n",
              "        \"total\": true,\n",
              "        \"true\": true,\n",
              "        \"new\": true,\n",
              "        \"type\": true,\n",
              "        \"tuple\": true,\n",
              "        \"union\": true,\n",
              "        \"where\": true,\n",
              "        \"branching\": true,\n",
              "        \"on\": true\n",
              "    };  \n",
              "    var punc = \":;,.(){}[]\";\n",
              "\n",
              "    function tokenBase(stream, state) {\n",
              "        var ch = stream.next();\n",
              "        if (ch == '\"') {\n",
              "            state.tokenize.push(tokenString);\n",
              "            return tokenString(stream, state);\n",
              "        }\n",
              "        if (/[\\d\\.]/.test(ch)) {\n",
              "            if (ch == \".\") {\n",
              "                stream.match(/^[0-9]+([eE][\\-+]?[0-9]+)?/);\n",
              "            } else if (ch == \"0\") {\n",
              "                stream.match(/^[xX][0-9a-fA-F]+/) || stream.match(/^0[0-7]+/);\n",
              "            } else {\n",
              "                stream.match(/^[0-9]*\\.?[0-9]*([eE][\\-+]?[0-9]+)?/);\n",
              "            }\n",
              "            return \"number\";\n",
              "        }\n",
              "        if (ch == \"/\") {\n",
              "            if (stream.eat(\"*\")) {\n",
              "                state.tokenize.push(tokenComment);\n",
              "                return tokenComment(stream, state);\n",
              "            }\n",
              "        }\n",
              "        if (ch == \"$\") {\n",
              "            stream.skipToEnd();\n",
              "            return \"comment\";\n",
              "        }\n",
              "        if (isOperatorChar.test(ch)) {\n",
              "            stream.eatWhile(isOperatorChar);\n",
              "            return \"operator\";\n",
              "        }\n",
              "        if (punc.indexOf(ch) > -1) {\n",
              "            return \"punctuation\";\n",
              "        }\n",
              "        stream.eatWhile(/[\\w\\$_\\xa1-\\uffff]/);\n",
              "        var cur = stream.current();\n",
              "        \n",
              "        if (keywords.propertyIsEnumerable(cur)) {\n",
              "            return \"keyword\";\n",
              "        }\n",
              "        return \"variable\";\n",
              "    }\n",
              "\n",
              "    function tokenComment(stream, state) {\n",
              "        var maybeEnd = false, ch;\n",
              "        while (ch = stream.next()) {\n",
              "            if (ch == \"/\" && maybeEnd) {\n",
              "                state.tokenize.pop();\n",
              "                break;\n",
              "            }\n",
              "            maybeEnd = (ch == \"*\");\n",
              "        }\n",
              "        return \"comment\";\n",
              "    }\n",
              "\n",
              "    function tokenUntilClosingParen() {\n",
              "        var depth = 0;\n",
              "        return function (stream, state, prev) {\n",
              "            var inner = tokenBase(stream, state, prev);\n",
              "            console.log(\"untilClosing\", inner, stream.current());\n",
              "            if (inner == \"punctuation\") {\n",
              "                if (stream.current() == \"(\") {\n",
              "                    ++depth;\n",
              "                } else if (stream.current() == \")\") {\n",
              "                    if (depth == 0) {\n",
              "                        stream.backUp(1)\n",
              "                        state.tokenize.pop()\n",
              "                        return state.tokenize[state.tokenize.length - 1](stream, state)\n",
              "                    } else {\n",
              "                        --depth;\n",
              "                    }\n",
              "                }\n",
              "            }\n",
              "            return inner;\n",
              "        }\n",
              "    }\n",
              "\n",
              "    function tokenString(stream, state) {\n",
              "        var escaped = false, next, end = false;\n",
              "        while ((next = stream.next()) != null) {\n",
              "            if (next == '(' && escaped) {\n",
              "                state.tokenize.push(tokenUntilClosingParen());\n",
              "                return \"string\";\n",
              "            }\n",
              "            if (next == '\"' && !escaped) { end = true; break; }\n",
              "            escaped = !escaped && next == \"\\\\\";\n",
              "        }\n",
              "        if (end || !escaped)\n",
              "            state.tokenize.pop();\n",
              "        return \"string\";\n",
              "    }\n",
              "\n",
              "    return {\n",
              "        startState: function (basecolumn) {\n",
              "            return {\n",
              "                tokenize: []\n",
              "            };\n",
              "        },\n",
              "\n",
              "        token: function (stream, state) {\n",
              "            if (stream.eatSpace()) return null;\n",
              "            var style = (state.tokenize[state.tokenize.length - 1] || tokenBase)(stream, state);\n",
              "            console.log(\"token\", style);\n",
              "            return style;\n",
              "        },\n",
              "\n",
              "        blockCommentStart: \"/*\",\n",
              "        blockCommentEnd: \"*/\",\n",
              "        lineComment: \"$\"\n",
              "    };\n",
              "});\n",
              "\n",
              "\n",
              "CodeMirror.defineMIME(\"text/conjure\", \"text/conjure\");\n",
              "\n",
              "require(['notebook/js/codecell'], function (codecell) {\n",
              "    codecell.CodeCell.options_default.highlight_modes['magic_text/conjure'] = { 'reg': [/%?%conjure/] };\n",
              "    Jupyter.notebook.events.one('kernel_ready.Kernel', function () {\n",
              "        Jupyter.notebook.get_cells().map(function (cell) {\n",
              "            if (cell.cell_type == 'code') { cell.auto_highlight(); }\n",
              "        });\n",
              "    });\n",
              "});\n",
              "\n"
            ]
          },
          "metadata": {}
        },
        {
          "output_type": "stream",
          "name": "stdout",
          "text": [
            "Conjure extension is loaded.\n",
            "For usage help run: %conjure_help\n"
          ]
        }
      ],
      "source": [
        "!source <(curl -s https://raw.githubusercontent.com/conjure-cp/conjure-notebook/main/installcolab.sh)\n",
        "%load_ext conjure"
      ]
    },
    {
      "cell_type": "code",
      "source": [
        "n = 4"
      ],
      "metadata": {
        "id": "c5G6kch0Mx1a"
      },
      "execution_count": null,
      "outputs": []
    },
    {
      "cell_type": "code",
      "source": [
        "%%conjure --number-of-solutions=5\n",
        "\n",
        "given n : int\n",
        "\n",
        "find x : set of int(1..9)\n",
        "\n",
        "such that |x| = n"
      ],
      "metadata": {
        "colab": {
          "base_uri": "https://localhost:8080/"
        },
        "id": "b_SCgB28Msty",
        "outputId": "9a341a7a-c09a-45d2-c6c7-2a4af6e63941"
      },
      "execution_count": null,
      "outputs": [
        {
          "output_type": "execute_result",
          "data": {
            "text/plain": [
              "{'conjure_solutions': [{'x': [5, 7, 8, 9]},\n",
              "  {'x': [5, 6, 7, 8]},\n",
              "  {'x': [6, 7, 8, 9]},\n",
              "  {'x': [5, 6, 8, 9]},\n",
              "  {'x': [5, 6, 7, 9]}]}"
            ]
          },
          "metadata": {},
          "execution_count": 4
        }
      ]
    },
    {
      "cell_type": "markdown",
      "source": [
        "# Pattern types\n",
        "\n",
        "We have 6 pattern types. We will write a unit test for each one.\n",
        "\n",
        "For each pattern type, we will do avoidance and containment.\n",
        "\n",
        "So we will have 12 models here.\n",
        "\n",
        "The following applies to all the upcoming defintions.\n",
        "\n",
        "We will consider a *permutation* to be an arrangement of the set $\\{1, 2, \\ldots , n\\}$ for some $n\\in\\mathbb{N}$. \n",
        "The length of a permutation $\\pi$ is denoted $|\\pi|$, and $S_n$ is used for the set of all permutations of length $n$.\n",
        "We will represent permutations in their sequence notation\n",
        "\n",
        "Two sequences $\\pi = \\pi(1),\\ldots,\\pi(n)$ and $\\sigma = \\sigma(1),\\ldots,\\sigma(n)$ of the same length are said to be *order isomorphic* if $\\forall i, j, \\pi(i) \\leq \\pi (j)$ if and only if $\\sigma(i) \\leq \\sigma(j)$"
      ],
      "metadata": {
        "id": "vqywu9fzlbwr"
      }
    },
    {
      "cell_type": "markdown",
      "source": [
        "## Classic containment\n",
        "\n",
        "We say that a permutation $\\sigma = \\sigma(1)\\ldots\\sigma(n)$ is *classically contained* in a permutation $\\pi = \\pi(1)\\ldots\\pi(m)$, where $n \\leq m$, if there is a subsequence in $\\pi$ that is order isomorphic to $\\sigma$. \n",
        "\n",
        "\n",
        "For example, the permutation $\\sigma=123$ can be found in $\\pi=521634$ as the occurrence $134$ (amongst others)."
      ],
      "metadata": {
        "id": "PLmx5RRykoF-"
      }
    },
    {
      "cell_type": "code",
      "source": [
        "%conjure_clear"
      ],
      "metadata": {
        "colab": {
          "base_uri": "https://localhost:8080/"
        },
        "id": "yXIgpqB7ke6_",
        "outputId": "76bac36c-003b-40ab-ada9-640536636341"
      },
      "execution_count": null,
      "outputs": [
        {
          "output_type": "stream",
          "name": "stdout",
          "text": [
            "Conjure model cleared\n"
          ]
        }
      ]
    },
    {
      "cell_type": "code",
      "source": [
        "length = 3\n",
        "classic_containment = [[1,2]]"
      ],
      "metadata": {
        "id": "UyixmQMNlEm3"
      },
      "execution_count": null,
      "outputs": []
    },
    {
      "cell_type": "code",
      "source": [
        "%%conjure --number-of-solutions=all --solver=minion\n",
        "\n",
        "given length : int\n",
        "given classic_containment : set of sequence of int\n",
        "\n",
        "find perm : sequence (size length, injective) of int(1..length)\n",
        "\n",
        "such that\n",
        "    forAll pattern in classic_containment .\n",
        "         (exists ix : matrix indexed by [int(1..|pattern|)] of int(1..length) .\n",
        "            (forAll i,j : int(1..|pattern|) . i < j -> ix[i] < ix[j]) /\\\n",
        "            (forAll n1, n2 : int(1..|pattern|) , n1 < n2 .\n",
        "                pattern(n1) < pattern(n2) <-> perm(ix[n1]) < perm(ix[n2])))\n"
      ],
      "metadata": {
        "colab": {
          "base_uri": "https://localhost:8080/"
        },
        "id": "860bGbvpkkOQ",
        "outputId": "d75f4362-d05b-4abf-de1a-df6c0af449a6"
      },
      "execution_count": null,
      "outputs": [
        {
          "output_type": "execute_result",
          "data": {
            "text/plain": [
              "{'conjure_solutions': [{'perm': [3, 1, 2]},\n",
              "  {'perm': [1, 3, 2]},\n",
              "  {'perm': [1, 2, 3]},\n",
              "  {'perm': [2, 3, 1]},\n",
              "  {'perm': [2, 1, 3]}]}"
            ]
          },
          "metadata": {},
          "execution_count": 4
        }
      ]
    },
    {
      "cell_type": "markdown",
      "source": [
        "## Classic avoidance\n",
        "\n",
        "We say that a permutation $\\sigma$ is not contained in a permutation $\\pi$, or that $\\pi$ *classically avoids* $\\sigma$ if there is no subsequence in $\\pi$ that is order isomorphic to $\\sigma$.\n",
        "For example, the permutation $\\sigma=123$ is not contained in the permutation $\\pi=654312$."
      ],
      "metadata": {
        "id": "6KpQ1ckCkXys"
      }
    },
    {
      "cell_type": "code",
      "source": [
        "%conjure_clear"
      ],
      "metadata": {
        "colab": {
          "base_uri": "https://localhost:8080/"
        },
        "id": "PTGZ6grqlMpH",
        "outputId": "fe0e49c2-2d6b-48e4-d128-a1da4a1f227f"
      },
      "execution_count": null,
      "outputs": [
        {
          "output_type": "stream",
          "name": "stdout",
          "text": [
            "Conjure model cleared\n"
          ]
        }
      ]
    },
    {
      "cell_type": "code",
      "source": [
        "length = 5\n",
        "classic_avoidance = [[1,2]]"
      ],
      "metadata": {
        "id": "F3Rcz2sdjwQD"
      },
      "execution_count": null,
      "outputs": []
    },
    {
      "cell_type": "code",
      "source": [
        "%%conjure --number-of-solutions=all --solver=minion\n",
        "\n",
        "given length : int\n",
        "given classic_avoidance : set of sequence of int\n",
        "\n",
        "find perm : sequence (size length, injective) of int(1..length)\n",
        "\n",
        "such that\n",
        "    forAll pattern in classic_avoidance .\n",
        "        !(exists ix : matrix indexed by [int(1..|pattern|)] of int(1..length) .\n",
        "            (forAll i,j : int(1..|pattern|) . i < j -> ix[i] < ix[j]) /\\\n",
        "            (forAll n1, n2 : int(1..|pattern|) , n1 < n2 .\n",
        "                pattern(n1) < pattern(n2) <-> perm(ix[n1]) < perm(ix[n2])))\n"
      ],
      "metadata": {
        "colab": {
          "base_uri": "https://localhost:8080/"
        },
        "id": "5mojiOeBjmjc",
        "outputId": "e4ce17be-22a4-4cb5-9b96-ed42c7a67a06"
      },
      "execution_count": null,
      "outputs": [
        {
          "output_type": "execute_result",
          "data": {
            "text/plain": [
              "{'perm': [5, 4, 3, 2, 1]}"
            ]
          },
          "metadata": {},
          "execution_count": 7
        }
      ]
    },
    {
      "cell_type": "markdown",
      "source": [
        "## Vincular containment\n",
        "\n",
        "Let $\\sigma=\\sigma(1) \\ldots \\sigma(n)$ and $\\pi=\\pi(1)\\ldots \\pi(m)$ and let $A \\subseteq \\{1,\\ldots,k-1\\}$. \n",
        "\n",
        "An occurrence of the vincular pattern $(\\sigma, A)$ in $\\pi$ is a subsequence $\\pi(i_1)\\ldots \\pi(i_k)$ of length $n$ of $\\pi$ such that: \n",
        "$\\pi(i_1)\\ldots\\pi(i_n)$ is an occurrence of $\\sigma$ in the classical sense, and $i_{a}=i_{a+1}$, forall $a\\in A$. We call $A$ the set of *adjacencies*, we emphasise these entries in the permutation with an underline.\n",
        "\n",
        "<!-- A vincular pattern is specified by adding bars to an underlying permutation. A bar is between two consecutive entries in the permutation. There can be multiple bars. Bars are allowed to overlap. -->\n",
        "\n",
        "For example, the permutation $\\sigma=\\underline{23}1$, so the vincular pattern is $(231,\\{1\\})$, can be found in $\\pi=513642$ as the sequence $362$, with $3$ and $6$ being adjacent to each other."
      ],
      "metadata": {
        "id": "Akl57P0y36Z6"
      }
    },
    {
      "cell_type": "code",
      "source": [
        "%conjure_clear"
      ],
      "metadata": {
        "colab": {
          "base_uri": "https://localhost:8080/"
        },
        "id": "QljcUunUqopv",
        "outputId": "de78409f-867d-4fdd-cd35-6e61eabebdae"
      },
      "execution_count": null,
      "outputs": [
        {
          "output_type": "stream",
          "name": "stdout",
          "text": [
            "Conjure model cleared\n"
          ]
        }
      ]
    },
    {
      "cell_type": "code",
      "source": [
        "length = 6\n",
        "vincular_containment = [ [ [2,3,1]\n",
        "                         , [1]\n",
        "                         ]\n",
        "                       ]"
      ],
      "metadata": {
        "id": "6oT8SAYFl6-j"
      },
      "execution_count": null,
      "outputs": []
    },
    {
      "cell_type": "code",
      "source": [
        "%%conjure --number-of-solutions=all --solver=minion\n",
        "\n",
        "given length : int\n",
        "given vincular_containment : set of (sequence (injective) of int, set of int)\n",
        "\n",
        "find perm : sequence (size length, injective) of int(1..length)\n",
        "\n",
        "such that\n",
        "    forAll (pattern, bars) in vincular_containment .\n",
        "        exists ix : matrix indexed by [int(1..|pattern|)] of int(1..length)\n",
        "        \n",
        "            , (forAll i,j : int(1..|pattern|) . i < j -> ix[i] < ix[j]) /\\\n",
        "            $ n1 and n2 are indices\n",
        "            (forAll n1, n2 : int(1..|pattern|) , n1 < n2 .\n",
        "                (pattern(n1) < pattern(n2) <-> perm(ix[n1]) < perm(ix[n2]))\n",
        "            )\n",
        "\n",
        "            .\n",
        "\n",
        "            (forAll bar in bars . ix[bar] + 1 = ix[bar+1])\n",
        "\n",
        "            $ for bivincular, we need:\n",
        "            $ /\\\n",
        "            $ (forAll bar in bars . perm(ix[bar]) + 1 = perm(ix[bar+1])\n"
      ],
      "metadata": {
        "colab": {
          "base_uri": "https://localhost:8080/"
        },
        "id": "zbvQ-BVLl8NL",
        "outputId": "2b24fdf9-854f-48a5-8740-cdee0240da30"
      },
      "execution_count": null,
      "outputs": [
        {
          "output_type": "execute_result",
          "data": {
            "text/plain": [
              "{'conjure_solutions': [{'perm': [3, 6, 5, 2, 4, 1]},\n",
              "  {'perm': [2, 6, 4, 5, 1, 3]},\n",
              "  {'perm': [6, 3, 5, 2, 4, 1]},\n",
              "  {'perm': [4, 5, 6, 2, 3, 1]},\n",
              "  {'perm': [4, 3, 6, 5, 2, 1]},\n",
              "  {'perm': [1, 4, 6, 5, 2, 3]},\n",
              "  {'perm': [3, 5, 6, 1, 2, 4]},\n",
              "  {'perm': [4, 6, 3, 1, 5, 2]},\n",
              "  {'perm': [6, 3, 5, 1, 2, 4]},\n",
              "  {'perm': [4, 3, 5, 2, 1, 6]},\n",
              "  {'perm': [6, 2, 5, 1, 3, 4]},\n",
              "  {'perm': [2, 3, 5, 4, 1, 6]},\n",
              "  {'perm': [3, 4, 5, 6, 1, 2]},\n",
              "  {'perm': [5, 3, 6, 2, 4, 1]},\n",
              "  {'perm': [1, 3, 5, 4, 2, 6]},\n",
              "  {'perm': [6, 1, 3, 5, 4, 2]},\n",
              "  {'perm': [3, 6, 2, 4, 1, 5]},\n",
              "  {'perm': [5, 6, 3, 2, 1, 4]},\n",
              "  {'perm': [2, 4, 3, 6, 1, 5]},\n",
              "  {'perm': [4, 5, 3, 6, 1, 2]},\n",
              "  {'perm': [4, 3, 6, 5, 1, 2]},\n",
              "  {'perm': [2, 3, 4, 5, 1, 6]},\n",
              "  {'perm': [5, 1, 3, 4, 6, 2]},\n",
              "  {'perm': [1, 5, 4, 6, 3, 2]},\n",
              "  {'perm': [2, 3, 4, 6, 5, 1]},\n",
              "  {'perm': [2, 3, 6, 4, 5, 1]},\n",
              "  {'perm': [5, 1, 3, 6, 4, 2]},\n",
              "  {'perm': [1, 2, 6, 4, 5, 3]},\n",
              "  {'perm': [6, 2, 5, 3, 1, 4]},\n",
              "  {'perm': [2, 6, 4, 1, 3, 5]},\n",
              "  {'perm': [4, 5, 3, 1, 6, 2]},\n",
              "  {'perm': [2, 6, 3, 4, 5, 1]},\n",
              "  {'perm': [2, 6, 5, 3, 4, 1]},\n",
              "  {'perm': [3, 4, 5, 1, 2, 6]},\n",
              "  {'perm': [1, 4, 5, 6, 3, 2]},\n",
              "  {'perm': [2, 5, 3, 1, 6, 4]},\n",
              "  {'perm': [6, 2, 5, 4, 1, 3]},\n",
              "  {'perm': [5, 4, 6, 2, 1, 3]},\n",
              "  {'perm': [3, 4, 5, 6, 2, 1]},\n",
              "  {'perm': [5, 6, 2, 1, 4, 3]},\n",
              "  {'perm': [2, 5, 6, 4, 1, 3]},\n",
              "  {'perm': [3, 2, 4, 5, 1, 6]},\n",
              "  {'perm': [2, 1, 6, 4, 5, 3]},\n",
              "  {'perm': [2, 4, 3, 1, 6, 5]},\n",
              "  {'perm': [5, 4, 6, 2, 3, 1]},\n",
              "  {'perm': [4, 6, 1, 5, 3, 2]},\n",
              "  {'perm': [2, 4, 6, 1, 5, 3]},\n",
              "  {'perm': [4, 6, 2, 3, 1, 5]},\n",
              "  {'perm': [3, 4, 2, 1, 6, 5]},\n",
              "  {'perm': [3, 5, 4, 6, 1, 2]},\n",
              "  {'perm': [3, 1, 5, 6, 2, 4]},\n",
              "  {'perm': [1, 5, 6, 3, 4, 2]},\n",
              "  {'perm': [5, 2, 6, 3, 1, 4]},\n",
              "  {'perm': [2, 5, 6, 1, 4, 3]},\n",
              "  {'perm': [4, 2, 5, 6, 1, 3]},\n",
              "  {'perm': [1, 3, 2, 5, 6, 4]},\n",
              "  {'perm': [1, 2, 5, 6, 3, 4]},\n",
              "  {'perm': [5, 3, 2, 6, 4, 1]},\n",
              "  {'perm': [5, 2, 3, 4, 1, 6]},\n",
              "  {'perm': [6, 2, 5, 1, 4, 3]},\n",
              "  {'perm': [5, 3, 6, 4, 1, 2]},\n",
              "  {'perm': [1, 4, 6, 3, 5, 2]},\n",
              "  {'perm': [3, 4, 1, 6, 2, 5]},\n",
              "  {'perm': [2, 4, 6, 5, 3, 1]},\n",
              "  {'perm': [3, 4, 1, 2, 6, 5]},\n",
              "  {'perm': [3, 5, 6, 4, 2, 1]},\n",
              "  {'perm': [3, 6, 4, 1, 2, 5]},\n",
              "  {'perm': [5, 6, 3, 1, 4, 2]},\n",
              "  {'perm': [4, 5, 3, 2, 6, 1]},\n",
              "  {'perm': [3, 2, 4, 1, 5, 6]},\n",
              "  {'perm': [2, 4, 1, 6, 3, 5]},\n",
              "  {'perm': [4, 1, 6, 3, 5, 2]},\n",
              "  {'perm': [2, 3, 5, 1, 4, 6]},\n",
              "  {'perm': [6, 4, 5, 3, 2, 1]},\n",
              "  {'perm': [4, 6, 5, 1, 3, 2]},\n",
              "  {'perm': [2, 6, 4, 3, 5, 1]},\n",
              "  {'perm': [1, 6, 4, 5, 3, 2]},\n",
              "  {'perm': [3, 4, 2, 6, 1, 5]},\n",
              "  {'perm': [4, 3, 5, 2, 6, 1]},\n",
              "  {'perm': [6, 5, 4, 2, 3, 1]},\n",
              "  {'perm': [2, 5, 3, 6, 4, 1]},\n",
              "  {'perm': [3, 5, 6, 4, 1, 2]},\n",
              "  {'perm': [1, 3, 6, 2, 5, 4]},\n",
              "  {'perm': [3, 4, 5, 1, 6, 2]},\n",
              "  {'perm': [1, 5, 6, 4, 3, 2]},\n",
              "  {'perm': [1, 5, 6, 2, 3, 4]},\n",
              "  {'perm': [6, 4, 5, 2, 3, 1]},\n",
              "  {'perm': [3, 6, 2, 4, 5, 1]},\n",
              "  {'perm': [6, 3, 2, 5, 1, 4]},\n",
              "  {'perm': [2, 6, 3, 5, 1, 4]},\n",
              "  {'perm': [6, 3, 4, 2, 1, 5]},\n",
              "  {'perm': [4, 2, 5, 3, 6, 1]},\n",
              "  {'perm': [5, 6, 1, 2, 4, 3]},\n",
              "  {'perm': [4, 5, 3, 2, 1, 6]},\n",
              "  {'perm': [3, 2, 6, 5, 1, 4]},\n",
              "  {'perm': [2, 5, 6, 4, 3, 1]},\n",
              "  {'perm': [6, 5, 2, 3, 1, 4]},\n",
              "  {'perm': [5, 6, 4, 3, 1, 2]},\n",
              "  {'perm': [6, 4, 5, 3, 1, 2]},\n",
              "  {'perm': [3, 1, 6, 4, 5, 2]},\n",
              "  {'perm': [6, 4, 2, 3, 1, 5]},\n",
              "  {'perm': [1, 4, 5, 2, 6, 3]},\n",
              "  {'perm': [4, 6, 3, 5, 2, 1]},\n",
              "  {'perm': [3, 6, 5, 1, 2, 4]},\n",
              "  {'perm': [4, 6, 1, 3, 2, 5]},\n",
              "  {'perm': [2, 3, 1, 4, 5, 6]},\n",
              "  {'perm': [4, 5, 1, 2, 6, 3]},\n",
              "  {'perm': [3, 2, 5, 1, 6, 4]},\n",
              "  {'perm': [4, 2, 3, 1, 5, 6]},\n",
              "  {'perm': [2, 4, 6, 1, 3, 5]},\n",
              "  {'perm': [5, 6, 2, 4, 3, 1]},\n",
              "  {'perm': [6, 5, 1, 3, 4, 2]},\n",
              "  {'perm': [2, 5, 4, 6, 1, 3]},\n",
              "  {'perm': [4, 6, 1, 3, 5, 2]},\n",
              "  {'perm': [5, 6, 4, 1, 3, 2]},\n",
              "  {'perm': [1, 3, 5, 6, 2, 4]},\n",
              "  {'perm': [1, 3, 5, 6, 4, 2]},\n",
              "  {'perm': [3, 5, 2, 6, 4, 1]},\n",
              "  {'perm': [1, 4, 3, 5, 2, 6]},\n",
              "  {'perm': [6, 3, 5, 4, 1, 2]},\n",
              "  {'perm': [1, 2, 3, 5, 6, 4]},\n",
              "  {'perm': [4, 6, 1, 2, 3, 5]},\n",
              "  {'perm': [3, 5, 2, 6, 1, 4]},\n",
              "  {'perm': [2, 3, 5, 6, 1, 4]},\n",
              "  {'perm': [1, 3, 5, 2, 6, 4]},\n",
              "  {'perm': [4, 3, 2, 6, 1, 5]},\n",
              "  {'perm': [4, 1, 3, 5, 2, 6]},\n",
              "  {'perm': [4, 2, 1, 5, 6, 3]},\n",
              "  {'perm': [2, 4, 6, 5, 1, 3]},\n",
              "  {'perm': [1, 4, 3, 5, 6, 2]},\n",
              "  {'perm': [3, 6, 4, 2, 1, 5]},\n",
              "  {'perm': [3, 5, 4, 2, 1, 6]},\n",
              "  {'perm': [2, 6, 5, 1, 4, 3]},\n",
              "  {'perm': [1, 5, 3, 4, 2, 6]},\n",
              "  {'perm': [2, 4, 6, 3, 1, 5]},\n",
              "  {'perm': [3, 6, 2, 5, 4, 1]},\n",
              "  {'perm': [2, 4, 1, 6, 5, 3]},\n",
              "  {'perm': [2, 3, 4, 1, 6, 5]},\n",
              "  {'perm': [5, 2, 3, 1, 6, 4]},\n",
              "  {'perm': [2, 6, 4, 3, 1, 5]},\n",
              "  {'perm': [6, 4, 1, 3, 5, 2]},\n",
              "  {'perm': [6, 2, 3, 5, 1, 4]},\n",
              "  {'perm': [2, 3, 1, 6, 4, 5]},\n",
              "  {'perm': [6, 5, 3, 4, 2, 1]},\n",
              "  {'perm': [5, 2, 6, 3, 4, 1]},\n",
              "  {'perm': [2, 6, 5, 4, 1, 3]},\n",
              "  {'perm': [5, 4, 1, 3, 6, 2]},\n",
              "  {'perm': [3, 5, 2, 1, 4, 6]},\n",
              "  {'perm': [5, 3, 6, 1, 4, 2]},\n",
              "  {'perm': [6, 1, 4, 5, 3, 2]},\n",
              "  {'perm': [5, 6, 3, 2, 4, 1]},\n",
              "  {'perm': [5, 2, 3, 4, 6, 1]},\n",
              "  {'perm': [5, 2, 4, 1, 6, 3]},\n",
              "  {'perm': [5, 3, 4, 2, 6, 1]},\n",
              "  {'perm': [1, 3, 4, 6, 2, 5]},\n",
              "  {'perm': [6, 3, 2, 4, 1, 5]},\n",
              "  {'perm': [3, 6, 1, 2, 5, 4]},\n",
              "  {'perm': [2, 3, 5, 1, 6, 4]},\n",
              "  {'perm': [6, 4, 3, 5, 2, 1]},\n",
              "  {'perm': [2, 4, 5, 1, 3, 6]},\n",
              "  {'perm': [4, 5, 2, 1, 6, 3]},\n",
              "  {'perm': [4, 2, 6, 5, 1, 3]},\n",
              "  {'perm': [1, 4, 3, 6, 2, 5]},\n",
              "  {'perm': [2, 5, 4, 6, 3, 1]},\n",
              "  {'perm': [3, 5, 6, 1, 4, 2]},\n",
              "  {'perm': [6, 5, 2, 4, 3, 1]},\n",
              "  {'perm': [3, 2, 6, 4, 5, 1]},\n",
              "  {'perm': [3, 6, 1, 4, 5, 2]},\n",
              "  {'perm': [5, 4, 3, 6, 2, 1]},\n",
              "  {'perm': [6, 2, 3, 5, 4, 1]},\n",
              "  {'perm': [6, 4, 2, 5, 1, 3]},\n",
              "  {'perm': [2, 4, 1, 5, 6, 3]},\n",
              "  {'perm': [3, 1, 4, 5, 2, 6]},\n",
              "  {'perm': [4, 5, 1, 3, 6, 2]},\n",
              "  {'perm': [3, 5, 2, 4, 6, 1]},\n",
              "  {'perm': [2, 5, 4, 3, 6, 1]},\n",
              "  {'perm': [4, 3, 6, 2, 5, 1]},\n",
              "  {'perm': [2, 5, 1, 6, 3, 4]},\n",
              "  {'perm': [2, 6, 5, 1, 3, 4]},\n",
              "  {'perm': [3, 2, 5, 4, 1, 6]},\n",
              "  {'perm': [5, 1, 2, 4, 6, 3]},\n",
              "  {'perm': [1, 3, 6, 5, 4, 2]},\n",
              "  {'perm': [2, 4, 5, 3, 6, 1]},\n",
              "  {'perm': [2, 3, 6, 1, 4, 5]},\n",
              "  {'perm': [3, 6, 4, 2, 5, 1]},\n",
              "  {'perm': [6, 2, 4, 3, 5, 1]},\n",
              "  {'perm': [3, 4, 2, 5, 6, 1]},\n",
              "  {'perm': [6, 3, 4, 5, 2, 1]},\n",
              "  {'perm': [2, 6, 3, 1, 4, 5]},\n",
              "  {'perm': [1, 4, 5, 3, 6, 2]},\n",
              "  {'perm': [3, 5, 2, 4, 1, 6]},\n",
              "  {'perm': [4, 3, 6, 2, 1, 5]},\n",
              "  {'perm': [5, 6, 4, 1, 2, 3]},\n",
              "  {'perm': [5, 1, 4, 6, 3, 2]},\n",
              "  {'perm': [2, 3, 1, 5, 4, 6]},\n",
              "  {'perm': [5, 2, 3, 1, 4, 6]},\n",
              "  {'perm': [5, 4, 2, 3, 6, 1]},\n",
              "  {'perm': [2, 4, 1, 3, 5, 6]},\n",
              "  {'perm': [2, 1, 5, 6, 3, 4]},\n",
              "  {'perm': [3, 4, 1, 6, 5, 2]},\n",
              "  {'perm': [6, 5, 2, 4, 1, 3]},\n",
              "  {'perm': [1, 5, 4, 3, 6, 2]},\n",
              "  {'perm': [3, 6, 4, 5, 2, 1]},\n",
              "  {'perm': [6, 1, 3, 4, 5, 2]},\n",
              "  {'perm': [3, 2, 6, 5, 4, 1]},\n",
              "  {'perm': [1, 3, 4, 5, 2, 6]},\n",
              "  {'perm': [3, 4, 6, 1, 5, 2]},\n",
              "  {'perm': [5, 3, 4, 2, 1, 6]},\n",
              "  {'perm': [4, 5, 1, 6, 3, 2]},\n",
              "  {'perm': [1, 4, 6, 2, 5, 3]},\n",
              "  {'perm': [3, 2, 4, 6, 1, 5]},\n",
              "  {'perm': [2, 3, 5, 4, 6, 1]},\n",
              "  {'perm': [1, 3, 4, 2, 6, 5]},\n",
              "  {'perm': [5, 2, 4, 3, 1, 6]},\n",
              "  {'perm': [5, 4, 3, 6, 1, 2]},\n",
              "  {'perm': [4, 5, 1, 2, 3, 6]},\n",
              "  {'perm': [6, 3, 2, 5, 4, 1]},\n",
              "  {'perm': [3, 2, 6, 1, 4, 5]},\n",
              "  {'perm': [1, 6, 4, 3, 5, 2]},\n",
              "  {'perm': [1, 6, 4, 5, 2, 3]},\n",
              "  {'perm': [4, 6, 5, 3, 1, 2]},\n",
              "  {'perm': [3, 6, 2, 1, 5, 4]},\n",
              "  {'perm': [5, 1, 4, 3, 6, 2]},\n",
              "  {'perm': [2, 1, 4, 6, 5, 3]},\n",
              "  {'perm': [4, 5, 2, 6, 3, 1]},\n",
              "  {'perm': [4, 2, 3, 6, 5, 1]},\n",
              "  {'perm': [2, 4, 3, 1, 5, 6]},\n",
              "  {'perm': [4, 3, 5, 6, 1, 2]},\n",
              "  {'perm': [4, 6, 5, 2, 1, 3]},\n",
              "  {'perm': [1, 5, 6, 4, 2, 3]},\n",
              "  {'perm': [4, 5, 2, 1, 3, 6]},\n",
              "  {'perm': [2, 5, 4, 1, 6, 3]},\n",
              "  {'perm': [5, 3, 4, 6, 1, 2]},\n",
              "  {'perm': [5, 3, 2, 4, 6, 1]},\n",
              "  {'perm': [1, 4, 6, 2, 3, 5]},\n",
              "  {'perm': [5, 6, 4, 3, 2, 1]},\n",
              "  {'perm': [6, 1, 5, 3, 4, 2]},\n",
              "  {'perm': [3, 4, 6, 5, 1, 2]},\n",
              "  {'perm': [1, 4, 5, 2, 3, 6]},\n",
              "  {'perm': [4, 2, 5, 1, 3, 6]},\n",
              "  {'perm': [5, 6, 4, 2, 3, 1]},\n",
              "  {'perm': [6, 3, 5, 1, 4, 2]},\n",
              "  {'perm': [1, 3, 6, 2, 4, 5]},\n",
              "  {'perm': [3, 2, 5, 6, 1, 4]},\n",
              "  {'perm': [1, 6, 3, 5, 2, 4]},\n",
              "  {'perm': [5, 2, 6, 1, 3, 4]},\n",
              "  {'perm': [5, 4, 2, 3, 1, 6]},\n",
              "  {'perm': [5, 6, 1, 2, 3, 4]},\n",
              "  {'perm': [4, 5, 2, 3, 6, 1]},\n",
              "  {'perm': [3, 6, 1, 5, 2, 4]},\n",
              "  {'perm': [5, 3, 6, 1, 2, 4]},\n",
              "  {'perm': [4, 5, 3, 6, 2, 1]},\n",
              "  {'perm': [2, 5, 3, 4, 1, 6]},\n",
              "  {'perm': [2, 1, 3, 5, 6, 4]},\n",
              "  {'perm': [2, 3, 1, 4, 6, 5]},\n",
              "  {'perm': [5, 2, 6, 4, 1, 3]},\n",
              "  {'perm': [2, 6, 1, 5, 4, 3]},\n",
              "  {'perm': [2, 4, 5, 3, 1, 6]},\n",
              "  {'perm': [5, 4, 6, 3, 1, 2]},\n",
              "  {'perm': [5, 4, 6, 1, 3, 2]},\n",
              "  {'perm': [2, 6, 1, 3, 4, 5]},\n",
              "  {'perm': [3, 2, 5, 4, 6, 1]},\n",
              "  {'perm': [5, 6, 2, 1, 3, 4]},\n",
              "  {'perm': [2, 3, 5, 6, 4, 1]},\n",
              "  {'perm': [3, 4, 1, 2, 5, 6]},\n",
              "  {'perm': [6, 4, 3, 2, 5, 1]},\n",
              "  {'perm': [3, 1, 4, 5, 6, 2]},\n",
              "  {'perm': [2, 5, 4, 3, 1, 6]},\n",
              "  {'perm': [4, 5, 6, 3, 1, 2]},\n",
              "  {'perm': [5, 2, 4, 1, 3, 6]},\n",
              "  {'perm': [3, 4, 6, 1, 2, 5]},\n",
              "  {'perm': [6, 2, 3, 1, 4, 5]},\n",
              "  {'perm': [4, 6, 5, 3, 2, 1]},\n",
              "  {'perm': [4, 6, 2, 1, 3, 5]},\n",
              "  {'perm': [2, 5, 3, 4, 6, 1]},\n",
              "  {'perm': [2, 3, 4, 5, 6, 1]},\n",
              "  {'perm': [1, 4, 5, 3, 2, 6]},\n",
              "  {'perm': [3, 2, 5, 1, 4, 6]},\n",
              "  {'perm': [2, 3, 1, 5, 6, 4]},\n",
              "  {'perm': [3, 6, 1, 2, 4, 5]},\n",
              "  {'perm': [5, 6, 3, 4, 1, 2]},\n",
              "  {'perm': [3, 6, 5, 4, 2, 1]},\n",
              "  {'perm': [2, 6, 3, 5, 4, 1]},\n",
              "  {'perm': [5, 2, 6, 1, 4, 3]},\n",
              "  {'perm': [2, 3, 1, 6, 5, 4]},\n",
              "  {'perm': [4, 1, 2, 5, 6, 3]},\n",
              "  {'perm': [4, 5, 1, 3, 2, 6]},\n",
              "  {'perm': [5, 3, 4, 6, 2, 1]},\n",
              "  {'perm': [4, 6, 1, 2, 5, 3]},\n",
              "  {'perm': [2, 5, 1, 3, 4, 6]},\n",
              "  {'perm': [5, 6, 2, 3, 1, 4]},\n",
              "  {'perm': [4, 5, 2, 6, 1, 3]},\n",
              "  {'perm': [2, 5, 6, 3, 1, 4]},\n",
              "  {'perm': [4, 5, 2, 3, 1, 6]},\n",
              "  {'perm': [2, 6, 4, 1, 5, 3]},\n",
              "  {'perm': [5, 1, 3, 6, 2, 4]},\n",
              "  {'perm': [2, 1, 4, 5, 6, 3]},\n",
              "  {'perm': [6, 2, 4, 3, 1, 5]},\n",
              "  {'perm': [1, 6, 2, 4, 5, 3]},\n",
              "  {'perm': [4, 1, 5, 6, 3, 2]},\n",
              "  {'perm': [2, 1, 5, 6, 4, 3]},\n",
              "  {'perm': [6, 3, 4, 2, 5, 1]},\n",
              "  {'perm': [3, 6, 2, 1, 4, 5]},\n",
              "  {'perm': [4, 6, 3, 2, 1, 5]},\n",
              "  {'perm': [5, 3, 6, 2, 1, 4]},\n",
              "  {'perm': [1, 3, 6, 4, 5, 2]},\n",
              "  {'perm': [4, 6, 3, 1, 2, 5]},\n",
              "  {'perm': [4, 1, 5, 6, 2, 3]},\n",
              "  {'perm': [2, 5, 6, 3, 4, 1]},\n",
              "  {'perm': [5, 4, 6, 1, 2, 3]},\n",
              "  {'perm': [6, 5, 2, 3, 4, 1]},\n",
              "  {'perm': [3, 5, 4, 1, 6, 2]},\n",
              "  {'perm': [6, 3, 5, 2, 1, 4]},\n",
              "  {'perm': [4, 5, 6, 1, 3, 2]},\n",
              "  {'perm': [6, 4, 2, 5, 3, 1]},\n",
              "  {'perm': [4, 6, 5, 2, 3, 1]},\n",
              "  {'perm': [4, 1, 3, 6, 2, 5]},\n",
              "  {'perm': [2, 4, 6, 3, 5, 1]},\n",
              "  {'perm': [2, 5, 3, 1, 4, 6]},\n",
              "  {'perm': [2, 5, 1, 3, 6, 4]},\n",
              "  {'perm': [6, 3, 5, 4, 2, 1]},\n",
              "  {'perm': [6, 2, 1, 4, 5, 3]},\n",
              "  {'perm': [1, 3, 4, 6, 5, 2]},\n",
              "  {'perm': [3, 6, 5, 4, 1, 2]},\n",
              "  {'perm': [4, 6, 2, 1, 5, 3]},\n",
              "  {'perm': [5, 6, 3, 1, 2, 4]},\n",
              "  {'perm': [5, 6, 1, 4, 3, 2]},\n",
              "  {'perm': [1, 6, 3, 5, 4, 2]},\n",
              "  {'perm': [4, 6, 2, 5, 3, 1]},\n",
              "  {'perm': [1, 5, 6, 3, 2, 4]},\n",
              "  {'perm': [2, 5, 1, 4, 6, 3]},\n",
              "  {'perm': [6, 3, 2, 4, 5, 1]},\n",
              "  {'perm': [2, 4, 3, 6, 5, 1]},\n",
              "  {'perm': [4, 3, 2, 5, 1, 6]},\n",
              "  {'perm': [3, 6, 1, 5, 4, 2]},\n",
              "  {'perm': [3, 5, 6, 2, 1, 4]},\n",
              "  {'perm': [5, 3, 4, 1, 2, 6]},\n",
              "  {'perm': [3, 4, 6, 2, 5, 1]},\n",
              "  {'perm': [4, 6, 1, 5, 2, 3]},\n",
              "  {'perm': [6, 4, 5, 1, 2, 3]},\n",
              "  {'perm': [3, 4, 6, 5, 2, 1]},\n",
              "  {'perm': [4, 6, 5, 1, 2, 3]},\n",
              "  {'perm': [5, 6, 1, 4, 2, 3]},\n",
              "  {'perm': [2, 5, 3, 6, 1, 4]},\n",
              "  {'perm': [1, 2, 4, 6, 3, 5]},\n",
              "  {'perm': [1, 3, 4, 2, 5, 6]},\n",
              "  {'perm': [4, 6, 3, 5, 1, 2]},\n",
              "  {'perm': [2, 4, 5, 6, 1, 3]},\n",
              "  {'perm': [3, 5, 6, 2, 4, 1]},\n",
              "  {'perm': [5, 6, 3, 4, 2, 1]},\n",
              "  {'perm': [3, 6, 5, 1, 4, 2]},\n",
              "  {'perm': [6, 3, 4, 5, 1, 2]},\n",
              "  {'perm': [2, 5, 1, 6, 4, 3]},\n",
              "  {'perm': [2, 4, 1, 5, 3, 6]},\n",
              "  {'perm': [3, 5, 1, 4, 2, 6]},\n",
              "  {'perm': [5, 2, 3, 6, 1, 4]},\n",
              "  {'perm': [1, 5, 3, 4, 6, 2]},\n",
              "  {'perm': [4, 1, 3, 5, 6, 2]},\n",
              "  {'perm': [2, 3, 4, 6, 1, 5]},\n",
              "  {'perm': [4, 1, 3, 6, 5, 2]},\n",
              "  {'perm': [1, 4, 2, 5, 6, 3]},\n",
              "  {'perm': [3, 2, 6, 4, 1, 5]},\n",
              "  {'perm': [6, 4, 5, 1, 3, 2]},\n",
              "  {'perm': [6, 1, 3, 5, 2, 4]},\n",
              "  {'perm': [6, 2, 4, 5, 1, 3]},\n",
              "  {'perm': [3, 1, 4, 6, 2, 5]},\n",
              "  {'perm': [6, 3, 1, 4, 5, 2]},\n",
              "  {'perm': [3, 1, 4, 6, 5, 2]},\n",
              "  {'perm': [2, 3, 6, 5, 4, 1]},\n",
              "  {'perm': [5, 6, 2, 3, 4, 1]},\n",
              "  {'perm': [6, 4, 3, 5, 1, 2]},\n",
              "  {'perm': [1, 5, 4, 6, 2, 3]},\n",
              "  {'perm': [1, 5, 3, 6, 2, 4]},\n",
              "  {'perm': [5, 3, 2, 4, 1, 6]},\n",
              "  {'perm': [4, 2, 6, 3, 1, 5]},\n",
              "  {'perm': [5, 1, 6, 3, 4, 2]},\n",
              "  {'perm': [2, 3, 6, 1, 5, 4]},\n",
              "  {'perm': [3, 6, 1, 4, 2, 5]},\n",
              "  {'perm': [6, 2, 4, 1, 3, 5]},\n",
              "  {'perm': [1, 6, 3, 4, 5, 2]},\n",
              "  {'perm': [6, 5, 3, 4, 1, 2]},\n",
              "  {'perm': [3, 5, 1, 6, 4, 2]},\n",
              "  {'perm': [4, 2, 6, 5, 3, 1]},\n",
              "  {'perm': [4, 2, 3, 5, 6, 1]},\n",
              "  {'perm': [1, 2, 5, 6, 4, 3]},\n",
              "  {'perm': [3, 5, 4, 6, 2, 1]},\n",
              "  {'perm': [2, 6, 5, 3, 1, 4]},\n",
              "  {'perm': [2, 1, 4, 6, 3, 5]},\n",
              "  {'perm': [5, 2, 4, 6, 3, 1]},\n",
              "  {'perm': [6, 4, 2, 3, 5, 1]},\n",
              "  {'perm': [3, 6, 4, 1, 5, 2]},\n",
              "  {'perm': [1, 2, 4, 5, 3, 6]},\n",
              "  {'perm': [3, 4, 5, 2, 1, 6]},\n",
              "  {'perm': [2, 4, 3, 5, 6, 1]},\n",
              "  {'perm': [6, 2, 5, 4, 3, 1]},\n",
              "  {'perm': [5, 6, 1, 3, 2, 4]},\n",
              "  {'perm': [3, 6, 2, 5, 1, 4]},\n",
              "  {'perm': [5, 3, 2, 6, 1, 4]},\n",
              "  {'perm': [3, 2, 4, 6, 5, 1]},\n",
              "  {'perm': [2, 5, 4, 1, 3, 6]},\n",
              "  {'perm': [1, 2, 4, 5, 6, 3]},\n",
              "  {'perm': [6, 4, 5, 2, 1, 3]},\n",
              "  {'perm': [6, 1, 4, 5, 2, 3]},\n",
              "  {'perm': [3, 5, 4, 2, 6, 1]},\n",
              "  {'perm': [3, 4, 2, 5, 1, 6]},\n",
              "  {'perm': [4, 6, 3, 2, 5, 1]},\n",
              "  {'perm': [1, 4, 5, 6, 2, 3]},\n",
              "  {'perm': [5, 6, 2, 4, 1, 3]},\n",
              "  {'perm': [4, 5, 6, 1, 2, 3]},\n",
              "  {'perm': [5, 2, 4, 3, 6, 1]},\n",
              "  {'perm': [5, 6, 4, 2, 1, 3]},\n",
              "  {'perm': [3, 2, 6, 1, 5, 4]},\n",
              "  {'perm': [3, 4, 1, 5, 6, 2]},\n",
              "  {'perm': [5, 4, 3, 2, 6, 1]},\n",
              "  {'perm': [4, 2, 6, 3, 5, 1]},\n",
              "  {'perm': [4, 1, 5, 3, 6, 2]},\n",
              "  {'perm': [6, 2, 4, 5, 3, 1]},\n",
              "  {'perm': [6, 2, 3, 1, 5, 4]},\n",
              "  {'perm': [3, 5, 1, 2, 4, 6]},\n",
              "  {'perm': [4, 2, 3, 6, 1, 5]},\n",
              "  {'perm': [2, 5, 1, 4, 3, 6]},\n",
              "  {'perm': [2, 4, 3, 5, 1, 6]},\n",
              "  {'perm': [5, 1, 3, 4, 2, 6]},\n",
              "  {'perm': [2, 4, 1, 3, 6, 5]},\n",
              "  {'perm': [5, 3, 6, 4, 2, 1]},\n",
              "  {'perm': [1, 4, 6, 5, 3, 2]},\n",
              "  {'perm': [1, 5, 2, 4, 6, 3]},\n",
              "  {'perm': [1, 2, 5, 4, 6, 3]},\n",
              "  {'perm': [2, 6, 3, 1, 5, 4]},\n",
              "  {'perm': [5, 3, 4, 1, 6, 2]},\n",
              "  {'perm': [4, 3, 6, 1, 2, 5]},\n",
              "  {'perm': [4, 2, 5, 6, 3, 1]},\n",
              "  {'perm': [1, 2, 4, 6, 5, 3]},\n",
              "  {'perm': [4, 3, 2, 5, 6, 1]},\n",
              "  {'perm': [5, 2, 1, 4, 6, 3]},\n",
              "  {'perm': [1, 4, 3, 6, 5, 2]},\n",
              "  {'perm': [4, 6, 2, 3, 5, 1]},\n",
              "  {'perm': [3, 6, 4, 5, 1, 2]},\n",
              "  {'perm': [4, 2, 3, 1, 6, 5]},\n",
              "  {'perm': [3, 5, 2, 1, 6, 4]},\n",
              "  {'perm': [4, 5, 1, 6, 2, 3]},\n",
              "  {'perm': [3, 2, 4, 5, 6, 1]},\n",
              "  {'perm': [2, 5, 6, 1, 3, 4]},\n",
              "  {'perm': [3, 4, 6, 2, 1, 5]},\n",
              "  {'perm': [3, 4, 2, 6, 5, 1]},\n",
              "  {'perm': [4, 2, 5, 3, 1, 6]},\n",
              "  {'perm': [4, 5, 6, 2, 1, 3]},\n",
              "  {'perm': [4, 2, 6, 1, 5, 3]},\n",
              "  {'perm': [4, 5, 3, 1, 2, 6]},\n",
              "  {'perm': [3, 4, 1, 5, 2, 6]},\n",
              "  {'perm': [6, 3, 4, 1, 2, 5]},\n",
              "  {'perm': [3, 6, 5, 2, 1, 4]},\n",
              "  {'perm': [2, 6, 1, 4, 3, 5]},\n",
              "  {'perm': [2, 6, 1, 4, 5, 3]},\n",
              "  {'perm': [2, 6, 1, 3, 5, 4]},\n",
              "  {'perm': [2, 3, 4, 1, 5, 6]},\n",
              "  {'perm': [4, 3, 5, 1, 6, 2]},\n",
              "  {'perm': [1, 3, 6, 4, 2, 5]},\n",
              "  {'perm': [5, 4, 2, 6, 3, 1]},\n",
              "  {'perm': [3, 1, 5, 6, 4, 2]},\n",
              "  {'perm': [3, 5, 1, 6, 2, 4]},\n",
              "  {'perm': [2, 6, 4, 5, 3, 1]},\n",
              "  {'perm': [3, 4, 2, 1, 5, 6]},\n",
              "  {'perm': [3, 2, 4, 1, 6, 5]},\n",
              "  {'perm': [5, 2, 6, 4, 3, 1]},\n",
              "  {'perm': [5, 4, 6, 3, 2, 1]},\n",
              "  {'perm': [4, 5, 6, 3, 2, 1]},\n",
              "  {'perm': [6, 2, 3, 4, 1, 5]},\n",
              "  {'perm': [3, 1, 2, 5, 6, 4]},\n",
              "  {'perm': [1, 3, 6, 5, 2, 4]},\n",
              "  {'perm': [6, 1, 4, 3, 5, 2]},\n",
              "  {'perm': [2, 4, 5, 1, 6, 3]},\n",
              "  {'perm': [6, 1, 3, 4, 2, 5]},\n",
              "  {'perm': [4, 3, 5, 1, 2, 6]},\n",
              "  {'perm': [3, 2, 1, 5, 6, 4]},\n",
              "  {'perm': [3, 4, 5, 2, 6, 1]},\n",
              "  {'perm': [3, 5, 4, 1, 2, 6]},\n",
              "  {'perm': [5, 2, 4, 6, 1, 3]},\n",
              "  {'perm': [6, 2, 4, 1, 5, 3]},\n",
              "  {'perm': [2, 1, 4, 5, 3, 6]},\n",
              "  {'perm': [1, 3, 5, 2, 4, 6]},\n",
              "  {'perm': [4, 3, 2, 6, 5, 1]},\n",
              "  {'perm': [1, 4, 6, 3, 2, 5]},\n",
              "  {'perm': [1, 5, 3, 6, 4, 2]},\n",
              "  {'perm': [1, 3, 4, 5, 6, 2]},\n",
              "  {'perm': [5, 1, 4, 6, 2, 3]},\n",
              "  {'perm': [5, 2, 3, 6, 4, 1]},\n",
              "  {'perm': [1, 6, 5, 3, 4, 2]},\n",
              "  {'perm': [2, 1, 5, 4, 6, 3]},\n",
              "  {'perm': [3, 2, 5, 6, 4, 1]},\n",
              "  {'perm': [3, 1, 5, 4, 6, 2]},\n",
              "  {'perm': [2, 3, 6, 4, 1, 5]},\n",
              "  {'perm': [1, 5, 6, 2, 4, 3]},\n",
              "  {'perm': [2, 6, 5, 4, 3, 1]},\n",
              "  {'perm': [2, 4, 5, 6, 3, 1]},\n",
              "  {'perm': [4, 3, 6, 1, 5, 2]},\n",
              "  {'perm': [4, 6, 2, 5, 1, 3]},\n",
              "  {'perm': [5, 6, 1, 3, 4, 2]},\n",
              "  {'perm': [1, 3, 5, 4, 6, 2]},\n",
              "  {'perm': [6, 5, 3, 2, 4, 1]},\n",
              "  {'perm': [2, 3, 6, 5, 1, 4]},\n",
              "  {'perm': [3, 5, 1, 4, 6, 2]},\n",
              "  {'perm': [4, 2, 5, 1, 6, 3]},\n",
              "  {'perm': [6, 3, 4, 1, 5, 2]},\n",
              "  {'perm': [2, 6, 3, 4, 1, 5]},\n",
              "  {'perm': [4, 3, 5, 6, 2, 1]},\n",
              "  {'perm': [6, 2, 5, 3, 4, 1]},\n",
              "  {'perm': [2, 6, 1, 5, 3, 4]},\n",
              "  {'perm': [4, 2, 3, 5, 1, 6]},\n",
              "  {'perm': [5, 4, 2, 6, 1, 3]},\n",
              "  {'perm': [6, 1, 2, 4, 5, 3]},\n",
              "  {'perm': [3, 5, 1, 2, 6, 4]},\n",
              "  {'perm': [4, 3, 1, 5, 6, 2]},\n",
              "  {'perm': [6, 2, 3, 4, 5, 1]},\n",
              "  {'perm': [1, 6, 3, 4, 2, 5]},\n",
              "  {'perm': [4, 2, 6, 1, 3, 5]},\n",
              "  {'perm': [5, 3, 1, 4, 6, 2]}]}"
            ]
          },
          "metadata": {},
          "execution_count": 10
        }
      ]
    },
    {
      "cell_type": "code",
      "source": [
        "print(len(conjure_solutions))"
      ],
      "metadata": {
        "colab": {
          "base_uri": "https://localhost:8080/"
        },
        "id": "UNTW6vg02TVB",
        "outputId": "ee8f09d6-f1ea-4395-97dc-4529084bb861"
      },
      "execution_count": null,
      "outputs": [
        {
          "output_type": "stream",
          "name": "stdout",
          "text": [
            "517\n"
          ]
        }
      ]
    },
    {
      "cell_type": "markdown",
      "source": [
        "## Vincular avoidance\n",
        "\n",
        "We say that a permutation $\\pi$ *avoids* a vincular pattern $(\\sigma, A)$ if either it classically avoids $\\sigma$ or for each classical occurence of $\\sigma$ the entries are not adjacent.\n",
        "\n",
        "For example, $\\sigma=\\underline{23}1$, $(231,\\{1\\})$, cannot be found in $\\pi=654312$, as the permutation $231$ is not contained in $\\pi$. Another example is  $\\sigma=\\underline{23}1$, is not contained in $\\pi=631542$, even though the permutation $132$ can be found in $\\pi$ as $352$, but there is an entry between $3$ and $5$ (which is $1$).\n"
      ],
      "metadata": {
        "id": "ojMSDnR-l1jE"
      }
    },
    {
      "cell_type": "code",
      "source": [
        "%conjure_clear"
      ],
      "metadata": {
        "colab": {
          "base_uri": "https://localhost:8080/"
        },
        "id": "pzd02CnLySJh",
        "outputId": "147af9d7-35fb-4211-eafe-b05071528185"
      },
      "execution_count": null,
      "outputs": [
        {
          "output_type": "stream",
          "name": "stdout",
          "text": [
            "Conjure model cleared\n"
          ]
        }
      ]
    },
    {
      "cell_type": "code",
      "source": [
        "length = 6\n",
        "vincular_avoidance = [ [ [2,3,1]\n",
        "                       , [1]\n",
        "                       ]\n",
        "                     ]"
      ],
      "metadata": {
        "id": "fJPAI_HcxePK"
      },
      "execution_count": null,
      "outputs": []
    },
    {
      "cell_type": "code",
      "source": [
        "%%conjure --number-of-solutions=all --solver=minion\n",
        "\n",
        "given length : int\n",
        "given vincular_avoidance : set of (sequence (injective) of int, set of int)\n",
        "\n",
        "find perm : sequence (size length, injective) of int(1..length)\n",
        "\n",
        "such that\n",
        "    forAll (pattern, bars) in vincular_avoidance .\n",
        "        forAll ix : matrix indexed by [int(1..|pattern|)] of int(1..length)\n",
        "        \n",
        "            , (forAll i,j : int(1..|pattern|) . i < j -> ix[i] < ix[j]) /\\\n",
        "            $ n1 and n2 are indices\n",
        "            (forAll n1, n2 : int(1..|pattern|) , n1 < n2 .\n",
        "                (pattern(n1) < pattern(n2) <-> perm(ix[n1]) < perm(ix[n2]))\n",
        "            )\n",
        "\n",
        "            .\n",
        "\n",
        "            !(forAll bar in bars . ix[bar] + 1 = ix[bar+1])\n",
        "\n",
        "            $ for bivincular, we need:\n",
        "            $ /\\\n",
        "            $ (forAll bar in bars . perm(ix[bar]) + 1 = perm(ix[bar+1])\n"
      ],
      "metadata": {
        "colab": {
          "base_uri": "https://localhost:8080/"
        },
        "id": "IrelbL5sxinT",
        "outputId": "5745c8cf-5676-45be-d074-9fb95967d3dc"
      },
      "execution_count": null,
      "outputs": [
        {
          "output_type": "execute_result",
          "data": {
            "text/plain": [
              "{'conjure_solutions': [{'perm': [6, 4, 1, 5, 3, 2]},\n",
              "  {'perm': [3, 1, 6, 2, 5, 4]},\n",
              "  {'perm': [6, 1, 4, 3, 2, 5]},\n",
              "  {'perm': [1, 4, 2, 3, 5, 6]},\n",
              "  {'perm': [6, 5, 3, 1, 2, 4]},\n",
              "  {'perm': [5, 3, 2, 1, 4, 6]},\n",
              "  {'perm': [6, 3, 2, 1, 4, 5]},\n",
              "  {'perm': [3, 1, 2, 5, 4, 6]},\n",
              "  {'perm': [1, 6, 4, 2, 3, 5]},\n",
              "  {'perm': [1, 4, 2, 6, 5, 3]},\n",
              "  {'perm': [1, 5, 2, 6, 3, 4]},\n",
              "  {'perm': [3, 1, 4, 2, 6, 5]},\n",
              "  {'perm': [5, 4, 1, 6, 2, 3]},\n",
              "  {'perm': [6, 5, 1, 4, 3, 2]},\n",
              "  {'perm': [5, 1, 6, 3, 2, 4]},\n",
              "  {'perm': [5, 1, 2, 6, 3, 4]},\n",
              "  {'perm': [2, 1, 3, 4, 5, 6]},\n",
              "  {'perm': [5, 3, 1, 2, 6, 4]},\n",
              "  {'perm': [5, 1, 6, 4, 2, 3]},\n",
              "  {'perm': [1, 3, 2, 6, 4, 5]},\n",
              "  {'perm': [1, 2, 6, 3, 4, 5]},\n",
              "  {'perm': [4, 1, 2, 6, 5, 3]},\n",
              "  {'perm': [4, 2, 1, 6, 5, 3]},\n",
              "  {'perm': [4, 3, 1, 6, 5, 2]},\n",
              "  {'perm': [3, 1, 2, 4, 5, 6]},\n",
              "  {'perm': [2, 1, 3, 6, 5, 4]},\n",
              "  {'perm': [5, 1, 2, 3, 4, 6]},\n",
              "  {'perm': [1, 4, 2, 6, 3, 5]},\n",
              "  {'perm': [2, 1, 6, 3, 4, 5]},\n",
              "  {'perm': [2, 1, 4, 3, 6, 5]},\n",
              "  {'perm': [6, 5, 3, 2, 1, 4]},\n",
              "  {'perm': [6, 1, 3, 2, 5, 4]},\n",
              "  {'perm': [6, 1, 2, 3, 4, 5]},\n",
              "  {'perm': [6, 5, 3, 1, 4, 2]},\n",
              "  {'perm': [5, 4, 2, 1, 3, 6]},\n",
              "  {'perm': [4, 1, 6, 5, 3, 2]},\n",
              "  {'perm': [1, 5, 3, 2, 4, 6]},\n",
              "  {'perm': [2, 1, 5, 3, 6, 4]},\n",
              "  {'perm': [6, 5, 1, 4, 2, 3]},\n",
              "  {'perm': [1, 2, 6, 5, 3, 4]},\n",
              "  {'perm': [5, 1, 4, 2, 6, 3]},\n",
              "  {'perm': [1, 4, 3, 2, 5, 6]},\n",
              "  {'perm': [6, 4, 3, 1, 2, 5]},\n",
              "  {'perm': [1, 6, 2, 5, 3, 4]},\n",
              "  {'perm': [5, 4, 1, 2, 3, 6]},\n",
              "  {'perm': [6, 5, 4, 2, 1, 3]},\n",
              "  {'perm': [6, 2, 1, 5, 4, 3]},\n",
              "  {'perm': [6, 4, 3, 2, 1, 5]},\n",
              "  {'perm': [4, 1, 6, 5, 2, 3]},\n",
              "  {'perm': [1, 6, 4, 2, 5, 3]},\n",
              "  {'perm': [6, 4, 2, 1, 3, 5]},\n",
              "  {'perm': [4, 1, 2, 3, 5, 6]},\n",
              "  {'perm': [6, 1, 2, 3, 5, 4]},\n",
              "  {'perm': [1, 3, 2, 5, 4, 6]},\n",
              "  {'perm': [2, 1, 3, 4, 6, 5]},\n",
              "  {'perm': [1, 6, 3, 2, 4, 5]},\n",
              "  {'perm': [4, 3, 2, 1, 6, 5]},\n",
              "  {'perm': [6, 1, 3, 2, 4, 5]},\n",
              "  {'perm': [4, 1, 5, 3, 2, 6]},\n",
              "  {'perm': [5, 1, 6, 2, 4, 3]},\n",
              "  {'perm': [2, 1, 6, 4, 3, 5]},\n",
              "  {'perm': [3, 1, 4, 2, 5, 6]},\n",
              "  {'perm': [1, 6, 4, 3, 2, 5]},\n",
              "  {'perm': [1, 2, 4, 3, 5, 6]},\n",
              "  {'perm': [4, 1, 5, 2, 6, 3]},\n",
              "  {'perm': [5, 1, 3, 2, 4, 6]},\n",
              "  {'perm': [6, 2, 1, 3, 5, 4]},\n",
              "  {'perm': [6, 2, 1, 5, 3, 4]},\n",
              "  {'perm': [5, 4, 1, 6, 3, 2]},\n",
              "  {'perm': [3, 1, 6, 5, 4, 2]},\n",
              "  {'perm': [6, 5, 2, 1, 4, 3]},\n",
              "  {'perm': [4, 1, 2, 6, 3, 5]},\n",
              "  {'perm': [5, 1, 4, 3, 2, 6]},\n",
              "  {'perm': [3, 1, 2, 6, 4, 5]},\n",
              "  {'perm': [1, 6, 5, 2, 4, 3]},\n",
              "  {'perm': [3, 1, 5, 4, 2, 6]},\n",
              "  {'perm': [6, 4, 1, 2, 3, 5]},\n",
              "  {'perm': [1, 6, 5, 4, 2, 3]},\n",
              "  {'perm': [6, 3, 2, 1, 5, 4]},\n",
              "  {'perm': [2, 1, 6, 5, 4, 3]},\n",
              "  {'perm': [4, 1, 2, 3, 6, 5]},\n",
              "  {'perm': [2, 1, 5, 4, 3, 6]},\n",
              "  {'perm': [1, 6, 5, 2, 3, 4]},\n",
              "  {'perm': [5, 2, 1, 6, 4, 3]},\n",
              "  {'perm': [6, 5, 4, 1, 2, 3]},\n",
              "  {'perm': [6, 5, 4, 3, 1, 2]},\n",
              "  {'perm': [5, 4, 2, 1, 6, 3]},\n",
              "  {'perm': [6, 1, 5, 3, 2, 4]},\n",
              "  {'perm': [1, 5, 2, 4, 3, 6]},\n",
              "  {'perm': [1, 3, 2, 4, 5, 6]},\n",
              "  {'perm': [5, 4, 3, 1, 6, 2]},\n",
              "  {'perm': [6, 1, 4, 2, 3, 5]},\n",
              "  {'perm': [3, 1, 2, 6, 5, 4]},\n",
              "  {'perm': [4, 1, 3, 2, 5, 6]},\n",
              "  {'perm': [4, 3, 2, 1, 5, 6]},\n",
              "  {'perm': [4, 3, 1, 2, 5, 6]},\n",
              "  {'perm': [3, 1, 6, 5, 2, 4]},\n",
              "  {'perm': [1, 6, 2, 3, 5, 4]},\n",
              "  {'perm': [3, 1, 6, 4, 2, 5]},\n",
              "  {'perm': [5, 3, 2, 1, 6, 4]},\n",
              "  {'perm': [3, 2, 1, 5, 4, 6]},\n",
              "  {'perm': [5, 1, 6, 4, 3, 2]},\n",
              "  {'perm': [5, 3, 1, 4, 2, 6]},\n",
              "  {'perm': [6, 3, 1, 5, 2, 4]},\n",
              "  {'perm': [4, 1, 6, 2, 5, 3]},\n",
              "  {'perm': [6, 5, 1, 2, 3, 4]},\n",
              "  {'perm': [1, 4, 2, 5, 3, 6]},\n",
              "  {'perm': [1, 5, 4, 3, 2, 6]},\n",
              "  {'perm': [1, 2, 5, 3, 6, 4]},\n",
              "  {'perm': [6, 5, 2, 1, 3, 4]},\n",
              "  {'perm': [1, 3, 2, 4, 6, 5]},\n",
              "  {'perm': [4, 3, 1, 5, 2, 6]},\n",
              "  {'perm': [6, 5, 4, 1, 3, 2]},\n",
              "  {'perm': [3, 2, 1, 4, 5, 6]},\n",
              "  {'perm': [1, 2, 3, 4, 6, 5]},\n",
              "  {'perm': [1, 3, 2, 6, 5, 4]},\n",
              "  {'perm': [6, 1, 2, 5, 4, 3]},\n",
              "  {'perm': [5, 3, 1, 6, 4, 2]},\n",
              "  {'perm': [6, 1, 2, 4, 3, 5]},\n",
              "  {'perm': [1, 6, 2, 5, 4, 3]},\n",
              "  {'perm': [1, 2, 3, 5, 4, 6]},\n",
              "  {'perm': [6, 1, 5, 2, 4, 3]},\n",
              "  {'perm': [5, 3, 1, 6, 2, 4]},\n",
              "  {'perm': [4, 1, 3, 2, 6, 5]},\n",
              "  {'perm': [1, 2, 3, 6, 4, 5]},\n",
              "  {'perm': [1, 5, 2, 3, 4, 6]},\n",
              "  {'perm': [4, 1, 5, 2, 3, 6]},\n",
              "  {'perm': [6, 3, 1, 4, 2, 5]},\n",
              "  {'perm': [5, 3, 1, 2, 4, 6]},\n",
              "  {'perm': [1, 6, 5, 4, 3, 2]},\n",
              "  {'perm': [5, 1, 2, 3, 6, 4]},\n",
              "  {'perm': [1, 2, 5, 3, 4, 6]},\n",
              "  {'perm': [6, 2, 1, 3, 4, 5]},\n",
              "  {'perm': [5, 2, 1, 4, 3, 6]},\n",
              "  {'perm': [2, 1, 6, 5, 3, 4]},\n",
              "  {'perm': [4, 1, 6, 3, 2, 5]},\n",
              "  {'perm': [1, 4, 3, 2, 6, 5]},\n",
              "  {'perm': [1, 2, 6, 5, 4, 3]},\n",
              "  {'perm': [1, 5, 4, 2, 6, 3]},\n",
              "  {'perm': [6, 1, 5, 4, 3, 2]},\n",
              "  {'perm': [5, 1, 3, 2, 6, 4]},\n",
              "  {'perm': [2, 1, 3, 6, 4, 5]},\n",
              "  {'perm': [3, 2, 1, 4, 6, 5]},\n",
              "  {'perm': [6, 4, 1, 2, 5, 3]},\n",
              "  {'perm': [6, 3, 1, 5, 4, 2]},\n",
              "  {'perm': [3, 1, 2, 4, 6, 5]},\n",
              "  {'perm': [6, 1, 5, 2, 3, 4]},\n",
              "  {'perm': [6, 1, 2, 5, 3, 4]},\n",
              "  {'perm': [1, 2, 4, 3, 6, 5]},\n",
              "  {'perm': [4, 2, 1, 3, 5, 6]},\n",
              "  {'perm': [5, 1, 6, 2, 3, 4]},\n",
              "  {'perm': [5, 2, 1, 6, 3, 4]},\n",
              "  {'perm': [5, 1, 2, 4, 3, 6]},\n",
              "  {'perm': [4, 1, 2, 5, 3, 6]},\n",
              "  {'perm': [1, 6, 2, 3, 4, 5]},\n",
              "  {'perm': [2, 1, 5, 3, 4, 6]},\n",
              "  {'perm': [6, 3, 1, 2, 4, 5]},\n",
              "  {'perm': [6, 5, 1, 3, 2, 4]},\n",
              "  {'perm': [1, 5, 3, 2, 6, 4]},\n",
              "  {'perm': [3, 1, 5, 2, 4, 6]},\n",
              "  {'perm': [5, 1, 2, 6, 4, 3]},\n",
              "  {'perm': [1, 6, 5, 3, 2, 4]},\n",
              "  {'perm': [5, 4, 1, 2, 6, 3]},\n",
              "  {'perm': [1, 5, 2, 6, 4, 3]},\n",
              "  {'perm': [3, 2, 1, 6, 5, 4]},\n",
              "  {'perm': [6, 1, 4, 2, 5, 3]},\n",
              "  {'perm': [1, 6, 2, 4, 3, 5]},\n",
              "  {'perm': [6, 4, 2, 1, 5, 3]},\n",
              "  {'perm': [4, 2, 1, 6, 3, 5]},\n",
              "  {'perm': [4, 2, 1, 3, 6, 5]},\n",
              "  {'perm': [6, 1, 5, 4, 2, 3]},\n",
              "  {'perm': [2, 1, 4, 3, 5, 6]},\n",
              "  {'perm': [3, 1, 5, 2, 6, 4]},\n",
              "  {'perm': [1, 2, 6, 3, 5, 4]},\n",
              "  {'perm': [3, 2, 1, 6, 4, 5]},\n",
              "  {'perm': [4, 3, 1, 6, 2, 5]},\n",
              "  {'perm': [3, 1, 6, 2, 4, 5]},\n",
              "  {'perm': [6, 5, 4, 3, 2, 1]},\n",
              "  {'perm': [6, 3, 1, 2, 5, 4]},\n",
              "  {'perm': [1, 2, 5, 4, 3, 6]},\n",
              "  {'perm': [4, 2, 1, 5, 3, 6]},\n",
              "  {'perm': [1, 2, 3, 6, 5, 4]},\n",
              "  {'perm': [6, 4, 1, 3, 2, 5]},\n",
              "  {'perm': [6, 4, 1, 5, 2, 3]},\n",
              "  {'perm': [6, 2, 1, 4, 3, 5]},\n",
              "  {'perm': [5, 1, 4, 2, 3, 6]},\n",
              "  {'perm': [5, 4, 3, 2, 1, 6]},\n",
              "  {'perm': [1, 5, 4, 2, 3, 6]},\n",
              "  {'perm': [1, 5, 2, 3, 6, 4]},\n",
              "  {'perm': [5, 4, 3, 1, 2, 6]},\n",
              "  {'perm': [6, 4, 3, 1, 5, 2]},\n",
              "  {'perm': [6, 5, 1, 2, 4, 3]},\n",
              "  {'perm': [5, 2, 1, 3, 6, 4]},\n",
              "  {'perm': [2, 1, 3, 5, 4, 6]},\n",
              "  {'perm': [1, 4, 2, 3, 6, 5]},\n",
              "  {'perm': [1, 2, 6, 4, 3, 5]},\n",
              "  {'perm': [1, 2, 3, 4, 5, 6]},\n",
              "  {'perm': [5, 2, 1, 3, 4, 6]},\n",
              "  {'perm': [1, 6, 3, 2, 5, 4]},\n",
              "  {'perm': [2, 1, 6, 3, 5, 4]},\n",
              "  {'perm': [4, 1, 6, 2, 3, 5]},\n",
              "  {'perm': [4, 3, 1, 2, 6, 5]},\n",
              "  {'perm': [5, 4, 1, 3, 2, 6]}]}"
            ]
          },
          "metadata": {},
          "execution_count": 14
        }
      ]
    },
    {
      "cell_type": "code",
      "source": [
        "print(len(conjure_solutions))"
      ],
      "metadata": {
        "colab": {
          "base_uri": "https://localhost:8080/"
        },
        "id": "xqhO-W5GyZUg",
        "outputId": "8e50a3b1-b27f-4e6a-e53b-b30bb19d208b"
      },
      "execution_count": null,
      "outputs": [
        {
          "output_type": "stream",
          "name": "stdout",
          "text": [
            "203\n"
          ]
        }
      ]
    },
    {
      "cell_type": "markdown",
      "source": [
        "## Bivincular containment\n",
        "\n",
        "Bivincular patterns are vincular patterns which additionally require the values to be adjacent.\n",
        "\n",
        "An occurrence of the bivincular pattern $(\\sigma, A)$ in $\\pi$ is a subsequence $\\pi(i_1)\\ldots \\pi(i_k)$ of length $n$ of $\\pi$ such that the following all hold\n",
        "\n",
        "\n",
        "* $\\pi(i_1)\\ldots\\pi(i_n)$ is an occurrence of $\\sigma$ in the classical sense,\n",
        "* $i_{a+1}=i_{a}+1, \\forall a\\in A$,\n",
        "* $\\pi(i_{a+1}) = \\pi(i_{a})+1, \\forall a \\in A$\n",
        "\n",
        "We call $A$ the set of *adjacencies*, we emphasise these entries in the permutation with an underline.\n",
        "\n",
        "For example, the pattern $\\sigma=3\\underline{12}$, $(312,\\{2\\})$ can be found in $\\pi=521634$ as the sequence $534$."
      ],
      "metadata": {
        "id": "8uD9dwcgtTvN"
      }
    },
    {
      "cell_type": "code",
      "source": [
        "%conjure_clear"
      ],
      "metadata": {
        "id": "mtWlz_mUtjc6",
        "colab": {
          "base_uri": "https://localhost:8080/"
        },
        "outputId": "835f0a76-3e43-4ba2-dcf5-f8f434d0acf2"
      },
      "execution_count": null,
      "outputs": [
        {
          "output_type": "stream",
          "name": "stdout",
          "text": [
            "Conjure model cleared\n"
          ]
        }
      ]
    },
    {
      "cell_type": "code",
      "source": [
        "length = 6\n",
        "bivincular_containment = [ [ [3,1,2]\n",
        "                         , [2]\n",
        "                         ]\n",
        "                       ]"
      ],
      "metadata": {
        "id": "zhOETbDGtENR"
      },
      "execution_count": null,
      "outputs": []
    },
    {
      "cell_type": "code",
      "source": [
        "%%conjure --number-of-solutions=all --solver=minion\n",
        "\n",
        "given length : int\n",
        "given bivincular_containment : set of (sequence (injective) of int, set of int)\n",
        "\n",
        "find perm : sequence (size length, injective) of int(1..length)\n",
        "\n",
        "such that\n",
        "    forAll (pattern, bars) in bivincular_containment .\n",
        "        exists ix : matrix indexed by [int(1..|pattern|)] of int(1..length)\n",
        "        \n",
        "            , (forAll i,j : int(1..|pattern|) . i < j -> ix[i] < ix[j]) /\\\n",
        "            $ n1 and n2 are indices\n",
        "            (forAll n1, n2 : int(1..|pattern|) , n1 < n2 .\n",
        "                (pattern(n1) < pattern(n2) <-> perm(ix[n1]) < perm(ix[n2]))\n",
        "            )\n",
        "\n",
        "            .\n",
        "\n",
        "            (forAll bar in bars . ix[bar] + 1 = ix[bar+1])\n",
        "            /\\\n",
        "            (forAll bar in bars . perm(ix[bar]) + 1 = perm(ix[bar+1]))        $ because bivincular\n"
      ],
      "metadata": {
        "colab": {
          "base_uri": "https://localhost:8080/"
        },
        "id": "1IFAczLAtFLh",
        "outputId": "92425d40-09ce-4a60-e45a-17ae367292c8"
      },
      "execution_count": null,
      "outputs": [
        {
          "output_type": "execute_result",
          "data": {
            "text/plain": [
              "{'conjure_solutions': [{'perm': [1, 3, 6, 2, 4, 5]},\n",
              "  {'perm': [6, 3, 2, 1, 4, 5]},\n",
              "  {'perm': [3, 6, 5, 1, 2, 4]},\n",
              "  {'perm': [4, 3, 5, 1, 2, 6]},\n",
              "  {'perm': [6, 2, 3, 5, 4, 1]},\n",
              "  {'perm': [4, 2, 3, 5, 1, 6]},\n",
              "  {'perm': [2, 1, 3, 6, 4, 5]},\n",
              "  {'perm': [4, 6, 2, 3, 1, 5]},\n",
              "  {'perm': [5, 1, 2, 6, 4, 3]},\n",
              "  {'perm': [4, 2, 3, 6, 1, 5]},\n",
              "  {'perm': [6, 3, 1, 4, 5, 2]},\n",
              "  {'perm': [2, 6, 1, 3, 4, 5]},\n",
              "  {'perm': [6, 1, 2, 5, 3, 4]},\n",
              "  {'perm': [5, 1, 2, 3, 4, 6]},\n",
              "  {'perm': [6, 3, 5, 4, 1, 2]},\n",
              "  {'perm': [6, 2, 4, 5, 1, 3]},\n",
              "  {'perm': [5, 3, 4, 1, 2, 6]},\n",
              "  {'perm': [1, 5, 6, 4, 2, 3]},\n",
              "  {'perm': [6, 2, 3, 5, 1, 4]},\n",
              "  {'perm': [6, 3, 4, 5, 2, 1]},\n",
              "  {'perm': [6, 3, 2, 4, 5, 1]},\n",
              "  {'perm': [5, 3, 1, 2, 6, 4]},\n",
              "  {'perm': [5, 2, 6, 3, 4, 1]},\n",
              "  {'perm': [1, 4, 5, 2, 3, 6]},\n",
              "  {'perm': [2, 6, 1, 4, 5, 3]},\n",
              "  {'perm': [3, 1, 2, 5, 4, 6]},\n",
              "  {'perm': [5, 2, 1, 6, 3, 4]},\n",
              "  {'perm': [4, 1, 2, 5, 3, 6]},\n",
              "  {'perm': [2, 3, 1, 6, 4, 5]},\n",
              "  {'perm': [3, 6, 4, 5, 2, 1]},\n",
              "  {'perm': [6, 5, 3, 4, 1, 2]},\n",
              "  {'perm': [1, 6, 4, 5, 3, 2]},\n",
              "  {'perm': [1, 6, 5, 2, 3, 4]},\n",
              "  {'perm': [2, 6, 5, 3, 4, 1]},\n",
              "  {'perm': [6, 3, 4, 1, 5, 2]},\n",
              "  {'perm': [1, 2, 5, 6, 3, 4]},\n",
              "  {'perm': [2, 1, 6, 4, 5, 3]},\n",
              "  {'perm': [5, 6, 2, 3, 1, 4]},\n",
              "  {'perm': [4, 5, 2, 3, 6, 1]},\n",
              "  {'perm': [2, 1, 6, 5, 3, 4]},\n",
              "  {'perm': [3, 6, 4, 1, 2, 5]},\n",
              "  {'perm': [5, 4, 6, 2, 3, 1]},\n",
              "  {'perm': [6, 3, 5, 1, 2, 4]},\n",
              "  {'perm': [3, 2, 6, 1, 4, 5]},\n",
              "  {'perm': [6, 1, 2, 4, 5, 3]},\n",
              "  {'perm': [1, 4, 6, 2, 3, 5]},\n",
              "  {'perm': [5, 1, 6, 3, 4, 2]},\n",
              "  {'perm': [5, 4, 1, 2, 6, 3]},\n",
              "  {'perm': [4, 2, 3, 6, 5, 1]},\n",
              "  {'perm': [5, 4, 3, 1, 2, 6]},\n",
              "  {'perm': [5, 3, 4, 6, 1, 2]},\n",
              "  {'perm': [2, 5, 6, 3, 4, 1]},\n",
              "  {'perm': [6, 3, 4, 1, 2, 5]},\n",
              "  {'perm': [5, 3, 4, 2, 6, 1]},\n",
              "  {'perm': [3, 6, 4, 5, 1, 2]},\n",
              "  {'perm': [1, 5, 3, 4, 6, 2]},\n",
              "  {'perm': [1, 5, 2, 3, 4, 6]},\n",
              "  {'perm': [4, 5, 6, 2, 3, 1]},\n",
              "  {'perm': [3, 5, 6, 1, 2, 4]},\n",
              "  {'perm': [4, 1, 2, 5, 6, 3]},\n",
              "  {'perm': [6, 5, 2, 3, 4, 1]},\n",
              "  {'perm': [5, 4, 1, 6, 2, 3]},\n",
              "  {'perm': [1, 4, 2, 3, 6, 5]},\n",
              "  {'perm': [5, 3, 1, 2, 4, 6]},\n",
              "  {'perm': [1, 5, 4, 2, 3, 6]},\n",
              "  {'perm': [6, 4, 1, 5, 2, 3]},\n",
              "  {'perm': [1, 6, 5, 3, 4, 2]},\n",
              "  {'perm': [6, 5, 2, 3, 1, 4]},\n",
              "  {'perm': [6, 2, 3, 1, 5, 4]},\n",
              "  {'perm': [6, 5, 3, 1, 2, 4]},\n",
              "  {'perm': [6, 3, 1, 2, 5, 4]},\n",
              "  {'perm': [6, 1, 2, 4, 3, 5]},\n",
              "  {'perm': [3, 1, 2, 4, 5, 6]},\n",
              "  {'perm': [5, 1, 3, 4, 2, 6]},\n",
              "  {'perm': [4, 6, 1, 5, 2, 3]},\n",
              "  {'perm': [3, 4, 5, 1, 2, 6]},\n",
              "  {'perm': [4, 6, 5, 3, 1, 2]},\n",
              "  {'perm': [5, 2, 3, 4, 1, 6]},\n",
              "  {'perm': [5, 2, 3, 1, 4, 6]},\n",
              "  {'perm': [4, 3, 5, 6, 1, 2]},\n",
              "  {'perm': [5, 4, 3, 6, 1, 2]},\n",
              "  {'perm': [4, 6, 2, 3, 5, 1]},\n",
              "  {'perm': [5, 6, 3, 1, 2, 4]},\n",
              "  {'perm': [6, 4, 3, 1, 2, 5]},\n",
              "  {'perm': [3, 4, 5, 6, 1, 2]},\n",
              "  {'perm': [6, 4, 2, 3, 5, 1]},\n",
              "  {'perm': [6, 1, 4, 5, 2, 3]},\n",
              "  {'perm': [3, 6, 1, 2, 4, 5]},\n",
              "  {'perm': [6, 4, 2, 3, 1, 5]},\n",
              "  {'perm': [6, 1, 5, 3, 4, 2]},\n",
              "  {'perm': [6, 3, 4, 2, 1, 5]},\n",
              "  {'perm': [6, 1, 5, 2, 3, 4]},\n",
              "  {'perm': [2, 5, 3, 4, 6, 1]},\n",
              "  {'perm': [4, 1, 2, 3, 6, 5]},\n",
              "  {'perm': [6, 3, 4, 5, 1, 2]},\n",
              "  {'perm': [6, 5, 4, 2, 3, 1]},\n",
              "  {'perm': [5, 6, 2, 3, 4, 1]},\n",
              "  {'perm': [4, 6, 5, 2, 3, 1]},\n",
              "  {'perm': [6, 2, 5, 3, 4, 1]},\n",
              "  {'perm': [6, 1, 2, 3, 4, 5]},\n",
              "  {'perm': [3, 1, 2, 6, 5, 4]},\n",
              "  {'perm': [6, 2, 3, 4, 1, 5]},\n",
              "  {'perm': [6, 4, 5, 2, 1, 3]},\n",
              "  {'perm': [5, 1, 2, 3, 6, 4]},\n",
              "  {'perm': [4, 5, 6, 1, 2, 3]},\n",
              "  {'perm': [5, 6, 3, 4, 2, 1]},\n",
              "  {'perm': [5, 6, 3, 4, 1, 2]},\n",
              "  {'perm': [6, 4, 1, 2, 5, 3]},\n",
              "  {'perm': [6, 2, 3, 4, 5, 1]},\n",
              "  {'perm': [5, 1, 6, 4, 2, 3]},\n",
              "  {'perm': [4, 5, 1, 2, 3, 6]},\n",
              "  {'perm': [6, 2, 3, 1, 4, 5]},\n",
              "  {'perm': [1, 2, 5, 3, 4, 6]},\n",
              "  {'perm': [4, 2, 3, 1, 5, 6]},\n",
              "  {'perm': [6, 4, 5, 3, 2, 1]},\n",
              "  {'perm': [6, 5, 1, 3, 4, 2]},\n",
              "  {'perm': [4, 3, 6, 5, 1, 2]},\n",
              "  {'perm': [5, 1, 2, 6, 3, 4]},\n",
              "  {'perm': [5, 6, 1, 2, 4, 3]},\n",
              "  {'perm': [5, 6, 2, 1, 3, 4]},\n",
              "  {'perm': [1, 2, 3, 6, 4, 5]},\n",
              "  {'perm': [3, 1, 2, 5, 6, 4]},\n",
              "  {'perm': [3, 4, 6, 5, 1, 2]},\n",
              "  {'perm': [3, 4, 1, 2, 5, 6]},\n",
              "  {'perm': [6, 1, 3, 4, 5, 2]},\n",
              "  {'perm': [1, 5, 2, 6, 3, 4]},\n",
              "  {'perm': [4, 6, 3, 5, 1, 2]},\n",
              "  {'perm': [5, 6, 4, 3, 1, 2]},\n",
              "  {'perm': [5, 2, 1, 3, 4, 6]},\n",
              "  {'perm': [3, 5, 1, 2, 4, 6]},\n",
              "  {'perm': [1, 5, 3, 4, 2, 6]},\n",
              "  {'perm': [5, 2, 3, 4, 6, 1]},\n",
              "  {'perm': [1, 3, 2, 6, 4, 5]},\n",
              "  {'perm': [5, 3, 4, 2, 1, 6]},\n",
              "  {'perm': [6, 2, 1, 3, 4, 5]},\n",
              "  {'perm': [6, 2, 4, 5, 3, 1]},\n",
              "  {'perm': [5, 6, 4, 2, 3, 1]},\n",
              "  {'perm': [3, 5, 1, 2, 6, 4]},\n",
              "  {'perm': [6, 4, 5, 2, 3, 1]},\n",
              "  {'perm': [2, 6, 3, 1, 4, 5]},\n",
              "  {'perm': [5, 2, 3, 6, 4, 1]},\n",
              "  {'perm': [4, 6, 1, 2, 3, 5]},\n",
              "  {'perm': [5, 4, 1, 2, 3, 6]},\n",
              "  {'perm': [1, 6, 5, 4, 2, 3]},\n",
              "  {'perm': [3, 6, 5, 4, 1, 2]},\n",
              "  {'perm': [4, 5, 6, 3, 1, 2]},\n",
              "  {'perm': [2, 5, 3, 4, 1, 6]},\n",
              "  {'perm': [4, 1, 2, 6, 5, 3]},\n",
              "  {'perm': [1, 3, 6, 4, 5, 2]},\n",
              "  {'perm': [5, 3, 6, 4, 1, 2]},\n",
              "  {'perm': [2, 6, 4, 5, 3, 1]},\n",
              "  {'perm': [3, 1, 2, 6, 4, 5]},\n",
              "  {'perm': [1, 2, 6, 4, 5, 3]},\n",
              "  {'perm': [4, 5, 3, 6, 1, 2]},\n",
              "  {'perm': [5, 3, 4, 6, 2, 1]},\n",
              "  {'perm': [1, 5, 4, 6, 2, 3]},\n",
              "  {'perm': [6, 1, 3, 4, 2, 5]},\n",
              "  {'perm': [2, 1, 5, 6, 3, 4]},\n",
              "  {'perm': [6, 5, 4, 1, 2, 3]},\n",
              "  {'perm': [2, 3, 6, 1, 4, 5]},\n",
              "  {'perm': [3, 1, 6, 4, 5, 2]},\n",
              "  {'perm': [6, 1, 4, 2, 3, 5]},\n",
              "  {'perm': [3, 5, 4, 6, 1, 2]},\n",
              "  {'perm': [4, 6, 1, 2, 5, 3]},\n",
              "  {'perm': [5, 6, 1, 2, 3, 4]},\n",
              "  {'perm': [4, 5, 1, 6, 2, 3]},\n",
              "  {'perm': [6, 4, 5, 1, 3, 2]},\n",
              "  {'perm': [6, 5, 4, 3, 1, 2]},\n",
              "  {'perm': [6, 5, 2, 1, 3, 4]},\n",
              "  {'perm': [1, 4, 5, 6, 2, 3]},\n",
              "  {'perm': [5, 1, 4, 6, 2, 3]},\n",
              "  {'perm': [3, 6, 1, 2, 5, 4]},\n",
              "  {'perm': [3, 1, 6, 2, 4, 5]},\n",
              "  {'perm': [5, 4, 2, 3, 6, 1]},\n",
              "  {'perm': [5, 6, 1, 4, 2, 3]},\n",
              "  {'perm': [6, 3, 1, 2, 4, 5]},\n",
              "  {'perm': [5, 4, 2, 3, 1, 6]},\n",
              "  {'perm': [5, 2, 3, 1, 6, 4]},\n",
              "  {'perm': [2, 5, 6, 1, 3, 4]},\n",
              "  {'perm': [6, 4, 1, 2, 3, 5]},\n",
              "  {'perm': [6, 5, 1, 4, 2, 3]},\n",
              "  {'perm': [1, 6, 2, 5, 3, 4]},\n",
              "  {'perm': [3, 4, 6, 1, 2, 5]},\n",
              "  {'perm': [4, 5, 1, 2, 6, 3]},\n",
              "  {'perm': [1, 6, 3, 4, 2, 5]},\n",
              "  {'perm': [4, 2, 3, 1, 6, 5]},\n",
              "  {'perm': [6, 5, 3, 4, 2, 1]},\n",
              "  {'perm': [5, 3, 4, 1, 6, 2]},\n",
              "  {'perm': [1, 5, 6, 3, 4, 2]},\n",
              "  {'perm': [4, 5, 3, 1, 2, 6]},\n",
              "  {'perm': [4, 6, 3, 1, 2, 5]},\n",
              "  {'perm': [5, 2, 6, 1, 3, 4]},\n",
              "  {'perm': [1, 6, 2, 4, 5, 3]},\n",
              "  {'perm': [2, 6, 1, 5, 3, 4]},\n",
              "  {'perm': [3, 6, 2, 4, 5, 1]},\n",
              "  {'perm': [6, 2, 5, 1, 3, 4]},\n",
              "  {'perm': [6, 1, 3, 2, 4, 5]},\n",
              "  {'perm': [1, 4, 2, 3, 5, 6]},\n",
              "  {'perm': [6, 1, 2, 5, 4, 3]},\n",
              "  {'perm': [2, 6, 3, 4, 1, 5]},\n",
              "  {'perm': [6, 4, 5, 1, 2, 3]},\n",
              "  {'perm': [1, 5, 6, 2, 3, 4]},\n",
              "  {'perm': [3, 2, 1, 6, 4, 5]},\n",
              "  {'perm': [2, 6, 3, 4, 5, 1]},\n",
              "  {'perm': [5, 1, 4, 2, 3, 6]},\n",
              "  {'perm': [5, 1, 6, 2, 3, 4]},\n",
              "  {'perm': [3, 2, 6, 4, 5, 1]},\n",
              "  {'perm': [1, 6, 4, 5, 2, 3]},\n",
              "  {'perm': [1, 6, 3, 2, 4, 5]},\n",
              "  {'perm': [6, 2, 1, 4, 5, 3]},\n",
              "  {'perm': [2, 6, 4, 5, 1, 3]},\n",
              "  {'perm': [6, 4, 5, 3, 1, 2]},\n",
              "  {'perm': [6, 5, 1, 2, 4, 3]},\n",
              "  {'perm': [1, 5, 2, 3, 6, 4]},\n",
              "  {'perm': [1, 6, 2, 3, 4, 5]},\n",
              "  {'perm': [5, 6, 4, 1, 2, 3]},\n",
              "  {'perm': [3, 4, 1, 2, 6, 5]},\n",
              "  {'perm': [5, 4, 6, 1, 2, 3]},\n",
              "  {'perm': [4, 3, 1, 2, 5, 6]},\n",
              "  {'perm': [4, 1, 6, 5, 2, 3]},\n",
              "  {'perm': [4, 1, 2, 3, 5, 6]},\n",
              "  {'perm': [4, 1, 6, 2, 3, 5]},\n",
              "  {'perm': [5, 6, 1, 3, 4, 2]},\n",
              "  {'perm': [6, 5, 1, 2, 3, 4]},\n",
              "  {'perm': [5, 4, 6, 3, 1, 2]},\n",
              "  {'perm': [6, 3, 4, 2, 5, 1]},\n",
              "  {'perm': [2, 5, 1, 3, 4, 6]},\n",
              "  {'perm': [1, 4, 6, 5, 2, 3]},\n",
              "  {'perm': [6, 4, 3, 5, 1, 2]},\n",
              "  {'perm': [4, 1, 2, 6, 3, 5]},\n",
              "  {'perm': [1, 6, 2, 3, 5, 4]},\n",
              "  {'perm': [2, 1, 5, 3, 4, 6]},\n",
              "  {'perm': [4, 3, 1, 2, 6, 5]},\n",
              "  {'perm': [6, 1, 4, 5, 3, 2]},\n",
              "  {'perm': [2, 1, 6, 3, 4, 5]},\n",
              "  {'perm': [2, 5, 1, 6, 3, 4]},\n",
              "  {'perm': [5, 1, 3, 4, 6, 2]},\n",
              "  {'perm': [6, 1, 5, 4, 2, 3]},\n",
              "  {'perm': [6, 1, 2, 3, 5, 4]},\n",
              "  {'perm': [5, 1, 2, 4, 3, 6]},\n",
              "  {'perm': [2, 3, 6, 4, 5, 1]},\n",
              "  {'perm': [4, 3, 6, 1, 2, 5]},\n",
              "  {'perm': [5, 2, 3, 6, 1, 4]},\n",
              "  {'perm': [3, 6, 1, 4, 5, 2]},\n",
              "  {'perm': [4, 5, 2, 3, 1, 6]},\n",
              "  {'perm': [4, 2, 3, 5, 6, 1]},\n",
              "  {'perm': [3, 1, 2, 4, 6, 5]},\n",
              "  {'perm': [5, 1, 2, 4, 6, 3]},\n",
              "  {'perm': [1, 6, 4, 2, 3, 5]},\n",
              "  {'perm': [4, 1, 5, 2, 3, 6]},\n",
              "  {'perm': [3, 5, 6, 4, 1, 2]},\n",
              "  {'perm': [1, 2, 6, 3, 4, 5]},\n",
              "  {'perm': [1, 2, 6, 5, 3, 4]},\n",
              "  {'perm': [5, 3, 6, 1, 2, 4]},\n",
              "  {'perm': [4, 6, 5, 1, 2, 3]},\n",
              "  {'perm': [3, 5, 4, 1, 2, 6]},\n",
              "  {'perm': [4, 1, 5, 6, 2, 3]},\n",
              "  {'perm': [6, 2, 1, 5, 3, 4]},\n",
              "  {'perm': [3, 6, 2, 1, 4, 5]},\n",
              "  {'perm': [1, 6, 3, 4, 5, 2]},\n",
              "  {'perm': [2, 6, 5, 1, 3, 4]}]}"
            ]
          },
          "metadata": {},
          "execution_count": 18
        }
      ]
    },
    {
      "cell_type": "markdown",
      "source": [
        "## Bivincular avoidance\n",
        "\n",
        "Similarly to vincular avoidance, we say that $\\pi$ avoids a bivincular pattern $(\\sigma,A)$ if $\\pi$ classically avoids $\\sigma$ or for each occurence of $\\sigma$ in $\\pi$ one or both of the other conditions is violated.\n",
        "\n",
        "For example, the pattern $\\sigma=3\\underline{12}$, $(312,\\{2\\})$ cannot be found in the permutation $421536$\n",
        "\n",
        "Note that if $\\sigma$ is considered as a vincular pattern then it would also not be contained in $\\pi$.\n",
        "\n",
        "Another example is $\\sigma=\\underline{23}1$, $(231,\\{1\\})$ cannot be found in $\\pi=136542$ as the sequence.\n",
        "But $\\sigma$ is avoided as a bivincular patterns in $\\pi=136542$ but is contained in $\\pi$ as a vincular pattern."
      ],
      "metadata": {
        "id": "GHrEzPxptoQN"
      }
    },
    {
      "cell_type": "code",
      "source": [
        "%conjure_clear"
      ],
      "metadata": {
        "id": "0rRXhSA9wRRm",
        "colab": {
          "base_uri": "https://localhost:8080/"
        },
        "outputId": "c2bd8c92-72ac-4dc1-cc9d-fa50e485cc60"
      },
      "execution_count": null,
      "outputs": [
        {
          "output_type": "stream",
          "name": "stdout",
          "text": [
            "Conjure model cleared\n"
          ]
        }
      ]
    },
    {
      "cell_type": "code",
      "source": [
        "length = 6\n",
        "bivincular_avoidance = [ [ [2,3,1]\n",
        "                         , [1]\n",
        "                         ]\n",
        "                       ]\n"
      ],
      "metadata": {
        "id": "Giq7GHVKtivB"
      },
      "execution_count": null,
      "outputs": []
    },
    {
      "cell_type": "code",
      "source": [
        "%%conjure --number-of-solutions=all --solver=minion\n",
        "\n",
        "given length : int\n",
        "given bivincular_avoidance : set of (sequence (injective) of int, set of int)\n",
        "\n",
        "find perm : sequence (size length, injective) of int(1..length)\n",
        "\n",
        "such that\n",
        "    forAll (pattern, bars) in bivincular_avoidance .\n",
        "        forAll ix : matrix indexed by [int(1..|pattern|)] of int(1..length)\n",
        "        \n",
        "            , (forAll i,j : int(1..|pattern|) . i < j -> ix[i] < ix[j]) /\\\n",
        "            $ n1 and n2 are indices\n",
        "            (forAll n1, n2 : int(1..|pattern|) , n1 < n2 .\n",
        "                (pattern(n1) < pattern(n2) <-> perm(ix[n1]) < perm(ix[n2]))\n",
        "            )\n",
        "\n",
        "            .\n",
        "\n",
        "            !(  (forAll bar in bars . ix[bar] + 1 = ix[bar+1])\n",
        "                /\\\n",
        "                (forAll bar in bars . perm(ix[bar]) + 1 = perm(ix[bar+1]))\n",
        "            )\n"
      ],
      "metadata": {
        "colab": {
          "base_uri": "https://localhost:8080/"
        },
        "id": "QKOeiOaWti2D",
        "outputId": "2b27e287-3201-4dad-c1a3-119597a1c2c5"
      },
      "execution_count": null,
      "outputs": [
        {
          "output_type": "execute_result",
          "data": {
            "text/plain": [
              "{'conjure_solutions': [{'perm': [1, 6, 5, 2, 4, 3]},\n",
              "  {'perm': [5, 4, 6, 3, 2, 1]},\n",
              "  {'perm': [3, 6, 2, 1, 4, 5]},\n",
              "  {'perm': [2, 4, 3, 1, 5, 6]},\n",
              "  {'perm': [5, 3, 1, 2, 6, 4]},\n",
              "  {'perm': [6, 4, 1, 3, 5, 2]},\n",
              "  {'perm': [1, 5, 4, 2, 6, 3]},\n",
              "  {'perm': [1, 5, 4, 3, 6, 2]},\n",
              "  {'perm': [5, 3, 1, 2, 4, 6]},\n",
              "  {'perm': [3, 2, 1, 4, 6, 5]},\n",
              "  {'perm': [1, 2, 6, 3, 4, 5]},\n",
              "  {'perm': [5, 2, 6, 3, 1, 4]},\n",
              "  {'perm': [2, 6, 1, 3, 4, 5]},\n",
              "  {'perm': [5, 4, 1, 2, 3, 6]},\n",
              "  {'perm': [3, 1, 6, 2, 5, 4]},\n",
              "  {'perm': [5, 1, 6, 4, 3, 2]},\n",
              "  {'perm': [1, 6, 5, 4, 3, 2]},\n",
              "  {'perm': [1, 3, 5, 4, 6, 2]},\n",
              "  {'perm': [1, 6, 4, 2, 3, 5]},\n",
              "  {'perm': [1, 2, 5, 3, 4, 6]},\n",
              "  {'perm': [2, 4, 1, 3, 6, 5]},\n",
              "  {'perm': [4, 6, 2, 1, 3, 5]},\n",
              "  {'perm': [4, 3, 2, 1, 5, 6]},\n",
              "  {'perm': [3, 1, 6, 4, 2, 5]},\n",
              "  {'perm': [4, 6, 1, 2, 5, 3]},\n",
              "  {'perm': [5, 1, 3, 2, 6, 4]},\n",
              "  {'perm': [4, 3, 6, 5, 2, 1]},\n",
              "  {'perm': [5, 3, 2, 1, 6, 4]},\n",
              "  {'perm': [1, 5, 2, 3, 6, 4]},\n",
              "  {'perm': [2, 5, 3, 1, 6, 4]},\n",
              "  {'perm': [6, 2, 5, 1, 4, 3]},\n",
              "  {'perm': [4, 3, 5, 2, 1, 6]},\n",
              "  {'perm': [4, 1, 6, 2, 3, 5]},\n",
              "  {'perm': [6, 4, 3, 5, 2, 1]},\n",
              "  {'perm': [5, 1, 4, 2, 3, 6]},\n",
              "  {'perm': [2, 1, 6, 5, 3, 4]},\n",
              "  {'perm': [6, 2, 4, 3, 1, 5]},\n",
              "  {'perm': [2, 6, 4, 3, 5, 1]},\n",
              "  {'perm': [3, 6, 5, 2, 4, 1]},\n",
              "  {'perm': [5, 1, 2, 6, 3, 4]},\n",
              "  {'perm': [6, 4, 2, 5, 3, 1]},\n",
              "  {'perm': [1, 5, 3, 6, 2, 4]},\n",
              "  {'perm': [3, 1, 2, 6, 5, 4]},\n",
              "  {'perm': [1, 5, 2, 4, 3, 6]},\n",
              "  {'perm': [5, 1, 6, 3, 2, 4]},\n",
              "  {'perm': [4, 6, 3, 1, 5, 2]},\n",
              "  {'perm': [4, 6, 2, 5, 1, 3]},\n",
              "  {'perm': [2, 1, 5, 3, 4, 6]},\n",
              "  {'perm': [3, 6, 4, 2, 5, 1]},\n",
              "  {'perm': [6, 3, 5, 4, 2, 1]},\n",
              "  {'perm': [5, 1, 4, 6, 3, 2]},\n",
              "  {'perm': [2, 6, 4, 3, 1, 5]},\n",
              "  {'perm': [5, 2, 6, 1, 3, 4]},\n",
              "  {'perm': [6, 1, 4, 2, 5, 3]},\n",
              "  {'perm': [3, 5, 1, 6, 4, 2]},\n",
              "  {'perm': [4, 1, 6, 3, 2, 5]},\n",
              "  {'perm': [6, 4, 2, 1, 3, 5]},\n",
              "  {'perm': [1, 5, 2, 4, 6, 3]},\n",
              "  {'perm': [1, 5, 4, 2, 3, 6]},\n",
              "  {'perm': [6, 3, 5, 1, 2, 4]},\n",
              "  {'perm': [5, 3, 1, 6, 4, 2]},\n",
              "  {'perm': [5, 2, 1, 4, 6, 3]},\n",
              "  {'perm': [4, 1, 6, 2, 5, 3]},\n",
              "  {'perm': [2, 6, 1, 5, 4, 3]},\n",
              "  {'perm': [2, 1, 6, 4, 3, 5]},\n",
              "  {'perm': [5, 3, 2, 6, 4, 1]},\n",
              "  {'perm': [3, 1, 4, 2, 6, 5]},\n",
              "  {'perm': [5, 4, 1, 3, 6, 2]},\n",
              "  {'perm': [6, 1, 4, 3, 2, 5]},\n",
              "  {'perm': [3, 6, 2, 5, 1, 4]},\n",
              "  {'perm': [4, 6, 5, 3, 2, 1]},\n",
              "  {'perm': [6, 4, 2, 5, 1, 3]},\n",
              "  {'perm': [1, 3, 2, 6, 4, 5]},\n",
              "  {'perm': [3, 6, 1, 4, 2, 5]},\n",
              "  {'perm': [3, 2, 6, 4, 1, 5]},\n",
              "  {'perm': [4, 3, 2, 5, 1, 6]},\n",
              "  {'perm': [5, 3, 2, 4, 1, 6]},\n",
              "  {'perm': [5, 3, 2, 1, 4, 6]},\n",
              "  {'perm': [1, 2, 3, 4, 5, 6]},\n",
              "  {'perm': [3, 1, 6, 5, 4, 2]},\n",
              "  {'perm': [5, 2, 1, 4, 3, 6]},\n",
              "  {'perm': [5, 4, 3, 2, 6, 1]},\n",
              "  {'perm': [4, 3, 6, 1, 5, 2]},\n",
              "  {'perm': [3, 5, 1, 4, 6, 2]},\n",
              "  {'perm': [4, 6, 1, 3, 2, 5]},\n",
              "  {'perm': [4, 2, 1, 6, 3, 5]},\n",
              "  {'perm': [6, 1, 3, 2, 4, 5]},\n",
              "  {'perm': [6, 1, 3, 2, 5, 4]},\n",
              "  {'perm': [4, 3, 6, 2, 5, 1]},\n",
              "  {'perm': [5, 4, 3, 1, 6, 2]},\n",
              "  {'perm': [3, 1, 4, 2, 5, 6]},\n",
              "  {'perm': [5, 3, 1, 4, 2, 6]},\n",
              "  {'perm': [3, 6, 1, 2, 5, 4]},\n",
              "  {'perm': [5, 2, 6, 1, 4, 3]},\n",
              "  {'perm': [4, 1, 2, 3, 5, 6]},\n",
              "  {'perm': [6, 4, 3, 2, 1, 5]},\n",
              "  {'perm': [4, 1, 5, 3, 6, 2]},\n",
              "  {'perm': [5, 2, 4, 3, 6, 1]},\n",
              "  {'perm': [6, 1, 5, 4, 3, 2]},\n",
              "  {'perm': [2, 5, 4, 1, 6, 3]},\n",
              "  {'perm': [6, 3, 1, 2, 4, 5]},\n",
              "  {'perm': [3, 1, 4, 6, 5, 2]},\n",
              "  {'perm': [1, 2, 3, 6, 5, 4]},\n",
              "  {'perm': [4, 6, 1, 2, 3, 5]},\n",
              "  {'perm': [3, 6, 5, 4, 2, 1]},\n",
              "  {'perm': [1, 2, 5, 3, 6, 4]},\n",
              "  {'perm': [1, 4, 3, 6, 2, 5]},\n",
              "  {'perm': [6, 3, 2, 5, 4, 1]},\n",
              "  {'perm': [4, 1, 2, 6, 3, 5]},\n",
              "  {'perm': [5, 1, 4, 3, 2, 6]},\n",
              "  {'perm': [5, 4, 2, 6, 1, 3]},\n",
              "  {'perm': [2, 5, 1, 6, 4, 3]},\n",
              "  {'perm': [3, 1, 5, 2, 4, 6]},\n",
              "  {'perm': [1, 2, 4, 3, 5, 6]},\n",
              "  {'perm': [4, 3, 5, 2, 6, 1]},\n",
              "  {'perm': [5, 3, 6, 2, 1, 4]},\n",
              "  {'perm': [5, 1, 2, 3, 6, 4]},\n",
              "  {'perm': [3, 6, 1, 2, 4, 5]},\n",
              "  {'perm': [3, 1, 5, 2, 6, 4]},\n",
              "  {'perm': [6, 2, 4, 1, 5, 3]},\n",
              "  {'perm': [1, 2, 6, 4, 3, 5]},\n",
              "  {'perm': [5, 1, 3, 2, 4, 6]},\n",
              "  {'perm': [2, 6, 1, 4, 3, 5]},\n",
              "  {'perm': [5, 1, 6, 4, 2, 3]},\n",
              "  {'perm': [5, 4, 3, 1, 2, 6]},\n",
              "  {'perm': [2, 1, 4, 6, 3, 5]},\n",
              "  {'perm': [5, 3, 1, 4, 6, 2]},\n",
              "  {'perm': [1, 6, 3, 2, 4, 5]},\n",
              "  {'perm': [1, 2, 4, 3, 6, 5]},\n",
              "  {'perm': [6, 5, 4, 1, 3, 2]},\n",
              "  {'perm': [5, 2, 4, 1, 6, 3]},\n",
              "  {'perm': [2, 6, 5, 4, 3, 1]},\n",
              "  {'perm': [1, 6, 4, 3, 2, 5]},\n",
              "  {'perm': [3, 5, 4, 1, 2, 6]},\n",
              "  {'perm': [5, 1, 4, 6, 2, 3]},\n",
              "  {'perm': [1, 4, 2, 3, 6, 5]},\n",
              "  {'perm': [3, 2, 1, 5, 4, 6]},\n",
              "  {'perm': [5, 3, 6, 1, 4, 2]},\n",
              "  {'perm': [6, 2, 5, 4, 1, 3]},\n",
              "  {'perm': [2, 1, 3, 6, 5, 4]},\n",
              "  {'perm': [5, 2, 4, 6, 1, 3]},\n",
              "  {'perm': [6, 5, 4, 3, 2, 1]},\n",
              "  {'perm': [3, 6, 1, 5, 4, 2]},\n",
              "  {'perm': [6, 5, 1, 4, 3, 2]},\n",
              "  {'perm': [1, 3, 2, 4, 5, 6]},\n",
              "  {'perm': [1, 5, 3, 6, 4, 2]},\n",
              "  {'perm': [2, 4, 1, 5, 3, 6]},\n",
              "  {'perm': [1, 6, 2, 5, 3, 4]},\n",
              "  {'perm': [5, 2, 1, 3, 4, 6]},\n",
              "  {'perm': [2, 4, 6, 5, 1, 3]},\n",
              "  {'perm': [3, 1, 6, 5, 2, 4]},\n",
              "  {'perm': [4, 2, 1, 3, 6, 5]},\n",
              "  {'perm': [4, 2, 6, 5, 3, 1]},\n",
              "  {'perm': [2, 1, 5, 4, 3, 6]},\n",
              "  {'perm': [2, 5, 1, 4, 6, 3]},\n",
              "  {'perm': [2, 4, 1, 6, 5, 3]},\n",
              "  {'perm': [6, 5, 2, 1, 4, 3]},\n",
              "  {'perm': [2, 1, 4, 6, 5, 3]},\n",
              "  {'perm': [4, 2, 5, 3, 1, 6]},\n",
              "  {'perm': [2, 6, 5, 4, 1, 3]},\n",
              "  {'perm': [4, 1, 6, 5, 3, 2]},\n",
              "  {'perm': [2, 1, 3, 4, 6, 5]},\n",
              "  {'perm': [6, 1, 2, 5, 4, 3]},\n",
              "  {'perm': [6, 3, 5, 2, 1, 4]},\n",
              "  {'perm': [5, 2, 6, 4, 1, 3]},\n",
              "  {'perm': [1, 5, 4, 6, 3, 2]},\n",
              "  {'perm': [1, 6, 3, 5, 2, 4]},\n",
              "  {'perm': [3, 5, 2, 4, 1, 6]},\n",
              "  {'perm': [6, 2, 5, 4, 3, 1]},\n",
              "  {'perm': [2, 6, 1, 3, 5, 4]},\n",
              "  {'perm': [3, 5, 4, 6, 1, 2]},\n",
              "  {'perm': [1, 3, 5, 2, 4, 6]},\n",
              "  {'perm': [6, 4, 1, 2, 3, 5]},\n",
              "  {'perm': [1, 6, 3, 5, 4, 2]},\n",
              "  {'perm': [5, 3, 6, 4, 2, 1]},\n",
              "  {'perm': [6, 4, 3, 5, 1, 2]},\n",
              "  {'perm': [1, 3, 6, 2, 5, 4]},\n",
              "  {'perm': [6, 5, 3, 2, 4, 1]},\n",
              "  {'perm': [4, 2, 5, 3, 6, 1]},\n",
              "  {'perm': [2, 6, 1, 5, 3, 4]},\n",
              "  {'perm': [2, 1, 5, 3, 6, 4]},\n",
              "  {'perm': [1, 4, 6, 3, 5, 2]},\n",
              "  {'perm': [4, 6, 5, 1, 2, 3]},\n",
              "  {'perm': [2, 5, 4, 6, 3, 1]},\n",
              "  {'perm': [4, 3, 6, 5, 1, 2]},\n",
              "  {'perm': [5, 2, 4, 3, 1, 6]},\n",
              "  {'perm': [6, 4, 3, 2, 5, 1]},\n",
              "  {'perm': [6, 4, 3, 1, 5, 2]},\n",
              "  {'perm': [1, 6, 4, 3, 5, 2]},\n",
              "  {'perm': [1, 4, 3, 2, 6, 5]},\n",
              "  {'perm': [5, 2, 1, 3, 6, 4]},\n",
              "  {'perm': [1, 5, 3, 2, 6, 4]},\n",
              "  {'perm': [3, 1, 5, 4, 2, 6]},\n",
              "  {'perm': [4, 6, 1, 5, 2, 3]},\n",
              "  {'perm': [1, 5, 2, 6, 4, 3]},\n",
              "  {'perm': [5, 4, 2, 1, 6, 3]},\n",
              "  {'perm': [2, 1, 5, 4, 6, 3]},\n",
              "  {'perm': [5, 3, 6, 4, 1, 2]},\n",
              "  {'perm': [4, 2, 6, 1, 3, 5]},\n",
              "  {'perm': [5, 2, 1, 6, 4, 3]},\n",
              "  {'perm': [3, 6, 4, 2, 1, 5]},\n",
              "  {'perm': [1, 2, 4, 6, 3, 5]},\n",
              "  {'perm': [2, 4, 6, 5, 3, 1]},\n",
              "  {'perm': [6, 2, 5, 1, 3, 4]},\n",
              "  {'perm': [6, 3, 5, 4, 1, 2]},\n",
              "  {'perm': [6, 3, 2, 1, 5, 4]},\n",
              "  {'perm': [3, 1, 2, 5, 4, 6]},\n",
              "  {'perm': [3, 2, 4, 6, 5, 1]},\n",
              "  {'perm': [5, 4, 6, 3, 1, 2]},\n",
              "  {'perm': [1, 4, 3, 6, 5, 2]},\n",
              "  {'perm': [6, 2, 1, 5, 3, 4]},\n",
              "  {'perm': [4, 3, 5, 1, 6, 2]},\n",
              "  {'perm': [3, 2, 4, 1, 6, 5]},\n",
              "  {'perm': [6, 1, 2, 5, 3, 4]},\n",
              "  {'perm': [3, 2, 5, 4, 1, 6]},\n",
              "  {'perm': [3, 6, 2, 1, 5, 4]},\n",
              "  {'perm': [1, 4, 3, 2, 5, 6]},\n",
              "  {'perm': [3, 1, 4, 6, 2, 5]},\n",
              "  {'perm': [1, 4, 2, 5, 3, 6]},\n",
              "  {'perm': [3, 2, 5, 1, 4, 6]},\n",
              "  {'perm': [3, 5, 4, 2, 1, 6]},\n",
              "  {'perm': [1, 6, 2, 5, 4, 3]},\n",
              "  {'perm': [5, 1, 3, 6, 2, 4]},\n",
              "  {'perm': [1, 3, 5, 4, 2, 6]},\n",
              "  {'perm': [1, 3, 2, 5, 4, 6]},\n",
              "  {'perm': [1, 3, 2, 4, 6, 5]},\n",
              "  {'perm': [6, 5, 2, 4, 1, 3]},\n",
              "  {'perm': [1, 4, 2, 6, 3, 5]},\n",
              "  {'perm': [2, 4, 3, 6, 5, 1]},\n",
              "  {'perm': [6, 3, 2, 4, 1, 5]},\n",
              "  {'perm': [1, 2, 6, 5, 4, 3]},\n",
              "  {'perm': [6, 4, 1, 3, 2, 5]},\n",
              "  {'perm': [3, 5, 2, 6, 4, 1]},\n",
              "  {'perm': [1, 2, 3, 5, 4, 6]},\n",
              "  {'perm': [4, 3, 5, 1, 2, 6]},\n",
              "  {'perm': [6, 1, 3, 5, 2, 4]},\n",
              "  {'perm': [3, 5, 2, 6, 1, 4]},\n",
              "  {'perm': [2, 1, 3, 4, 5, 6]},\n",
              "  {'perm': [1, 3, 6, 5, 2, 4]},\n",
              "  {'perm': [1, 2, 4, 6, 5, 3]},\n",
              "  {'perm': [1, 2, 3, 6, 4, 5]},\n",
              "  {'perm': [4, 1, 2, 5, 3, 6]},\n",
              "  {'perm': [1, 4, 6, 5, 2, 3]},\n",
              "  {'perm': [1, 6, 5, 3, 2, 4]},\n",
              "  {'perm': [6, 1, 2, 4, 3, 5]},\n",
              "  {'perm': [3, 2, 1, 6, 5, 4]},\n",
              "  {'perm': [2, 4, 6, 3, 5, 1]},\n",
              "  {'perm': [1, 4, 2, 3, 5, 6]},\n",
              "  {'perm': [6, 3, 1, 5, 4, 2]},\n",
              "  {'perm': [6, 2, 4, 1, 3, 5]},\n",
              "  {'perm': [5, 3, 2, 4, 6, 1]},\n",
              "  {'perm': [4, 1, 2, 3, 6, 5]},\n",
              "  {'perm': [4, 6, 3, 1, 2, 5]},\n",
              "  {'perm': [3, 2, 6, 1, 4, 5]},\n",
              "  {'perm': [4, 1, 3, 2, 6, 5]},\n",
              "  {'perm': [3, 2, 6, 1, 5, 4]},\n",
              "  {'perm': [6, 2, 5, 3, 1, 4]},\n",
              "  {'perm': [1, 4, 6, 2, 3, 5]},\n",
              "  {'perm': [2, 6, 5, 1, 4, 3]},\n",
              "  {'perm': [2, 5, 1, 3, 4, 6]},\n",
              "  {'perm': [4, 1, 3, 6, 2, 5]},\n",
              "  {'perm': [6, 3, 1, 4, 2, 5]},\n",
              "  {'perm': [6, 1, 4, 2, 3, 5]},\n",
              "  {'perm': [3, 5, 2, 4, 6, 1]},\n",
              "  {'perm': [6, 1, 5, 4, 2, 3]},\n",
              "  {'perm': [3, 6, 1, 5, 2, 4]},\n",
              "  {'perm': [5, 2, 1, 6, 3, 4]},\n",
              "  {'perm': [3, 2, 6, 5, 1, 4]},\n",
              "  {'perm': [6, 4, 1, 2, 5, 3]},\n",
              "  {'perm': [3, 6, 4, 1, 5, 2]},\n",
              "  {'perm': [6, 3, 2, 5, 1, 4]},\n",
              "  {'perm': [4, 2, 6, 3, 5, 1]},\n",
              "  {'perm': [6, 1, 3, 5, 4, 2]},\n",
              "  {'perm': [4, 3, 1, 2, 5, 6]},\n",
              "  {'perm': [3, 1, 6, 2, 4, 5]},\n",
              "  {'perm': [5, 1, 4, 3, 6, 2]},\n",
              "  {'perm': [5, 1, 6, 2, 3, 4]},\n",
              "  {'perm': [4, 6, 3, 5, 1, 2]},\n",
              "  {'perm': [6, 2, 4, 3, 5, 1]},\n",
              "  {'perm': [2, 6, 3, 1, 4, 5]},\n",
              "  {'perm': [6, 4, 2, 1, 5, 3]},\n",
              "  {'perm': [2, 5, 3, 6, 1, 4]},\n",
              "  {'perm': [2, 1, 3, 5, 4, 6]},\n",
              "  {'perm': [6, 5, 3, 1, 2, 4]},\n",
              "  {'perm': [2, 5, 4, 3, 1, 6]},\n",
              "  {'perm': [1, 3, 6, 2, 4, 5]},\n",
              "  {'perm': [5, 1, 2, 6, 4, 3]},\n",
              "  {'perm': [4, 6, 5, 1, 3, 2]},\n",
              "  {'perm': [6, 5, 2, 1, 3, 4]},\n",
              "  {'perm': [4, 3, 1, 6, 5, 2]},\n",
              "  {'perm': [4, 2, 6, 1, 5, 3]},\n",
              "  {'perm': [4, 1, 3, 2, 5, 6]},\n",
              "  {'perm': [4, 1, 2, 6, 5, 3]},\n",
              "  {'perm': [5, 4, 3, 6, 1, 2]},\n",
              "  {'perm': [5, 4, 6, 1, 3, 2]},\n",
              "  {'perm': [5, 4, 2, 6, 3, 1]},\n",
              "  {'perm': [5, 1, 3, 6, 4, 2]},\n",
              "  {'perm': [6, 2, 1, 4, 3, 5]},\n",
              "  {'perm': [5, 3, 2, 6, 1, 4]},\n",
              "  {'perm': [1, 2, 5, 4, 6, 3]},\n",
              "  {'perm': [4, 2, 1, 6, 5, 3]},\n",
              "  {'perm': [4, 3, 2, 1, 6, 5]},\n",
              "  {'perm': [3, 6, 2, 5, 4, 1]},\n",
              "  {'perm': [5, 3, 1, 6, 2, 4]},\n",
              "  {'perm': [4, 3, 1, 2, 6, 5]},\n",
              "  {'perm': [2, 1, 3, 6, 4, 5]},\n",
              "  {'perm': [4, 1, 5, 3, 2, 6]},\n",
              "  {'perm': [3, 1, 2, 4, 6, 5]},\n",
              "  {'perm': [5, 1, 4, 2, 6, 3]},\n",
              "  {'perm': [1, 6, 5, 4, 2, 3]},\n",
              "  {'perm': [5, 3, 6, 1, 2, 4]},\n",
              "  {'perm': [1, 6, 5, 2, 3, 4]},\n",
              "  {'perm': [3, 5, 4, 2, 6, 1]},\n",
              "  {'perm': [2, 1, 4, 3, 5, 6]},\n",
              "  {'perm': [5, 4, 1, 2, 6, 3]},\n",
              "  {'perm': [2, 5, 1, 3, 6, 4]},\n",
              "  {'perm': [2, 1, 6, 5, 4, 3]},\n",
              "  {'perm': [2, 6, 5, 1, 3, 4]},\n",
              "  {'perm': [6, 5, 4, 2, 1, 3]},\n",
              "  {'perm': [3, 2, 1, 6, 4, 5]},\n",
              "  {'perm': [3, 2, 4, 1, 5, 6]},\n",
              "  {'perm': [1, 2, 6, 5, 3, 4]},\n",
              "  {'perm': [5, 1, 2, 4, 3, 6]},\n",
              "  {'perm': [6, 2, 1, 5, 4, 3]},\n",
              "  {'perm': [2, 4, 3, 1, 6, 5]},\n",
              "  {'perm': [4, 6, 1, 3, 5, 2]},\n",
              "  {'perm': [1, 2, 3, 4, 6, 5]},\n",
              "  {'perm': [5, 4, 3, 2, 1, 6]},\n",
              "  {'perm': [1, 3, 6, 5, 4, 2]},\n",
              "  {'perm': [1, 4, 2, 6, 5, 3]},\n",
              "  {'perm': [1, 5, 4, 6, 2, 3]},\n",
              "  {'perm': [5, 1, 6, 2, 4, 3]},\n",
              "  {'perm': [2, 5, 3, 1, 4, 6]},\n",
              "  {'perm': [3, 5, 1, 2, 4, 6]},\n",
              "  {'perm': [5, 4, 6, 1, 2, 3]},\n",
              "  {'perm': [4, 1, 3, 5, 2, 6]},\n",
              "  {'perm': [4, 2, 5, 1, 6, 3]},\n",
              "  {'perm': [5, 1, 2, 3, 4, 6]},\n",
              "  {'perm': [3, 6, 4, 1, 2, 5]},\n",
              "  {'perm': [6, 3, 1, 2, 5, 4]},\n",
              "  {'perm': [4, 2, 1, 5, 3, 6]},\n",
              "  {'perm': [1, 4, 6, 5, 3, 2]},\n",
              "  {'perm': [4, 6, 3, 2, 5, 1]},\n",
              "  {'perm': [6, 4, 1, 5, 2, 3]},\n",
              "  {'perm': [5, 4, 6, 2, 1, 3]},\n",
              "  {'perm': [5, 4, 1, 3, 2, 6]},\n",
              "  {'perm': [1, 4, 3, 5, 2, 6]},\n",
              "  {'perm': [2, 4, 3, 6, 1, 5]},\n",
              "  {'perm': [2, 6, 3, 5, 4, 1]},\n",
              "  {'perm': [3, 6, 5, 1, 4, 2]},\n",
              "  {'perm': [6, 5, 2, 4, 3, 1]},\n",
              "  {'perm': [2, 5, 1, 4, 3, 6]},\n",
              "  {'perm': [5, 4, 1, 6, 3, 2]},\n",
              "  {'perm': [4, 6, 5, 3, 1, 2]},\n",
              "  {'perm': [6, 5, 1, 2, 4, 3]},\n",
              "  {'perm': [2, 1, 6, 3, 5, 4]},\n",
              "  {'perm': [2, 4, 1, 3, 5, 6]},\n",
              "  {'perm': [1, 4, 6, 3, 2, 5]},\n",
              "  {'perm': [1, 6, 4, 2, 5, 3]},\n",
              "  {'perm': [6, 5, 3, 2, 1, 4]},\n",
              "  {'perm': [2, 4, 6, 1, 5, 3]},\n",
              "  {'perm': [5, 1, 2, 4, 6, 3]},\n",
              "  {'perm': [2, 5, 4, 1, 3, 6]},\n",
              "  {'perm': [1, 2, 5, 4, 3, 6]},\n",
              "  {'perm': [3, 1, 2, 4, 5, 6]},\n",
              "  {'perm': [6, 4, 3, 1, 2, 5]},\n",
              "  {'perm': [6, 2, 1, 3, 5, 4]},\n",
              "  {'perm': [2, 6, 3, 5, 1, 4]},\n",
              "  {'perm': [1, 5, 2, 3, 4, 6]},\n",
              "  {'perm': [3, 6, 5, 2, 1, 4]},\n",
              "  {'perm': [5, 2, 6, 4, 3, 1]},\n",
              "  {'perm': [4, 6, 5, 2, 1, 3]},\n",
              "  {'perm': [3, 5, 1, 6, 2, 4]},\n",
              "  {'perm': [4, 1, 6, 3, 5, 2]},\n",
              "  {'perm': [6, 1, 5, 3, 2, 4]},\n",
              "  {'perm': [4, 3, 1, 5, 2, 6]},\n",
              "  {'perm': [3, 1, 5, 4, 6, 2]},\n",
              "  {'perm': [3, 6, 5, 1, 2, 4]},\n",
              "  {'perm': [6, 1, 5, 2, 4, 3]},\n",
              "  {'perm': [5, 2, 4, 6, 3, 1]},\n",
              "  {'perm': [5, 3, 6, 2, 4, 1]},\n",
              "  {'perm': [4, 3, 1, 6, 2, 5]},\n",
              "  {'perm': [4, 1, 5, 2, 6, 3]},\n",
              "  {'perm': [2, 5, 3, 6, 4, 1]},\n",
              "  {'perm': [5, 4, 1, 6, 2, 3]},\n",
              "  {'perm': [6, 5, 1, 2, 3, 4]},\n",
              "  {'perm': [4, 2, 6, 3, 1, 5]},\n",
              "  {'perm': [6, 3, 1, 5, 2, 4]},\n",
              "  {'perm': [4, 1, 5, 2, 3, 6]},\n",
              "  {'perm': [6, 3, 5, 2, 4, 1]},\n",
              "  {'perm': [2, 4, 3, 5, 1, 6]},\n",
              "  {'perm': [3, 5, 4, 1, 6, 2]},\n",
              "  {'perm': [1, 6, 2, 4, 3, 5]},\n",
              "  {'perm': [4, 6, 3, 2, 1, 5]},\n",
              "  {'perm': [1, 3, 2, 6, 5, 4]},\n",
              "  {'perm': [2, 6, 3, 1, 5, 4]},\n",
              "  {'perm': [6, 1, 4, 3, 5, 2]},\n",
              "  {'perm': [1, 6, 2, 3, 5, 4]},\n",
              "  {'perm': [3, 6, 2, 4, 1, 5]},\n",
              "  {'perm': [1, 5, 4, 3, 2, 6]},\n",
              "  {'perm': [6, 5, 3, 1, 4, 2]},\n",
              "  {'perm': [4, 6, 2, 5, 3, 1]},\n",
              "  {'perm': [4, 3, 2, 6, 1, 5]},\n",
              "  {'perm': [4, 2, 5, 1, 3, 6]},\n",
              "  {'perm': [5, 4, 3, 6, 2, 1]},\n",
              "  {'perm': [4, 6, 3, 5, 2, 1]},\n",
              "  {'perm': [3, 2, 1, 4, 5, 6]},\n",
              "  {'perm': [1, 4, 6, 2, 5, 3]},\n",
              "  {'perm': [1, 6, 2, 3, 4, 5]},\n",
              "  {'perm': [4, 3, 6, 1, 2, 5]},\n",
              "  {'perm': [4, 3, 2, 6, 5, 1]},\n",
              "  {'perm': [6, 5, 4, 3, 1, 2]},\n",
              "  {'perm': [6, 3, 5, 1, 4, 2]},\n",
              "  {'perm': [1, 5, 2, 6, 3, 4]},\n",
              "  {'perm': [6, 5, 1, 4, 2, 3]},\n",
              "  {'perm': [2, 6, 4, 1, 3, 5]},\n",
              "  {'perm': [3, 2, 4, 6, 1, 5]},\n",
              "  {'perm': [5, 4, 2, 1, 3, 6]},\n",
              "  {'perm': [3, 5, 1, 2, 6, 4]},\n",
              "  {'perm': [1, 2, 6, 3, 5, 4]},\n",
              "  {'perm': [6, 1, 2, 3, 4, 5]},\n",
              "  {'perm': [1, 3, 6, 4, 2, 5]},\n",
              "  {'perm': [3, 5, 1, 4, 2, 6]},\n",
              "  {'perm': [2, 1, 4, 3, 6, 5]},\n",
              "  {'perm': [2, 5, 1, 6, 3, 4]},\n",
              "  {'perm': [2, 6, 4, 1, 5, 3]},\n",
              "  {'perm': [2, 4, 6, 1, 3, 5]},\n",
              "  {'perm': [3, 5, 2, 1, 6, 4]},\n",
              "  {'perm': [4, 6, 1, 5, 3, 2]},\n",
              "  {'perm': [6, 5, 1, 3, 2, 4]},\n",
              "  {'perm': [2, 6, 5, 3, 1, 4]},\n",
              "  {'perm': [1, 5, 3, 2, 4, 6]},\n",
              "  {'perm': [5, 2, 4, 1, 3, 6]},\n",
              "  {'perm': [4, 2, 6, 5, 1, 3]},\n",
              "  {'perm': [3, 2, 5, 4, 6, 1]},\n",
              "  {'perm': [3, 1, 2, 6, 4, 5]},\n",
              "  {'perm': [2, 4, 6, 3, 1, 5]},\n",
              "  {'perm': [4, 1, 6, 5, 2, 3]},\n",
              "  {'perm': [3, 2, 5, 1, 6, 4]},\n",
              "  {'perm': [2, 5, 4, 6, 1, 3]},\n",
              "  {'perm': [4, 6, 2, 1, 5, 3]},\n",
              "  {'perm': [4, 3, 6, 2, 1, 5]},\n",
              "  {'perm': [4, 1, 3, 6, 5, 2]},\n",
              "  {'perm': [3, 6, 5, 4, 1, 2]},\n",
              "  {'perm': [6, 2, 1, 3, 4, 5]},\n",
              "  {'perm': [3, 2, 6, 5, 4, 1]},\n",
              "  {'perm': [4, 2, 1, 3, 5, 6]},\n",
              "  {'perm': [1, 6, 3, 2, 5, 4]},\n",
              "  {'perm': [2, 4, 1, 6, 3, 5]},\n",
              "  {'perm': [6, 5, 4, 1, 2, 3]},\n",
              "  {'perm': [2, 5, 4, 3, 6, 1]},\n",
              "  {'perm': [6, 4, 1, 5, 3, 2]},\n",
              "  {'perm': [3, 5, 4, 6, 2, 1]},\n",
              "  {'perm': [3, 5, 2, 1, 4, 6]},\n",
              "  {'perm': [1, 3, 5, 2, 6, 4]},\n",
              "  {'perm': [6, 1, 2, 3, 5, 4]},\n",
              "  {'perm': [6, 1, 5, 2, 3, 4]},\n",
              "  {'perm': [6, 3, 2, 1, 4, 5]},\n",
              "  {'perm': [2, 1, 6, 3, 4, 5]}]}"
            ]
          },
          "metadata": {},
          "execution_count": 21
        }
      ]
    },
    {
      "cell_type": "markdown",
      "source": [
        "## Mesh containment\n",
        "\n",
        "A mesh pattern of length $k$ is a pair $(\\pi, R)$ with $\\pi \\in S_k$ and $R \\subseteq [0, k] \\times [0, k]$ a set of pairs of integers. \n",
        "An occurrence of a mesh pattern $(\\sigma, R)$ in a permutation $\\pi$ is a subsequence $\\pi(i_1)\\ldots \\pi(i_k)$ such that the following holds\n",
        "* $\\pi(i_1)\\ldots \\pi(i_k)$ is order isomorphic to $\\sigma$\n",
        "* $(x,y)\\in R \\Rightarrow$ there does not exist $i\\in [n] : i_{x} < i < i_{x+1} \\land \\pi(i_{\\sigma^{-1}(y)}) < \\pi(i) < \\pi(i_{\\sigma^{-1}(y+1)})$\n",
        "\n",
        "\n",
        "The elements of $R$ identify the lower left corners of unit squares in the plot of $\\pi$, which specify forbidden regions. \n",
        "\n",
        "An example of a mesh pattern in $\\pi=521634$ is $(132,(0,0),(2,1),(2,2))$, as a valid subsequence is $263$."
      ],
      "metadata": {
        "id": "pkGRapgMvBgp"
      }
    },
    {
      "cell_type": "code",
      "source": [
        "%conjure_clear"
      ],
      "metadata": {
        "id": "pfY2Icqou_fH",
        "colab": {
          "base_uri": "https://localhost:8080/"
        },
        "outputId": "88abec35-f312-40ab-c1fe-a2aca4469aa7"
      },
      "execution_count": null,
      "outputs": [
        {
          "output_type": "stream",
          "name": "stdout",
          "text": [
            "Conjure model cleared\n"
          ]
        }
      ]
    },
    {
      "cell_type": "code",
      "source": [
        "length = 6\n",
        "mesh_containment = [ [ [1,3,2]\n",
        "                      , [ [0,0]\n",
        "                         ,[2,1]\n",
        "                         ,[2,2]\n",
        "                        ]\n",
        "                      ]\n",
        "                    ]\n",
        "\n",
        "\n",
        "# Old param for which we knew all solutions\n",
        "# length = 4\n",
        "# mesh_containment = [ [ [1,2,3]\n",
        "#                      , [ [0,1]\n",
        "#                         ,[1,3]\n",
        "#                         ,[2,0]\n",
        "#                        ]\n",
        "#                      ]\n",
        "#                    ]\n",
        "\n",
        "# 14 Solutions for avoidance should be\n",
        "# Avoiding pattern\n",
        "# 1234, 2134, 2314 ,2341, 3124, 3214, 3241, 3412, 3421, 4123, 4213, 4231, 4312, 4321"
      ],
      "metadata": {
        "id": "hR4J_2_HvZLt"
      },
      "execution_count": null,
      "outputs": []
    },
    {
      "cell_type": "code",
      "source": [
        "%%conjure --number-of-solutions=all --solver=minion\n",
        "\n",
        "language Essence 1.3\n",
        "\n",
        "$ This of mesh patterns to contain\n",
        "given containing : set of (sequence(injective) of int, relation of (int * int))\n",
        "\n",
        "$ The permutation we are searching for (1..length is the permutation)\n",
        "given length : int\n",
        "find perm : sequence (size length, injective) of int(1..length)\n",
        "\n",
        "\n",
        "$ creating a padded version of perm, where position 0 contains the value 0 and position length+1 contains the value length+1\n",
        "$ this is only used for mesh avoidance/containment\n",
        "find permPadded : matrix indexed by [int(0..length+1)] of int(0..length+1)\n",
        "such that permPadded[0] = 0, permPadded[length+1] = length+1\n",
        "such that forAll i : int(1..length) . perm(i) = permPadded[i]\n",
        "\n",
        "such that\n",
        "    $ av is the pattern, mesh is the mesh as a relation\n",
        "    forAll (av, mesh) in containing .\n",
        "    $ Build the inverse of 'av'. This is completely evaluated before solving.\n",
        "    exists avinv: matrix indexed by [int(0..|av|+1)] of int(0..|av|+1),\n",
        "                avinv[0] = 0 /\\ avinv[|av|+1] = |av|+1 /\\\n",
        "                (forAll i: int(1..|av|) . avinv[av(i)] = i).\n",
        "        $ Look for all places where the pattern can occur\n",
        "        exists ix : matrix indexed by [int(0..|av|+1)] of int(0..length+1),\n",
        "            and([ ix[0]=0\n",
        "                , ix[|av|+1]=length+1\n",
        "                , forAll i : int(0..|av|) . ix[i] < ix[i+1]\n",
        "                , forAll n1, n2 : int(1..|av|) , n1 < n2 .\n",
        "                    av(n1) < av(n2) <-> permPadded[ix[n1]] < permPadded[ix[n2]]\n",
        "                ]) .\n",
        "            !(\n",
        "                $ If we find the pattern, make sure there is at least one value in some cell of the mesh\n",
        "                exists (i,j) in mesh.\n",
        "                    exists z: int(ix[i]+1..ix[i+1]-1). (permPadded[ix[avinv[j]]] <= permPadded[z] /\\ permPadded[z] <= permPadded[ix[avinv[j+1]]])\n",
        "            )\n",
        "\n",
        "\n"
      ],
      "metadata": {
        "colab": {
          "base_uri": "https://localhost:8080/"
        },
        "id": "45o10lLzvn0e",
        "outputId": "d0d8cd65-bfd5-48b5-be71-8813bfecc6e0"
      },
      "execution_count": null,
      "outputs": [
        {
          "output_type": "stream",
          "name": "stderr",
          "text": [
            "Exception: Variable containing is not defined\n"
          ]
        }
      ]
    },
    {
      "cell_type": "markdown",
      "source": [
        "## Mesh avoidance\n",
        "\n",
        "We say that a permutation $\\pi$ avoids a mesh pattern $(\\sigma,R)$ if $\\pi$ classically avoids $\\sigma$ or for each occurence of $\\sigma$ in $\\pi$ one or more of the other mesh pattern constraints are violated.\n",
        "\n",
        "An example the mesh pattern $(132,(0,0),(2,1),(2,2))$ cannot be found inside the permutation $651423$."
      ],
      "metadata": {
        "id": "InajRqWSwU23"
      }
    },
    {
      "cell_type": "code",
      "source": [
        "%conjure_clear"
      ],
      "metadata": {
        "id": "toeOPHk-wXjy",
        "colab": {
          "base_uri": "https://localhost:8080/"
        },
        "outputId": "3614b798-be7c-4b69-ac0e-d9b2d300ed87"
      },
      "execution_count": null,
      "outputs": [
        {
          "output_type": "stream",
          "name": "stdout",
          "text": [
            "Conjure model cleared\n"
          ]
        }
      ]
    },
    {
      "cell_type": "code",
      "source": [
        "length = 6\n",
        "mesh_avoidance = [ [ [1,3,2]\n",
        "                      , [ [0,0]\n",
        "                         ,[2,1]\n",
        "                         ,[2,2]\n",
        "                        ]\n",
        "                      ]\n",
        "                    ]\n",
        "\n"
      ],
      "metadata": {
        "id": "t1Tqn7rwwUXb"
      },
      "execution_count": null,
      "outputs": []
    },
    {
      "cell_type": "code",
      "source": [
        "%%conjure --number-of-solutions=all --solver=minion\n",
        "\n",
        "language Essence 1.3\n",
        "\n",
        "$ This of mesh patterns to avoid\n",
        "given avoiding : set of (sequence(injective) of int, relation of (int * int))\n",
        "\n",
        "$ The permutation we are searching for (1..length is the permutation)\n",
        "given length : int\n",
        "find perm : sequence (size length, injective) of int(1..length)\n",
        "\n",
        "\n",
        "$ creating a padded version of perm, where position 0 contains the value 0 and position length+1 contains the value length+1\n",
        "$ this is only used for mesh avoidance/containment\n",
        "find permPadded : matrix indexed by [int(0..length+1)] of int(0..length+1)\n",
        "such that permPadded[0] = 0, permPadded[length+1] = length+1\n",
        "such that forAll i : int(1..length) . perm(i) = permPadded[i]\n",
        "\n",
        "such that\n",
        "    $ av is the pattern, mesh is the mesh as a relation\n",
        "    forAll (av, mesh) in avoiding .\n",
        "    $ Build the inverse of 'av'. This is completely evaluated before solving.\n",
        "    exists avinv: matrix indexed by [int(0..|av|+1)] of int(0..|av|+1),\n",
        "                avinv[0] = 0 /\\ avinv[|av|+1] = |av|+1 /\\\n",
        "                (forAll i: int(1..|av|) . avinv[av(i)] = i).\n",
        "        $ Look for all places where the pattern can occur\n",
        "        forAll ix : matrix indexed by [int(0..|av|+1)] of int(0..length+1),\n",
        "            and([ ix[0]=0\n",
        "                , ix[|av|+1]=length+1\n",
        "                , forAll i : int(0..|av|) . ix[i] < ix[i+1]\n",
        "                , forAll n1, n2 : int(1..|av|) , n1 < n2 .\n",
        "                    av(n1) < av(n2) <-> permPadded[ix[n1]] < permPadded[ix[n2]]\n",
        "                ]) .\n",
        "            (\n",
        "                $ If we find the pattern, make sure there is at least one value in some cell of the mesh\n",
        "                exists (i,j) in mesh.\n",
        "                    exists z: int(ix[i]+1..ix[i+1]-1). (permPadded[ix[avinv[j]]] <= permPadded[z] /\\ permPadded[z] <= permPadded[ix[avinv[j+1]]])\n",
        "            )\n",
        "\n",
        "\n"
      ],
      "metadata": {
        "colab": {
          "base_uri": "https://localhost:8080/"
        },
        "id": "o716bGBAwW3Y",
        "outputId": "086ffa92-b5bc-4e20-de5a-f83eafc86c38"
      },
      "execution_count": null,
      "outputs": [
        {
          "output_type": "stream",
          "name": "stderr",
          "text": [
            "Exception: Variable avoiding is not defined\n"
          ]
        }
      ]
    },
    {
      "cell_type": "markdown",
      "source": [
        "## Boxed Mesh containment (no model)\n",
        "\n",
        "A boxed mesh pattern, or simply boxed pattern, is a mesh pattern $P=(\\sigma, R)$ where $\\sigma$ is a permutation of length $k$ and $R=[1,k-1]\\times[1,k-1]$. $P$ is then denoted by \\framebox{$\\sigma$}.\n",
        "The constraints of mesh pattern containment apply here.\n",
        "\n",
        "For example the boxed pattern \\framebox{$231$} is contained in the permutation $236514$ as the subsequence $351$"
      ],
      "metadata": {
        "id": "IU99JGdy5dUD"
      }
    },
    {
      "cell_type": "code",
      "source": [
        "%conjure_clear"
      ],
      "metadata": {
        "id": "qW-ni3IlB-el",
        "colab": {
          "base_uri": "https://localhost:8080/"
        },
        "outputId": "f23cb74a-a503-42bb-d818-3a2220ba59ab"
      },
      "execution_count": null,
      "outputs": [
        {
          "output_type": "stream",
          "name": "stdout",
          "text": [
            "Conjure model cleared\n"
          ]
        }
      ]
    },
    {
      "cell_type": "code",
      "source": [
        "length = 6\n",
        "boxed_containment = [ [2,3,1] ]\n"
      ],
      "metadata": {
        "id": "6X6r6UGuB_r4"
      },
      "execution_count": null,
      "outputs": []
    },
    {
      "cell_type": "markdown",
      "source": [
        "## Boxed Mesh avoidance (no model)\n",
        "We say that a permutation $\\pi$ avoids a boxed mesh pattern $(\\sigma,R)$ if $\\pi$ classically avoids $\\sigma$ or for each occurence of $\\sigma$ in $\\pi$ one or more of the other box mesh pattern constraints are violated.\n",
        "\n",
        "For example the boxed pattern $231$ is avoided by the permutation $465123$."
      ],
      "metadata": {
        "id": "0waCWasT6LHm"
      }
    },
    {
      "cell_type": "code",
      "source": [
        "%conjure_clear"
      ],
      "metadata": {
        "id": "0kxWv2a96JxW",
        "colab": {
          "base_uri": "https://localhost:8080/"
        },
        "outputId": "d59a6389-d8c5-4ec4-c11d-a5163a739e7e"
      },
      "execution_count": null,
      "outputs": [
        {
          "output_type": "stream",
          "name": "stdout",
          "text": [
            "Conjure model cleared\n"
          ]
        }
      ]
    },
    {
      "cell_type": "code",
      "source": [
        "length = 6\n",
        "boxed_avoidance = [ [2,3,1] ]\n"
      ],
      "metadata": {
        "id": "YTDGAGTBCBlr"
      },
      "execution_count": null,
      "outputs": []
    },
    {
      "cell_type": "code",
      "source": [
        "%%conjure --number-of-solutions=all --solver=minion\n",
        "\n",
        "language Essence 1.3\n",
        "\n",
        "$ This of mesh patterns to contain\n",
        "given containing : set of (sequence(injective) of int, relation of (int * int))\n",
        "\n",
        "$ The permutation we are searching for (1..length is the permutation)\n",
        "given length : int\n",
        "find perm : sequence (size length, injective) of int(1..length)\n",
        "\n",
        "\n",
        "$ creating a padded version of perm, where position 0 contains the value 0 and position length+1 contains the value length+1\n",
        "$ this is only used for mesh avoidance/containment\n",
        "find permPadded : matrix indexed by [int(0..length+1)] of int(0..length+1)\n",
        "such that permPadded[0] = 0, permPadded[length+1] = length+1\n",
        "such that forAll i : int(1..length) . perm(i) = permPadded[i]\n",
        "\n",
        "such that\n",
        "    $ av is the pattern, mesh is the mesh as a relation\n",
        "    forAll (av, mesh) in containing .\n",
        "    $ Build the inverse of 'av'. This is completely evaluated before solving.\n",
        "    exists avinv: matrix indexed by [int(0..|av|+1)] of int(0..|av|+1),\n",
        "                avinv[0] = 0 /\\ avinv[|av|+1] = |av|+1 /\\\n",
        "                (forAll i: int(1..|av|) . avinv[av(i)] = i).\n",
        "        $ Look for all places where the pattern can occur\n",
        "        exists ix : matrix indexed by [int(0..|av|+1)] of int(0..length+1),\n",
        "            and([ ix[0]=0\n",
        "                , ix[|av|+1]=length+1\n",
        "                , forAll i : int(0..|av|) . ix[i] < ix[i+1]\n",
        "                , forAll n1, n2 : int(1..|av|) , n1 < n2 .\n",
        "                    av(n1) < av(n2) <-> permPadded[ix[n1]] < permPadded[ix[n2]]\n",
        "                ]) .\n",
        "            !(\n",
        "                $ If we find the pattern, make sure there is at least one value in some cell of the mesh\n",
        "                exists (i,j) in mesh.\n",
        "                    exists z: int(ix[i]+1..ix[i+1]-1). (permPadded[ix[avinv[j]]] <= permPadded[z] /\\ permPadded[z] <= permPadded[ix[avinv[j+1]]])\n",
        "            )\n",
        "\n",
        "\n"
      ],
      "metadata": {
        "id": "5U6i4wYNCCKN",
        "colab": {
          "base_uri": "https://localhost:8080/"
        },
        "outputId": "f5019de1-4ebb-49ee-8d5f-10bbe57837fc"
      },
      "execution_count": null,
      "outputs": [
        {
          "output_type": "stream",
          "name": "stderr",
          "text": [
            "Exception: Variable containing is not defined\n"
          ]
        }
      ]
    },
    {
      "cell_type": "markdown",
      "source": [
        "## Consecutive containment (no model)\n",
        "\n",
        "Consecutive patterns are a special case of vincular patterns, namely those where *all* entries are underlined. In an occurrence of a consecutive pattern it is thus necessary that *all* entries are adjacent. Finding an occurrence of a consecutive pattern therefore consists in finding a contiguous subsequence of $\\pi$ that is order-isomorphic to the pattern $\\sigma$.\n",
        "\n",
        "For example, the consecutive pattern $\\underline{312}$ can be found inside $152463$ as the subsequence $525$."
      ],
      "metadata": {
        "id": "ZqLAZ_7a6ZZc"
      }
    },
    {
      "cell_type": "code",
      "source": [
        "%conjure_clear"
      ],
      "metadata": {
        "id": "_apJH9KP6wa7",
        "colab": {
          "base_uri": "https://localhost:8080/"
        },
        "outputId": "5b67713e-4037-48b8-d221-a00ff277e10c"
      },
      "execution_count": null,
      "outputs": [
        {
          "output_type": "stream",
          "name": "stdout",
          "text": [
            "Conjure model cleared\n"
          ]
        }
      ]
    },
    {
      "cell_type": "code",
      "source": [
        "length = 6\n",
        "consecutive_containment = [ [3,1,2] ]"
      ],
      "metadata": {
        "id": "VGscFFXkCFsX"
      },
      "execution_count": null,
      "outputs": []
    },
    {
      "cell_type": "markdown",
      "source": [
        "## Consecutive avoidance (no model)\n",
        "\n",
        "A permutation $\\pi$ avoids a consecutive pattern $\\sigma$ if it either classically avoids $\\sigma$ or for all occurences of $\\sigma$ in $\\pi$ none are a contiguious subsequence of $\\pi$.\n",
        "\n",
        "For example, the permutation $416325$ avoids the consecutive pattern $\\underline{312}$."
      ],
      "metadata": {
        "id": "3MRVyGZU6xKe"
      }
    },
    {
      "cell_type": "code",
      "source": [
        "%conjure_clear"
      ],
      "metadata": {
        "id": "NJxxc_a_CHYX",
        "colab": {
          "base_uri": "https://localhost:8080/"
        },
        "outputId": "4bb333f3-66f7-4872-8ee4-63969abbcc36"
      },
      "execution_count": null,
      "outputs": [
        {
          "output_type": "stream",
          "name": "stdout",
          "text": [
            "Conjure model cleared\n"
          ]
        }
      ]
    },
    {
      "cell_type": "code",
      "source": [
        "length = 6\n",
        "consecutive_containment = [ [3,1,2] ]"
      ],
      "metadata": {
        "id": "orlIFiVUCIhK"
      },
      "execution_count": null,
      "outputs": []
    },
    {
      "cell_type": "markdown",
      "source": [
        "# Permutation properties\n",
        "\n",
        "We have 6 permutation properties.\n"
      ],
      "metadata": {
        "id": "P0YjZJLr8MCt"
      }
    },
    {
      "cell_type": "markdown",
      "source": [
        "## Simple permutation\n",
        "\n",
        "An *interval* of a permutation $\\pi$ corresponds to a set of contiguous indices $I = [a, b]$ such that the set of values $\\pi(I) = \\{\\pi(i) : i \\in I\\}$ is also contiguous. \n",
        "Every permutation of length $n$ has intervals of lengths 0, 1 and $n$. \n",
        "If a permutation $\\pi$ has no other intervals, then $\\pi$ is said to be *simple*.\n",
        "\n",
        "For example the permutation $251364$ is simple, but the permutation $635241$ is not as $63524$ or $3524$ are intervals (amongst others)."
      ],
      "metadata": {
        "id": "5D2Ij0_u8aBi"
      }
    },
    {
      "cell_type": "code",
      "source": [
        "%conjure_clear"
      ],
      "metadata": {
        "colab": {
          "base_uri": "https://localhost:8080/"
        },
        "id": "e9Ve8I-6AQhl",
        "outputId": "eb841c5b-5653-44f9-9ca4-7721ffe3eac1"
      },
      "execution_count": null,
      "outputs": [
        {
          "output_type": "stream",
          "name": "stdout",
          "text": [
            "Conjure model cleared\n"
          ]
        }
      ]
    },
    {
      "cell_type": "code",
      "source": [
        "length = 4"
      ],
      "metadata": {
        "id": "Yr1BbGieALa5"
      },
      "execution_count": null,
      "outputs": []
    },
    {
      "cell_type": "code",
      "source": [
        "%%conjure --number-of-solutions=all --solver=minion\n",
        "\n",
        "language Essence 1.3\n",
        "\n",
        "given length : int\n",
        "find perm : sequence (size length, injective) of int(1..length)\n",
        "\n",
        "$ Simple permutations do not contain intervals.\n",
        "$ An interval is a set of contiguous indices such that the values are also contiguous.\n",
        "\n",
        "$ perm is a simple permutation\n",
        "such that\n",
        "    [ max(subperm) - min(subperm) + 1 != |subperm|          $ the values are not contiguous\n",
        "    | i : int(1..length)                                    $ start index of the sub perm\n",
        "    , j : int(1..length)                                    $ end index of the sub perm\n",
        "    , i < j                                                 $ start comes before end\n",
        "    , (i,j) != (1,length)                                   $ it's not the full permutation\n",
        "    , letting subperm be [perm(k) | k : int(i..j)]          $ give the sub perm a name\n",
        "    ]\n"
      ],
      "metadata": {
        "id": "2-xnvCxp9eqk",
        "colab": {
          "base_uri": "https://localhost:8080/"
        },
        "outputId": "1c05a762-509a-4b6f-897b-7c4b8a171698"
      },
      "execution_count": null,
      "outputs": [
        {
          "output_type": "execute_result",
          "data": {
            "text/plain": [
              "{'conjure_solutions': [{'perm': [2, 4, 1, 3]}, {'perm': [3, 1, 4, 2]}]}"
            ]
          },
          "metadata": {},
          "execution_count": 39
        }
      ]
    },
    {
      "cell_type": "markdown",
      "source": [
        "## Block-wise simple (no definition)\n",
        "\n",
        "Is another property that Ruth will write about. \n",
        "This is the one we are waiting for the OK of Eli.\n"
      ],
      "metadata": {
        "id": "vDn-_m6bAcPM"
      }
    },
    {
      "cell_type": "code",
      "source": [
        "%conjure_clear"
      ],
      "metadata": {
        "colab": {
          "base_uri": "https://localhost:8080/"
        },
        "id": "yCwMJkk-AgxB",
        "outputId": "54b7d5bc-f40b-49f1-ff46-dfbc5bbcd0bb"
      },
      "execution_count": null,
      "outputs": [
        {
          "output_type": "stream",
          "name": "stdout",
          "text": [
            "Conjure model cleared\n"
          ]
        }
      ]
    },
    {
      "cell_type": "code",
      "source": [
        "length = 4"
      ],
      "metadata": {
        "id": "oSmdTf9KAh49"
      },
      "execution_count": null,
      "outputs": []
    },
    {
      "cell_type": "code",
      "source": [
        "%%conjure --number-of-solutions=all --solver=minion\n",
        "\n",
        "language Essence 1.3\n",
        "\n",
        "given length : int\n",
        "find perm : sequence (size length, injective) of int(1..length)\n",
        "\n",
        "such that\n",
        "    [ and([ max([ perm(i) | i : int(start..middle) ]) > min([ perm(i) | i : int(middle+1..end) ])\n",
        "          , min([ perm(i) | i : int(start..middle) ]) < max([ perm(i) | i : int(middle+1..end) ])\n",
        "          $ , forAll i : int(1..start-1) . perm(i) < minSE \\/ perm(i) > maxSE\n",
        "          $ , forAll i : int(end+1..length) . perm(i) < minSE \\/ perm(i) > maxSE\n",
        "          ])\n",
        "    | start, middle, end : int(1..length)\n",
        "    , start <= middle\n",
        "    , middle < end\n",
        "    , letting minSE be min([ perm(i) | i : int(start..end) ])\n",
        "    , letting maxSE be max([ perm(i) | i : int(start..end) ])\n",
        "    , maxSE - minSE = end - start\n",
        "    ]"
      ],
      "metadata": {
        "colab": {
          "base_uri": "https://localhost:8080/"
        },
        "id": "Rb3Cy_HfAjwy",
        "outputId": "4a711f11-cff4-4656-fa47-65c35328a66e"
      },
      "execution_count": null,
      "outputs": [
        {
          "output_type": "execute_result",
          "data": {
            "text/plain": [
              "{'conjure_solutions': [{'perm': [3, 1, 4, 2]}, {'perm': [2, 4, 1, 3]}]}"
            ]
          },
          "metadata": {},
          "execution_count": 42
        }
      ]
    },
    {
      "cell_type": "markdown",
      "source": [
        "## Plus-decomposable\n",
        "\n",
        "Given a permutation $\\sigma=\\sigma(1)\\ldots\\sigma(m)$ of length $m$ and non-empty permutations $\\alpha_{1},\\ldots,\\alpha_{m}$ the *inflation* of $\\sigma$ by $\\alpha_{1},\\ldots,\\alpha_{m}$, written as $\\sigma[\\alpha_{1},\\ldots,\\alpha_{m}]$, is the unique permutation obtained by replacing each entry $\\sigma(i)$ by an interval that is order isomorphic to $\\alpha_{i}$, where the relative ordering of the intervals corresponds to the ordering of the entries of $\\sigma$. Conversely, a *block-decomposition* or *deflation* of a permutation $\\pi$ is any expression of $\\pi$ written as an inflation $\\pi=\\sigma[\\alpha_{1},\\ldots,\\alpha_{m}]$.\n",
        "\n",
        "A permutation $\\pi$ is *plus-decomposable* if it has a deflation of the form $\\pi = 12 [\\alpha_1,\\alpha_2]$ for non-empty permutations $\\alpha_1$ and $\\alpha_2$. \n",
        "\n",
        "For example $213654$ is a plus-decomposable permutation.\n",
        "But $546123$ (which is minus-decomposable) or $236145$ (which is not simple) are not."
      ],
      "metadata": {
        "id": "HFfn8htvAkRk"
      }
    },
    {
      "cell_type": "code",
      "source": [
        "%conjure_clear"
      ],
      "metadata": {
        "id": "a2QvAVqhBR6L",
        "colab": {
          "base_uri": "https://localhost:8080/"
        },
        "outputId": "9612e233-3a3c-4a1d-836f-d6052715fabe"
      },
      "execution_count": null,
      "outputs": [
        {
          "output_type": "stream",
          "name": "stdout",
          "text": [
            "Conjure model cleared\n"
          ]
        }
      ]
    },
    {
      "cell_type": "code",
      "source": [
        "length = 4"
      ],
      "metadata": {
        "id": "BJT3sADWAuAK"
      },
      "execution_count": null,
      "outputs": []
    },
    {
      "cell_type": "code",
      "source": [
        "%%conjure --number-of-solutions=all --solver=minion\n",
        "\n",
        "language Essence 1.3\n",
        "\n",
        "given length : int\n",
        "find perm : sequence (size length, injective) of int(1..length)\n",
        "\n",
        "$ perm is plus-decomposable\n",
        "such that\n",
        "    exists sep : int(1..length-1) .\n",
        "        max([ perm(i) | i : int(1..sep) ]) < min([ perm(i) | i : int(sep+1..length) ])\n"
      ],
      "metadata": {
        "colab": {
          "base_uri": "https://localhost:8080/"
        },
        "id": "i82ahgqcAu_t",
        "outputId": "749d5861-bb17-42f4-cc6f-76ddce8cfddb"
      },
      "execution_count": null,
      "outputs": [
        {
          "output_type": "execute_result",
          "data": {
            "text/plain": [
              "{'conjure_solutions': [{'perm': [2, 1, 4, 3]},\n",
              "  {'perm': [1, 2, 4, 3]},\n",
              "  {'perm': [1, 4, 2, 3]},\n",
              "  {'perm': [1, 2, 3, 4]},\n",
              "  {'perm': [3, 2, 1, 4]},\n",
              "  {'perm': [1, 4, 3, 2]},\n",
              "  {'perm': [2, 1, 3, 4]},\n",
              "  {'perm': [1, 3, 4, 2]},\n",
              "  {'perm': [3, 1, 2, 4]},\n",
              "  {'perm': [1, 3, 2, 4]},\n",
              "  {'perm': [2, 3, 1, 4]}]}"
            ]
          },
          "metadata": {},
          "execution_count": 124
        }
      ]
    },
    {
      "cell_type": "markdown",
      "source": [
        "## Minus-decomposable\n",
        "\n",
        "A permutation $\\pi$ is *minus-decomposable* if it has a deflation of the form $\\pi = 21 [\\alpha_1,\\alpha_2]$ for non-empty permutations $\\alpha_1$ and $\\alpha_2$.\n",
        "\n",
        "For example $546123$ is a minus-decomposable permutation.\n",
        "But $213654$ (which is plus-decomposable) or $236145$ (which is not simple) are not.\n",
        "\n"
      ],
      "metadata": {
        "id": "cZo6hM5GBSd0"
      }
    },
    {
      "cell_type": "code",
      "source": [
        "%conjure_clear"
      ],
      "metadata": {
        "colab": {
          "base_uri": "https://localhost:8080/"
        },
        "id": "Oy4CtsDdA26w",
        "outputId": "c86aeb5e-9f96-4f37-be19-02d1b6e04aa3"
      },
      "execution_count": null,
      "outputs": [
        {
          "output_type": "stream",
          "name": "stdout",
          "text": [
            "Conjure model cleared\n"
          ]
        }
      ]
    },
    {
      "cell_type": "code",
      "source": [
        "length = 4"
      ],
      "metadata": {
        "id": "egEHPJPTA4Kw"
      },
      "execution_count": null,
      "outputs": []
    },
    {
      "cell_type": "code",
      "source": [
        "%%conjure --number-of-solutions=all --solver=minion\n",
        "\n",
        "language Essence 1.3\n",
        "\n",
        "given length : int\n",
        "find perm : sequence (size length, injective) of int(1..length)\n",
        "\n",
        "$ perm is minus-decomposable\n",
        "such that\n",
        "    exists sep : int(1..length-1) .\n",
        "        min([ perm(i) | i : int(1..sep) ]) > max([ perm(i) | i : int(sep+1..length) ])\n"
      ],
      "metadata": {
        "colab": {
          "base_uri": "https://localhost:8080/"
        },
        "id": "tDxdZidiA4y2",
        "outputId": "393046c0-95c4-4a64-98ac-765d71a2e010"
      },
      "execution_count": null,
      "outputs": [
        {
          "output_type": "execute_result",
          "data": {
            "text/plain": [
              "{'conjure_solutions': [{'perm': [3, 4, 2, 1]},\n",
              "  {'perm': [4, 2, 3, 1]},\n",
              "  {'perm': [3, 4, 1, 2]},\n",
              "  {'perm': [2, 4, 3, 1]},\n",
              "  {'perm': [4, 3, 2, 1]},\n",
              "  {'perm': [2, 3, 4, 1]},\n",
              "  {'perm': [4, 1, 2, 3]},\n",
              "  {'perm': [4, 1, 3, 2]},\n",
              "  {'perm': [4, 3, 1, 2]},\n",
              "  {'perm': [3, 2, 4, 1]},\n",
              "  {'perm': [4, 2, 1, 3]}]}"
            ]
          },
          "metadata": {},
          "execution_count": 129
        }
      ]
    },
    {
      "cell_type": "markdown",
      "source": [
        "## Involution\n",
        "\n",
        "A permutation $\\pi\\in S_n$ is called an *involution*, if $\\pi=\\pi^{-1}$.\n",
        "\n",
        "A permutation is an involution precisely if and only if it can be written as a finite product of disjoint transpositions.\n",
        "\n",
        "$1243=(12)(43)$ is an involution but $2431=(124)(3)=(12)(24)(41)(3)$ is not."
      ],
      "metadata": {
        "id": "LUti2HtP9fWw"
      }
    },
    {
      "cell_type": "code",
      "source": [
        "%conjure_clear"
      ],
      "metadata": {
        "id": "3ouxKcMk9_gq",
        "colab": {
          "base_uri": "https://localhost:8080/"
        },
        "outputId": "13f82128-836c-497f-81eb-52d5c9dba548"
      },
      "execution_count": null,
      "outputs": [
        {
          "output_type": "stream",
          "name": "stdout",
          "text": [
            "Conjure model cleared\n"
          ]
        }
      ]
    },
    {
      "cell_type": "code",
      "source": [
        "length = 4"
      ],
      "metadata": {
        "id": "dcY4hy5oBnRQ"
      },
      "execution_count": null,
      "outputs": []
    },
    {
      "cell_type": "code",
      "source": [
        "%%conjure --number-of-solutions=all --solver=minion\n",
        "\n",
        "language Essence 1.3\n",
        "\n",
        "given length : int\n",
        "find perm : sequence (size length, injective) of int(1..length)\n",
        "\n",
        "$ perm is an involution\n",
        "$ perm * perm = id\n",
        "such that\n",
        "    forAll i : int(1..length) .\n",
        "        perm(perm(i)) = i\n"
      ],
      "metadata": {
        "id": "STIJOFJnBoxg",
        "colab": {
          "base_uri": "https://localhost:8080/"
        },
        "outputId": "28ab5c1a-7e86-4fe3-efcb-38bdb9efc6ea"
      },
      "execution_count": null,
      "outputs": [
        {
          "output_type": "execute_result",
          "data": {
            "text/plain": [
              "{'conjure_solutions': [{'perm': [2, 1, 3, 4]},\n",
              "  {'perm': [1, 2, 4, 3]},\n",
              "  {'perm': [1, 2, 3, 4]},\n",
              "  {'perm': [2, 1, 4, 3]},\n",
              "  {'perm': [3, 4, 1, 2]},\n",
              "  {'perm': [1, 4, 3, 2]},\n",
              "  {'perm': [4, 2, 3, 1]},\n",
              "  {'perm': [3, 2, 1, 4]},\n",
              "  {'perm': [4, 3, 2, 1]},\n",
              "  {'perm': [1, 3, 2, 4]}]}"
            ]
          },
          "metadata": {},
          "execution_count": 51
        }
      ]
    },
    {
      "cell_type": "code",
      "source": [
        "# testing\n",
        "\n",
        "for sol in conjure_solutions:\n",
        "    perm = sol[\"perm\"]\n",
        "    for i in range(1, length+1):\n",
        "        iVal = perm[i-1] # applied once\n",
        "        iValVal = perm[iVal-1] # applied twice\n",
        "        if i != iValVal:\n",
        "            print(\"Not an involution:\", perm)\n",
        "            break\n"
      ],
      "metadata": {
        "id": "sR-a6IG2BTFz"
      },
      "execution_count": null,
      "outputs": []
    },
    {
      "cell_type": "markdown",
      "source": [
        "## Derangement\n",
        "\n",
        "\n",
        "A *derangement* is a permutation with no fixed point. Which means that in each index the value of the element is not equal to the index value, so $\\pi(i)\\neq i$.\n",
        "\n",
        "$4312$ is a derangement whereas $1234$ is not."
      ],
      "metadata": {
        "id": "UJf8msH--AX4"
      }
    },
    {
      "cell_type": "code",
      "source": [
        "%conjure_clear"
      ],
      "metadata": {
        "id": "u_NAcOLI-SyF",
        "colab": {
          "base_uri": "https://localhost:8080/"
        },
        "outputId": "d5f6472d-f25a-42bb-a5e4-23e45b63a0ac"
      },
      "execution_count": null,
      "outputs": [
        {
          "output_type": "stream",
          "name": "stdout",
          "text": [
            "Conjure model cleared\n"
          ]
        }
      ]
    },
    {
      "cell_type": "code",
      "source": [
        "length = 4"
      ],
      "metadata": {
        "id": "YpNaSXyCBlzw"
      },
      "execution_count": null,
      "outputs": []
    },
    {
      "cell_type": "code",
      "source": [
        "%%conjure --number-of-solutions=all --solver=minion\n",
        "\n",
        "language Essence 1.3\n",
        "\n",
        "given length : int\n",
        "find perm : sequence (size length, injective) of int(1..length)\n",
        "\n",
        "such that\n",
        "    forAll i : int(1..length) .\n",
        "        perm(i) != i\n"
      ],
      "metadata": {
        "id": "4Be69uIdBrJ-",
        "colab": {
          "base_uri": "https://localhost:8080/"
        },
        "outputId": "a8779129-7680-4464-d48f-e1d359612c4d"
      },
      "execution_count": null,
      "outputs": [
        {
          "output_type": "execute_result",
          "data": {
            "text/plain": [
              "{'conjure_solutions': [{'perm': [3, 4, 1, 2]},\n",
              "  {'perm': [3, 1, 4, 2]},\n",
              "  {'perm': [2, 1, 4, 3]},\n",
              "  {'perm': [2, 4, 1, 3]},\n",
              "  {'perm': [4, 3, 2, 1]},\n",
              "  {'perm': [3, 4, 2, 1]},\n",
              "  {'perm': [2, 3, 4, 1]},\n",
              "  {'perm': [4, 3, 1, 2]},\n",
              "  {'perm': [4, 1, 2, 3]}]}"
            ]
          },
          "metadata": {},
          "execution_count": 55
        }
      ]
    },
    {
      "cell_type": "code",
      "source": [
        "# testing\n",
        "\n",
        "for sol in conjure_solutions:\n",
        "    perm = sol[\"perm\"]\n",
        "    for i in range(1, length+1):\n",
        "        iVal = perm[i-1] # applied once\n",
        "        if i == iVal:\n",
        "            print(\"Not a derangement:\", perm)\n",
        "            break\n"
      ],
      "metadata": {
        "id": "TGpABIwJCMVU"
      },
      "execution_count": null,
      "outputs": []
    },
    {
      "cell_type": "markdown",
      "source": [
        "## Non-derangement\n",
        "\n",
        "A *nonderangement* is a permutation with at least one fixed\n",
        "point. i.e. there is at least one $i$ such that $\\pi(i)=i$.\n",
        "\n",
        "$2431$ is a non-derangement whereas $4321$ is not."
      ],
      "metadata": {
        "id": "xHLfnG-N-TEg"
      }
    },
    {
      "cell_type": "code",
      "source": [
        "%conjure_clear"
      ],
      "metadata": {
        "id": "dIhPoPGV-Yfo",
        "colab": {
          "base_uri": "https://localhost:8080/"
        },
        "outputId": "5aa36cd0-9a0e-41e6-cac8-c7e6c3dd3082"
      },
      "execution_count": null,
      "outputs": [
        {
          "output_type": "stream",
          "name": "stdout",
          "text": [
            "Conjure model cleared\n"
          ]
        }
      ]
    },
    {
      "cell_type": "code",
      "source": [
        "length = 3"
      ],
      "metadata": {
        "id": "6XUwUHR7BkPK"
      },
      "execution_count": null,
      "outputs": []
    },
    {
      "cell_type": "code",
      "source": [
        "%%conjure --number-of-solutions=all --solver=minion\n",
        "\n",
        "language Essence 1.3\n",
        "\n",
        "given length : int\n",
        "find perm : sequence (size length, injective) of int(1..length)\n",
        "\n",
        "such that\n",
        "    exists i : int(1..length) .\n",
        "        perm(i) = i\n"
      ],
      "metadata": {
        "id": "4tYzr3_4BslM",
        "colab": {
          "base_uri": "https://localhost:8080/"
        },
        "outputId": "e627c6b8-5298-40c1-f2c3-789ddb8008d2"
      },
      "execution_count": null,
      "outputs": [
        {
          "output_type": "execute_result",
          "data": {
            "text/plain": [
              "{'conjure_solutions': [{'perm': [1, 2, 3]},\n",
              "  {'perm': [2, 1, 3]},\n",
              "  {'perm': [1, 3, 2]},\n",
              "  {'perm': [3, 2, 1]}]}"
            ]
          },
          "metadata": {},
          "execution_count": 59
        }
      ]
    },
    {
      "cell_type": "code",
      "source": [
        "# testing\n",
        "\n",
        "for sol in conjure_solutions:\n",
        "    perm = sol[\"perm\"]\n",
        "    if any([i == perm[i-1] for i in range(1, length+1)]):\n",
        "        # it is a non-derangement\n",
        "        pass\n",
        "    else:\n",
        "        print(\"Not a non-derangement:\", perm)\n",
        "    # for :\n",
        "    #     iVal = perm[i-1] # applied once\n",
        "    #     if i == iVal:\n",
        "    #         non_derangement = True\n",
        "            \n",
        "    #         break\n"
      ],
      "metadata": {
        "id": "bsE2B7mbCXQn"
      },
      "execution_count": null,
      "outputs": []
    },
    {
      "cell_type": "markdown",
      "source": [
        "# Permutation statistics\n",
        "\n",
        "We support XX different statistics in permutations.\n"
      ],
      "metadata": {
        "id": "A6Ca2nbgBhcs"
      }
    },
    {
      "cell_type": "markdown",
      "source": [
        "## Number of inversions\n",
        "\n",
        "An *inversion* in a permutation is a pair of numbers such that the larger number appears to the left of the smaller one in the permutation."
      ],
      "metadata": {
        "id": "7zvNLqjpNC68"
      }
    },
    {
      "cell_type": "code",
      "source": [
        "%conjure_clear"
      ],
      "metadata": {
        "colab": {
          "base_uri": "https://localhost:8080/"
        },
        "id": "NTgEcgpFBW2n",
        "outputId": "7b9a064d-3247-4343-dc93-a603526fc90e"
      },
      "execution_count": null,
      "outputs": [
        {
          "output_type": "stream",
          "name": "stdout",
          "text": [
            "Conjure model cleared\n"
          ]
        }
      ]
    },
    {
      "cell_type": "code",
      "source": [
        "length = 3"
      ],
      "metadata": {
        "id": "pq9XJqOKBYMo"
      },
      "execution_count": null,
      "outputs": []
    },
    {
      "cell_type": "code",
      "source": [
        "%%conjure --number-of-solutions=all --solver=minion\n",
        "\n",
        "language Essence 1.3\n",
        "\n",
        "given length : int\n",
        "find perm : sequence (size length, injective) of int(1..length)\n",
        "\n",
        "$ the inversion count\n",
        "find inversionCount : int(0..length**2) $ upper bound is not tight\n",
        "such that\n",
        "    inversionCount =\n",
        "        sum([ 1\n",
        "            | i,j : int(1..length)\n",
        "            , i < j\n",
        "            , perm(i) > perm(j)\n",
        "            ])\n"
      ],
      "metadata": {
        "colab": {
          "base_uri": "https://localhost:8080/"
        },
        "id": "B4UFQDwGBaZX",
        "outputId": "4f3c1f40-290d-4514-d7e3-11873e08b32b"
      },
      "execution_count": null,
      "outputs": [
        {
          "output_type": "execute_result",
          "data": {
            "text/plain": [
              "{'conjure_solutions': [{'inversionCount': 3, 'perm': [3, 2, 1]},\n",
              "  {'inversionCount': 0, 'perm': [1, 2, 3]},\n",
              "  {'inversionCount': 2, 'perm': [3, 1, 2]},\n",
              "  {'inversionCount': 1, 'perm': [1, 3, 2]},\n",
              "  {'inversionCount': 2, 'perm': [2, 3, 1]},\n",
              "  {'inversionCount': 1, 'perm': [2, 1, 3]}]}"
            ]
          },
          "metadata": {},
          "execution_count": 63
        }
      ]
    },
    {
      "cell_type": "markdown",
      "source": [
        "# Examples"
      ],
      "metadata": {
        "id": "wo6stFotFCyo"
      }
    },
    {
      "cell_type": "markdown",
      "source": [
        "## Contain vincularly, avoid bivincularly\n",
        "\n",
        "Let us look for all permutations of length 6 which avoid the bivincular pattern $\\underline{23}1$, contain the vincular pattern $\\underline{23}1$, are a non-derangement, are plus-decomposable and have an inversion count of 7."
      ],
      "metadata": {
        "id": "RVO_VV20FPIR"
      }
    },
    {
      "cell_type": "code",
      "source": [
        "%conjure_clear"
      ],
      "metadata": {
        "colab": {
          "base_uri": "https://localhost:8080/"
        },
        "id": "uTS5p2gpFHEV",
        "outputId": "45dde83f-40df-47a8-cc38-1829c23b9e5b"
      },
      "execution_count": null,
      "outputs": [
        {
          "output_type": "stream",
          "name": "stdout",
          "text": [
            "Conjure model cleared\n"
          ]
        }
      ]
    },
    {
      "cell_type": "code",
      "source": [
        "length = 6\n",
        "vincular_containment = [ [ [2,3,1]\n",
        "                         , [1]\n",
        "                         ]\n",
        "                       ]\n",
        "bivincular_avoidance = [ [ [2,3,1]\n",
        "                         , [1]\n",
        "                         ]\n",
        "                       ]"
      ],
      "metadata": {
        "id": "itEBMG_fFSvS"
      },
      "execution_count": null,
      "outputs": []
    },
    {
      "cell_type": "code",
      "source": [
        "%%conjure --number-of-solutions=all --solver=minion\n",
        "\n",
        "given length : int\n",
        "given vincular_containment : set of (sequence (injective) of int, set of int)\n",
        "\n",
        "find perm : sequence (size length, injective) of int(1..length)\n",
        "\n",
        "such that\n",
        "    forAll (pattern, bars) in vincular_containment .\n",
        "        exists ix : matrix indexed by [int(1..|pattern|)] of int(1..length)\n",
        "        \n",
        "            , (forAll i,j : int(1..|pattern|) . i < j -> ix[i] < ix[j]) /\\\n",
        "            $ n1 and n2 are indices\n",
        "            (forAll n1, n2 : int(1..|pattern|) , n1 < n2 .\n",
        "                (pattern(n1) < pattern(n2) <-> perm(ix[n1]) < perm(ix[n2]))\n",
        "            )\n",
        "\n",
        "            .\n",
        "\n",
        "            (forAll bar in bars . ix[bar] + 1 = ix[bar+1])\n",
        "\n",
        "            $ for bivincular, we need:\n",
        "            $ /\\\n",
        "            $ (forAll bar in bars . perm(ix[bar]) + 1 = perm(ix[bar+1])\n",
        "\n",
        "\n",
        "\n",
        "\n",
        "given bivincular_avoidance : set of (sequence (injective) of int, set of int)\n",
        "\n",
        "such that\n",
        "    forAll (pattern, bars) in bivincular_avoidance .\n",
        "        forAll ix : matrix indexed by [int(1..|pattern|)] of int(1..length)\n",
        "        \n",
        "            , (forAll i,j : int(1..|pattern|) . i < j -> ix[i] < ix[j]) /\\\n",
        "            $ n1 and n2 are indices\n",
        "            (forAll n1, n2 : int(1..|pattern|) , n1 < n2 .\n",
        "                (pattern(n1) < pattern(n2) <-> perm(ix[n1]) < perm(ix[n2]))\n",
        "            )\n",
        "\n",
        "            .\n",
        "\n",
        "            !(  (forAll bar in bars . ix[bar] + 1 = ix[bar+1])\n",
        "                /\\\n",
        "                (forAll bar in bars . perm(ix[bar]) + 1 = perm(ix[bar+1]))\n",
        "            )\n",
        "\n",
        "\n",
        "\n",
        "$ non-derangement\n",
        "such that\n",
        "    exists i : int(1..length) .\n",
        "        perm(i) = i\n",
        "\n",
        "\n",
        "$ perm is plus-decomposable\n",
        "such that\n",
        "    exists sep : int(1..length-1) .\n",
        "        max([ perm(i) | i : int(1..sep) ]) < min([ perm(i) | i : int(sep+1..length) ])\n",
        "\n",
        "\n",
        "$ the inversion count\n",
        "find inversionCount : int(0..length**2) $ upper bound is not tight\n",
        "such that\n",
        "    inversionCount =\n",
        "        sum([ 1\n",
        "            | i,j : int(1..length)\n",
        "            , i < j\n",
        "            , perm(i) > perm(j)\n",
        "            ])\n",
        "\n",
        "such that inversionCount = 7\n"
      ],
      "metadata": {
        "colab": {
          "base_uri": "https://localhost:8080/"
        },
        "id": "lqftPmRoFfwZ",
        "outputId": "cdd119c9-c858-4853-aada-e5f0823c7c88"
      },
      "execution_count": null,
      "outputs": [
        {
          "output_type": "execute_result",
          "data": {
            "text/plain": [
              "{'conjure_solutions': [{'inversionCount': 7, 'perm': [5, 2, 4, 1, 3, 6]},\n",
              "  {'inversionCount': 7, 'perm': [2, 5, 4, 3, 1, 6]},\n",
              "  {'inversionCount': 7, 'perm': [1, 5, 4, 3, 6, 2]},\n",
              "  {'inversionCount': 7, 'perm': [4, 3, 2, 5, 1, 6]},\n",
              "  {'inversionCount': 7, 'perm': [1, 6, 3, 5, 2, 4]},\n",
              "  {'inversionCount': 7, 'perm': [1, 5, 4, 6, 2, 3]},\n",
              "  {'inversionCount': 7, 'perm': [4, 2, 5, 3, 1, 6]},\n",
              "  {'inversionCount': 7, 'perm': [1, 4, 6, 3, 5, 2]},\n",
              "  {'inversionCount': 7, 'perm': [1, 3, 6, 5, 4, 2]},\n",
              "  {'inversionCount': 7, 'perm': [3, 5, 2, 4, 1, 6]},\n",
              "  {'inversionCount': 7, 'perm': [1, 5, 3, 6, 4, 2]},\n",
              "  {'inversionCount': 7, 'perm': [4, 3, 5, 1, 2, 6]},\n",
              "  {'inversionCount': 7, 'perm': [3, 5, 4, 1, 2, 6]},\n",
              "  {'inversionCount': 7, 'perm': [1, 4, 6, 5, 2, 3]}]}"
            ]
          },
          "metadata": {},
          "execution_count": 149
        }
      ]
    },
    {
      "cell_type": "code",
      "source": [
        "print(len(conjure_solutions))\n",
        "\n",
        "for sol in conjure_solutions:\n",
        "    perm = sol[\"perm\"]\n",
        "    if perm == [1,3,6,5,4,2]:\n",
        "        print(\"Yes\")"
      ],
      "metadata": {
        "colab": {
          "base_uri": "https://localhost:8080/"
        },
        "id": "NaOOyD6CFos0",
        "outputId": "d2b9d204-d97c-4f0d-b0c0-7613503b7fa3"
      },
      "execution_count": null,
      "outputs": [
        {
          "output_type": "stream",
          "name": "stdout",
          "text": [
            "14\n",
            "Yes\n"
          ]
        }
      ]
    }
  ]
}