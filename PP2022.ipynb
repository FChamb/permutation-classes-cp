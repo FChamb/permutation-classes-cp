{
  "nbformat": 4,
  "nbformat_minor": 0,
  "metadata": {
    "colab": {
      "name": "PP2022.ipynb",
      "provenance": [],
      "collapsed_sections": [],
      "include_colab_link": true
    },
    "kernelspec": {
      "name": "python3",
      "display_name": "Python 3"
    },
    "language_info": {
      "name": "python"
    }
  },
  "cells": [
    {
      "cell_type": "markdown",
      "metadata": {
        "id": "view-in-github",
        "colab_type": "text"
      },
      "source": [
        "<a href=\"https://colab.research.google.com/github/stacs-cp/permutation-classes-cp/blob/main/PP2022.ipynb\" target=\"_parent\"><img src=\"https://colab.research.google.com/assets/colab-badge.svg\" alt=\"Open In Colab\"/></a>"
      ]
    },
    {
      "cell_type": "code",
      "execution_count": 1,
      "metadata": {
        "colab": {
          "base_uri": "https://localhost:8080/",
          "height": 102
        },
        "id": "KDQiry_lhs_U",
        "outputId": "9febba0b-75da-46c9-c5b9-c640beb6af8d"
      },
      "outputs": [
        {
          "output_type": "stream",
          "name": "stdout",
          "text": [
            "  % Total    % Received % Xferd  Average Speed   Time    Time     Time  Current\n",
            "                                 Dload  Upload   Total   Spent    Left  Speed\n",
            "\r  0     0    0     0    0     0      0      0 --:--:-- --:--:-- --:--:--     0\r100   649  100   649    0     0  12725      0 --:--:-- --:--:-- --:--:-- 12725\n"
          ]
        },
        {
          "output_type": "display_data",
          "data": {
            "text/plain": [
              "<IPython.core.display.Javascript object>"
            ],
            "application/javascript": [
              "\"use strict\";\n",
              "\n",
              "CodeMirror.defineMode(\"text/conjure\", function (config) {\n",
              "\n",
              "    var isOperatorChar = /[+\\-*=<>%^\\/]/;\n",
              "\n",
              "    var keywords = {\n",
              "        \"forall\": true,\n",
              "        \"allDifferent\": true,\n",
              "        \"allDiff\": true,\n",
              "        \"alldifferent_except\": true,\n",
              "        \"dim\": true,\n",
              "        \"toSet\": true,\n",
              "        \"toMSet\": true,\n",
              "        \"toRelation\": true,\n",
              "        \"maximising\": true,\n",
              "        \"minimising\": true,\n",
              "        \"forAll\": true,\n",
              "        \"exists\": true,\n",
              "        \"toInt\": true,\n",
              "        \"sum\": true,\n",
              "        \"be\": true,\n",
              "        \"bijective\": true,\n",
              "        \"bool\": true,\n",
              "        \"by\": true,\n",
              "        \"complete\": true,\n",
              "        \"defined\": true,\n",
              "        \"domain\": true,\n",
              "        \"in\": true,\n",
              "        \"or\": true,\n",
              "        \"and\": true,\n",
              "        \"false\": true,\n",
              "        \"find\": true,\n",
              "        \"from\": true,\n",
              "        \"function\": true,\n",
              "        \"given\": true,\n",
              "        \"image\": true,\n",
              "        \"indexed\": true,\n",
              "        \"injective\": true,\n",
              "        \"int\": true,\n",
              "        \"intersect\": true,\n",
              "        \"freq\": true,\n",
              "        \"lambda\": true,\n",
              "        \"language\": true,\n",
              "        \"letting\": true,\n",
              "        \"matrix\": true,\n",
              "        \"maxNumParts\": true,\n",
              "        \"maxOccur\": true,\n",
              "        \"maxPartSize\": true,\n",
              "        \"maxSize\": true,\n",
              "        \"minNumParts\": true,\n",
              "        \"minOccur\": true,\n",
              "        \"minPartSize\": true,\n",
              "        \"minSize\": true,\n",
              "        \"mset\": true,\n",
              "        \"numParts\": true,\n",
              "        \"of\": true,\n",
              "        \"partial\": true,\n",
              "        \"partition\": true,\n",
              "        \"partSize\": true,\n",
              "        \"preImage\": true,\n",
              "        \"quantifier\": true,\n",
              "        \"range\": true,\n",
              "        \"regular\": true,\n",
              "        \"relation\": true,\n",
              "        \"representation\": true,\n",
              "        \"set\": true,\n",
              "        \"size\": true,\n",
              "        \"subset\": true,\n",
              "        \"subsetEq\": true,\n",
              "        \"such\": true,\n",
              "        \"supset\": true,\n",
              "        \"supsetEq\": true,\n",
              "        \"surjective\": true,\n",
              "        \"that\": true,\n",
              "        \"together\": true,\n",
              "        \"enum\": true,\n",
              "        \"total\": true,\n",
              "        \"true\": true,\n",
              "        \"new\": true,\n",
              "        \"type\": true,\n",
              "        \"tuple\": true,\n",
              "        \"union\": true,\n",
              "        \"where\": true,\n",
              "        \"branching\": true,\n",
              "        \"on\": true\n",
              "    };  \n",
              "    var punc = \":;,.(){}[]\";\n",
              "\n",
              "    function tokenBase(stream, state) {\n",
              "        var ch = stream.next();\n",
              "        if (ch == '\"') {\n",
              "            state.tokenize.push(tokenString);\n",
              "            return tokenString(stream, state);\n",
              "        }\n",
              "        if (/[\\d\\.]/.test(ch)) {\n",
              "            if (ch == \".\") {\n",
              "                stream.match(/^[0-9]+([eE][\\-+]?[0-9]+)?/);\n",
              "            } else if (ch == \"0\") {\n",
              "                stream.match(/^[xX][0-9a-fA-F]+/) || stream.match(/^0[0-7]+/);\n",
              "            } else {\n",
              "                stream.match(/^[0-9]*\\.?[0-9]*([eE][\\-+]?[0-9]+)?/);\n",
              "            }\n",
              "            return \"number\";\n",
              "        }\n",
              "        if (ch == \"/\") {\n",
              "            if (stream.eat(\"*\")) {\n",
              "                state.tokenize.push(tokenComment);\n",
              "                return tokenComment(stream, state);\n",
              "            }\n",
              "        }\n",
              "        if (ch == \"$\") {\n",
              "            stream.skipToEnd();\n",
              "            return \"comment\";\n",
              "        }\n",
              "        if (isOperatorChar.test(ch)) {\n",
              "            stream.eatWhile(isOperatorChar);\n",
              "            return \"operator\";\n",
              "        }\n",
              "        if (punc.indexOf(ch) > -1) {\n",
              "            return \"punctuation\";\n",
              "        }\n",
              "        stream.eatWhile(/[\\w\\$_\\xa1-\\uffff]/);\n",
              "        var cur = stream.current();\n",
              "        \n",
              "        if (keywords.propertyIsEnumerable(cur)) {\n",
              "            return \"keyword\";\n",
              "        }\n",
              "        return \"variable\";\n",
              "    }\n",
              "\n",
              "    function tokenComment(stream, state) {\n",
              "        var maybeEnd = false, ch;\n",
              "        while (ch = stream.next()) {\n",
              "            if (ch == \"/\" && maybeEnd) {\n",
              "                state.tokenize.pop();\n",
              "                break;\n",
              "            }\n",
              "            maybeEnd = (ch == \"*\");\n",
              "        }\n",
              "        return \"comment\";\n",
              "    }\n",
              "\n",
              "    function tokenUntilClosingParen() {\n",
              "        var depth = 0;\n",
              "        return function (stream, state, prev) {\n",
              "            var inner = tokenBase(stream, state, prev);\n",
              "            console.log(\"untilClosing\", inner, stream.current());\n",
              "            if (inner == \"punctuation\") {\n",
              "                if (stream.current() == \"(\") {\n",
              "                    ++depth;\n",
              "                } else if (stream.current() == \")\") {\n",
              "                    if (depth == 0) {\n",
              "                        stream.backUp(1)\n",
              "                        state.tokenize.pop()\n",
              "                        return state.tokenize[state.tokenize.length - 1](stream, state)\n",
              "                    } else {\n",
              "                        --depth;\n",
              "                    }\n",
              "                }\n",
              "            }\n",
              "            return inner;\n",
              "        }\n",
              "    }\n",
              "\n",
              "    function tokenString(stream, state) {\n",
              "        var escaped = false, next, end = false;\n",
              "        while ((next = stream.next()) != null) {\n",
              "            if (next == '(' && escaped) {\n",
              "                state.tokenize.push(tokenUntilClosingParen());\n",
              "                return \"string\";\n",
              "            }\n",
              "            if (next == '\"' && !escaped) { end = true; break; }\n",
              "            escaped = !escaped && next == \"\\\\\";\n",
              "        }\n",
              "        if (end || !escaped)\n",
              "            state.tokenize.pop();\n",
              "        return \"string\";\n",
              "    }\n",
              "\n",
              "    return {\n",
              "        startState: function (basecolumn) {\n",
              "            return {\n",
              "                tokenize: []\n",
              "            };\n",
              "        },\n",
              "\n",
              "        token: function (stream, state) {\n",
              "            if (stream.eatSpace()) return null;\n",
              "            var style = (state.tokenize[state.tokenize.length - 1] || tokenBase)(stream, state);\n",
              "            console.log(\"token\", style);\n",
              "            return style;\n",
              "        },\n",
              "\n",
              "        blockCommentStart: \"/*\",\n",
              "        blockCommentEnd: \"*/\",\n",
              "        lineComment: \"$\"\n",
              "    };\n",
              "});\n",
              "\n",
              "\n",
              "CodeMirror.defineMIME(\"text/conjure\", \"text/conjure\");\n",
              "\n",
              "require(['notebook/js/codecell'], function (codecell) {\n",
              "    codecell.CodeCell.options_default.highlight_modes['magic_text/conjure'] = { 'reg': [/%?%conjure/] };\n",
              "    Jupyter.notebook.events.one('kernel_ready.Kernel', function () {\n",
              "        Jupyter.notebook.get_cells().map(function (cell) {\n",
              "            if (cell.cell_type == 'code') { cell.auto_highlight(); }\n",
              "        });\n",
              "    });\n",
              "});\n",
              "\n"
            ]
          },
          "metadata": {}
        },
        {
          "output_type": "stream",
          "name": "stdout",
          "text": [
            "Conjure extension is loaded.\n",
            "For usage help run: %conjure_help\n"
          ]
        }
      ],
      "source": [
        "!source <(curl https://raw.githubusercontent.com/conjure-cp/conjure-notebook/main/installcolab.sh)\n",
        "%load_ext conjure"
      ]
    },
    {
      "cell_type": "markdown",
      "source": [
        "### Model for Classical avoidance\n",
        "\n",
        "* Find all permutations of a given length `length` which avoid the set of permutations `avoiding`.\n",
        "* Each permutation is defined as an injective sequence of integers. The injectivity saves us from having to create a constraint that says the sequence has to contain all different values.\n",
        "* The constraint for avoiding a permutation is (almost) as it is written on the box! \n",
        "* We actually find all permutations that contain the pattern, and then reject them."
      ],
      "metadata": {
        "id": "NNp7f0d4nQnJ"
      }
    },
    {
      "cell_type": "code",
      "source": [
        "%%conjure\n",
        "\n",
        "letting length be 6\n",
        "letting avoiding be {sequence(1,3,2,4)}\n",
        "\n",
        "$ given length : int\n",
        "$ given avoiding : set of sequence of int\n",
        "\n",
        "find perm : sequence (size length, injective) of int(1..length)\n",
        "\n",
        "such that\n",
        "    forAll av in avoiding .\n",
        "        !(exists ix : matrix indexed by [int(1..|av|)] of int(1..length) .\n",
        "            (forAll i,j : int(1..|av|) . i < j -> ix[i] < ix[j]) /\\\n",
        "            (forAll n1, n2 : int(1..|av|) , n1 < n2 .\n",
        "                av(n1) < av(n2) <-> perm(ix[n1]) < perm(ix[n2])))\n"
      ],
      "metadata": {
        "colab": {
          "base_uri": "https://localhost:8080/"
        },
        "id": "2R-KHTc1iFZ-",
        "outputId": "4b767097-7cd4-42ea-deb9-cd0568d8ca66"
      },
      "execution_count": 2,
      "outputs": [
        {
          "output_type": "execute_result",
          "data": {
            "text/plain": [
              "{'perm': [1, 2, 3, 4, 5, 6]}"
            ]
          },
          "metadata": {},
          "execution_count": 2
        }
      ]
    },
    {
      "cell_type": "markdown",
      "source": [
        "###Model for Mesh Avoidance\n",
        "* All the above applies to Mesh Avoidance.\n",
        "* We define the mesh to be a \"relation\" where the mesh is described as a pair of coordinates $\\{0,\\ldots,n\\} \\times \\{0,\\ldots,n\\}$. \n",
        "* We create a \"padded permutation\" which is a matrix and includes the grid cells that are on the boundary.\n",
        "* We follow yet again the definition of a mesh pattern\n",
        "\n",
        "**ALL/NUMBER of solutions**"
      ],
      "metadata": {
        "id": "4HmNI6JspBhO"
      }
    },
    {
      "cell_type": "code",
      "source": [
        "%%conjure\n",
        "\n",
        "letting length be 4\n",
        "letting avoiding be { ( sequence(1,3,2), relation((1,0),(1,2),(2,3),(3,0),(3,1)) ) }\n",
        "\n",
        "$ given length : int\n",
        "$ given avoiding : set of (sequence(injective) of int, relation of (int * int))\n",
        "\n",
        "$ creating a padded version of perm, where position 0 contains the value 0 and position length+1 contains the value length+1\n",
        "$ this is only used for mesh avoidance/containment\n",
        "find permPadded : matrix indexed by [int(0..length+1)] of int(0..length+1)\n",
        "such that permPadded[0] = 0, permPadded[length+1] = length+1\n",
        "such that forAll i : int(1..length) . perm(i) = permPadded[i]\n",
        "\n",
        "such that\n",
        "    $ av is the pattern, mesh is the mesh as a relation\n",
        "    forAll (av, mesh) in avoiding .\n",
        "    $ Build the inverse of 'av'. This is completely evaluated before solving.\n",
        "    exists avinv: matrix indexed by [int(0..|av|+1)] of int(0..|av|+1),\n",
        "                avinv[0] = 0 /\\ avinv[|av|+1] = |av|+1 /\\\n",
        "                (forAll i: int(1..|av|) . avinv[av(i)] = i).\n",
        "        $ Look for all places where the pattern can occur\n",
        "        forAll ix : matrix indexed by [int(0..|av|+1)] of int(0..length+1),\n",
        "            and([ ix[0]=0\n",
        "                , ix[|av|+1]=length+1\n",
        "                , forAll i : int(0..|av|) . ix[i] < ix[i+1]\n",
        "                , forAll n1, n2 : int(1..|av|) , n1 < n2 .\n",
        "                    av(n1) < av(n2) <-> permPadded[ix[n1]] < permPadded[ix[n2]]\n",
        "                ]) .\n",
        "            (\n",
        "                $ If we find the pattern, make sure there is at least one value in some cell of the mesh\n",
        "                exists (i,j) in mesh.\n",
        "                    exists z: int(ix[i]+1..ix[i+1]-1). (permPadded[ix[avinv[j]]] <= permPadded[z] /\\ permPadded[z] <= permPadded[ix[avinv[j+1]]])\n",
        "            )"
      ],
      "metadata": {
        "colab": {
          "base_uri": "https://localhost:8080/"
        },
        "id": "sM6kFkvwgP0d",
        "outputId": "e094edde-72f9-45a0-cb02-2b55df6c4456"
      },
      "execution_count": 3,
      "outputs": [
        {
          "output_type": "execute_result",
          "data": {
            "text/plain": [
              "{'perm': [1, 2, 3, 4, 5, 6],\n",
              " 'permPadded': {'0': 0, '1': 1, '2': 2, '3': 3, '4': 4, '5': 5}}"
            ]
          },
          "metadata": {},
          "execution_count": 3
        }
      ]
    },
    {
      "cell_type": "markdown",
      "source": [
        "###Simple Permutations\n",
        "* Again the model is based on the defintion.\n",
        "\n",
        "**ALL/NUMBER of solutions**"
      ],
      "metadata": {
        "id": "f-11HImTrKX1"
      }
    },
    {
      "cell_type": "code",
      "source": [
        "%%conjure\n",
        "\n",
        "letting length be 4\n",
        "find perm : sequence (size length, injective) of int(1..length)\n",
        "\n",
        "such that\n",
        "    [ max(subperm) - min(subperm) + 1 != |subperm|          $ the values are not contiguous\n",
        "    | i : int(1..length)                                    $ start index of the sub perm\n",
        "    , j : int(1..length)                                    $ end index of the sub perm\n",
        "    , i < j                                                 $ start comes before end\n",
        "    , (i,j) != (1,length)                                   $ it's not the full permutation\n",
        "    , letting subperm be [perm(k) | k : int(i..j)]          $ give the sub perm a name\n",
        "    ]"
      ],
      "metadata": {
        "colab": {
          "base_uri": "https://localhost:8080/"
        },
        "id": "nKq9ICUIrIKi",
        "outputId": "eefaf8a2-9f90-4227-8fca-cb471aa0ea6f"
      },
      "execution_count": 4,
      "outputs": [
        {
          "output_type": "execute_result",
          "data": {
            "text/plain": [
              "{'perm': [2, 4, 1, 5, 6, 3],\n",
              " 'permPadded': {'0': 0, '1': 2, '2': 4, '3': 1, '4': 5, '5': 5}}"
            ]
          },
          "metadata": {},
          "execution_count": 4
        }
      ]
    },
    {
      "cell_type": "markdown",
      "source": [
        "Let us just add this to the mesh avoiding permutations\n",
        "\n",
        "**ALL/NUMBER of solutions**"
      ],
      "metadata": {
        "id": "jQc7uD80sb4L"
      }
    },
    {
      "cell_type": "code",
      "source": [
        "%%conjure\n",
        "\n",
        "letting length be 6\n",
        "letting avoiding be { ( sequence(1,3,2,4), relation() ) }\n",
        "\n",
        "$ given length : int\n",
        "$ given avoiding : set of (sequence(injective) of int, relation of (int * int))\n",
        "\n",
        "find perm : sequence (size length, injective) of int(1..length)\n",
        "find permPadded : matrix indexed by [int(0..length+1)] of int(0..length+1)\n",
        "\n",
        "such that permPadded[0] = 0, permPadded[length+1] = length+1\n",
        "\n",
        "such that forAll i : int(1..length) . perm(i) = permPadded[i]\n",
        "\n",
        "such that\n",
        "    forAll (av, mesh) in avoiding .\n",
        "    exists avinv: matrix indexed by [int(0..|av|+1)] of int(0..|av|+1),\n",
        "                avinv[0] = 0 /\\ avinv[|av|+1] = |av|+1 /\\\n",
        "                (forAll i: int(1..|av|) . avinv[av(i)] = i).\n",
        "        forAll ix : matrix indexed by [int(0..|av|+1)] of int(0..length+1),\n",
        "            and([ ix[0]=0\n",
        "                , ix[|av|+1]=length+1\n",
        "                , forAll i : int(0..|av|) . ix[i] < ix[i+1]\n",
        "                , forAll n1, n2 : int(1..|av|) , n1 < n2 .\n",
        "                    av(n1) < av(n2) <-> permPadded[ix[n1]] < permPadded[ix[n2]]\n",
        "                ]) .\n",
        "            (\n",
        "                exists (i,j) in mesh.\n",
        "                    exists z: int(ix[i]+1..ix[i+1]-1). (permPadded[ix[avinv[j]]] <= permPadded[z] /\\ permPadded[z] <= permPadded[ix[avinv[j+1]]])\n",
        "            )\n",
        "\n",
        "such that\n",
        "    [ max(subperm) - min(subperm) + 1 != |subperm|\n",
        "    | i : int(1..length)\n",
        "    , j : int(1..length)\n",
        "    , i < j\n",
        "    , (i,j) != (1,length)\n",
        "    , letting subperm be [perm(k) | k : int(i..j)]\n",
        "    ]\n"
      ],
      "metadata": {
        "colab": {
          "base_uri": "https://localhost:8080/"
        },
        "id": "xrOFEVzZsOPh",
        "outputId": "49b361aa-519e-44c0-f9fe-772fa41c04cc"
      },
      "execution_count": 10,
      "outputs": [
        {
          "output_type": "stream",
          "name": "stderr",
          "text": [
            "Exception: conjure: This should never happen, sorry!\n",
            "\n",
            "However, it did happen, so it must be a bug. Please report it to us!\n",
            "\n",
            "Conjure is actively maintained, we will get back to you as soon as possible.\n",
            "You can help us by providing a minimal failing example.\n",
            "\n",
            "Also include the repository version for this build: 1255b668e (2022-02-23 11:52:16 +0000)\n",
            "\n",
            "Issue tracker: http://github.com/conjure-cp/conjure/issues\n",
            "\n",
            "\n",
            "Type error, InComprehension:\n",
            "j\n",
            "(i, j)\n",
            "tuple(?)\n",
            "\n",
            "CallStack (from HasCallStack):\n",
            "  error, called at src/Conjure/Bug.hs:21:15 in conjure-cp-2.3.0-28oyboHQkWfLwQFvxu4Ob0:Conjure.Bug\n",
            "  bug, called at src/Conjure/Language/Expression.hs:463:26 in conjure-cp-2.3.0-28oyboHQkWfLwQFvxu4Ob0:Conjure.Language.Expression\n",
            "\n"
          ]
        }
      ]
    },
    {
      "cell_type": "markdown",
      "source": [
        "###Inversions\n",
        "* This model will just tell us the number of inversions a permutation contains.\n",
        "* We have to have a bounded domain, so we give it a \"very loose\" upper bound."
      ],
      "metadata": {
        "id": "Y08NXMkL4Jcq"
      }
    },
    {
      "cell_type": "code",
      "source": [
        "%%conjure\n",
        "letting length be 4\n",
        "find perm : sequence (size length, injective) of int(1..length)\n",
        "\n",
        "find inversionCount : int(0..length**2)\n",
        "\n",
        "such that\n",
        "    inversionCount =\n",
        "        sum([ 1\n",
        "            | i,j : int(1..length)\n",
        "            , i < j\n",
        "            , perm(i) > perm(j)\n",
        "            ])\n"
      ],
      "metadata": {
        "colab": {
          "base_uri": "https://localhost:8080/"
        },
        "id": "OYeE89Xosfvc",
        "outputId": "77d98a3b-548b-4201-9928-e24e01e7eb9b"
      },
      "execution_count": 6,
      "outputs": [
        {
          "output_type": "execute_result",
          "data": {
            "text/plain": [
              "{'inversionCount': 2,\n",
              " 'perm': [2, 4, 1, 5, 6, 3],\n",
              " 'permPadded': {'0': 0, '1': 2, '2': 4, '3': 1, '4': 5, '5': 5}}"
            ]
          },
          "metadata": {},
          "execution_count": 6
        }
      ]
    },
    {
      "cell_type": "markdown",
      "source": [
        "* Let us add this into model that avoids mesh patterns, and looks for simple permutations.\n",
        "* **but** let us look for a given number of inversions.\n",
        "\n",
        "**ALL/NUMBER of solutions**"
      ],
      "metadata": {
        "id": "gCQQ9fDlC8_O"
      }
    },
    {
      "cell_type": "code",
      "source": [
        "%%conjure\n",
        "\n",
        "letting length be 6\n",
        "letting avoiding be { ( sequence(1,3,2,4), relation() ) }\n",
        "\n",
        "find perm : sequence (size length, injective) of int(1..length)\n",
        "find permPadded : matrix indexed by [int(0..length+1)] of int(0..length+1)\n",
        "\n",
        "such that permPadded[0] = 0, permPadded[length+1] = length+1\n",
        "\n",
        "such that forAll i : int(1..length) . perm(i) = permPadded[i]\n",
        "\n",
        "such that\n",
        "    forAll (av, mesh) in avoiding .\n",
        "    exists avinv: matrix indexed by [int(0..|av|+1)] of int(0..|av|+1),\n",
        "                avinv[0] = 0 /\\ avinv[|av|+1] = |av|+1 /\\\n",
        "                (forAll i: int(1..|av|) . avinv[av(i)] = i).\n",
        "        forAll ix : matrix indexed by [int(0..|av|+1)] of int(0..length+1),\n",
        "            and([ ix[0]=0\n",
        "                , ix[|av|+1]=length+1\n",
        "                , forAll i : int(0..|av|) . ix[i] < ix[i+1]\n",
        "                , forAll n1, n2 : int(1..|av|) , n1 < n2 .\n",
        "                    av(n1) < av(n2) <-> permPadded[ix[n1]] < permPadded[ix[n2]]\n",
        "                ]) .\n",
        "            (\n",
        "                exists (i,j) in mesh.\n",
        "                    exists z: int(ix[i]+1..ix[i+1]-1). (permPadded[ix[avinv[j]]] <= permPadded[z] /\\ permPadded[z] <= permPadded[ix[avinv[j+1]]])\n",
        "            )\n",
        "\n",
        "such that\n",
        "    [ max(subperm) - min(subperm) + 1 != |subperm|\n",
        "    | i : int(1..length)\n",
        "    , j : int(1..length)\n",
        "    , i < j\n",
        "    , (i,j) != (1,length)\n",
        "    , letting subperm be [perm(k) | k : int(i..j)]\n",
        "    ]\n",
        "\n",
        "letting inversionCount be 4\n",
        "\n",
        "such that\n",
        "    inversionCount =\n",
        "        sum([ 1\n",
        "            | i,j : int(1..length)\n",
        "            , i < j\n",
        "            , perm(i) > perm(j)\n",
        "            ])"
      ],
      "metadata": {
        "colab": {
          "base_uri": "https://localhost:8080/"
        },
        "id": "28PxYBvH4S-Q",
        "outputId": "dedd4306-3e3e-4323-95e9-2c96b4096305"
      },
      "execution_count": 7,
      "outputs": [
        {
          "output_type": "stream",
          "name": "stderr",
          "text": [
            "Exception: conjure: This should never happen, sorry!\n",
            "\n",
            "However, it did happen, so it must be a bug. Please report it to us!\n",
            "\n",
            "Conjure is actively maintained, we will get back to you as soon as possible.\n",
            "You can help us by providing a minimal failing example.\n",
            "\n",
            "Also include the repository version for this build: 1255b668e (2022-02-23 11:52:16 +0000)\n",
            "\n",
            "Issue tracker: http://github.com/conjure-cp/conjure/issues\n",
            "\n",
            "\n",
            "Type error, InComprehension:\n",
            "j\n",
            "(i, j)\n",
            "tuple(?)\n",
            "\n",
            "CallStack (from HasCallStack):\n",
            "  error, called at src/Conjure/Bug.hs:21:15 in conjure-cp-2.3.0-28oyboHQkWfLwQFvxu4Ob0:Conjure.Bug\n",
            "  bug, called at src/Conjure/Language/Expression.hs:463:26 in conjure-cp-2.3.0-28oyboHQkWfLwQFvxu4Ob0:Conjure.Language.Expression\n",
            "\n"
          ]
        }
      ]
    },
    {
      "cell_type": "markdown",
      "source": [
        "###Pattern Containment\n",
        "What about... if we avoid a set of patterns but know that a set of patterns are definitely always contained?"
      ],
      "metadata": {
        "id": "l1QvSUp1_1Yh"
      }
    },
    {
      "cell_type": "code",
      "source": [
        "%%conjure\n",
        "\n",
        "letting length be 6\n",
        "letting containing be { ( sequence(1,3,2), relation((3,3)) ) }\n",
        "letting avoiding be { ( sequence(1,3,2,4), relation() ) }\n",
        "\n",
        "find perm : sequence (size length, injective) of int(1..length)\n",
        "\n",
        "\n",
        "$ creating a padded version of perm, where position 0 contains the value 0 and position length+1 contains the value length+1\n",
        "$ this is only used for mesh avoidance/containment\n",
        "find permPadded : matrix indexed by [int(0..length+1)] of int(0..length+1)\n",
        "such that permPadded[0] = 0, permPadded[length+1] = length+1\n",
        "such that forAll i : int(1..length) . perm(i) = permPadded[i]\n",
        "\n",
        "such that\n",
        "    $ av is the pattern, mesh is the mesh as a relation\n",
        "    forAll (cont, mesh) in containing .\n",
        "    $ Build the inverse of 'av'. This is completely evaluated before solving.\n",
        "    exists continv: matrix indexed by [int(0..|cont|+1)] of int(0..|cont|+1),\n",
        "                continv[0] = 0 /\\ continv[|cont|+1] = |cont|+1 /\\\n",
        "                (forAll i: int(1..|cont|) . continv[cont(i)] = i).\n",
        "        $ Look for all places where the pattern can occur\n",
        "        exists ix : matrix indexed by [int(0..|cont|+1)] of int(0..length+1),\n",
        "            and([ ix[0]=0\n",
        "                , ix[|cont|+1]=length+1\n",
        "                , forAll i : int(0..|cont|) . ix[i] < ix[i+1]\n",
        "                , forAll n1, n2 : int(1..|cont|) , n1 < n2 .\n",
        "                    cont(n1) < cont(n2) <-> permPadded[ix[n1]] < permPadded[ix[n2]]\n",
        "                ]) .\n",
        "            !(\n",
        "                $ If we find the pattern, make sure there is at least one value in some cell of the mesh\n",
        "                exists (i,j) in mesh.\n",
        "                    exists z: int(ix[i]+1..ix[i+1]-1). (permPadded[ix[continv[j]]] <= permPadded[z] /\\ permPadded[z] <= permPadded[ix[continv[j+1]]])\n",
        "            )\n",
        "\n",
        "such that\n",
        "    forAll (av, mesh) in avoiding .\n",
        "    exists avinv: matrix indexed by [int(0..|av|+1)] of int(0..|av|+1),\n",
        "                avinv[0] = 0 /\\ avinv[|av|+1] = |av|+1 /\\\n",
        "                (forAll i: int(1..|av|) . avinv[av(i)] = i).\n",
        "        forAll ix : matrix indexed by [int(0..|av|+1)] of int(0..length+1),\n",
        "            and([ ix[0]=0\n",
        "                , ix[|av|+1]=length+1\n",
        "                , forAll i : int(0..|av|) . ix[i] < ix[i+1]\n",
        "                , forAll n1, n2 : int(1..|av|) , n1 < n2 .\n",
        "                    av(n1) < av(n2) <-> permPadded[ix[n1]] < permPadded[ix[n2]]\n",
        "                ]) .\n",
        "            (\n",
        "                exists (i,j) in mesh.\n",
        "                    exists z: int(ix[i]+1..ix[i+1]-1). (permPadded[ix[avinv[j]]] <= permPadded[z] /\\ permPadded[z] <= permPadded[ix[avinv[j+1]]])\n",
        "            )\n",
        "\n"
      ],
      "metadata": {
        "colab": {
          "base_uri": "https://localhost:8080/"
        },
        "id": "z7BTlOXu4rZA",
        "outputId": "f701d41e-62a5-4698-8764-71356a8ec29c"
      },
      "execution_count": 9,
      "outputs": [
        {
          "output_type": "stream",
          "name": "stderr",
          "text": [
            "Exception: conjure: This should never happen, sorry!\n",
            "\n",
            "However, it did happen, so it must be a bug. Please report it to us!\n",
            "\n",
            "Conjure is actively maintained, we will get back to you as soon as possible.\n",
            "You can help us by providing a minimal failing example.\n",
            "\n",
            "Also include the repository version for this build: 1255b668e (2022-02-23 11:52:16 +0000)\n",
            "\n",
            "Issue tracker: http://github.com/conjure-cp/conjure/issues\n",
            "\n",
            "\n",
            "Type error, InComprehension:\n",
            "j\n",
            "(i, j)\n",
            "tuple(?)\n",
            "\n",
            "CallStack (from HasCallStack):\n",
            "  error, called at src/Conjure/Bug.hs:21:15 in conjure-cp-2.3.0-28oyboHQkWfLwQFvxu4Ob0:Conjure.Bug\n",
            "  bug, called at src/Conjure/Language/Expression.hs:463:26 in conjure-cp-2.3.0-28oyboHQkWfLwQFvxu4Ob0:Conjure.Language.Expression\n",
            "\n"
          ]
        }
      ]
    },
    {
      "cell_type": "code",
      "source": [
        ""
      ],
      "metadata": {
        "id": "MEJmSfMpB78n"
      },
      "execution_count": null,
      "outputs": []
    }
  ]
}