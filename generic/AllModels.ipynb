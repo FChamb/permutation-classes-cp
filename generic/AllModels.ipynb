{
  "nbformat": 4,
  "nbformat_minor": 0,
  "metadata": {
    "colab": {
      "provenance": [],
      "toc_visible": true,
      "authorship_tag": "ABX9TyNLuxEcAcfSRmlZnFsMtJ2C",
      "include_colab_link": true
    },
    "kernelspec": {
      "name": "python3",
      "display_name": "Python 3"
    },
    "language_info": {
      "name": "python"
    }
  },
  "cells": [
    {
      "cell_type": "markdown",
      "metadata": {
        "id": "view-in-github",
        "colab_type": "text"
      },
      "source": [
        "<a href=\"https://colab.research.google.com/github/stacs-cp/permutation-classes-cp/blob/main/AllModels.ipynb\" target=\"_parent\"><img src=\"https://colab.research.google.com/assets/colab-badge.svg\" alt=\"Open In Colab\"/></a>"
      ]
    },
    {
      "cell_type": "code",
      "execution_count": 2,
      "metadata": {
        "colab": {
          "base_uri": "https://localhost:8080/"
        },
        "id": "gFgMjnoSiaZC",
        "outputId": "f8c69d00-c70b-4ddc-d33d-64ade294ed08"
      },
      "outputs": [
        {
          "output_type": "stream",
          "name": "stdout",
          "text": [
            "Installing Conjure version v2.4.1 and Conjure Notebook version v0.0.6...\n",
            "Conjure: The Automated Constraint Modelling Tool\n",
            "Release version 2.4.1\n",
            "Repository version e093cc52c (2023-04-24 11:50:48 +0100)\n",
            "The conjure extension is already loaded. To reload it, use:\n",
            "  %reload_ext conjure\n"
          ]
        }
      ],
      "source": [
        " !source <(curl -s https://raw.githubusercontent.com/conjure-cp/conjure-notebook/v0.0.6/scripts/install-colab.sh)\n",
        " %load_ext conjure\n"
      ]
    },
    {
      "cell_type": "code",
      "source": [
        "# library of helper functions\n",
        "\n",
        "import numpy as np\n",
        "import matplotlib as mpl\n",
        "import matplotlib.pyplot as plt\n",
        "\n",
        "def plotPermutation(sol):\n",
        "    plt.figure(figsize=(len(sol), len(sol)), facecolor=\"w\")\n",
        "    plt.grid(True)\n",
        "    plt.xticks(range(1, len(sol)+1))\n",
        "    plt.yticks(range(1, len(sol)+1))\n",
        "    plt.scatter(range(1,len(sol)+1), sol, s=200)\n",
        "\n",
        "def plotPermutations(sols):\n",
        "    for sol in sols:\n",
        "        plotPermutation(sol[\"perm\"])\n",
        "\n"
      ],
      "metadata": {
        "id": "wOjO0Y047PgP"
      },
      "execution_count": 3,
      "outputs": []
    },
    {
      "cell_type": "markdown",
      "source": [
        "Note: when pushing to github, use journal2023/PP-MCOM.ipynb as the filename in the stacs-cp/permutation-classes-cp"
      ],
      "metadata": {
        "id": "Y5k82rzvkE8W"
      }
    },
    {
      "cell_type": "code",
      "source": [
        "n = 4"
      ],
      "metadata": {
        "id": "c5G6kch0Mx1a"
      },
      "execution_count": 4,
      "outputs": []
    },
    {
      "cell_type": "code",
      "source": [
        "%%conjure --number-of-solutions=5\n",
        "\n",
        "given n : int\n",
        "\n",
        "find x : set of int(1..9)\n",
        "\n",
        "such that |x| = n"
      ],
      "metadata": {
        "colab": {
          "base_uri": "https://localhost:8080/",
          "height": 54
        },
        "id": "b_SCgB28Msty",
        "outputId": "3941fc4d-6888-4835-b514-bd060528cc53"
      },
      "execution_count": 5,
      "outputs": [
        {
          "output_type": "display_data",
          "data": {
            "text/plain": [
              "<IPython.core.display.Markdown object>"
            ],
            "text/markdown": "```json\n{\"conjure_solutions\": [{\"x\": [6, 7, 8, 9]}, {\"x\": [5, 7, 8, 9]}, {\"x\": [5, 6, 8, 9]}, {\"x\": [5, 6, 7, 9]}, {\"x\": [5, 6, 7, 8]}]}\n```"
          },
          "metadata": {}
        }
      ]
    },
    {
      "cell_type": "markdown",
      "source": [
        "# Pattern types\n",
        "\n",
        "We have 6 pattern types. We will write a unit test for each one.\n",
        "\n",
        "For each pattern type, we will do avoidance and containment.\n",
        "\n",
        "So we will have 12 models here.\n",
        "\n",
        "The following applies to all the upcoming defintions.\n",
        "\n",
        "We will consider a *permutation* to be an arrangement of the set $\\{1, 2, \\ldots , n\\}$ for some $n\\in\\mathbb{N}$.\n",
        "The length of a permutation $\\pi$ is denoted $|\\pi|$, and $S_n$ is used for the set of all permutations of length $n$.\n",
        "We will represent permutations in their sequence notation\n",
        "\n",
        "Two sequences $\\pi = \\pi(1),\\ldots,\\pi(n)$ and $\\sigma = \\sigma(1),\\ldots,\\sigma(n)$ of the same length are said to be *order isomorphic* if $\\forall i, j, \\pi(i) \\leq \\pi (j)$ if and only if $\\sigma(i) \\leq \\sigma(j)$"
      ],
      "metadata": {
        "id": "vqywu9fzlbwr"
      }
    },
    {
      "cell_type": "markdown",
      "source": [
        "## Classic containment\n",
        "\n",
        "We say that a permutation $\\sigma = \\sigma(1)\\ldots\\sigma(n)$ is *classically contained* in a permutation $\\pi = \\pi(1)\\ldots\\pi(m)$, where $n \\leq m$, if there is a subsequence in $\\pi$ that is order isomorphic to $\\sigma$.\n",
        "\n",
        "\n",
        "For example, the permutation $\\sigma=123$ can be found in $\\pi=521634$ as the occurrence $134$ (amongst others)."
      ],
      "metadata": {
        "id": "PLmx5RRykoF-"
      }
    },
    {
      "cell_type": "code",
      "source": [
        "%conjure_clear"
      ],
      "metadata": {
        "colab": {
          "base_uri": "https://localhost:8080/"
        },
        "id": "yXIgpqB7ke6_",
        "outputId": "adf66cd6-9fa6-48ce-df0b-5d94f42cfdb5"
      },
      "execution_count": 6,
      "outputs": [
        {
          "output_type": "stream",
          "name": "stdout",
          "text": [
            "Conjure model cleared\n"
          ]
        }
      ]
    },
    {
      "cell_type": "code",
      "source": [
        "length = 3\n",
        "classic_containment = [[1,2]]"
      ],
      "metadata": {
        "id": "UyixmQMNlEm3"
      },
      "execution_count": 7,
      "outputs": []
    },
    {
      "cell_type": "code",
      "source": [
        "%%conjure --number-of-solutions=all --solver=minion\n",
        "\n",
        "given length : int\n",
        "given classic_containment : set of sequence of int\n",
        "\n",
        "find perm : sequence (size length, injective) of int(1..length)\n",
        "\n",
        "such that\n",
        "    forAll pattern in classic_containment .\n",
        "         (exists ix : matrix indexed by [int(1..|pattern|)] of int(1..length) .\n",
        "            (forAll i,j : int(1..|pattern|) . i < j -> ix[i] < ix[j]) /\\\n",
        "            (forAll n1, n2 : int(1..|pattern|) , n1 < n2 .\n",
        "                pattern(n1) < pattern(n2) <-> perm(ix[n1]) < perm(ix[n2])))\n"
      ],
      "metadata": {
        "colab": {
          "base_uri": "https://localhost:8080/",
          "height": 54
        },
        "id": "860bGbvpkkOQ",
        "outputId": "1ea00c60-be99-45b1-a76a-5614970ede96"
      },
      "execution_count": 8,
      "outputs": [
        {
          "output_type": "display_data",
          "data": {
            "text/plain": [
              "<IPython.core.display.Markdown object>"
            ],
            "text/markdown": "```json\n{\"conjure_solutions\": [{\"perm\": [1, 2, 3]}, {\"perm\": [1, 3, 2]}, {\"perm\": [2, 1, 3]}, {\"perm\": [2, 3, 1]}, {\"perm\": [3, 1, 2]}]}\n```"
          },
          "metadata": {}
        }
      ]
    },
    {
      "cell_type": "markdown",
      "source": [
        "## Classic avoidance\n",
        "\n",
        "We say that a permutation $\\sigma$ is not contained in a permutation $\\pi$, or that $\\pi$ *classically avoids* $\\sigma$ if there is no subsequence in $\\pi$ that is order isomorphic to $\\sigma$.\n",
        "For example, the permutation $\\sigma=123$ is not contained in the permutation $\\pi=654312$."
      ],
      "metadata": {
        "id": "6KpQ1ckCkXys"
      }
    },
    {
      "cell_type": "code",
      "source": [
        "%conjure_clear"
      ],
      "metadata": {
        "colab": {
          "base_uri": "https://localhost:8080/"
        },
        "id": "PTGZ6grqlMpH",
        "outputId": "d9d3a695-9f5c-4b4a-e23f-899438e0d3ad"
      },
      "execution_count": 9,
      "outputs": [
        {
          "output_type": "stream",
          "name": "stdout",
          "text": [
            "Conjure model cleared\n"
          ]
        }
      ]
    },
    {
      "cell_type": "code",
      "source": [
        "length = 4\n",
        "classic_avoidance = [[1,2]]"
      ],
      "metadata": {
        "id": "F3Rcz2sdjwQD"
      },
      "execution_count": 10,
      "outputs": []
    },
    {
      "cell_type": "code",
      "source": [
        "%%conjure --number-of-solutions=all --solver=minion\n",
        "\n",
        "given length : int\n",
        "given classic_avoidance : set of sequence of int\n",
        "\n",
        "find perm : sequence (size length, injective) of int(1..length)\n",
        "\n",
        "such that\n",
        "    forAll pattern in classic_avoidance .\n",
        "        !(exists ix : matrix indexed by [int(1..|pattern|)] of int(1..length) .\n",
        "            (forAll i,j : int(1..|pattern|) . i < j -> ix[i] < ix[j]) /\\\n",
        "            (forAll n1, n2 : int(1..|pattern|) , n1 < n2 .\n",
        "                pattern(n1) < pattern(n2) <-> perm(ix[n1]) < perm(ix[n2])))\n"
      ],
      "metadata": {
        "colab": {
          "base_uri": "https://localhost:8080/",
          "height": 34
        },
        "id": "5mojiOeBjmjc",
        "outputId": "eea6c71b-89c6-4963-cbd1-90034fdfcc5c"
      },
      "execution_count": 11,
      "outputs": [
        {
          "output_type": "display_data",
          "data": {
            "text/plain": [
              "<IPython.core.display.Markdown object>"
            ],
            "text/markdown": "```json\n{\"perm\": [4, 3, 2, 1]}\n```"
          },
          "metadata": {}
        }
      ]
    },
    {
      "cell_type": "markdown",
      "source": [
        "## Vincular containment\n",
        "\n",
        "Vincluar patterns were introduced by Babson and Steingrimsson in 2000 to express Mahonian statistics as combinations of permutation patterns.\n",
        "\n",
        "Let $\\sigma=\\sigma(1) \\ldots \\sigma(n)$ and $\\pi=\\pi(1)\\ldots \\pi(m)$ and let $A \\subseteq \\{1,\\ldots,k-1\\}$.\n",
        "\n",
        "An occurrence of the vincular pattern $(\\sigma, A)$ in $\\pi$ is a subsequence $\\pi(i_1)\\ldots \\pi(i_k)$ of length $n$ of $\\pi$ such that:\n",
        "$\\pi(i_1)\\ldots\\pi(i_n)$ is an occurrence of $\\sigma$ in the classical sense, and $i_{a}=i_{a+1}$, forall $a\\in A$. We call $A$ the set of *adjacencies*, we emphasise these entries in the permutation with an underline.\n",
        "\n",
        "<!-- A vincular pattern is specified by adding bars to an underlying permutation. A bar is between two consecutive entries in the permutation. There can be multiple bars. Bars are allowed to overlap. -->\n",
        "\n",
        "For example, the permutation $\\sigma=\\underline{23}1$, so the vincular pattern is $(231,\\{1\\})$, can be found in $\\pi=513642$ as the sequence $362$, with $3$ and $6$ being adjacent to each other."
      ],
      "metadata": {
        "id": "Akl57P0y36Z6"
      }
    },
    {
      "cell_type": "code",
      "source": [
        "%conjure_clear"
      ],
      "metadata": {
        "colab": {
          "base_uri": "https://localhost:8080/"
        },
        "id": "QljcUunUqopv",
        "outputId": "c727cfa5-b5ac-4cb7-ae90-2fd324764b3a"
      },
      "execution_count": 12,
      "outputs": [
        {
          "output_type": "stream",
          "name": "stdout",
          "text": [
            "Conjure model cleared\n"
          ]
        }
      ]
    },
    {
      "cell_type": "code",
      "source": [
        "length = 4\n",
        "vincular_containment = [ [ [2,3,1]\n",
        "                         , [1]\n",
        "                         ]\n",
        "                       ]"
      ],
      "metadata": {
        "id": "6oT8SAYFl6-j"
      },
      "execution_count": 13,
      "outputs": []
    },
    {
      "cell_type": "code",
      "source": [
        "%%conjure --number-of-solutions=all --solver=minion\n",
        "\n",
        "given length : int\n",
        "given vincular_containment : set of (sequence (injective) of int, set of int)\n",
        "\n",
        "find perm : sequence (size length, injective) of int(1..length)\n",
        "\n",
        "such that\n",
        "    forAll (pattern, bars) in vincular_containment .\n",
        "        exists ix : matrix indexed by [int(1..|pattern|)] of int(1..length)\n",
        "\n",
        "            , (forAll i,j : int(1..|pattern|) . i < j -> ix[i] < ix[j]) /\\\n",
        "            $ n1 and n2 are indices\n",
        "            (forAll n1, n2 : int(1..|pattern|) , n1 < n2 .\n",
        "                (pattern(n1) < pattern(n2) <-> perm(ix[n1]) < perm(ix[n2]))\n",
        "            )\n",
        "\n",
        "            .\n",
        "\n",
        "            (forAll bar in bars . ix[bar] + 1 = ix[bar+1])\n"
      ],
      "metadata": {
        "colab": {
          "base_uri": "https://localhost:8080/",
          "height": 54
        },
        "id": "zbvQ-BVLl8NL",
        "outputId": "a04f23bd-7d6e-41e9-a124-5bfc15852f0d"
      },
      "execution_count": 14,
      "outputs": [
        {
          "output_type": "display_data",
          "data": {
            "text/plain": [
              "<IPython.core.display.Markdown object>"
            ],
            "text/markdown": "```json\n{\"conjure_solutions\": [{\"perm\": [1, 3, 4, 2]}, {\"perm\": [2, 3, 1, 4]}, {\"perm\": [2, 3, 4, 1]}, {\"perm\": [2, 4, 1, 3]}, {\"perm\": [2, 4, 3, 1]}, {\"perm\": [3, 2, 4, 1]}, {\"perm\": [3, 4, 1, 2]}, {\"perm\": [3, 4, 2, 1]}, {\"perm\": [4, 2, 3, 1]}]}\n```"
          },
          "metadata": {}
        }
      ]
    },
    {
      "cell_type": "code",
      "source": [
        "print(len(conjure_solutions))"
      ],
      "metadata": {
        "colab": {
          "base_uri": "https://localhost:8080/"
        },
        "id": "UNTW6vg02TVB",
        "outputId": "33e95e5d-4074-4ff0-ac52-96d7a46ee150"
      },
      "execution_count": 15,
      "outputs": [
        {
          "output_type": "stream",
          "name": "stdout",
          "text": [
            "9\n"
          ]
        }
      ]
    },
    {
      "cell_type": "markdown",
      "source": [
        "## Vincular avoidance\n",
        "\n",
        "We say that a permutation $\\pi$ *avoids* a vincular pattern $(\\sigma, A)$ if either it classically avoids $\\sigma$ or for each classical occurence of $\\sigma$ the entries are not adjacent.\n",
        "\n",
        "For example, $\\sigma=\\underline{23}1$, $(231,\\{1\\})$, cannot be found in $\\pi=654312$, as the permutation $231$ is not contained in $\\pi$. Another example is  $\\sigma=\\underline{23}1$, is not contained in $\\pi=631542$, even though the permutation $132$ can be found in $\\pi$ as $352$, but there is an entry between $3$ and $5$ (which is $1$).\n"
      ],
      "metadata": {
        "id": "ojMSDnR-l1jE"
      }
    },
    {
      "cell_type": "code",
      "source": [
        "%conjure_clear"
      ],
      "metadata": {
        "colab": {
          "base_uri": "https://localhost:8080/"
        },
        "id": "pzd02CnLySJh",
        "outputId": "5d9bf335-c852-4999-89e6-f2590346f43f"
      },
      "execution_count": 16,
      "outputs": [
        {
          "output_type": "stream",
          "name": "stdout",
          "text": [
            "Conjure model cleared\n"
          ]
        }
      ]
    },
    {
      "cell_type": "code",
      "source": [
        "length = 4\n",
        "vincular_avoidance = [ [ [2,3,1]\n",
        "                       , [1]\n",
        "                       ]\n",
        "                     ]"
      ],
      "metadata": {
        "id": "fJPAI_HcxePK"
      },
      "execution_count": 17,
      "outputs": []
    },
    {
      "cell_type": "code",
      "source": [
        "%%conjure --number-of-solutions=all --solver=minion\n",
        "\n",
        "given length : int\n",
        "given vincular_avoidance : set of (sequence (injective) of int, set of int)\n",
        "\n",
        "find perm : sequence (size length, injective) of int(1..length)\n",
        "\n",
        "such that\n",
        "    forAll (pattern, bars) in vincular_avoidance .\n",
        "        forAll ix : matrix indexed by [int(1..|pattern|)] of int(1..length)\n",
        "\n",
        "            , (forAll i,j : int(1..|pattern|) . i < j -> ix[i] < ix[j]) /\\\n",
        "            $ n1 and n2 are indices\n",
        "            (forAll n1, n2 : int(1..|pattern|) , n1 < n2 .\n",
        "                (pattern(n1) < pattern(n2) <-> perm(ix[n1]) < perm(ix[n2]))\n",
        "            )\n",
        "\n",
        "            .\n",
        "\n",
        "            !(forAll bar in bars . ix[bar] + 1 = ix[bar+1])\n"
      ],
      "metadata": {
        "colab": {
          "base_uri": "https://localhost:8080/",
          "height": 54
        },
        "id": "IrelbL5sxinT",
        "outputId": "9d1056eb-fee4-4d50-fb19-ac2d93f8a9c6"
      },
      "execution_count": 18,
      "outputs": [
        {
          "output_type": "display_data",
          "data": {
            "text/plain": [
              "<IPython.core.display.Markdown object>"
            ],
            "text/markdown": "```json\n{\"conjure_solutions\": [{\"perm\": [1, 2, 3, 4]}, {\"perm\": [1, 2, 4, 3]}, {\"perm\": [1, 3, 2, 4]}, {\"perm\": [1, 4, 2, 3]}, {\"perm\": [1, 4, 3, 2]}, {\"perm\": [2, 1, 3, 4]}, {\"perm\": [2, 1, 4, 3]}, {\"perm\": [3, 1, 2, 4]}, {\"perm\": [3, 1, 4, 2]}, {\"perm\": [3, 2, 1, 4]}, {\"perm\": [4, 1, 2, 3]}, {\"perm\": [4, 1, 3, 2]}, {\"perm\": [4, 2, 1, 3]}, {\"perm\": [4, 3, 1, 2]}, {\"perm\": [4, 3, 2, 1]}]}\n```"
          },
          "metadata": {}
        }
      ]
    },
    {
      "cell_type": "code",
      "source": [
        "print(len(conjure_solutions))"
      ],
      "metadata": {
        "colab": {
          "base_uri": "https://localhost:8080/"
        },
        "id": "xqhO-W5GyZUg",
        "outputId": "4ff61721-60ed-4ebc-b6f5-abe8ca386d5d"
      },
      "execution_count": 19,
      "outputs": [
        {
          "output_type": "stream",
          "name": "stdout",
          "text": [
            "15\n"
          ]
        }
      ]
    },
    {
      "cell_type": "markdown",
      "source": [
        "## Bivincular containment\n",
        "\n",
        "Bivincular patterns were introduced by Bousquet-Melou, Claesson, Dukes and Kitaev in 2010 in the studies related to interval orders counted by the Fishburn numbers.\n",
        "\n",
        "Bivincular patterns are vincular patterns which additionally require the values to be adjacent.\n",
        "\n",
        "An occurrence of the bivincular pattern $(\\sigma, A)$ in $\\pi$ is a subsequence $\\pi(i_1)\\ldots \\pi(i_k)$ of length $n$ of $\\pi$ such that the following all hold\n",
        "\n",
        "\n",
        "* $\\pi(i_1)\\ldots\\pi(i_n)$ is an occurrence of $\\sigma$ in the classical sense,\n",
        "* $i_{a+1}=i_{a}+1, \\forall a\\in A$,\n",
        "* $\\pi(i_{a+1}) = \\pi(i_{a})+1, \\forall a \\in A$\n",
        "\n",
        "We call $A$ the set of *adjacencies*, we emphasise these entries in the permutation with an underline.\n",
        "\n",
        "For example, the pattern $\\sigma=3\\underline{12}$, $(312,\\{2\\})$ can be found in $\\pi=521634$ as the sequence $534$."
      ],
      "metadata": {
        "id": "8uD9dwcgtTvN"
      }
    },
    {
      "cell_type": "code",
      "source": [
        "%conjure_clear"
      ],
      "metadata": {
        "id": "mtWlz_mUtjc6",
        "colab": {
          "base_uri": "https://localhost:8080/"
        },
        "outputId": "2f767ce7-26c2-4fb0-913e-22ed7733ae25"
      },
      "execution_count": 20,
      "outputs": [
        {
          "output_type": "stream",
          "name": "stdout",
          "text": [
            "Conjure model cleared\n"
          ]
        }
      ]
    },
    {
      "cell_type": "code",
      "source": [
        "length = 4\n",
        "bivincular_containment = [ [ [3,1,2]\n",
        "                         , [2]\n",
        "                         ]\n",
        "                       ]"
      ],
      "metadata": {
        "id": "zhOETbDGtENR"
      },
      "execution_count": 21,
      "outputs": []
    },
    {
      "cell_type": "code",
      "source": [
        "%%conjure --number-of-solutions=all --solver=minion\n",
        "\n",
        "given length : int\n",
        "given bivincular_containment : set of (sequence (injective) of int, set of int)\n",
        "\n",
        "find perm : sequence (size length, injective) of int(1..length)\n",
        "\n",
        "such that\n",
        "    forAll (pattern, bars) in bivincular_containment .\n",
        "        exists ix : matrix indexed by [int(1..|pattern|)] of int(1..length)\n",
        "\n",
        "            , (forAll i,j : int(1..|pattern|) . i < j -> ix[i] < ix[j]) /\\\n",
        "            $ n1 and n2 are indices\n",
        "            (forAll n1, n2 : int(1..|pattern|) , n1 < n2 .\n",
        "                (pattern(n1) < pattern(n2) <-> perm(ix[n1]) < perm(ix[n2]))\n",
        "            )\n",
        "\n",
        "            .\n",
        "\n",
        "            (forAll bar in bars . ix[bar] + 1 = ix[bar+1])\n",
        "            /\\\n",
        "            (forAll bar in bars . perm(ix[bar]) + 1 = perm(ix[bar+1]))        $ because bivincular\n"
      ],
      "metadata": {
        "colab": {
          "base_uri": "https://localhost:8080/",
          "height": 54
        },
        "id": "1IFAczLAtFLh",
        "outputId": "b6654669-ba63-4a83-e2a9-bd7c1063d45c"
      },
      "execution_count": 22,
      "outputs": [
        {
          "output_type": "display_data",
          "data": {
            "text/plain": [
              "<IPython.core.display.Markdown object>"
            ],
            "text/markdown": "```json\n{\"conjure_solutions\": [{\"perm\": [1, 4, 2, 3]}, {\"perm\": [3, 1, 2, 4]}, {\"perm\": [3, 4, 1, 2]}, {\"perm\": [4, 1, 2, 3]}, {\"perm\": [4, 2, 3, 1]}, {\"perm\": [4, 3, 1, 2]}]}\n```"
          },
          "metadata": {}
        }
      ]
    },
    {
      "cell_type": "markdown",
      "source": [
        "## Bivincular avoidance\n",
        "\n",
        "Similarly to vincular avoidance, we say that $\\pi$ avoids a bivincular pattern $(\\sigma,A)$ if $\\pi$ classically avoids $\\sigma$ or for each occurence of $\\sigma$ in $\\pi$ one or both of the other conditions is violated.\n",
        "\n",
        "For example, the pattern $\\sigma=3\\underline{12}$, $(312,\\{2\\})$ cannot be found in the permutation $421536$\n",
        "\n",
        "Note that if $\\sigma$ is considered as a vincular pattern then it would also not be contained in $\\pi$.\n",
        "\n",
        "Another example is $\\sigma=\\underline{23}1$, $(231,\\{1\\})$ cannot be found in $\\pi=136542$ as the sequence.\n",
        "Note that $\\sigma$ is avoided as a bivincular pattern in $\\pi=136542$ but is contained in $\\pi$ as a vincular pattern."
      ],
      "metadata": {
        "id": "GHrEzPxptoQN"
      }
    },
    {
      "cell_type": "code",
      "source": [
        "%conjure_clear"
      ],
      "metadata": {
        "id": "0rRXhSA9wRRm",
        "colab": {
          "base_uri": "https://localhost:8080/"
        },
        "outputId": "fdd2f0f5-c462-471a-df6c-156a600460d1"
      },
      "execution_count": 23,
      "outputs": [
        {
          "output_type": "stream",
          "name": "stdout",
          "text": [
            "Conjure model cleared\n"
          ]
        }
      ]
    },
    {
      "cell_type": "code",
      "source": [
        "length = 4\n",
        "bivincular_avoidance = [ [ [2,3,1]\n",
        "                         , [1]\n",
        "                         ]\n",
        "                       ]\n"
      ],
      "metadata": {
        "id": "Giq7GHVKtivB"
      },
      "execution_count": 24,
      "outputs": []
    },
    {
      "cell_type": "code",
      "source": [
        "%%conjure --number-of-solutions=all --solver=minion\n",
        "\n",
        "given length : int\n",
        "given bivincular_avoidance : set of (sequence (injective) of int, set of int)\n",
        "\n",
        "find perm : sequence (size length, injective) of int(1..length)\n",
        "\n",
        "such that\n",
        "    forAll (pattern, bars) in bivincular_avoidance .\n",
        "        forAll ix : matrix indexed by [int(1..|pattern|)] of int(1..length)\n",
        "\n",
        "            , (forAll i,j : int(1..|pattern|) . i < j -> ix[i] < ix[j]) /\\\n",
        "            $ n1 and n2 are indices\n",
        "            (forAll n1, n2 : int(1..|pattern|) , n1 < n2 .\n",
        "                (pattern(n1) < pattern(n2) <-> perm(ix[n1]) < perm(ix[n2]))\n",
        "            )\n",
        "\n",
        "            .\n",
        "\n",
        "            !(  (forAll bar in bars . ix[bar] + 1 = ix[bar+1])\n",
        "                /\\\n",
        "                (forAll bar in bars . perm(ix[bar]) + 1 = perm(ix[bar+1]))\n",
        "            )\n"
      ],
      "metadata": {
        "colab": {
          "base_uri": "https://localhost:8080/",
          "height": 54
        },
        "id": "QKOeiOaWti2D",
        "outputId": "3b1155bb-18d5-4bf2-fef3-90746c9b46bd"
      },
      "execution_count": 25,
      "outputs": [
        {
          "output_type": "display_data",
          "data": {
            "text/plain": [
              "<IPython.core.display.Markdown object>"
            ],
            "text/markdown": "```json\n{\"conjure_solutions\": [{\"perm\": [1, 2, 3, 4]}, {\"perm\": [1, 2, 4, 3]}, {\"perm\": [1, 3, 2, 4]}, {\"perm\": [1, 4, 2, 3]}, {\"perm\": [1, 4, 3, 2]}, {\"perm\": [2, 1, 3, 4]}, {\"perm\": [2, 1, 4, 3]}, {\"perm\": [2, 4, 1, 3]}, {\"perm\": [2, 4, 3, 1]}, {\"perm\": [3, 1, 2, 4]}, {\"perm\": [3, 1, 4, 2]}, {\"perm\": [3, 2, 1, 4]}, {\"perm\": [3, 2, 4, 1]}, {\"perm\": [4, 1, 2, 3]}, {\"perm\": [4, 1, 3, 2]}, {\"perm\": [4, 2, 1, 3]}, {\"perm\": [4, 3, 1, 2]}, {\"perm\": [4, 3, 2, 1]}]}\n```"
          },
          "metadata": {}
        }
      ]
    },
    {
      "cell_type": "markdown",
      "source": [
        "## Mesh containment\n",
        "\n",
        "Mesh patterns were introduced by Branden and Claesson in 2011 to provide explicit expansions for certain permutation statistics as, possibly infinite, linear combinations of (classical) permutation patterns.\n",
        "\n",
        "A mesh pattern of length $k$ is a pair $(\\pi, R)$ with $\\pi \\in S_k$ and $R \\subseteq [0, k] \\times [0, k]$ a set of pairs of integers.\n",
        "An occurrence of a mesh pattern $(\\sigma, R)$ in a permutation $\\pi$ is a subsequence $\\pi(i_1)\\ldots \\pi(i_k)$ such that the following holds\n",
        "* $\\pi(i_1)\\ldots \\pi(i_k)$ is order isomorphic to $\\sigma$\n",
        "* $(x,y)\\in R \\Rightarrow$ there does not exist $i\\in [n] : i_{x} < i < i_{x+1} \\land \\pi(i_{\\sigma^{-1}(y)}) < \\pi(i) < \\pi(i_{\\sigma^{-1}(y+1)})$\n",
        "\n",
        "\n",
        "The elements of $R$ identify the lower left corners of unit squares in the plot of $\\pi$, which specify forbidden regions.\n",
        "\n",
        "An example of a mesh pattern in $\\pi=521634$ is $(132,(0,0),(2,1),(2,2))$, as a valid subsequence is $263$."
      ],
      "metadata": {
        "id": "pkGRapgMvBgp"
      }
    },
    {
      "cell_type": "code",
      "source": [
        "%conjure_clear"
      ],
      "metadata": {
        "id": "pfY2Icqou_fH",
        "colab": {
          "base_uri": "https://localhost:8080/"
        },
        "outputId": "8af4da20-c9b8-4ac2-b127-9e4ac04a6abe"
      },
      "execution_count": 26,
      "outputs": [
        {
          "output_type": "stream",
          "name": "stdout",
          "text": [
            "Conjure model cleared\n"
          ]
        }
      ]
    },
    {
      "cell_type": "code",
      "source": [
        "length = 4\n",
        "mesh_containment = [ [ [1,3,2]\n",
        "                      , [ [0,0]\n",
        "                         ,[2,1]\n",
        "                         ,[2,2]\n",
        "                        ]\n",
        "                      ]\n",
        "                    ]\n",
        "\n",
        "\n",
        "# Old param for which we knew all solutions\n",
        "# length = 4\n",
        "# mesh_containment = [ [ [1,2,3]\n",
        "#                      , [ [0,1]\n",
        "#                         ,[1,3]\n",
        "#                         ,[2,0]\n",
        "#                        ]\n",
        "#                      ]\n",
        "#                    ]\n",
        "\n",
        "# 14 Solutions for avoidance should be\n",
        "# Avoiding pattern\n",
        "# 1234, 2134, 2314 ,2341, 3124, 3214, 3241, 3412, 3421, 4123, 4213, 4231, 4312, 4321"
      ],
      "metadata": {
        "id": "hR4J_2_HvZLt"
      },
      "execution_count": 27,
      "outputs": []
    },
    {
      "cell_type": "code",
      "source": [
        "%%conjure --number-of-solutions=all --solver=minion\n",
        "\n",
        "$ This of mesh patterns to contain\n",
        "given mesh_containment : set of (sequence(injective) of int, relation of (int * int))\n",
        "\n",
        "$ The permutation we are searching for (1..length is the permutation)\n",
        "given length : int\n",
        "find perm : sequence (size length, injective) of int(1..length)\n",
        "\n",
        "\n",
        "$ creating a padded version of perm, where position 0 contains the value 0 and position length+1 contains the value length+1\n",
        "$ this is only used for mesh avoidance/containment\n",
        "find permPadded : matrix indexed by [int(0..length+1)] of int(0..length+1)\n",
        "such that permPadded[0] = 0, permPadded[length+1] = length+1\n",
        "such that forAll i : int(1..length) . perm(i) = permPadded[i]\n",
        "\n",
        "such that\n",
        "    $ pattern is the pattern, mesh is the mesh as a relation\n",
        "    forAll (pattern, mesh) in mesh_containment .\n",
        "    $ Build the inverse of 'pattern'. This is completely evaluated before solving.\n",
        "    exists patterninv: matrix indexed by [int(0..|pattern|+1)] of int(0..|pattern|+1),\n",
        "                patterninv[0] = 0 /\\ patterninv[|pattern|+1] = |pattern|+1 /\\\n",
        "                (forAll i: int(1..|pattern|) . patterninv[pattern(i)] = i).\n",
        "        $ Look for all places where the pattern can occur\n",
        "        exists ix : matrix indexed by [int(0..|pattern|+1)] of int(0..length+1),\n",
        "            and([ ix[0]=0\n",
        "                , ix[|pattern|+1]=length+1\n",
        "                , forAll i : int(0..|pattern|) . ix[i] < ix[i+1]\n",
        "                , forAll n1, n2 : int(1..|pattern|) , n1 < n2 .\n",
        "                    pattern(n1) < pattern(n2) <-> permPadded[ix[n1]] < permPadded[ix[n2]]\n",
        "                ]) .\n",
        "            !(\n",
        "                $ If we find the pattern, make sure there is at least one value in some cell of the mesh\n",
        "                exists (i,j) in mesh.\n",
        "                    exists z: int(ix[i]+1..ix[i+1]-1). (permPadded[ix[patterninv[j]]] <= permPadded[z] /\\ permPadded[z] <= permPadded[ix[patterninv[j+1]]])\n",
        "            )\n",
        "\n",
        "\n"
      ],
      "metadata": {
        "id": "45o10lLzvn0e"
      },
      "execution_count": null,
      "outputs": []
    },
    {
      "cell_type": "markdown",
      "source": [
        "## Mesh avoidance\n",
        "\n",
        "We say that a permutation $\\pi$ avoids a mesh pattern $(\\sigma,R)$ if $\\pi$ classically avoids $\\sigma$ or for each occurence of $\\sigma$ in $\\pi$ one or more of the other mesh pattern constraints are violated.\n",
        "\n",
        "An example the mesh pattern $(132,(0,0),(2,1),(2,2))$ cannot be found inside the permutation $651423$."
      ],
      "metadata": {
        "id": "InajRqWSwU23"
      }
    },
    {
      "cell_type": "code",
      "source": [
        "%conjure_clear"
      ],
      "metadata": {
        "id": "toeOPHk-wXjy"
      },
      "execution_count": null,
      "outputs": []
    },
    {
      "cell_type": "code",
      "source": [
        "length = 4\n",
        "mesh_avoidance = [ [ [1,3,2]\n",
        "                      , [ [0,0]\n",
        "                         ,[2,1]\n",
        "                         ,[2,2]\n",
        "                        ]\n",
        "                      ]\n",
        "                    ]\n",
        "\n"
      ],
      "metadata": {
        "id": "t1Tqn7rwwUXb"
      },
      "execution_count": null,
      "outputs": []
    },
    {
      "cell_type": "code",
      "source": [
        "%%conjure --number-of-solutions=all --solver=minion\n",
        "\n",
        "$ This of mesh patterns to avoid\n",
        "given mesh_avoidance : set of (sequence(injective) of int, relation of (int * int))\n",
        "\n",
        "$ The permutation we are searching for (1..length is the permutation)\n",
        "given length : int\n",
        "find perm : sequence (size length, injective) of int(1..length)\n",
        "\n",
        "\n",
        "$ creating a padded version of perm, where position 0 contains the value 0 and position length+1 contains the value length+1\n",
        "$ this is only used for mesh avoidance/containment\n",
        "find permPadded : matrix indexed by [int(0..length+1)] of int(0..length+1)\n",
        "such that permPadded[0] = 0, permPadded[length+1] = length+1\n",
        "such that forAll i : int(1..length) . perm(i) = permPadded[i]\n",
        "\n",
        "such that\n",
        "    $ pattern is the pattern, mesh is the mesh as a relation\n",
        "    forAll (pattern, mesh) in mesh_avoidance .\n",
        "    $ Build the inverse of 'pattern'. This is completely evaluated before solving.\n",
        "    exists patterninv: matrix indexed by [int(0..|pattern|+1)] of int(0..|pattern|+1),\n",
        "                patterninv[0] = 0 /\\ patterninv[|pattern|+1] = |pattern|+1 /\\\n",
        "                (forAll i: int(1..|pattern|) . patterninv[pattern(i)] = i).\n",
        "        $ Look for all places where the pattern can occur\n",
        "        forAll ix : matrix indexed by [int(0..|pattern|+1)] of int(0..length+1),\n",
        "            and([ ix[0]=0\n",
        "                , ix[|pattern|+1]=length+1\n",
        "                , forAll i : int(0..|pattern|) . ix[i] < ix[i+1]\n",
        "                , forAll n1, n2 : int(1..|pattern|) , n1 < n2 .\n",
        "                    pattern(n1) < pattern(n2) <-> permPadded[ix[n1]] < permPadded[ix[n2]]\n",
        "                ]) .\n",
        "            (\n",
        "                $ If we find the pattern, make sure there is at least one value in some cell of the mesh\n",
        "                exists (i,j) in mesh.\n",
        "                    exists z: int(ix[i]+1..ix[i+1]-1). (permPadded[ix[patterninv[j]]] <= permPadded[z] /\\ permPadded[z] <= permPadded[ix[patterninv[j+1]]])\n",
        "            )\n",
        "\n",
        "\n"
      ],
      "metadata": {
        "id": "o716bGBAwW3Y"
      },
      "execution_count": null,
      "outputs": []
    },
    {
      "cell_type": "markdown",
      "source": [
        "## Boxed Mesh containment\n",
        "\n",
        "Frame patterns were introduced by Avgustinovich, Kitaev and Valyuzhenich in 2012.\n",
        "\n",
        "A boxed mesh pattern, or simply boxed pattern, is a mesh pattern $P=(\\sigma, R)$ where $\\sigma$ is a permutation of length $k$ and $R=[1,k-1]\\times[1,k-1]$. $P$ is then denoted by \\framebox{$\\sigma$}.\n",
        "The constraints of mesh pattern containment apply here.\n",
        "\n",
        "For example the boxed pattern \\framebox{$231$} is contained in the permutation $236514$ as the subsequence $351$"
      ],
      "metadata": {
        "id": "IU99JGdy5dUD"
      }
    },
    {
      "cell_type": "code",
      "source": [
        "%conjure_clear"
      ],
      "metadata": {
        "id": "qW-ni3IlB-el"
      },
      "execution_count": null,
      "outputs": []
    },
    {
      "cell_type": "code",
      "source": [
        "length = 4\n",
        "boxed_mesh_containment = [ [2,3,1] ]\n"
      ],
      "metadata": {
        "id": "6X6r6UGuB_r4"
      },
      "execution_count": null,
      "outputs": []
    },
    {
      "cell_type": "code",
      "source": [
        "%%conjure --number-of-solutions=all --solver=minion\n",
        "\n",
        "$ This of mesh patterns to contain\n",
        "given boxed_mesh_containment : set of sequence(injective) of int\n",
        "\n",
        "$ The permutation we are searching for (1..length is the permutation)\n",
        "given length : int\n",
        "find perm : sequence (size length, injective) of int(1..length)\n",
        "\n",
        "\n",
        "$ creating a padded version of perm, where position 0 contains the value 0 and position length+1 contains the value length+1\n",
        "$ this is only used for mesh avoidance/containment\n",
        "find permPadded : matrix indexed by [int(0..length+1)] of int(0..length+1)\n",
        "such that permPadded[0] = 0, permPadded[length+1] = length+1\n",
        "such that forAll i : int(1..length) . perm(i) = permPadded[i]\n",
        "\n",
        "such that\n",
        "    $ pattern is the pattern\n",
        "    forAll pattern in boxed_mesh_containment .\n",
        "    $ Build the inverse of 'pattern'. This is completely evaluated before solving.\n",
        "    exists patterninv: matrix indexed by [int(0..|pattern|+1)] of int(0..|pattern|+1),\n",
        "                patterninv[0] = 0 /\\ patterninv[|pattern|+1] = |pattern|+1 /\\\n",
        "                (forAll i: int(1..|pattern|) . patterninv[pattern(i)] = i).\n",
        "        $ Look for all places where the pattern can occur\n",
        "        exists ix : matrix indexed by [int(0..|pattern|+1)] of int(0..length+1),\n",
        "            and([ ix[0]=0\n",
        "                , ix[|pattern|+1]=length+1\n",
        "                , forAll i : int(0..|pattern|) . ix[i] < ix[i+1]\n",
        "                , forAll n1, n2 : int(1..|pattern|) , n1 < n2 .\n",
        "                    pattern(n1) < pattern(n2) <-> permPadded[ix[n1]] < permPadded[ix[n2]]\n",
        "                ]) .\n",
        "            !(\n",
        "                $ If we find the pattern, make sure there is at least one value in some cell of the mesh\n",
        "                exists i : int(1..|pattern|) .\n",
        "                  exists j : int(1..|pattern|) .\n",
        "                    exists z: int(ix[i]+1..ix[i+1]-1). (permPadded[ix[patterninv[j]]] <= permPadded[z] /\\ permPadded[z] <= permPadded[ix[patterninv[j+1]]])\n",
        "            )\n",
        "\n",
        "\n"
      ],
      "metadata": {
        "id": "ojBD1Elg1-85"
      },
      "execution_count": null,
      "outputs": []
    },
    {
      "cell_type": "code",
      "source": [
        "for x in conjure_solutions:\n",
        "    print(x[\"perm\"])"
      ],
      "metadata": {
        "id": "sJy9XiIE4XAA"
      },
      "execution_count": null,
      "outputs": []
    },
    {
      "cell_type": "code",
      "source": [
        "plotPermutations(conjure_solutions)"
      ],
      "metadata": {
        "id": "CKRP0w_L5Jbw"
      },
      "execution_count": null,
      "outputs": []
    },
    {
      "cell_type": "markdown",
      "source": [
        "## Boxed Mesh avoidance\n",
        "We say that a permutation $\\pi$ avoids a boxed mesh pattern $(\\sigma,R)$ if $\\pi$ classically avoids $\\sigma$ or for each occurence of $\\sigma$ in $\\pi$ one or more of the other box mesh pattern constraints are violated.\n",
        "\n",
        "For example the boxed pattern $231$ is avoided by the permutation $465123$."
      ],
      "metadata": {
        "id": "0waCWasT6LHm"
      }
    },
    {
      "cell_type": "code",
      "source": [
        "%conjure_clear"
      ],
      "metadata": {
        "id": "0kxWv2a96JxW"
      },
      "execution_count": null,
      "outputs": []
    },
    {
      "cell_type": "code",
      "source": [
        "length = 4\n",
        "boxed_mesh_avoidance = [ [2,3,1] ]\n"
      ],
      "metadata": {
        "id": "YTDGAGTBCBlr"
      },
      "execution_count": null,
      "outputs": []
    },
    {
      "cell_type": "code",
      "source": [
        "%%conjure --number-of-solutions=all --solver=minion\n",
        "\n",
        "$ This of mesh patterns to avoid\n",
        "given boxed_mesh_avoidance : set of sequence(injective) of int\n",
        "\n",
        "$ The permutation we are searching for (1..length is the permutation)\n",
        "given length : int\n",
        "find perm : sequence (size length, injective) of int(1..length)\n",
        "\n",
        "\n",
        "$ creating a padded version of perm, where position 0 contains the value 0 and position length+1 contains the value length+1\n",
        "$ this is only used for mesh avoidance/containment\n",
        "find permPadded : matrix indexed by [int(0..length+1)] of int(0..length+1)\n",
        "such that permPadded[0] = 0, permPadded[length+1] = length+1\n",
        "such that forAll i : int(1..length) . perm(i) = permPadded[i]\n",
        "\n",
        "such that\n",
        "    $ pattern is the pattern, mesh is the mesh as a relation\n",
        "    forAll pattern in boxed_mesh_avoidance .\n",
        "    $ Build the inverse of 'pattern'. This is completely evaluated before solving.\n",
        "    exists patterninv: matrix indexed by [int(0..|pattern|+1)] of int(0..|pattern|+1),\n",
        "                patterninv[0] = 0 /\\ patterninv[|pattern|+1] = |pattern|+1 /\\\n",
        "                (forAll i: int(1..|pattern|) . patterninv[pattern(i)] = i).\n",
        "        $ Look for all places where the pattern can occur\n",
        "        forAll ix : matrix indexed by [int(0..|pattern|+1)] of int(0..length+1),\n",
        "            and([ ix[0]=0\n",
        "                , ix[|pattern|+1]=length+1\n",
        "                , forAll i : int(0..|pattern|) . ix[i] < ix[i+1]\n",
        "                , forAll n1, n2 : int(1..|pattern|) , n1 < n2 .\n",
        "                    pattern(n1) < pattern(n2) <-> permPadded[ix[n1]] < permPadded[ix[n2]]\n",
        "                ]) .\n",
        "            (\n",
        "                $ If we find the pattern, make sure there is at least one value in some cell of the mesh\n",
        "                exists i : int(1..|pattern|) .\n",
        "                exists j : int(1..|pattern|) .\n",
        "                    exists z: int(ix[i]+1..ix[i+1]-1). (permPadded[ix[patterninv[j]]] <= permPadded[z] /\\ permPadded[z] <= permPadded[ix[patterninv[j+1]]])\n",
        "            )\n",
        "\n",
        "\n"
      ],
      "metadata": {
        "id": "5U6i4wYNCCKN"
      },
      "execution_count": null,
      "outputs": []
    },
    {
      "cell_type": "code",
      "source": [
        "plotPermutations(conjure_solutions)"
      ],
      "metadata": {
        "id": "DVFFHxjQ8KK2"
      },
      "execution_count": null,
      "outputs": []
    },
    {
      "cell_type": "markdown",
      "source": [
        "## Consecutive containment\n",
        "\n",
        "Consecutive patterns are a special case of vincular patterns, namely those where *all* entries are underlined. In an occurrence of a consecutive pattern it is thus necessary that *all* entries are adjacent. Finding an occurrence of a consecutive pattern therefore consists in finding a contiguous subsequence of $\\pi$ that is order-isomorphic to the pattern $\\sigma$.\n",
        "\n",
        "For example, the consecutive pattern $\\underline{312}$ can be found inside $152463$ as the subsequence $524$."
      ],
      "metadata": {
        "id": "ZqLAZ_7a6ZZc"
      }
    },
    {
      "cell_type": "code",
      "source": [
        "%conjure_clear"
      ],
      "metadata": {
        "id": "_apJH9KP6wa7"
      },
      "execution_count": null,
      "outputs": []
    },
    {
      "cell_type": "code",
      "source": [
        "length = 4\n",
        "consecutive_containment = [ [3,1,2] ]"
      ],
      "metadata": {
        "id": "VGscFFXkCFsX"
      },
      "execution_count": null,
      "outputs": []
    },
    {
      "cell_type": "code",
      "source": [
        "%%conjure --number-of-solutions=all --solver=minion\n",
        "\n",
        "given length : int\n",
        "given consecutive_containment : set of sequence (injective) of int\n",
        "\n",
        "find perm : sequence (size length, injective) of int(1..length)\n",
        "\n",
        "such that\n",
        "    forAll pattern in consecutive_containment .\n",
        "        exists ix : matrix indexed by [int(1..|pattern|)] of int(1..length)\n",
        "\n",
        "            , (forAll i,j : int(1..|pattern|) . i < j -> ix[i] < ix[j]) /\\\n",
        "            $ n1 and n2 are indices\n",
        "            (forAll n1, n2 : int(1..|pattern|) , n1 < n2 .\n",
        "                (pattern(n1) < pattern(n2) <-> perm(ix[n1]) < perm(ix[n2]))\n",
        "            )\n",
        "\n",
        "            .\n",
        "\n",
        "            (forAll bar : int(1..|pattern|-1) . ix[bar] + 1 = ix[bar+1])\n",
        "\n"
      ],
      "metadata": {
        "id": "YodgLFiO82mX"
      },
      "execution_count": null,
      "outputs": []
    },
    {
      "cell_type": "code",
      "source": [
        "plotPermutations(conjure_solutions)"
      ],
      "metadata": {
        "id": "ELX_VmqJ9MRO"
      },
      "execution_count": null,
      "outputs": []
    },
    {
      "cell_type": "markdown",
      "source": [
        "## Consecutive avoidance\n",
        "\n",
        "A permutation $\\pi$ avoids a consecutive pattern $\\sigma$ if it either classically avoids $\\sigma$ or for all occurences of $\\sigma$ in $\\pi$ none are a contiguious subsequence of $\\pi$.\n",
        "\n",
        "For example, the permutation $416325$ avoids the consecutive pattern $\\underline{312}$."
      ],
      "metadata": {
        "id": "3MRVyGZU6xKe"
      }
    },
    {
      "cell_type": "code",
      "source": [
        "%conjure_clear"
      ],
      "metadata": {
        "id": "NJxxc_a_CHYX"
      },
      "execution_count": null,
      "outputs": []
    },
    {
      "cell_type": "code",
      "source": [
        "length = 4\n",
        "consecutive_avoidance = [ [3,1,2] ]"
      ],
      "metadata": {
        "id": "orlIFiVUCIhK"
      },
      "execution_count": null,
      "outputs": []
    },
    {
      "cell_type": "code",
      "source": [
        "%%conjure --number-of-solutions=all --solver=minion\n",
        "\n",
        "given length : int\n",
        "given consecutive_avoidance : set of sequence (injective) of int\n",
        "\n",
        "find perm : sequence (size length, injective) of int(1..length)\n",
        "\n",
        "such that\n",
        "    forAll pattern in consecutive_avoidance .\n",
        "        forAll ix : matrix indexed by [int(1..|pattern|)] of int(1..length)\n",
        "\n",
        "            , (forAll i,j : int(1..|pattern|) . i < j -> ix[i] < ix[j]) /\\\n",
        "            $ n1 and n2 are indices\n",
        "            (forAll n1, n2 : int(1..|pattern|) , n1 < n2 .\n",
        "                (pattern(n1) < pattern(n2) <-> perm(ix[n1]) < perm(ix[n2]))\n",
        "            )\n",
        "\n",
        "            .\n",
        "\n",
        "            !(forAll bar : int(1..|pattern|-1) . ix[bar] + 1 = ix[bar+1])\n"
      ],
      "metadata": {
        "id": "job_Tzhf9pXx"
      },
      "execution_count": null,
      "outputs": []
    },
    {
      "cell_type": "code",
      "source": [
        "plotPermutations(conjure_solutions)"
      ],
      "metadata": {
        "id": "igYWxdVx91qi"
      },
      "execution_count": null,
      "outputs": []
    },
    {
      "cell_type": "markdown",
      "source": [
        "# Permutation properties\n",
        "\n",
        "We have XX permutation properties.\n"
      ],
      "metadata": {
        "id": "P0YjZJLr8MCt"
      }
    },
    {
      "cell_type": "markdown",
      "source": [
        "## Simple permutation\n",
        "\n",
        "An *interval* of a permutation $\\pi$ corresponds to a set of contiguous indices $I = [a, b]$ such that the set of values $\\pi(I) = \\{\\pi(i) : i \\in I\\}$ is also contiguous.\n",
        "Every permutation of length $n$ has intervals of lengths 0, 1 and $n$.\n",
        "If a permutation $\\pi$ has no other intervals, then $\\pi$ is said to be *simple*.\n",
        "\n",
        "For example the permutation $251364$ is simple, but the permutation $635241$ is not as $63524$ or $3524$ are intervals (amongst others)."
      ],
      "metadata": {
        "id": "5D2Ij0_u8aBi"
      }
    },
    {
      "cell_type": "code",
      "source": [
        "%conjure_clear"
      ],
      "metadata": {
        "id": "e9Ve8I-6AQhl"
      },
      "execution_count": null,
      "outputs": []
    },
    {
      "cell_type": "code",
      "source": [
        "length = 4"
      ],
      "metadata": {
        "id": "Yr1BbGieALa5"
      },
      "execution_count": null,
      "outputs": []
    },
    {
      "cell_type": "code",
      "source": [
        "%%conjure --solver=minion\n",
        "\n",
        "language Essence 1.3\n",
        "\n",
        "given length : int\n",
        "find perm : sequence (size length, injective) of int(1..length)\n",
        "\n",
        "$ Simple permutations do not contain intervals.\n",
        "$ An interval is a set of contiguous indices such that the values are also contiguous.\n",
        "\n",
        "$ perm is a simple permutation\n",
        "such that\n",
        "   and ( [ max(subperm) - min(subperm) + 1 != |subperm|          $ the values are not contiguous\n",
        "    | i : int(1..length)                                    $ start index of the sub perm\n",
        "    , j : int(1..length)                                    $ end index of the sub perm\n",
        "    , i < j                                                 $ start comes before end\n",
        "    , (i,j) != (1,length)                                   $ it's not the full permutation\n",
        "    , letting subperm be [perm(k) | k : int(i..j)]          $ give the sub perm a name\n",
        "    ])\n"
      ],
      "metadata": {
        "id": "2-xnvCxp9eqk"
      },
      "execution_count": null,
      "outputs": []
    },
    {
      "cell_type": "markdown",
      "source": [
        "## Block-wise simple\n",
        "\n",
        "A permutation $\\pi\\in S_n$ is *block-wise simple* if and only if it has no interval (including the full permutation) which can be decomposed into $12[\\alpha_1,\\alpha_2]$ or $21[\\alpha_1,\\alpha_2]$."
      ],
      "metadata": {
        "id": "vDn-_m6bAcPM"
      }
    },
    {
      "cell_type": "code",
      "source": [
        "%conjure_clear"
      ],
      "metadata": {
        "id": "yCwMJkk-AgxB"
      },
      "execution_count": null,
      "outputs": []
    },
    {
      "cell_type": "code",
      "source": [
        "length = 4"
      ],
      "metadata": {
        "id": "oSmdTf9KAh49"
      },
      "execution_count": null,
      "outputs": []
    },
    {
      "cell_type": "code",
      "source": [
        "%%conjure --number-of-solutions=all --solver=minion\n",
        "\n",
        "language Essence 1.3\n",
        "\n",
        "given length : int\n",
        "find perm : sequence (size length, injective) of int(1..length)\n",
        "\n",
        "such that\n",
        "    [ and([ max([ perm(i) | i : int(start..middle) ]) > min([ perm(i) | i : int(middle+1..end) ])\n",
        "          , min([ perm(i) | i : int(start..middle) ]) < max([ perm(i) | i : int(middle+1..end) ])\n",
        "          $ , forAll i : int(1..start-1) . perm(i) < minSE \\/ perm(i) > maxSE\n",
        "          $ , forAll i : int(end+1..length) . perm(i) < minSE \\/ perm(i) > maxSE\n",
        "          ])\n",
        "    | start, middle, end : int(1..length)\n",
        "    , start <= middle\n",
        "    , middle < end\n",
        "    , letting minSE be min([ perm(i) | i : int(start..end) ])\n",
        "    , letting maxSE be max([ perm(i) | i : int(start..end) ])\n",
        "    , maxSE - minSE = end - start\n",
        "    ]"
      ],
      "metadata": {
        "id": "Rb3Cy_HfAjwy"
      },
      "execution_count": null,
      "outputs": []
    },
    {
      "cell_type": "markdown",
      "source": [
        "## Plus-decomposable\n",
        "\n",
        "Given a permutation $\\sigma=\\sigma(1)\\ldots\\sigma(m)$ of length $m$ and non-empty permutations $\\alpha_{1},\\ldots,\\alpha_{m}$ the *inflation* of $\\sigma$ by $\\alpha_{1},\\ldots,\\alpha_{m}$, written as $\\sigma[\\alpha_{1},\\ldots,\\alpha_{m}]$, is the unique permutation obtained by replacing each entry $\\sigma(i)$ by an interval that is order isomorphic to $\\alpha_{i}$, where the relative ordering of the intervals corresponds to the ordering of the entries of $\\sigma$. Conversely, a *block-decomposition* or *deflation* of a permutation $\\pi$ is any expression of $\\pi$ written as an inflation $\\pi=\\sigma[\\alpha_{1},\\ldots,\\alpha_{m}]$.\n",
        "\n",
        "A permutation $\\pi$ is *plus-decomposable* if it has a deflation of the form $\\pi = 12 [\\alpha_1,\\alpha_2]$ for non-empty permutations $\\alpha_1$ and $\\alpha_2$.\n",
        "\n",
        "For example $213654$ is a plus-decomposable permutation.\n",
        "But $546123$ (which is minus-decomposable) or $236145$ (which is not simple) are not."
      ],
      "metadata": {
        "id": "HFfn8htvAkRk"
      }
    },
    {
      "cell_type": "code",
      "source": [
        "%conjure_clear"
      ],
      "metadata": {
        "id": "a2QvAVqhBR6L"
      },
      "execution_count": null,
      "outputs": []
    },
    {
      "cell_type": "code",
      "source": [
        "length = 4"
      ],
      "metadata": {
        "id": "BJT3sADWAuAK"
      },
      "execution_count": null,
      "outputs": []
    },
    {
      "cell_type": "code",
      "source": [
        "%%conjure --number-of-solutions=all --solver=minion\n",
        "\n",
        "language Essence 1.3\n",
        "\n",
        "given length : int\n",
        "find perm : sequence (size length, injective) of int(1..length)\n",
        "\n",
        "$ perm is plus-decomposable\n",
        "such that\n",
        "    exists sep : int(1..length-1) .\n",
        "        max([ perm(i) | i : int(1..sep) ]) < min([ perm(i) | i : int(sep+1..length) ])\n"
      ],
      "metadata": {
        "id": "i82ahgqcAu_t"
      },
      "execution_count": null,
      "outputs": []
    },
    {
      "cell_type": "markdown",
      "source": [
        "## Minus-decomposable\n",
        "\n",
        "A permutation $\\pi$ is *minus-decomposable* if it has a deflation of the form $\\pi = 21 [\\alpha_1,\\alpha_2]$ for non-empty permutations $\\alpha_1$ and $\\alpha_2$.\n",
        "\n",
        "For example $546123$ is a minus-decomposable permutation.\n",
        "But $213654$ (which is plus-decomposable) or $236145$ (which is not simple) are not.\n",
        "\n"
      ],
      "metadata": {
        "id": "cZo6hM5GBSd0"
      }
    },
    {
      "cell_type": "code",
      "source": [
        "%conjure_clear"
      ],
      "metadata": {
        "id": "Oy4CtsDdA26w"
      },
      "execution_count": null,
      "outputs": []
    },
    {
      "cell_type": "code",
      "source": [
        "length = 4"
      ],
      "metadata": {
        "id": "egEHPJPTA4Kw"
      },
      "execution_count": null,
      "outputs": []
    },
    {
      "cell_type": "code",
      "source": [
        "%%conjure --number-of-solutions=all --solver=minion\n",
        "\n",
        "language Essence 1.3\n",
        "\n",
        "given length : int\n",
        "find perm : sequence (size length, injective) of int(1..length)\n",
        "\n",
        "$ perm is minus-decomposable\n",
        "such that\n",
        "    exists sep : int(1..length-1) .\n",
        "        min([ perm(i) | i : int(1..sep) ]) > max([ perm(i) | i : int(sep+1..length) ])\n"
      ],
      "metadata": {
        "id": "tDxdZidiA4y2"
      },
      "execution_count": null,
      "outputs": []
    },
    {
      "cell_type": "markdown",
      "source": [
        "## Involution\n",
        "\n",
        "A permutation $\\pi\\in S_n$ is called an *involution*, if $\\pi=\\pi^{-1}$.\n",
        "\n",
        "A permutation is an involution precisely if and only if it can be written as a finite product of disjoint transpositions.\n",
        "\n",
        "$1243=(12)(43)$ is an involution but $2431=(124)(3)=(12)(24)(41)(3)$ is not."
      ],
      "metadata": {
        "id": "LUti2HtP9fWw"
      }
    },
    {
      "cell_type": "code",
      "source": [
        "%conjure_clear"
      ],
      "metadata": {
        "id": "3ouxKcMk9_gq"
      },
      "execution_count": null,
      "outputs": []
    },
    {
      "cell_type": "code",
      "source": [
        "length = 4"
      ],
      "metadata": {
        "id": "dcY4hy5oBnRQ"
      },
      "execution_count": null,
      "outputs": []
    },
    {
      "cell_type": "code",
      "source": [
        "%%conjure --number-of-solutions=all --solver=minion\n",
        "\n",
        "language Essence 1.3\n",
        "\n",
        "given length : int\n",
        "find perm : sequence (size length, injective) of int(1..length)\n",
        "\n",
        "$ perm is an involution\n",
        "$ perm * perm = id\n",
        "such that\n",
        "    forAll i : int(1..length) .\n",
        "        perm(perm(i)) = i\n"
      ],
      "metadata": {
        "id": "STIJOFJnBoxg"
      },
      "execution_count": null,
      "outputs": []
    },
    {
      "cell_type": "code",
      "source": [
        "# testing\n",
        "\n",
        "for sol in conjure_solutions:\n",
        "    perm = sol[\"perm\"]\n",
        "    for i in range(1, length+1):\n",
        "        iVal = perm[i-1] # applied once\n",
        "        iValVal = perm[iVal-1] # applied twice\n",
        "        if i != iValVal:\n",
        "            print(\"Not an involution:\", perm)\n",
        "            break\n"
      ],
      "metadata": {
        "id": "sR-a6IG2BTFz"
      },
      "execution_count": null,
      "outputs": []
    },
    {
      "cell_type": "markdown",
      "source": [
        "## Derangement\n",
        "\n",
        "\n",
        "A *derangement* is a permutation with no fixed point. Which means that in each index the value of the element is not equal to the index value, so $\\pi(i)\\neq i$.\n",
        "\n",
        "$4312$ is a derangement whereas $1234$ is not."
      ],
      "metadata": {
        "id": "UJf8msH--AX4"
      }
    },
    {
      "cell_type": "code",
      "source": [
        "%conjure_clear"
      ],
      "metadata": {
        "id": "u_NAcOLI-SyF"
      },
      "execution_count": null,
      "outputs": []
    },
    {
      "cell_type": "code",
      "source": [
        "length = 4"
      ],
      "metadata": {
        "id": "YpNaSXyCBlzw"
      },
      "execution_count": null,
      "outputs": []
    },
    {
      "cell_type": "code",
      "source": [
        "%%conjure --number-of-solutions=all --solver=minion\n",
        "\n",
        "language Essence 1.3\n",
        "\n",
        "given length : int\n",
        "find perm : sequence (size length, injective) of int(1..length)\n",
        "\n",
        "such that\n",
        "    forAll i : int(1..length) .\n",
        "        perm(i) != i\n"
      ],
      "metadata": {
        "id": "4Be69uIdBrJ-"
      },
      "execution_count": null,
      "outputs": []
    },
    {
      "cell_type": "code",
      "source": [
        "# testing\n",
        "\n",
        "for sol in conjure_solutions:\n",
        "    perm = sol[\"perm\"]\n",
        "    for i in range(1, length+1):\n",
        "        iVal = perm[i-1] # applied once\n",
        "        if i == iVal:\n",
        "            print(\"Not a derangement:\", perm)\n",
        "            break\n"
      ],
      "metadata": {
        "id": "TGpABIwJCMVU"
      },
      "execution_count": null,
      "outputs": []
    },
    {
      "cell_type": "markdown",
      "source": [
        "## Non-derangement\n",
        "\n",
        "A *nonderangement* is a permutation with at least one fixed\n",
        "point. i.e. there is at least one $i$ such that $\\pi(i)=i$.\n",
        "\n",
        "$2431$ is a non-derangement whereas $4321$ is not."
      ],
      "metadata": {
        "id": "xHLfnG-N-TEg"
      }
    },
    {
      "cell_type": "code",
      "source": [
        "%conjure_clear"
      ],
      "metadata": {
        "id": "dIhPoPGV-Yfo"
      },
      "execution_count": null,
      "outputs": []
    },
    {
      "cell_type": "code",
      "source": [
        "length = 4"
      ],
      "metadata": {
        "id": "6XUwUHR7BkPK"
      },
      "execution_count": null,
      "outputs": []
    },
    {
      "cell_type": "code",
      "source": [
        "%%conjure --number-of-solutions=all --solver=minion\n",
        "\n",
        "language Essence 1.3\n",
        "\n",
        "given length : int\n",
        "find perm : sequence (size length, injective) of int(1..length)\n",
        "\n",
        "such that\n",
        "    exists i : int(1..length) .\n",
        "        perm(i) = i\n"
      ],
      "metadata": {
        "id": "4tYzr3_4BslM"
      },
      "execution_count": null,
      "outputs": []
    },
    {
      "cell_type": "code",
      "source": [
        "# testing\n",
        "\n",
        "for sol in conjure_solutions:\n",
        "    perm = sol[\"perm\"]\n",
        "    if any([i == perm[i-1] for i in range(1, length+1)]):\n",
        "        # it is a non-derangement\n",
        "        pass\n",
        "    else:\n",
        "        print(\"Not a non-derangement:\", perm)\n",
        "    # for :\n",
        "    #     iVal = perm[i-1] # applied once\n",
        "    #     if i == iVal:\n",
        "    #         non_derangement = True\n",
        "\n",
        "    #         break\n"
      ],
      "metadata": {
        "id": "bsE2B7mbCXQn"
      },
      "execution_count": null,
      "outputs": []
    },
    {
      "cell_type": "markdown",
      "source": [
        "## Parity\n",
        "A permutation $\\pi$ is called a parity permutation if and only if for all $i$, if $i$ is odd then $\\pi(i)$ is odd too and if $i$ is even then $\\pi(i)$ is even."
      ],
      "metadata": {
        "id": "fTB0uhIb5BAP"
      }
    },
    {
      "cell_type": "code",
      "source": [
        "%conjure_clear\n",
        "length = 4"
      ],
      "metadata": {
        "id": "-P3ObwGz5g32"
      },
      "execution_count": null,
      "outputs": []
    },
    {
      "cell_type": "code",
      "source": [
        "given length : int\n",
        "find perm : sequence (size length, injective) of int(1..length)\n",
        "\n",
        "$ parity permutation\n",
        "$ perm(i) is odd if i is odd, perm(i) is even if i is even.\n",
        "\n",
        "such that\n",
        "    forAll i : int(1..length) .\n",
        "        (perm(i) % 2) = i % 2"
      ],
      "metadata": {
        "id": "TEvnYBG85mxc"
      },
      "execution_count": null,
      "outputs": []
    },
    {
      "cell_type": "markdown",
      "source": [
        "## $n$ inversions\n",
        "\n",
        "An *inversion* in a permutation is a pair of numbers such that the larger number appears to the left of the smaller one in the permutation."
      ],
      "metadata": {
        "id": "PRpK1El7UKDu"
      }
    },
    {
      "cell_type": "code",
      "source": [
        "%conjure_clear\n",
        "length = 4\n",
        "nInversions = 6"
      ],
      "metadata": {
        "id": "ioZUBRRzUaQt"
      },
      "execution_count": null,
      "outputs": []
    },
    {
      "cell_type": "code",
      "source": [
        "%%conjure --number-of-solutions=all --solver=minion\n",
        "given length : int\n",
        "find perm : sequence (size length, injective) of int(1..length)\n",
        "\n",
        "$ the inversion count\n",
        "given nInversions : int\n",
        "such that\n",
        "    nInversions =\n",
        "        sum([ 1\n",
        "            | i,j : int(1..length)\n",
        "            , i < j\n",
        "            , perm(i) > perm(j)\n",
        "            ])"
      ],
      "metadata": {
        "id": "81Ob3avSUEYa"
      },
      "execution_count": null,
      "outputs": []
    },
    {
      "cell_type": "markdown",
      "source": [
        "## $n$ descents\n",
        "des$(\\sigma) = |\\{i : \\sigma(i) > \\sigma(i + 1)\\}|$"
      ],
      "metadata": {
        "id": "HJWLyqWjX3h1"
      }
    },
    {
      "cell_type": "code",
      "source": [
        "%conjure_clear\n",
        "length = 4\n",
        "nDescents = 1"
      ],
      "metadata": {
        "id": "uGUkv6VzYIAO"
      },
      "execution_count": null,
      "outputs": []
    },
    {
      "cell_type": "code",
      "source": [
        "%%conjure --number-of-solutions=all --solver=minion\n",
        "\n",
        "given length : int\n",
        "find perm : sequence (size length, injective) of int(1..length)\n",
        "\n",
        "$ descent count\n",
        "given nDescents : int\n",
        "such that\n",
        "    nDescents =\n",
        "        sum([ 1\n",
        "            | i : int(1..length-1)\n",
        "            , perm(i) > perm(i+1)\n",
        "            ])\n"
      ],
      "metadata": {
        "id": "CwOub3HBX1tC"
      },
      "execution_count": null,
      "outputs": []
    },
    {
      "cell_type": "markdown",
      "source": [
        "## $n$ ascents\n",
        "asc$(\\sigma) = |\\{i : \\sigma(i) < \\sigma(i + 1)\\}|$"
      ],
      "metadata": {
        "id": "B6mby_da7kZG"
      }
    },
    {
      "cell_type": "code",
      "source": [
        "%conjure_clear\n",
        "length = 4\n",
        "nAscents = 1"
      ],
      "metadata": {
        "id": "IZe6A0GC7wAL"
      },
      "execution_count": null,
      "outputs": []
    },
    {
      "cell_type": "code",
      "source": [
        "%%conjure --number-of-solutions=all --solver=minion\n",
        "\n",
        "given length : int\n",
        "find perm : sequence (size length, injective) of int(1..length)\n",
        "\n",
        "$ the inversion count\n",
        "given nAscents : int\n",
        "such that\n",
        "    nAscents =\n",
        "        sum([ 1\n",
        "            | i : int(1..length-1)\n",
        "            , perm(i) < perm(i+1)\n",
        "            ])\n"
      ],
      "metadata": {
        "id": "EvNoK5PP7tmG"
      },
      "execution_count": null,
      "outputs": []
    },
    {
      "cell_type": "markdown",
      "source": [
        "## $n$ excedenaces\n",
        "\n",
        "exc$(\\sigma) = |\\{i : \\sigma(i) > i\\}|$"
      ],
      "metadata": {
        "id": "hFRo2JHx8L3H"
      }
    },
    {
      "cell_type": "code",
      "source": [
        "%conjure_clear\n",
        "length = 4\n",
        "nExcedances = 1"
      ],
      "metadata": {
        "id": "A04e6q618Ydw"
      },
      "execution_count": null,
      "outputs": []
    },
    {
      "cell_type": "code",
      "source": [
        "%%conjure --number-of-solutions=all --solver=minion\n",
        "\n",
        "given length : int\n",
        "find perm : sequence (size length, injective) of int(1..length)\n",
        "\n",
        "$ the inversion count\n",
        "given nExcedances : int\n",
        "such that\n",
        "    nExcedances =\n",
        "        sum([ 1\n",
        "            | i : int(1..length)\n",
        "            , perm(i) > i\n",
        "            ])"
      ],
      "metadata": {
        "id": "PbPvDTAf8V15"
      },
      "execution_count": null,
      "outputs": []
    },
    {
      "cell_type": "markdown",
      "source": [
        "## $n$ Major Index\n",
        "\n",
        "The sum of the positions of the descents.\n",
        "\n",
        "maj$(\\sigma) = \\sum_{\\sigma(i)>\\sigma(i+1)} i$"
      ],
      "metadata": {
        "id": "jPa7wqwa8_qY"
      }
    },
    {
      "cell_type": "code",
      "source": [
        "%conjure_clear\n",
        "length = 4\n",
        "nMajorIndex = 1"
      ],
      "metadata": {
        "id": "Hwqnv7DV9I9W"
      },
      "execution_count": null,
      "outputs": []
    },
    {
      "cell_type": "code",
      "source": [
        "%%conjure --number-of-solutions=all --solver=minion\n",
        "\n",
        "given length : int\n",
        "find perm : sequence (size length, injective) of int(1..length)\n",
        "\n",
        "$ the major index\n",
        "given nMajorIndex : int\n",
        "such that\n",
        "    nMajorIndex =\n",
        "        sum([ i\n",
        "            | i : int(1..length-1)\n",
        "            , perm(i) > perm(i+1)\n",
        "            ])"
      ],
      "metadata": {
        "id": "l0hVnUMa8-7F"
      },
      "execution_count": null,
      "outputs": []
    },
    {
      "cell_type": "markdown",
      "source": [
        "# Permutation statistics\n",
        "\n",
        "We support 5 different statistics in permutations.\n"
      ],
      "metadata": {
        "id": "A6Ca2nbgBhcs"
      }
    },
    {
      "cell_type": "markdown",
      "source": [
        "## Number of inversions\n",
        "\n",
        "An *inversion* in a permutation is a pair of numbers such that the larger number appears to the left of the smaller one in the permutation."
      ],
      "metadata": {
        "id": "7zvNLqjpNC68"
      }
    },
    {
      "cell_type": "code",
      "source": [
        "%conjure_clear"
      ],
      "metadata": {
        "id": "NTgEcgpFBW2n"
      },
      "execution_count": null,
      "outputs": []
    },
    {
      "cell_type": "code",
      "source": [
        "length = 4"
      ],
      "metadata": {
        "id": "pq9XJqOKBYMo"
      },
      "execution_count": null,
      "outputs": []
    },
    {
      "cell_type": "code",
      "source": [
        "%%conjure --number-of-solutions=all --solver=minion\n",
        "\n",
        "given length : int\n",
        "find perm : sequence (size length, injective) of int(1..length)\n",
        "\n",
        "$ the inversion count\n",
        "find inversionCount : int(0..length**2) $ upper bound is not tight\n",
        "such that\n",
        "    inversionCount =\n",
        "        sum([ 1\n",
        "            | i,j : int(1..length)\n",
        "            , i < j\n",
        "            , perm(i) > perm(j)\n",
        "            ])\n"
      ],
      "metadata": {
        "id": "B4UFQDwGBaZX"
      },
      "execution_count": null,
      "outputs": []
    },
    {
      "cell_type": "markdown",
      "source": [
        "## Number of descents\n",
        "\n",
        "des$(\\sigma) = |\\{i : \\sigma(i) > \\sigma(i + 1)\\}|$"
      ],
      "metadata": {
        "id": "FfVxhMo3A8gT"
      }
    },
    {
      "cell_type": "code",
      "source": [
        "%conjure_clear"
      ],
      "metadata": {
        "id": "-EzNYQOlBe0d"
      },
      "execution_count": null,
      "outputs": []
    },
    {
      "cell_type": "code",
      "source": [
        "length = 4"
      ],
      "metadata": {
        "id": "df5KXBtjHR5B"
      },
      "execution_count": null,
      "outputs": []
    },
    {
      "cell_type": "code",
      "source": [
        "%%conjure --number-of-solutions=all --solver=minion\n",
        "\n",
        "given length : int\n",
        "find perm : sequence (size length, injective) of int(1..length)\n",
        "\n",
        "$ the descent count\n",
        "find descentCount : int(0..length)\n",
        "such that\n",
        "    descentCount =\n",
        "        sum([ 1\n",
        "            | i : int(1..length-1)\n",
        "            , perm(i) > perm(i+1)\n",
        "            ])\n"
      ],
      "metadata": {
        "id": "IMUWLH9YHT_m"
      },
      "execution_count": null,
      "outputs": []
    },
    {
      "cell_type": "code",
      "source": [
        "for p in conjure_solutions:\n",
        "  print(p[\"descentCount\"])"
      ],
      "metadata": {
        "id": "805tjb3ZYqtp"
      },
      "execution_count": null,
      "outputs": []
    },
    {
      "cell_type": "markdown",
      "source": [
        "## Number of ascents\n",
        "\n",
        "asc$(\\sigma) = |\\{i : \\sigma(i) < \\sigma(i + 1)\\}|$"
      ],
      "metadata": {
        "id": "-_ltXrLGCk1H"
      }
    },
    {
      "cell_type": "code",
      "source": [
        "%conjure_clear"
      ],
      "metadata": {
        "id": "rfGgXm2EC052"
      },
      "execution_count": null,
      "outputs": []
    },
    {
      "cell_type": "code",
      "source": [
        "length = 3"
      ],
      "metadata": {
        "id": "4UNsOBxQHjLB"
      },
      "execution_count": null,
      "outputs": []
    },
    {
      "cell_type": "code",
      "source": [
        "%%conjure --number-of-solutions=all --solver=minion\n",
        "\n",
        "given length : int\n",
        "find perm : sequence (size length, injective) of int(1..length)\n",
        "\n",
        "$ the inversion count\n",
        "find ascentCount : int(0..length)\n",
        "such that\n",
        "    ascentCount =\n",
        "        sum([ 1\n",
        "            | i : int(1..length-1)\n",
        "            , perm(i) < perm(i+1)\n",
        "            ])\n"
      ],
      "metadata": {
        "id": "k3Zl5omyHkPR"
      },
      "execution_count": null,
      "outputs": []
    },
    {
      "cell_type": "markdown",
      "source": [
        "## Number of excedances\n",
        "\n",
        "exc$(\\sigma) = |\\{i : \\sigma(i) > i\\}|$"
      ],
      "metadata": {
        "id": "LHD79YtHBfcR"
      }
    },
    {
      "cell_type": "code",
      "source": [
        "%conjure_clear"
      ],
      "metadata": {
        "id": "dGVstdLKCiCx"
      },
      "execution_count": null,
      "outputs": []
    },
    {
      "cell_type": "code",
      "source": [
        "length = 3"
      ],
      "metadata": {
        "id": "6CFbJ2p2In84"
      },
      "execution_count": null,
      "outputs": []
    },
    {
      "cell_type": "code",
      "source": [
        "%%conjure --number-of-solutions=all --solver=minion\n",
        "\n",
        "given length : int\n",
        "find perm : sequence (size length, injective) of int(1..length)\n",
        "\n",
        "$ the inversion count\n",
        "find excedanceCount : int(0..length)\n",
        "such that\n",
        "    excedanceCount =\n",
        "        sum([ 1\n",
        "            | i : int(1..length)\n",
        "            , perm(i) > i\n",
        "            ])\n"
      ],
      "metadata": {
        "id": "Orq6w9KEIpgc"
      },
      "execution_count": null,
      "outputs": []
    },
    {
      "cell_type": "markdown",
      "source": [
        "## Major Index\n",
        "The sum of the positions of the descents.\n",
        "\n",
        "maj$(\\sigma) = \\sum_{\\sigma(i)>\\sigma(i+1)} i$"
      ],
      "metadata": {
        "id": "CONfhfI-CEZH"
      }
    },
    {
      "cell_type": "code",
      "source": [
        "%conjure_clear"
      ],
      "metadata": {
        "id": "1cHGG810ChOp"
      },
      "execution_count": null,
      "outputs": []
    },
    {
      "cell_type": "code",
      "source": [
        "length = 3"
      ],
      "metadata": {
        "id": "0R3_AhacIzR8"
      },
      "execution_count": null,
      "outputs": []
    },
    {
      "cell_type": "code",
      "source": [
        "%%conjure --number-of-solutions=all --solver=minion\n",
        "\n",
        "given length : int\n",
        "find perm : sequence (size length, injective) of int(1..length)\n",
        "\n",
        "$ the inversion count\n",
        "find majorIndex : int(0..length**2)\n",
        "such that\n",
        "    majorIndex =\n",
        "        sum([ i\n",
        "            | i : int(1..length-1)\n",
        "            , perm(i) > perm(i+1)\n",
        "            ])\n"
      ],
      "metadata": {
        "id": "Z23siceTI0mU"
      },
      "execution_count": null,
      "outputs": []
    },
    {
      "cell_type": "markdown",
      "source": [
        "# Examples"
      ],
      "metadata": {
        "id": "wo6stFotFCyo"
      }
    },
    {
      "cell_type": "markdown",
      "source": [
        "Avoids $1324$ and $(213,(0,0),(0,1),(1,0),(1,0))$\n",
        "\n",
        "Contains $132$ and $(123,(1,2),(2,1),(1,3),(3,1))$\n",
        "\n",
        "Is minus-decomposable and an involution"
      ],
      "metadata": {
        "id": "RVO_VV20FPIR"
      }
    },
    {
      "cell_type": "code",
      "source": [
        "%conjure_clear\n"
      ],
      "metadata": {
        "id": "uTS5p2gpFHEV"
      },
      "execution_count": null,
      "outputs": []
    },
    {
      "cell_type": "code",
      "source": [
        "length = 7\n",
        "classic_avoidance = [[1,3,2,4]]\n",
        "mesh_avoidance = [ [ [2,1,3]\n",
        "                      , [ [0,0]\n",
        "                         ,[0,1]\n",
        "                         ,[1,0]\n",
        "                         ,[1,1]\n",
        "                        ]\n",
        "                      ]\n",
        "                    ]\n",
        "\n",
        "classic_containment = [[1,3,2]]\n",
        "mesh_containment = [ [ [1,2,3]\n",
        "                      , [ [1,2]\n",
        "                         ,[2,1]\n",
        "                         ,[1,3]\n",
        "                         ,[3,1]\n",
        "                        ]\n",
        "                      ]\n",
        "                    ]"
      ],
      "metadata": {
        "id": "itEBMG_fFSvS"
      },
      "execution_count": null,
      "outputs": []
    },
    {
      "cell_type": "code",
      "source": [
        "%%conjure --number-of-solutions=all --solver=minion\n",
        "\n",
        "given length : int\n",
        "given classic_containment : set of sequence of int\n",
        "given mesh_containment : set of (sequence(injective) of int, relation of (int * int))\n",
        "\n",
        "given classic_avoidance : set of sequence of int\n",
        "given mesh_avoidance : set of (sequence(injective) of int, relation of (int * int))\n",
        "\n",
        "find perm : sequence (size length, injective) of int(1..length)\n",
        "\n",
        "$ Classic containment\n",
        "such that\n",
        "    forAll pattern in classic_containment .\n",
        "         (exists ix : matrix indexed by [int(1..|pattern|)] of int(1..length) .\n",
        "            (forAll i,j : int(1..|pattern|) . i < j -> ix[i] < ix[j]) /\\\n",
        "            (forAll n1, n2 : int(1..|pattern|) , n1 < n2 .\n",
        "                pattern(n1) < pattern(n2) <-> perm(ix[n1]) < perm(ix[n2])))\n",
        "\n",
        "$ Mesh Setup\n",
        "find permPadded : matrix indexed by [int(0..length+1)] of int(0..length+1)\n",
        "such that permPadded[0] = 0, permPadded[length+1] = length+1\n",
        "such that forAll i : int(1..length) . perm(i) = permPadded[i]\n",
        "\n",
        "$ Mesh Containment\n",
        "such that\n",
        "    $ pattern is the pattern, mesh is the mesh as a relation\n",
        "    forAll (pattern, mesh) in mesh_containment .\n",
        "    $ Build the inverse of 'pattern'. This is completely evaluated before solving.\n",
        "    exists patterninv: matrix indexed by [int(0..|pattern|+1)] of int(0..|pattern|+1),\n",
        "                patterninv[0] = 0 /\\ patterninv[|pattern|+1] = |pattern|+1 /\\\n",
        "                (forAll i: int(1..|pattern|) . patterninv[pattern(i)] = i).\n",
        "        $ Look for all places where the pattern can occur\n",
        "        exists ix : matrix indexed by [int(0..|pattern|+1)] of int(0..length+1),\n",
        "            and([ ix[0]=0\n",
        "                , ix[|pattern|+1]=length+1\n",
        "                , forAll i : int(0..|pattern|) . ix[i] < ix[i+1]\n",
        "                , forAll n1, n2 : int(1..|pattern|) , n1 < n2 .\n",
        "                    pattern(n1) < pattern(n2) <-> permPadded[ix[n1]] < permPadded[ix[n2]]\n",
        "                ]) .\n",
        "            !(\n",
        "                $ If we find the pattern, make sure there is at least one value in some cell of the mesh\n",
        "                exists (i,j) in mesh.\n",
        "                    exists z: int(ix[i]+1..ix[i+1]-1). (permPadded[ix[patterninv[j]]] <= permPadded[z] /\\ permPadded[z] <= permPadded[ix[patterninv[j+1]]])\n",
        "            )\n",
        "\n",
        "$ Classic Avoidance\n",
        "such that\n",
        "    forAll pattern in classic_avoidance .\n",
        "        !(exists ix : matrix indexed by [int(1..|pattern|)] of int(1..length) .\n",
        "            (forAll i,j : int(1..|pattern|) . i < j -> ix[i] < ix[j]) /\\\n",
        "            (forAll n1, n2 : int(1..|pattern|) , n1 < n2 .\n",
        "                pattern(n1) < pattern(n2) <-> perm(ix[n1]) < perm(ix[n2])))\n",
        "\n",
        "$$ Mesh Avoidance\n",
        "such that\n",
        "    $ pattern is the pattern, mesh is the mesh as a relation\n",
        "    forAll (pattern, mesh) in mesh_avoidance .\n",
        "    $ Build the inverse of 'pattern'. This is completely evaluated before solving.\n",
        "    exists patterninv: matrix indexed by [int(0..|pattern|+1)] of int(0..|pattern|+1),\n",
        "                patterninv[0] = 0 /\\ patterninv[|pattern|+1] = |pattern|+1 /\\\n",
        "                (forAll i: int(1..|pattern|) . patterninv[pattern(i)] = i).\n",
        "        $ Look for all places where the pattern can occur\n",
        "        forAll ix : matrix indexed by [int(0..|pattern|+1)] of int(0..length+1),\n",
        "            and([ ix[0]=0\n",
        "                , ix[|pattern|+1]=length+1\n",
        "                , forAll i : int(0..|pattern|) . ix[i] < ix[i+1]\n",
        "                , forAll n1, n2 : int(1..|pattern|) , n1 < n2 .\n",
        "                    pattern(n1) < pattern(n2) <-> permPadded[ix[n1]] < permPadded[ix[n2]]\n",
        "                ]) .\n",
        "            (\n",
        "                $ If we find the pattern, make sure there is at least one value in some cell of the mesh\n",
        "                exists (i,j) in mesh.\n",
        "                    exists z: int(ix[i]+1..ix[i+1]-1). (permPadded[ix[patterninv[j]]] <= permPadded[z] /\\ permPadded[z] <= permPadded[ix[patterninv[j+1]]])\n",
        "            )\n",
        "$ perm is minus-decomposable\n",
        "such that\n",
        "    exists sep : int(1..length-1) .\n",
        "        min([ perm(i) | i : int(1..sep) ]) > max([ perm(i) | i : int(sep+1..length) ])\n",
        "\n",
        "$ perm is an involution\n",
        "$ perm * perm = id\n",
        "such that\n",
        "    forAll i : int(1..length) .\n",
        "        perm(perm(i)) = i\n",
        "\n",
        "$ the inversion count\n",
        "find inversionCount : int(0..length**2) $ upper bound is not tight\n",
        "such that\n",
        "    inversionCount =\n",
        "        sum([ 1\n",
        "            | i,j : int(1..length)\n",
        "            , i < j\n",
        "            , perm(i) > perm(j)\n",
        "            ])\n",
        "\n",
        "$ the descent count\n",
        "find descentCount : int(0..length)\n",
        "such that\n",
        "    descentCount =\n",
        "        sum([ 1\n",
        "            | i : int(1..length-1)\n",
        "            , perm(i) > perm(i+1)\n",
        "            ])"
      ],
      "metadata": {
        "id": "lqftPmRoFfwZ"
      },
      "execution_count": null,
      "outputs": []
    },
    {
      "cell_type": "code",
      "source": [
        "print(len(conjure_solutions))\n",
        "for p in conjure_solutions:\n",
        "  plotPermutation(p[\"perm\"])"
      ],
      "metadata": {
        "id": "NaOOyD6CFos0"
      },
      "execution_count": null,
      "outputs": []
    },
    {
      "cell_type": "code",
      "source": [
        "for sol in conjure_solutions:\n",
        "    perm = sol[\"perm\"]\n",
        "    if perm == [1,3,6,5,4,2]:\n",
        "        print(\"Yes\")"
      ],
      "metadata": {
        "id": "DLN0K3ZBcVhl"
      },
      "execution_count": null,
      "outputs": []
    },
    {
      "cell_type": "markdown",
      "source": [
        "# Coincidence\n",
        "\n",
        " Two patterns $p$ and $q$ are said to be coincident if $Av(p) = Av(q)$."
      ],
      "metadata": {
        "id": "kBcxG0BR7qO9"
      }
    },
    {
      "cell_type": "code",
      "source": [
        "%conjure_clear\n",
        "length = 5\n",
        "mesh_avoidance1 = [ [ [1,2]\n",
        "                      , [ ]\n",
        "                      ]\n",
        "                    ]\n",
        "mesh_avoidance2 = [ [ [2,1]\n",
        "                      ,[ ]\n",
        "                      ]\n",
        "                    ]"
      ],
      "metadata": {
        "id": "tCInd3jdTD8B"
      },
      "execution_count": null,
      "outputs": []
    },
    {
      "cell_type": "code",
      "source": [
        "%%conjure --number-of-solutions=all --solver=minion\n",
        "$ This of mesh patterns to avoid\n",
        "given mesh_avoidance1 : set of (sequence(injective) of int, relation of (int * int))\n",
        "given mesh_avoidance2 : set of (sequence(injective) of int, relation of (int * int))\n",
        "\n",
        "\n",
        "$ The permutation we are searching for (1..length is the permutation)\n",
        "given length : int\n",
        "find perm : sequence (size length, injective) of int(1..length)\n",
        "\n",
        "\n",
        "$ creating a padded version of perm, where position 0 contains the value 0 and position length+1 contains the value length+1\n",
        "$ this is only used for mesh avoidance/containment\n",
        "find permPadded : matrix indexed by [int(0..length+1)] of int(0..length+1)\n",
        "such that permPadded[0] = 0, permPadded[length+1] = length+1\n",
        "such that forAll i : int(1..length) . perm(i) = permPadded[i]\n",
        "\n",
        "$ (mesh1 /\\ !mesh2)\n",
        "such that\n",
        "    ((\n",
        "        $ pattern is the pattern, mesh is the mesh as a relation\n",
        "        forAll (pattern, mesh) in mesh_avoidance1 .\n",
        "        $ Build the inverse of 'pattern'. This is completely evaluated before solving.\n",
        "        exists patterninv: matrix indexed by [int(0..|pattern|+1)] of int(0..|pattern|+1),\n",
        "                    patterninv[0] = 0 /\\ patterninv[|pattern|+1] = |pattern|+1 /\\\n",
        "                    (forAll i: int(1..|pattern|) . patterninv[pattern(i)] = i).\n",
        "            $ Look for all places where the pattern can occur\n",
        "            forAll ix : matrix indexed by [int(0..|pattern|+1)] of int(0..length+1),\n",
        "                and([ ix[0]=0\n",
        "                    , ix[|pattern|+1]=length+1\n",
        "                    , forAll i : int(0..|pattern|) . ix[i] < ix[i+1]\n",
        "                    , forAll n1, n2 : int(1..|pattern|) , n1 < n2 .\n",
        "                        pattern(n1) < pattern(n2) <-> permPadded[ix[n1]] < permPadded[ix[n2]]\n",
        "                    ]) .\n",
        "                (\n",
        "                    $ If we find the pattern, make sure there is at least one value in some cell of the mesh\n",
        "                    exists (i,j) in mesh.\n",
        "                        exists z: int(ix[i]+1..ix[i+1]-1). (permPadded[ix[patterninv[j]]] <= permPadded[z] /\\ permPadded[z] <= permPadded[ix[patterninv[j+1]]])\n",
        "                )\n",
        "    ) /\\\n",
        "    !(\n",
        "        $ pattern is the pattern, mesh is the mesh as a relation\n",
        "        forAll (pattern, mesh) in mesh_avoidance2 .\n",
        "        $ Build the inverse of 'pattern'. This is completely evaluated before solving.\n",
        "        exists patterninv: matrix indexed by [int(0..|pattern|+1)] of int(0..|pattern|+1),\n",
        "                    patterninv[0] = 0 /\\ patterninv[|pattern|+1] = |pattern|+1 /\\\n",
        "                    (forAll i: int(1..|pattern|) . patterninv[pattern(i)] = i).\n",
        "            $ Look for all places where the pattern can occur\n",
        "            forAll ix : matrix indexed by [int(0..|pattern|+1)] of int(0..length+1),\n",
        "                and([ ix[0]=0\n",
        "                    , ix[|pattern|+1]=length+1\n",
        "                    , forAll i : int(0..|pattern|) . ix[i] < ix[i+1]\n",
        "                    , forAll n1, n2 : int(1..|pattern|) , n1 < n2 .\n",
        "                        pattern(n1) < pattern(n2) <-> permPadded[ix[n1]] < permPadded[ix[n2]]\n",
        "                    ]) .\n",
        "                (\n",
        "                    $ If we find the pattern, make sure there is at least one value in some cell of the mesh\n",
        "                    exists (i,j) in mesh.\n",
        "                        exists z: int(ix[i]+1..ix[i+1]-1). (permPadded[ix[patterninv[j]]] <= permPadded[z] /\\ permPadded[z] <= permPadded[ix[patterninv[j+1]]])\n",
        "                )\n",
        "    ))\n",
        "$ (!mesh1 /\\ mesh2)\n",
        "/\\\n",
        "    (!(\n",
        "        $ pattern is the pattern, mesh is the mesh as a relation\n",
        "        forAll (pattern, mesh) in mesh_avoidance1 .\n",
        "        $ Build the inverse of 'pattern'. This is completely evaluated before solving.\n",
        "        exists patterninv: matrix indexed by [int(0..|pattern|+1)] of int(0..|pattern|+1),\n",
        "                    patterninv[0] = 0 /\\ patterninv[|pattern|+1] = |pattern|+1 /\\\n",
        "                    (forAll i: int(1..|pattern|) . patterninv[pattern(i)] = i).\n",
        "            $ Look for all places where the pattern can occur\n",
        "            forAll ix : matrix indexed by [int(0..|pattern|+1)] of int(0..length+1),\n",
        "                and([ ix[0]=0\n",
        "                    , ix[|pattern|+1]=length+1\n",
        "                    , forAll i : int(0..|pattern|) . ix[i] < ix[i+1]\n",
        "                    , forAll n1, n2 : int(1..|pattern|) , n1 < n2 .\n",
        "                        pattern(n1) < pattern(n2) <-> permPadded[ix[n1]] < permPadded[ix[n2]]\n",
        "                    ]) .\n",
        "                (\n",
        "                    $ If we find the pattern, make sure there is at least one value in some cell of the mesh\n",
        "                    exists (i,j) in mesh.\n",
        "                        exists z: int(ix[i]+1..ix[i+1]-1). (permPadded[ix[patterninv[j]]] <= permPadded[z] /\\ permPadded[z] <= permPadded[ix[patterninv[j+1]]])\n",
        "                )\n",
        "    ) /\\\n",
        "    (\n",
        "        $ pattern is the pattern, mesh is the mesh as a relation\n",
        "        forAll (pattern, mesh) in mesh_avoidance2 .\n",
        "        $ Build the inverse of 'pattern'. This is completely evaluated before solving.\n",
        "        exists patterninv: matrix indexed by [int(0..|pattern|+1)] of int(0..|pattern|+1),\n",
        "                    patterninv[0] = 0 /\\ patterninv[|pattern|+1] = |pattern|+1 /\\\n",
        "                    (forAll i: int(1..|pattern|) . patterninv[pattern(i)] = i).\n",
        "            $ Look for all places where the pattern can occur\n",
        "            forAll ix : matrix indexed by [int(0..|pattern|+1)] of int(0..length+1),\n",
        "                and([ ix[0]=0\n",
        "                    , ix[|pattern|+1]=length+1\n",
        "                    , forAll i : int(0..|pattern|) . ix[i] < ix[i+1]\n",
        "                    , forAll n1, n2 : int(1..|pattern|) , n1 < n2 .\n",
        "                        pattern(n1) < pattern(n2) <-> permPadded[ix[n1]] < permPadded[ix[n2]]\n",
        "                    ]) .\n",
        "                (\n",
        "                    $ If we find the pattern, make sure there is at least one value in some cell of the mesh\n",
        "                    exists (i,j) in mesh.\n",
        "                        exists z: int(ix[i]+1..ix[i+1]-1). (permPadded[ix[patterninv[j]]] <= permPadded[z] /\\ permPadded[z] <= permPadded[ix[patterninv[j+1]]])\n",
        "                )\n",
        "    ))\n"
      ],
      "metadata": {
        "id": "IpMHW5WV8ONZ"
      },
      "execution_count": null,
      "outputs": []
    }
  ]
}